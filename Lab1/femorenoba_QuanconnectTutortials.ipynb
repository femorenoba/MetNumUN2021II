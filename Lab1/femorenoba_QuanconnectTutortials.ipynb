{
  "nbformat": 4,
  "nbformat_minor": 0,
  "metadata": {
    "colab": {
      "name": "femorenoba__QuanconnectTutortials.ipynb",
      "provenance": [],
      "collapsed_sections": [
        "v_5cocrDW3MN",
        "jJpvq-o4a8P7",
        "pdIEjUv2eJqL"
      ]
    },
    "kernelspec": {
      "display_name": "Python 3",
      "language": "python",
      "name": "python3"
    },
    "language_info": {
      "codemirror_mode": {
        "name": "ipython",
        "version": 3
      },
      "file_extension": ".py",
      "mimetype": "text/x-python",
      "name": "python",
      "nbconvert_exporter": "python",
      "pygments_lexer": "ipython3",
      "version": "3.8.3"
    }
  },
  "cells": [
    {
      "cell_type": "markdown",
      "metadata": {
        "id": "eQzBbvyKQymx"
      },
      "source": [
        "<div align=\"center\">\n",
        "<img style=\"display: block; margin: auto;\" alt=\"photo\" src=\"https://cdn.quantconnect.com/web/i/icon.png\">\n",
        "\n",
        "Quantconnect\n",
        "\n",
        "Introduction to Financial Python\n",
        "\n",
        "</div>\n",
        "\n",
        "<h2 align=\"center\">Fernando Moreno Bautista</h2>\n",
        "<h2 align=\"center\"> 1013656283</h2>\n",
        "<h2 align=\"center\">Metodos Númericos</h2>\n",
        "\n",
        "# 01 Data Types and Data Structures\n",
        "\n",
        "\n",
        "# Introduction\n",
        "\n",
        "This tutorial provides a basic introduction to the Python programming language. If you are new to Python, you should run the code snippets while reading this tutorial. If you are an advanced Python user, please feel free to skip this chapter.\n",
        "\n",
        "# Basic Variable Types\n",
        "The basic types of variables in Python are: strings, integers, floating point numbers and booleans.\n",
        "\n",
        "Strings in python are identified as a contiguous set of characters represented in either single quotes (' ') or double quotes (\" \").\n"
      ]
    },
    {
      "cell_type": "code",
      "metadata": {
        "colab": {
          "base_uri": "https://localhost:8080/"
        },
        "id": "N5t-UrcfOqid",
        "outputId": "082b7eb5-6e89-4142-a3f9-c614c83d6602"
      },
      "source": [
        "my_string1 = 'Welcome to'\n",
        "my_string2 = \"QuantConnect\"\n",
        "print(my_string1 + ' ' + my_string2)"
      ],
      "execution_count": null,
      "outputs": [
        {
          "output_type": "stream",
          "name": "stdout",
          "text": [
            "Welcome to QuantConnect\n"
          ]
        }
      ]
    },
    {
      "cell_type": "code",
      "metadata": {
        "colab": {
          "base_uri": "https://localhost:8080/"
        },
        "id": "AiRzr5_dqPNj",
        "outputId": "74d94400-923e-4be0-97ec-ee97b38f04ab"
      },
      "source": [
        "# NUEVO EJEMPLO\n",
        "myStr1 = 'Soy'\n",
        "myStr2 = 'una'\n",
        "myStr3 = 'prueba'\n",
        "print(myStr1 + ' ' + myStr2 + ' ' + myStr3)"
      ],
      "execution_count": null,
      "outputs": [
        {
          "output_type": "stream",
          "name": "stdout",
          "text": [
            "Soy una prueba\n"
          ]
        }
      ]
    },
    {
      "cell_type": "markdown",
      "metadata": {
        "id": "bXHnxZyHSd1M"
      },
      "source": [
        "An integer is a round number with no values after the decimal point."
      ]
    },
    {
      "cell_type": "code",
      "metadata": {
        "colab": {
          "base_uri": "https://localhost:8080/"
        },
        "id": "pNjuz3toOqif",
        "outputId": "ba63ad40-7c5b-4ee6-f48f-78e7a37fdb65"
      },
      "source": [
        "my_int = 10\n",
        "print(my_int)\n",
        "print(type(my_int))"
      ],
      "execution_count": null,
      "outputs": [
        {
          "output_type": "stream",
          "name": "stdout",
          "text": [
            "10\n",
            "<class 'int'>\n"
          ]
        }
      ]
    },
    {
      "cell_type": "code",
      "metadata": {
        "colab": {
          "base_uri": "https://localhost:8080/"
        },
        "id": "1ZhMyM0oqici",
        "outputId": "a3311995-238d-48d1-fe71-3ad8a1437bbc"
      },
      "source": [
        "# NUEVO EJEMPLO\n",
        "myInt = 98765432\n",
        "print(myInt)\n",
        "print('TYPE:', type(myInt))"
      ],
      "execution_count": null,
      "outputs": [
        {
          "output_type": "stream",
          "name": "stdout",
          "text": [
            "98765432\n",
            "TYPE: <class 'int'>\n"
          ]
        }
      ]
    },
    {
      "cell_type": "markdown",
      "metadata": {
        "id": "_1ZanWrYSnzF"
      },
      "source": [
        "The built-in function int() can convert a string into an integer."
      ]
    },
    {
      "cell_type": "code",
      "metadata": {
        "colab": {
          "base_uri": "https://localhost:8080/"
        },
        "id": "zPwGb20FOqif",
        "outputId": "4a2b13fa-8c06-4467-cd2f-fd89e20f07ef"
      },
      "source": [
        "my_string = \"100\"\n",
        "print(type(my_string))\n",
        "my_int = int(my_string)\n",
        "print(type(my_int))"
      ],
      "execution_count": null,
      "outputs": [
        {
          "output_type": "stream",
          "name": "stdout",
          "text": [
            "<class 'str'>\n",
            "<class 'int'>\n"
          ]
        }
      ]
    },
    {
      "cell_type": "code",
      "metadata": {
        "colab": {
          "base_uri": "https://localhost:8080/"
        },
        "id": "sS-q_hH7qwPq",
        "outputId": "1122939a-69c7-4d4a-9ecf-c7ea6e3fb1d0"
      },
      "source": [
        "# NUEVO EJEMPLO\n",
        "my_str = '6757'\n",
        "print('TYPE:', type(my_str))\n",
        "my_int = int(my_str)\n",
        "print('TYPE:', type(my_int))"
      ],
      "execution_count": null,
      "outputs": [
        {
          "output_type": "stream",
          "name": "stdout",
          "text": [
            "TYPE: <class 'str'>\n",
            "TYPE: <class 'int'>\n"
          ]
        }
      ]
    },
    {
      "cell_type": "markdown",
      "metadata": {
        "id": "WqMDPDTHSrE9"
      },
      "source": [
        "A floating point number, or a float, is a real number in mathematics. In Python we need to include a value after a decimal point to define it as a float"
      ]
    },
    {
      "cell_type": "code",
      "metadata": {
        "colab": {
          "base_uri": "https://localhost:8080/"
        },
        "id": "otCzKKW9Oqig",
        "outputId": "9a67659a-0466-4cdd-d480-6ef2c6baea92"
      },
      "source": [
        "my_string = \"100\"\n",
        "my_float = float(my_string)\n",
        "print(type(my_float))"
      ],
      "execution_count": null,
      "outputs": [
        {
          "output_type": "stream",
          "name": "stdout",
          "text": [
            "<class 'float'>\n"
          ]
        }
      ]
    },
    {
      "cell_type": "code",
      "metadata": {
        "colab": {
          "base_uri": "https://localhost:8080/"
        },
        "id": "yByML4SxrAnL",
        "outputId": "0ed70ae2-5ad8-4190-d3ab-0a42a720fc4c"
      },
      "source": [
        "# NUEVO EJEMPLO\n",
        "my_str = '13443'\n",
        "my_flo = float(my_str)\n",
        "print(my_flo)\n",
        "print(type(my_flo))"
      ],
      "execution_count": null,
      "outputs": [
        {
          "output_type": "stream",
          "name": "stdout",
          "text": [
            "13443.0\n",
            "<class 'float'>\n"
          ]
        }
      ]
    },
    {
      "cell_type": "markdown",
      "metadata": {
        "id": "2iuyv8Q7StTJ"
      },
      "source": [
        "As you can see above, if we don't include a decimal value, the variable would be defined as an integer. The built-in function float() can convert a string or an integer into a float."
      ]
    },
    {
      "cell_type": "code",
      "metadata": {
        "colab": {
          "base_uri": "https://localhost:8080/"
        },
        "id": "wwLw5VthOqig",
        "outputId": "62d00b5e-6744-4b50-8507-b4f1b35d94c6"
      },
      "source": [
        "my_bool = False\n",
        "print(my_bool)\n",
        "print(type(my_bool))"
      ],
      "execution_count": null,
      "outputs": [
        {
          "output_type": "stream",
          "name": "stdout",
          "text": [
            "False\n",
            "<class 'bool'>\n"
          ]
        }
      ]
    },
    {
      "cell_type": "code",
      "metadata": {
        "colab": {
          "base_uri": "https://localhost:8080/"
        },
        "id": "Ymv-BDd2rNPa",
        "outputId": "19dbaf9d-7fef-4efc-ba38-b3875955ff70"
      },
      "source": [
        "# NUEVO EJEMPLO\n",
        "mybool = True\n",
        "print(mybool)\n",
        "print(type(mybool))"
      ],
      "execution_count": null,
      "outputs": [
        {
          "output_type": "stream",
          "name": "stdout",
          "text": [
            "True\n",
            "<class 'bool'>\n"
          ]
        }
      ]
    },
    {
      "cell_type": "markdown",
      "metadata": {
        "id": "bnGMwH21Szr_"
      },
      "source": [
        "A boolean, or bool, is a binary variable. Its value can only be True or False. It is useful when we do some logic operations, which would be covered in our next chapter."
      ]
    },
    {
      "cell_type": "code",
      "metadata": {
        "colab": {
          "base_uri": "https://localhost:8080/"
        },
        "id": "DMa6pDl5Oqig",
        "outputId": "05097d31-eff6-4b57-f3df-eacbf3c87f4e"
      },
      "source": [
        "print(\"Addition \", 1+1)\n",
        "print(\"Subtraction \", 5-2)\n",
        "print(\"Multiplication \", 2*3)\n",
        "print(\"Division \", 10/2)\n",
        "print('exponent', 2**3)"
      ],
      "execution_count": null,
      "outputs": [
        {
          "output_type": "stream",
          "name": "stdout",
          "text": [
            "Addition  2\n",
            "Subtraction  3\n",
            "Multiplication  6\n",
            "Division  5.0\n",
            "exponent 8\n"
          ]
        }
      ]
    },
    {
      "cell_type": "code",
      "metadata": {
        "colab": {
          "base_uri": "https://localhost:8080/"
        },
        "id": "s-Hzy6AprUjS",
        "outputId": "111820e1-3654-4f52-ff16-8c483762894e"
      },
      "source": [
        "# NUEVO EJEMPLO\n",
        "print(\"Addition \", 5443+44+43)\n",
        "print(\"Subtraction \", 243-434-545)\n",
        "print(\"Multiplication \", 543*344*43)\n",
        "print(\"Division \", 3434/4/2)\n",
        "print('exponent', 4**8)"
      ],
      "execution_count": null,
      "outputs": [
        {
          "output_type": "stream",
          "name": "stdout",
          "text": [
            "Addition  5530\n",
            "Subtraction  -736\n",
            "Multiplication  8032056\n",
            "Division  429.25\n",
            "exponent 65536\n"
          ]
        }
      ]
    },
    {
      "cell_type": "markdown",
      "metadata": {
        "id": "1Xc9G9_sS2ju"
      },
      "source": [
        "# Basic Math Operations\n",
        "\n",
        "The basic math operators in python are demonstrated below:"
      ]
    },
    {
      "cell_type": "code",
      "metadata": {
        "colab": {
          "base_uri": "https://localhost:8080/"
        },
        "id": "KE9gUryAOqig",
        "outputId": "42f90b24-0ee5-42ff-a8b9-f39eb8abdef1"
      },
      "source": [
        "print(1/3)\n",
        "print(1.0/3)"
      ],
      "execution_count": null,
      "outputs": [
        {
          "output_type": "stream",
          "name": "stdout",
          "text": [
            "0.3333333333333333\n",
            "0.3333333333333333\n"
          ]
        }
      ]
    },
    {
      "cell_type": "code",
      "metadata": {
        "colab": {
          "base_uri": "https://localhost:8080/"
        },
        "id": "tktM97_HrmHm",
        "outputId": "52eacd86-7cac-467f-baef-90ceb558447a"
      },
      "source": [
        "# NUEVO EJEMPLO\n",
        "print(3232/50)\n",
        "print(3232.0/50)"
      ],
      "execution_count": null,
      "outputs": [
        {
          "output_type": "stream",
          "name": "stdout",
          "text": [
            "64.64\n",
            "64.64\n"
          ]
        }
      ]
    },
    {
      "cell_type": "markdown",
      "metadata": {
        "id": "AN5Oa3DoS_Nf"
      },
      "source": [
        "# Data Collections\n",
        "\n",
        "## List\n",
        "A list is an ordered collection of values. A list is mutable, which means you can change a list's value without changing the list itself. Creating a list is simply putting different comma-separated values between square brackets."
      ]
    },
    {
      "cell_type": "code",
      "metadata": {
        "colab": {
          "base_uri": "https://localhost:8080/"
        },
        "id": "-tQdNqCvOqig",
        "outputId": "a77e8279-e84a-45b9-e338-3fa79dd8cc41"
      },
      "source": [
        "my_list = ['Quant', 'Connect', 1,2,3]\n",
        "print(my_list)"
      ],
      "execution_count": null,
      "outputs": [
        {
          "output_type": "stream",
          "name": "stdout",
          "text": [
            "['Quant', 'Connect', 1, 2, 3]\n"
          ]
        }
      ]
    },
    {
      "cell_type": "code",
      "metadata": {
        "colab": {
          "base_uri": "https://localhost:8080/"
        },
        "id": "q4W5HRMPrtwq",
        "outputId": "45bb2be8-d301-4f8c-8901-4dc933d791a5"
      },
      "source": [
        "# NUEVO EJEMPLO\n",
        "List = ['Vamos', 'Por ese 5', 5,5,5,5]\n",
        "print(List)"
      ],
      "execution_count": null,
      "outputs": [
        {
          "output_type": "stream",
          "name": "stdout",
          "text": [
            "['Vamos', 'Por ese 5', 5, 5, 5, 5]\n"
          ]
        }
      ]
    },
    {
      "cell_type": "markdown",
      "metadata": {
        "id": "1O0TsgZCTHrM"
      },
      "source": [
        "The values in a list are called \"elements\". We can access list elements by indexing. Python index starts from 0. So if you have a list of length n, the index of the first element will be 0, and that of the last element will be n − 1. By the way, the length of a list can be obtained by the built-in function len()."
      ]
    },
    {
      "cell_type": "code",
      "metadata": {
        "colab": {
          "base_uri": "https://localhost:8080/"
        },
        "id": "QhuVhRR5Oqih",
        "outputId": "ac6c3071-6d99-477d-b86d-b4beebe9cb0d"
      },
      "source": [
        "my_list = ['Quant', 'Connect', 1,2,3]\n",
        "print(len(my_list))\n",
        "print(my_list[0])\n",
        "print(my_list[len(my_list) -1])"
      ],
      "execution_count": null,
      "outputs": [
        {
          "output_type": "stream",
          "name": "stdout",
          "text": [
            "5\n",
            "Quant\n",
            "3\n"
          ]
        }
      ]
    },
    {
      "cell_type": "code",
      "metadata": {
        "colab": {
          "base_uri": "https://localhost:8080/"
        },
        "id": "Y5uk7UULr-mS",
        "outputId": "557dbfef-68cf-411c-cefd-0312ab82b733"
      },
      "source": [
        "# NUEVO EJEMPLO\n",
        "List = ['hola', 'tilin', 3,4]\n",
        "print( len(List))\n",
        "print( List[0])\n",
        "print( List[len(List)-1])"
      ],
      "execution_count": null,
      "outputs": [
        {
          "output_type": "stream",
          "name": "stdout",
          "text": [
            "4\n",
            "hola\n",
            "4\n"
          ]
        }
      ]
    },
    {
      "cell_type": "markdown",
      "metadata": {
        "id": "jgSZy1VGTKSc"
      },
      "source": [
        "You can also change the elements in the list by accessing an index and assigning a new value."
      ]
    },
    {
      "cell_type": "code",
      "metadata": {
        "colab": {
          "base_uri": "https://localhost:8080/"
        },
        "id": "NQBNLjAvOqih",
        "outputId": "3e8a7554-bd5e-407c-f803-5cb13c4a0562"
      },
      "source": [
        "my_list = ['Quant','Connect',1,2,3]\n",
        "my_list[2] = 'go'\n",
        "print(my_list)"
      ],
      "execution_count": null,
      "outputs": [
        {
          "output_type": "stream",
          "name": "stdout",
          "text": [
            "['Quant', 'Connect', 'go', 2, 3]\n"
          ]
        }
      ]
    },
    {
      "cell_type": "code",
      "metadata": {
        "colab": {
          "base_uri": "https://localhost:8080/"
        },
        "id": "f0OVNgc5sZwz",
        "outputId": "73269301-f302-405a-e029-50042f71b18e"
      },
      "source": [
        "# NUEVO EJEMPLO\n",
        "List =  ['hola', 'tilin', 'jaja']\n",
        "List[0] = 'como fue'\n",
        "print(List)"
      ],
      "execution_count": null,
      "outputs": [
        {
          "output_type": "stream",
          "name": "stdout",
          "text": [
            "['como fue', 'tilin', 'jaja']\n"
          ]
        }
      ]
    },
    {
      "cell_type": "markdown",
      "metadata": {
        "id": "EQPs5ojoTVrk"
      },
      "source": [
        "A list can also be sliced with a colon:"
      ]
    },
    {
      "cell_type": "code",
      "metadata": {
        "colab": {
          "base_uri": "https://localhost:8080/"
        },
        "id": "keNX2RbtOqii",
        "outputId": "3944605a-299f-4e33-d304-5307dc40cb0f"
      },
      "source": [
        "my_list = ['Quant','Connect',1,2,3]\n",
        "print(my_list[1:3])"
      ],
      "execution_count": null,
      "outputs": [
        {
          "output_type": "stream",
          "name": "stdout",
          "text": [
            "['Connect', 1]\n"
          ]
        }
      ]
    },
    {
      "cell_type": "code",
      "metadata": {
        "colab": {
          "base_uri": "https://localhost:8080/"
        },
        "id": "yXmP4-P2smrr",
        "outputId": "821ed7b4-bdd4-4fec-a6c2-e71fc9a9072f"
      },
      "source": [
        "# NUEVO EJEMPLO\n",
        "List = ['Ten', 'Un', 'Feliz', 'Dia', 'amigo']\n",
        "print(List[2:4])"
      ],
      "execution_count": null,
      "outputs": [
        {
          "output_type": "stream",
          "name": "stdout",
          "text": [
            "['Feliz', 'Dia']\n"
          ]
        }
      ]
    },
    {
      "cell_type": "markdown",
      "metadata": {
        "id": "AZqQd0K8TYul"
      },
      "source": [
        "The slice starts from the first element indicated, but excludes the last element indicated. Here we select all elements starting from index 1, which refers to the second element:"
      ]
    },
    {
      "cell_type": "code",
      "metadata": {
        "colab": {
          "base_uri": "https://localhost:8080/"
        },
        "id": "0-76sLfkOqii",
        "outputId": "347e0cb9-a670-46f1-d106-5735607a7097"
      },
      "source": [
        "print(my_list[1:])"
      ],
      "execution_count": null,
      "outputs": [
        {
          "output_type": "stream",
          "name": "stdout",
          "text": [
            "['Connect', 1, 2, 3]\n"
          ]
        }
      ]
    },
    {
      "cell_type": "code",
      "metadata": {
        "colab": {
          "base_uri": "https://localhost:8080/"
        },
        "id": "jQID6zyRs2v5",
        "outputId": "aed02120-a19c-41be-d2df-779d7f7f869e"
      },
      "source": [
        "# NUEVO EJEMPLO\n",
        "print(List[3:])"
      ],
      "execution_count": null,
      "outputs": [
        {
          "output_type": "stream",
          "name": "stdout",
          "text": [
            "['Dia', 'amigo']\n"
          ]
        }
      ]
    },
    {
      "cell_type": "markdown",
      "metadata": {
        "id": "XBqvhUdZVKWs"
      },
      "source": [
        "And all elements up to but excluding index 3:"
      ]
    },
    {
      "cell_type": "code",
      "metadata": {
        "colab": {
          "base_uri": "https://localhost:8080/"
        },
        "id": "5NWr75L9Oqii",
        "outputId": "259cc958-2bfa-40b2-9e46-7030f60ee1c7"
      },
      "source": [
        "print(my_list[:3])"
      ],
      "execution_count": null,
      "outputs": [
        {
          "output_type": "stream",
          "name": "stdout",
          "text": [
            "['Quant', 'Connect', 1]\n"
          ]
        }
      ]
    },
    {
      "cell_type": "code",
      "metadata": {
        "colab": {
          "base_uri": "https://localhost:8080/"
        },
        "id": "wy5qD4k7s_UT",
        "outputId": "3cc6c2ba-b5a4-4323-cc32-83ef14fdfb16"
      },
      "source": [
        "# NUEVO EJEMPLO\n",
        "print(List[:2])"
      ],
      "execution_count": null,
      "outputs": [
        {
          "output_type": "stream",
          "name": "stdout",
          "text": [
            "['Ten', 'Un']\n"
          ]
        }
      ]
    },
    {
      "cell_type": "markdown",
      "metadata": {
        "id": "eAFmM6bkTZz9"
      },
      "source": [
        "If you wish to add or remove an element from a list, you can use the append() and remove() methods for lists as follows:"
      ]
    },
    {
      "cell_type": "code",
      "metadata": {
        "colab": {
          "base_uri": "https://localhost:8080/"
        },
        "id": "pHmgTPElTo19",
        "outputId": "7d462a9a-d00b-4079-c498-62b5198c8ee1"
      },
      "source": [
        "my_list = ['Hello', 'Quant']\n",
        "my_list.append('Hello')\n",
        "print(my_list)\n",
        "\n"
      ],
      "execution_count": null,
      "outputs": [
        {
          "output_type": "stream",
          "name": "stdout",
          "text": [
            "['Hello', 'Quant', 'Hello']\n"
          ]
        }
      ]
    },
    {
      "cell_type": "code",
      "metadata": {
        "colab": {
          "base_uri": "https://localhost:8080/"
        },
        "id": "lS9tEQKZtLkC",
        "outputId": "2840aa6b-9f35-4aa0-bc39-694f3b16ee5e"
      },
      "source": [
        "# NUEVO EJEMPLO\n",
        "List = ['Ten', 'Un', 'Feliz', 'Dia', 'amigo']\n",
        "List.append('5')\n",
        "print(List)"
      ],
      "execution_count": null,
      "outputs": [
        {
          "output_type": "stream",
          "name": "stdout",
          "text": [
            "['Ten', 'Un', 'Feliz', 'Dia', 'amigo', '5']\n"
          ]
        }
      ]
    },
    {
      "cell_type": "code",
      "metadata": {
        "colab": {
          "base_uri": "https://localhost:8080/"
        },
        "id": "4C4U1Yf0Tr8l",
        "outputId": "cee3cd64-7150-4bcb-e347-526696ad5a91"
      },
      "source": [
        "my_list.remove('Hello')\n",
        "print(my_list)"
      ],
      "execution_count": null,
      "outputs": [
        {
          "output_type": "stream",
          "name": "stdout",
          "text": [
            "['Quant', 'Hello']\n"
          ]
        }
      ]
    },
    {
      "cell_type": "code",
      "metadata": {
        "colab": {
          "base_uri": "https://localhost:8080/"
        },
        "id": "yKpl6WnjtTyk",
        "outputId": "116cdfc6-72cc-45e8-ee08-6b02b7b29841"
      },
      "source": [
        "# NUEVO EJEMPLO\n",
        "List = ['Ten', 'Un', 'Feliz', 'Dia', 'amigo']\n",
        "List.remove('Ten')\n",
        "print(List)"
      ],
      "execution_count": null,
      "outputs": [
        {
          "output_type": "stream",
          "name": "stdout",
          "text": [
            "['Un', 'Feliz', 'Dia', 'amigo']\n"
          ]
        }
      ]
    },
    {
      "cell_type": "markdown",
      "metadata": {
        "id": "11W1gG-cVmOU"
      },
      "source": [
        "When there are repeated instances of \"Hello\", the first one is removed.\n",
        "\n",
        "## Tuple\n",
        "A tuple is a data structure type similar to a list. The difference is that a tuple is immutable, which means you can't change the elements in it once it's defined. We create a tuple by putting comma-separated values between parentheses."
      ]
    },
    {
      "cell_type": "code",
      "metadata": {
        "id": "vPmn6BAaOqii"
      },
      "source": [
        "my_tuple = ('Welcome','to','QuantConnect')"
      ],
      "execution_count": null,
      "outputs": []
    },
    {
      "cell_type": "code",
      "metadata": {
        "colab": {
          "base_uri": "https://localhost:8080/"
        },
        "id": "g40vU7eKtiUB",
        "outputId": "9e60d434-4bca-4372-8210-5889a1121317"
      },
      "source": [
        "# NUEVO EJEMPLO\n",
        "Tuple = ('Ten', 'Un', 'Feliz', 'Dia', 'amigo')\n",
        "print(Tuple)"
      ],
      "execution_count": null,
      "outputs": [
        {
          "output_type": "stream",
          "name": "stdout",
          "text": [
            "('Ten', 'Un', 'Feliz', 'Dia', 'amigo')\n"
          ]
        }
      ]
    },
    {
      "cell_type": "markdown",
      "metadata": {
        "id": "zMIme4dDV0Wz"
      },
      "source": [
        "Just like a list, a tuple can be sliced by using index."
      ]
    },
    {
      "cell_type": "code",
      "metadata": {
        "colab": {
          "base_uri": "https://localhost:8080/"
        },
        "id": "8P-ddO0sOqii",
        "outputId": "f178f2e6-e084-44a3-9797-ed54ea77ab4e"
      },
      "source": [
        "my_tuple = ('Welcome','to','QuantConnect')\n",
        "print(my_tuple[1:])"
      ],
      "execution_count": null,
      "outputs": [
        {
          "output_type": "stream",
          "name": "stdout",
          "text": [
            "('to', 'QuantConnect')\n"
          ]
        }
      ]
    },
    {
      "cell_type": "code",
      "metadata": {
        "colab": {
          "base_uri": "https://localhost:8080/"
        },
        "id": "bSkkXyKEtuv1",
        "outputId": "8d71f3a4-6b02-4ee6-98c3-e6fd46805224"
      },
      "source": [
        "# NUEVO EJEMPLO\n",
        "myTuple = ('Ten', 'Un', 'Feliz', 'Dia', 'amigo')\n",
        "print( myTuple[:2] )"
      ],
      "execution_count": null,
      "outputs": [
        {
          "output_type": "stream",
          "name": "stdout",
          "text": [
            "('Ten', 'Un')\n"
          ]
        }
      ]
    },
    {
      "cell_type": "markdown",
      "metadata": {
        "id": "l2JqbusAV1Y2"
      },
      "source": [
        "## Set\n",
        "A set is an **unordered**  collection with **no duplicate** elements. The built-in function **set()** can be used to create sets."
      ]
    },
    {
      "cell_type": "code",
      "metadata": {
        "colab": {
          "base_uri": "https://localhost:8080/"
        },
        "id": "Plau8r-UOqij",
        "outputId": "8914753c-4693-4c5e-dd74-ee47311ea669"
      },
      "source": [
        "stock_list = ['AAPL','GOOG','IBM','AAPL','IBM','FB','F','GOOG']\n",
        "stock_set = set(stock_list)\n",
        "print(stock_set)"
      ],
      "execution_count": null,
      "outputs": [
        {
          "output_type": "stream",
          "name": "stdout",
          "text": [
            "{'GOOG', 'IBM', 'AAPL', 'F', 'FB'}\n"
          ]
        }
      ]
    },
    {
      "cell_type": "code",
      "metadata": {
        "colab": {
          "base_uri": "https://localhost:8080/"
        },
        "id": "Zh-EABMJt3FL",
        "outputId": "937e1276-327b-4644-956c-caea3e572521"
      },
      "source": [
        "# NUEVO EJEMPLO\n",
        "frutas = ['pera', 'banano', 'granadilla', 'banano', 'uva', 'pera']\n",
        "setfrutas = set(frutas)\n",
        "print(setfrutas)"
      ],
      "execution_count": null,
      "outputs": [
        {
          "output_type": "stream",
          "name": "stdout",
          "text": [
            "{'granadilla', 'pera', 'banano', 'uva'}\n"
          ]
        }
      ]
    },
    {
      "cell_type": "markdown",
      "metadata": {
        "id": "Jyb4GGIoWIHk"
      },
      "source": [
        "Set is an easy way to remove duplicate elements from a list.\n",
        "\n",
        "##Dictionary\n",
        "A dictionary is one of the most important data structures in Python. Unlike sequences which are indexed by integers, dictionaries are indexed by keys which can be either strings or floats.\n",
        "\n",
        "A dictionary is an **unordered** collection of key : value pairs, with the requirement that the keys are unique. We create a dictionary by placing a comma-separated list of key : value pairs within the braces."
      ]
    },
    {
      "cell_type": "code",
      "metadata": {
        "id": "36mTe5BaOqij"
      },
      "source": [
        "my_dic = {'AAPL':'AAPLE', 'FB':'FaceBook', 'GOOG':'Alphabet'}"
      ],
      "execution_count": null,
      "outputs": []
    },
    {
      "cell_type": "code",
      "metadata": {
        "colab": {
          "base_uri": "https://localhost:8080/"
        },
        "id": "KUfdVf43Oqij",
        "outputId": "9684a408-8713-4b3e-904d-1727f3b55405"
      },
      "source": [
        "print(my_dic['GOOG'])"
      ],
      "execution_count": null,
      "outputs": [
        {
          "output_type": "stream",
          "name": "stdout",
          "text": [
            "Alphabet\n"
          ]
        }
      ]
    },
    {
      "cell_type": "code",
      "metadata": {
        "id": "cLAFJDGvuKfK"
      },
      "source": [
        "# NUEVO EJEMPLO\n",
        "paises = {'COL':'Colombia', 'JPN':'Japon', 'CH':'Chile'}"
      ],
      "execution_count": null,
      "outputs": []
    },
    {
      "cell_type": "code",
      "metadata": {
        "colab": {
          "base_uri": "https://localhost:8080/"
        },
        "id": "W8GrRCojuUZ5",
        "outputId": "b2083216-947b-498e-f1c8-24f5a9e455f5"
      },
      "source": [
        "# NUEVO EJEMPLO\n",
        "print( paises['COL'] )"
      ],
      "execution_count": null,
      "outputs": [
        {
          "output_type": "stream",
          "name": "stdout",
          "text": [
            "Colombia\n"
          ]
        }
      ]
    },
    {
      "cell_type": "markdown",
      "metadata": {
        "id": "gSicoNqDWP4c"
      },
      "source": [
        "After defining a dictionary, we can access any value by indicating its key in brackets."
      ]
    },
    {
      "cell_type": "code",
      "metadata": {
        "colab": {
          "base_uri": "https://localhost:8080/"
        },
        "id": "IrTZdq9FOqij",
        "outputId": "0e69a76f-cbb9-4059-a129-b743c8082241"
      },
      "source": [
        "my_dic['GOOG'] = 'Alphabet Company'\n",
        "print(my_dic['GOOG'])"
      ],
      "execution_count": null,
      "outputs": [
        {
          "output_type": "stream",
          "name": "stdout",
          "text": [
            "Alphabet Company\n"
          ]
        }
      ]
    },
    {
      "cell_type": "code",
      "metadata": {
        "colab": {
          "base_uri": "https://localhost:8080/"
        },
        "id": "0JDIuuw5ua6R",
        "outputId": "98b3e14f-294a-4f98-9c51-9f3816264c9d"
      },
      "source": [
        "# NUEVO EJEMPLO\n",
        "paises = {'COL':'Colombia', 'JPN':'Japon', 'CH':'Chile'}\n",
        "print( paises['JPN'] )"
      ],
      "execution_count": null,
      "outputs": [
        {
          "output_type": "stream",
          "name": "stdout",
          "text": [
            "Japon\n"
          ]
        }
      ]
    },
    {
      "cell_type": "markdown",
      "metadata": {
        "id": "M9sDsTEMWQvc"
      },
      "source": [
        "We can also change the value associated with a specified key:"
      ]
    },
    {
      "cell_type": "code",
      "metadata": {
        "colab": {
          "base_uri": "https://localhost:8080/"
        },
        "id": "lupRHf1_Oqij",
        "outputId": "1a466400-a59f-436c-ebe0-c84f2322d081"
      },
      "source": [
        "print(my_dic.keys())"
      ],
      "execution_count": null,
      "outputs": [
        {
          "output_type": "stream",
          "name": "stdout",
          "text": [
            "dict_keys(['AAPL', 'FB', 'GOOG'])\n"
          ]
        }
      ]
    },
    {
      "cell_type": "code",
      "metadata": {
        "colab": {
          "base_uri": "https://localhost:8080/"
        },
        "id": "zRaP6nnAujR0",
        "outputId": "815e7dd3-9bda-4366-a84c-ac74a7b1c0ae"
      },
      "source": [
        "# NUEVO EJEMPLO\n",
        "print( paises.keys() )"
      ],
      "execution_count": null,
      "outputs": [
        {
          "output_type": "stream",
          "name": "stdout",
          "text": [
            "dict_keys(['COL', 'JPN', 'CH'])\n"
          ]
        }
      ]
    },
    {
      "cell_type": "markdown",
      "metadata": {
        "id": "VPuDinlwWS9D"
      },
      "source": [
        "The built-in method of the dictionary object dict.keys() returns a list of all the keys used in the dictionary."
      ]
    },
    {
      "cell_type": "markdown",
      "metadata": {
        "id": "kSGzgNb2Womz"
      },
      "source": [
        "# Common String Operations\n",
        "A string is an immutable sequence of characters. It can be sliced by index just like a tuple:"
      ]
    },
    {
      "cell_type": "code",
      "metadata": {
        "colab": {
          "base_uri": "https://localhost:8080/"
        },
        "id": "xPojDnm9Oqik",
        "outputId": "2d331e25-ec49-4cc5-fc51-1a66bb59de0d"
      },
      "source": [
        "my_str = 'Welcome to QuantConnect'\n",
        "print(my_str[8:])"
      ],
      "execution_count": null,
      "outputs": [
        {
          "output_type": "stream",
          "name": "stdout",
          "text": [
            "to QuantConnect\n"
          ]
        }
      ]
    },
    {
      "cell_type": "code",
      "metadata": {
        "colab": {
          "base_uri": "https://localhost:8080/"
        },
        "id": "AnG7OLcouqva",
        "outputId": "4ca5a269-c239-4947-8d55-c42a8806a244"
      },
      "source": [
        "# NUEVO EJEMPLO\n",
        "myStr = 'Hola amigo :D'\n",
        "print(myStr[:5])"
      ],
      "execution_count": null,
      "outputs": [
        {
          "output_type": "stream",
          "name": "stdout",
          "text": [
            "Hola \n"
          ]
        }
      ]
    },
    {
      "cell_type": "markdown",
      "metadata": {
        "id": "wuJYy7tvWtM7"
      },
      "source": [
        "There are many methods associated with strings. We can use string.count() to count the occurrences of a character in a string, use string.find() to return the index of a specific character, and use string.replace() to replace characters"
      ]
    },
    {
      "cell_type": "code",
      "metadata": {
        "colab": {
          "base_uri": "https://localhost:8080/"
        },
        "id": "u9deZq1SOqik",
        "outputId": "ffe9c6a1-acf3-49fc-9b71-fbc05eb26fe4"
      },
      "source": [
        "print('Counting the number of e appears in this sentence'.count('e'))\n",
        "print('The first time e appears in this sentence'.find('e'))\n",
        "print('all the a in this sentence now becomes e'.replace('a','e'))"
      ],
      "execution_count": null,
      "outputs": [
        {
          "output_type": "stream",
          "name": "stdout",
          "text": [
            "7\n",
            "2\n",
            "ell the e in this sentence now becomes e\n"
          ]
        }
      ]
    },
    {
      "cell_type": "code",
      "metadata": {
        "colab": {
          "base_uri": "https://localhost:8080/"
        },
        "id": "9295mWsHu1qm",
        "outputId": "3c6ef41a-04a6-4f7c-afe3-0caf5b43deb8"
      },
      "source": [
        "# NUEVO EJEMPLO\n",
        "print('cuenta las letras a'.count('a'))\n",
        "print('donde esta la h'.find('h'))\n",
        "print('jajajaja'.replace('a','i'))"
      ],
      "execution_count": null,
      "outputs": [
        {
          "output_type": "stream",
          "name": "stdout",
          "text": [
            "4\n",
            "14\n",
            "jijijiji\n"
          ]
        }
      ]
    },
    {
      "cell_type": "markdown",
      "metadata": {
        "id": "sJPn3rkvWwHN"
      },
      "source": [
        "The most commonly used method for strings is string.split(). This method will split the string by the indicated character and return a list:"
      ]
    },
    {
      "cell_type": "code",
      "metadata": {
        "colab": {
          "base_uri": "https://localhost:8080/"
        },
        "id": "hbIaFLFHOqik",
        "outputId": "6763cda4-e22e-4a88-f4b6-4006f4dd10bd"
      },
      "source": [
        "Time = '2016-04-01 09:43:00'\n",
        "splited_list = Time.split(' ')\n",
        "date = splited_list[0]\n",
        "time = splited_list[1]\n",
        "print(date, time)\n",
        "hour = time.split(':')[0]\n",
        "print(hour)"
      ],
      "execution_count": null,
      "outputs": [
        {
          "output_type": "stream",
          "name": "stdout",
          "text": [
            "2016-04-01 09:43:00\n",
            "09\n"
          ]
        }
      ]
    },
    {
      "cell_type": "code",
      "metadata": {
        "colab": {
          "base_uri": "https://localhost:8080/"
        },
        "id": "HEZjZbMCvKPA",
        "outputId": "d50b6432-ffe0-4a00-eb5b-461c0e78b7ac"
      },
      "source": [
        "# NUEVO EJEMPLO\n",
        "fecha = 'sabado 8 30'\n",
        "splited_fecha = fecha.split(' ')\n",
        "print('-dia:', splited_fecha[0],'-Minutos:', splited_fecha[1],'-Segundos:', splited_fecha[2])\n"
      ],
      "execution_count": null,
      "outputs": [
        {
          "output_type": "stream",
          "name": "stdout",
          "text": [
            "-dia: sabado -Minutos: 8 -Segundos: 30\n"
          ]
        }
      ]
    },
    {
      "cell_type": "markdown",
      "metadata": {
        "id": "9cJQGk96WyVc"
      },
      "source": [
        "We can replace parts of a string by our variable. This is called string formatting."
      ]
    },
    {
      "cell_type": "code",
      "metadata": {
        "colab": {
          "base_uri": "https://localhost:8080/"
        },
        "id": "-E_rIvv6Oqik",
        "outputId": "a65d529d-3869-4c48-e301-55757d642c74"
      },
      "source": [
        "my_time = 'Hour: {}, Minute:{}'.format('09','43')\n",
        "print(my_time)"
      ],
      "execution_count": null,
      "outputs": [
        {
          "output_type": "stream",
          "name": "stdout",
          "text": [
            "Hour: 09, Minute:43\n"
          ]
        }
      ]
    },
    {
      "cell_type": "code",
      "metadata": {
        "colab": {
          "base_uri": "https://localhost:8080/"
        },
        "id": "xLJ4pUY4vg0J",
        "outputId": "ce456b1a-4736-4177-cc52-21aa1f9e3b66"
      },
      "source": [
        "# NUEVO EJEMPLO\n",
        "phrase = 'Metiendo frase ({})'.format('Hola soy una frase')\n",
        "print(phrase)"
      ],
      "execution_count": null,
      "outputs": [
        {
          "output_type": "stream",
          "name": "stdout",
          "text": [
            "Metiendo frase (Hola soy una frase)\n"
          ]
        }
      ]
    },
    {
      "cell_type": "markdown",
      "metadata": {
        "id": "1_NbVldpWzAs"
      },
      "source": [
        "Another way to format a string is to use the % symbol."
      ]
    },
    {
      "cell_type": "code",
      "metadata": {
        "colab": {
          "base_uri": "https://localhost:8080/"
        },
        "id": "4rZ4rkD2Oqik",
        "outputId": "feb98ede-d210-4f0b-cba4-c66d47d354c8"
      },
      "source": [
        "print('the pi number is %f'%3.14)\n",
        "print('%s to %s'%('Welcome','Quantconnect'))"
      ],
      "execution_count": null,
      "outputs": [
        {
          "output_type": "stream",
          "name": "stdout",
          "text": [
            "the pi number is 3.140000\n",
            "Welcome to Quantconnect\n"
          ]
        }
      ]
    },
    {
      "cell_type": "code",
      "metadata": {
        "colab": {
          "base_uri": "https://localhost:8080/"
        },
        "id": "1CKci6WOvtvN",
        "outputId": "f18a1f04-daec-4ff1-851c-65fc5ccaa625"
      },
      "source": [
        "# NUEVO EJEMPLO\n",
        "print('En el banco tengo %f'%433443.44)\n",
        "print('%s soy  %s'%('Hola','frase'))"
      ],
      "execution_count": null,
      "outputs": [
        {
          "output_type": "stream",
          "name": "stdout",
          "text": [
            "En el banco tengo 433443.440000\n",
            "Hola soy  frase\n"
          ]
        }
      ]
    },
    {
      "cell_type": "markdown",
      "metadata": {
        "id": "v_5cocrDW3MN"
      },
      "source": [
        "# Summary\n",
        "\n",
        "Weave seen the basic data types and data structures in Python. It's important to keep practicing to become familiar with these data structures. In the next tutorial, we will cover for and while loops and logical operations in Python."
      ]
    },
    {
      "cell_type": "markdown",
      "metadata": {
        "id": "QL6dNxwCXNEt"
      },
      "source": [
        "<div align=\"center\">\n",
        "<img style=\"display: block; margin: auto;\" alt=\"photo\" src=\"https://cdn.quantconnect.com/web/i/icon.png\">\n",
        "\n",
        "Quantconnect\n",
        "\n",
        "Introduction to Financial Python\n",
        "</div>\n",
        "\n",
        "# 02 Logical Operations and Loops\n",
        "\n",
        "# Introduction\n",
        "We discussed the basic data types and data structures in Python in the last tutorial. This chapter covers logical operations and loops in Python, which are very common in programming.\n",
        "\n",
        "# Logical Operations\n",
        "Like most programming languages, Python has comparison operators:"
      ]
    },
    {
      "cell_type": "code",
      "metadata": {
        "colab": {
          "base_uri": "https://localhost:8080/"
        },
        "id": "70Guys_rOv7a",
        "outputId": "4210f8c0-ced7-4479-9d03-e68ff96346fb"
      },
      "source": [
        "print(1 == 0)\n",
        "print(1 == 1)\n",
        "print(1 != 0)\n",
        "print(5 >= 5)\n",
        "print(5 >= 6)"
      ],
      "execution_count": null,
      "outputs": [
        {
          "output_type": "stream",
          "name": "stdout",
          "text": [
            "False\n",
            "True\n",
            "True\n",
            "True\n",
            "False\n"
          ]
        }
      ]
    },
    {
      "cell_type": "code",
      "metadata": {
        "colab": {
          "base_uri": "https://localhost:8080/"
        },
        "id": "DEDgAXgfz80q",
        "outputId": "da06553e-e930-40bd-9b6d-265e9c25fc07"
      },
      "source": [
        "# NUEVO EJEMPLO\n",
        "print(46 == 64)\n",
        "print(56 == 56)\n",
        "print(10545 != 10)\n",
        "print(4545 >= 4545454)\n",
        "print(754554 >= 4576776)"
      ],
      "execution_count": null,
      "outputs": [
        {
          "output_type": "stream",
          "name": "stdout",
          "text": [
            "False\n",
            "True\n",
            "True\n",
            "False\n",
            "False\n"
          ]
        }
      ]
    },
    {
      "cell_type": "markdown",
      "metadata": {
        "id": "8aFHYDj-YTXt"
      },
      "source": [
        "Each statement above has a boolean value, which must be either True or False, but not both.\n",
        "\n",
        "We can combine simple statements P and Q to form complex statements using logical operators:\n",
        "\n",
        "- The statement \"P and Q\" is true if both P and Q are true, otherwise it is false.\n",
        "- The statement \"P or Q\" is false if both P and Q are false, otherwise it is true.\n",
        "- The statement \"not P\" is true if P is false, and vice versa."
      ]
    },
    {
      "cell_type": "code",
      "metadata": {
        "colab": {
          "base_uri": "https://localhost:8080/"
        },
        "id": "O5YEEcUbOv7d",
        "outputId": "3a4bc4f4-5623-4a53-88e5-96e37a9ff5ad"
      },
      "source": [
        "print(2 > 1 and 3 > 2)\n",
        "print(2 > 1 and 3 < 2 )\n",
        "print(2 > 1 or 3 < 2)\n",
        "print(2 < 1 and 3 < 2)"
      ],
      "execution_count": null,
      "outputs": [
        {
          "output_type": "stream",
          "name": "stdout",
          "text": [
            "True\n",
            "False\n",
            "True\n",
            "False\n"
          ]
        }
      ]
    },
    {
      "cell_type": "code",
      "metadata": {
        "colab": {
          "base_uri": "https://localhost:8080/"
        },
        "id": "61fnK2EI0JfQ",
        "outputId": "3f6fc9ca-3017-4bbf-cd2f-03be3763f3e0"
      },
      "source": [
        "# NUEVO EJEMPLO\n",
        "print (54 < 76 and 35 > 25)\n",
        "print (43 < 33 and 34 < 43)\n",
        "print (24 > 54 or 6767 > 5667)\n",
        "print (2 < 45 and 3 > 2)"
      ],
      "execution_count": null,
      "outputs": [
        {
          "output_type": "stream",
          "name": "stdout",
          "text": [
            "True\n",
            "False\n",
            "True\n",
            "True\n"
          ]
        }
      ]
    },
    {
      "cell_type": "markdown",
      "metadata": {
        "id": "Dy7yzoSXYXmL"
      },
      "source": [
        "When dealing with a very complex logical statement that involves in several statements, we can use brackets to separate and combine them."
      ]
    },
    {
      "cell_type": "code",
      "metadata": {
        "colab": {
          "base_uri": "https://localhost:8080/"
        },
        "id": "QZ-W2xJZOv7d",
        "outputId": "ed9ad9df-acd4-4ce5-fffd-4b59db3478c1"
      },
      "source": [
        "print((3 > 2 or 1 < 3) and (1!=3 and 4>3) and not ( 3 < 2 or 1 < 3 and (1!=3 and 4>3)))\n",
        "print(3 > 2 or 1 < 3 and (1!=3 and 4>3) and not ( 3 < 2 or 1 < 3 and (1!=3 and 4>3)))"
      ],
      "execution_count": null,
      "outputs": [
        {
          "output_type": "stream",
          "name": "stdout",
          "text": [
            "False\n",
            "True\n"
          ]
        }
      ]
    },
    {
      "cell_type": "code",
      "metadata": {
        "colab": {
          "base_uri": "https://localhost:8080/"
        },
        "id": "H60KrU513wwI",
        "outputId": "72ef01ad-be85-44d5-d9a3-deb04ab5daee"
      },
      "source": [
        "# NUEVO EJEMPLO\n",
        "print((2 > 7 or 9 < 3) and (26!=66 and 7==88) and not ( 9 <= 2 or 2 < 6 and (6==6 and 77>66)))\n",
        "print(2 > 7 or 5 <= 33 and (41!=86 and 7>=99) and not ( 7 == 77 or 87 < 67 and (65!=56 and 4==3)))\n"
      ],
      "execution_count": null,
      "outputs": [
        {
          "output_type": "stream",
          "name": "stdout",
          "text": [
            "False\n",
            "False\n"
          ]
        }
      ]
    },
    {
      "cell_type": "markdown",
      "metadata": {
        "id": "s95xoRYMYaPD"
      },
      "source": [
        "Comparing the above two statements, we can see that it's wise to use brackets when we make a complex logical statement.\n",
        "\n",
        "# If Statement\n",
        "An if statement executes a segment of code only if its condition is true. A standard if statement consists of 3 segments: if, elif and else."
      ]
    },
    {
      "cell_type": "markdown",
      "metadata": {
        "id": "aRzMMitAaBOL"
      },
      "source": [
        "```python\n",
        "if statement1:\n",
        "    # if the statement1 is true, execute the code here.\n",
        "    # code.....\n",
        "    # code.....\n",
        "elif statement2:\n",
        "    # if the statement 1 is false, skip the codes above to this part.\n",
        "    # code......\n",
        "    # code......\n",
        "else:\n",
        "    # if none of the above statements is True, skip to this part\n",
        "    # code......\n",
        "```"
      ]
    },
    {
      "cell_type": "markdown",
      "metadata": {
        "id": "l59R2AS8aH2K"
      },
      "source": [
        "An if statement doesn't necessarily has elif and else part. If it's not specified, the indented block of code will be executed when the condition is true, otherwise the whole if statement will be skipped."
      ]
    },
    {
      "cell_type": "code",
      "metadata": {
        "colab": {
          "base_uri": "https://localhost:8080/"
        },
        "id": "FZ5GoTXfOv7e",
        "outputId": "fa11a980-730f-4de3-dca6-9d34e7d4e475"
      },
      "source": [
        "i = 0\n",
        "if i == 0:\n",
        "    print('i==0 is True')"
      ],
      "execution_count": null,
      "outputs": [
        {
          "output_type": "stream",
          "name": "stdout",
          "text": [
            "i==0 is True\n"
          ]
        }
      ]
    },
    {
      "cell_type": "code",
      "metadata": {
        "colab": {
          "base_uri": "https://localhost:8080/"
        },
        "id": "cfVIy39V4G04",
        "outputId": "29e7376d-7322-42e1-9c4b-3898ccdcc923"
      },
      "source": [
        "# NUEVO EJEMPLO\n",
        "i = 454554\n",
        "if i != 8998:\n",
        "    print('454554!=8998 is True')"
      ],
      "execution_count": null,
      "outputs": [
        {
          "output_type": "stream",
          "name": "stdout",
          "text": [
            "454554!=8998 is True\n"
          ]
        }
      ]
    },
    {
      "cell_type": "markdown",
      "metadata": {
        "id": "nPNW-l5eaJn8"
      },
      "source": [
        "As we mentioned above, we can write some complex statements here:"
      ]
    },
    {
      "cell_type": "code",
      "metadata": {
        "colab": {
          "base_uri": "https://localhost:8080/"
        },
        "id": "gh-U6nMzOv7e",
        "outputId": "f4dc9b38-f208-45e7-f5fd-0e1777fcb7bc"
      },
      "source": [
        "p = 1 > 0\n",
        "q = 2 > 3\n",
        "if p and q:\n",
        "    print('p and q is true')\n",
        "elif p and not q:\n",
        "    print('q is false')\n",
        "elif q and not p:\n",
        "    print('p is false')\n",
        "else:\n",
        "    print('None of p and q is true')"
      ],
      "execution_count": null,
      "outputs": [
        {
          "output_type": "stream",
          "name": "stdout",
          "text": [
            "q is false\n"
          ]
        }
      ]
    },
    {
      "cell_type": "code",
      "metadata": {
        "colab": {
          "base_uri": "https://localhost:8080/"
        },
        "id": "g4MDEW2V4T3o",
        "outputId": "c2bd3b8b-8827-4519-d2d8-ab68f85460c2"
      },
      "source": [
        "# EJEMPLO PROPIO\n",
        "p = 4554 < 4554\n",
        "q = 45 < 35\n",
        "if p and q:\n",
        "    print('p and q is true')\n",
        "elif p and not q:\n",
        "    print('q is false')\n",
        "elif q and not p:\n",
        "    print('p is false')\n",
        "else:\n",
        "    print('None of p and q is true')"
      ],
      "execution_count": null,
      "outputs": [
        {
          "output_type": "stream",
          "name": "stdout",
          "text": [
            "None of p and q is true\n"
          ]
        }
      ]
    },
    {
      "cell_type": "markdown",
      "metadata": {
        "id": "tgRDwiAsaMOL"
      },
      "source": [
        "# Loop Structure\n",
        "Loops are an essential part of programming. The \"for\" and \"while\" loops run a block of code repeatedly.\n",
        "\n",
        "## While Loop\n",
        "A \"while\" loop will run repeatedly until a certain condition has been met."
      ]
    },
    {
      "cell_type": "code",
      "metadata": {
        "colab": {
          "base_uri": "https://localhost:8080/"
        },
        "id": "uQLau8d5Ov7f",
        "outputId": "ab5a210a-7b58-40b2-e882-1618db993d0f"
      },
      "source": [
        "i = 0\n",
        "while i < 5:\n",
        "    print(i)\n",
        "    i += 1 "
      ],
      "execution_count": null,
      "outputs": [
        {
          "output_type": "stream",
          "name": "stdout",
          "text": [
            "0\n",
            "1\n",
            "2\n",
            "3\n",
            "4\n"
          ]
        }
      ]
    },
    {
      "cell_type": "code",
      "metadata": {
        "colab": {
          "base_uri": "https://localhost:8080/"
        },
        "id": "ekt0wgEx4cCv",
        "outputId": "de5f6381-e234-4ad9-9527-3ab73046da1f"
      },
      "source": [
        "# NUEVO EJEMPLO\n",
        "a = 20000\n",
        "while a <= 80000:\n",
        "    print(a)\n",
        "    a += 20000"
      ],
      "execution_count": null,
      "outputs": [
        {
          "output_type": "stream",
          "name": "stdout",
          "text": [
            "20000\n",
            "40000\n",
            "60000\n",
            "80000\n"
          ]
        }
      ]
    },
    {
      "cell_type": "markdown",
      "metadata": {
        "id": "ydLddFAPaTOE"
      },
      "source": [
        "When making a while loop, we need to ensure that something changes from iteration to iteration so that the while loop will terminate, otherwise, it will run forever. Here we used i += 1 (short for i = i + 1) to make i larger after each iteration. This is the most commonly used method to control a while loop.\n",
        "\n",
        "## For Loop\n",
        "A \"for\" loop will iterate over a sequence of value and terminate when the sequence has ended."
      ]
    },
    {
      "cell_type": "code",
      "metadata": {
        "colab": {
          "base_uri": "https://localhost:8080/"
        },
        "id": "kt8Ie8u1Ov7f",
        "outputId": "79ef31a8-fb49-4d88-f731-6eabc074dc27"
      },
      "source": [
        "for i in [1,2,3,4,5]:\n",
        "    print(i)"
      ],
      "execution_count": null,
      "outputs": [
        {
          "output_type": "stream",
          "name": "stdout",
          "text": [
            "1\n",
            "2\n",
            "3\n",
            "4\n",
            "5\n"
          ]
        }
      ]
    },
    {
      "cell_type": "code",
      "metadata": {
        "colab": {
          "base_uri": "https://localhost:8080/"
        },
        "id": "gkzZ_i4a4p1o",
        "outputId": "93e6124a-57be-43bb-9398-a94020569cc9"
      },
      "source": [
        "# NUEVO EJEMPLO\n",
        "for a in [34,34,5545,45455,6776767]:\n",
        "    print(a)"
      ],
      "execution_count": null,
      "outputs": [
        {
          "output_type": "stream",
          "name": "stdout",
          "text": [
            "34\n",
            "34\n",
            "5545\n",
            "45455\n",
            "6776767\n"
          ]
        }
      ]
    },
    {
      "cell_type": "markdown",
      "metadata": {
        "id": "yWStqpreaX-T"
      },
      "source": [
        "We can also add if statements in a for loop. Here is a real example from our pairs trading algorithm:"
      ]
    },
    {
      "cell_type": "code",
      "metadata": {
        "colab": {
          "base_uri": "https://localhost:8080/"
        },
        "id": "kElmffvFOv7f",
        "outputId": "7936593c-36cf-48b9-f897-45395db18733"
      },
      "source": [
        "stocks = ['AAPL','GOOG','IBM','FB','F','V', 'G', 'GE']\n",
        "selected = ['AAPL','IBM']\n",
        "new_list = []\n",
        "for i in stocks:\n",
        "    if i not in selected:\n",
        "        new_list.append(i)\n",
        "print(stocks)"
      ],
      "execution_count": null,
      "outputs": [
        {
          "output_type": "stream",
          "name": "stdout",
          "text": [
            "['AAPL', 'GOOG', 'IBM', 'FB', 'F', 'V', 'G', 'GE']\n"
          ]
        }
      ]
    },
    {
      "cell_type": "code",
      "metadata": {
        "colab": {
          "base_uri": "https://localhost:8080/"
        },
        "id": "YKtzfbi740Av",
        "outputId": "ee714c1e-85e5-40a9-a28a-e1479f376244"
      },
      "source": [
        "# NUEVO EJEMPLO\n",
        "phrase = 'asta es una frasa can a'\n",
        "selected = ['a']\n",
        "newList = []\n",
        "for a in phrase:\n",
        "    if (a in selected):\n",
        "        newList.append(a)\n",
        "print(newList)"
      ],
      "execution_count": null,
      "outputs": [
        {
          "output_type": "stream",
          "name": "stdout",
          "text": [
            "['a', 'a', 'a', 'a', 'a', 'a', 'a']\n"
          ]
        }
      ]
    },
    {
      "cell_type": "markdown",
      "metadata": {
        "id": "wb2hry9dahE0"
      },
      "source": [
        "Here we iterated all the elements in the list 'stocks'. Later in this chapter, we will introduce a smarter way to do this, which is just a one-line code.\n",
        "\n",
        "## Break and continue\n",
        "These are two commonly used commands in a for loop. If \"break\" is triggered while a loop is executing, the loop will terminate immediately:"
      ]
    },
    {
      "cell_type": "code",
      "metadata": {
        "colab": {
          "base_uri": "https://localhost:8080/"
        },
        "id": "yF5wMVItOv7g",
        "outputId": "bb4c6873-0dee-49f5-8ff3-a8615ae8f577"
      },
      "source": [
        "stocks = ['AAPL','GOOG','IBM','FB','F','V', 'G', 'GE']\n",
        "for i in stocks:\n",
        "    print(i)\n",
        "    if i == 'FB':\n",
        "        break"
      ],
      "execution_count": null,
      "outputs": [
        {
          "output_type": "stream",
          "name": "stdout",
          "text": [
            "AAPL\n",
            "GOOG\n",
            "IBM\n",
            "FB\n"
          ]
        }
      ]
    },
    {
      "cell_type": "code",
      "metadata": {
        "colab": {
          "base_uri": "https://localhost:8080/"
        },
        "id": "3XF_yTYj5Y8k",
        "outputId": "f0621f17-76e4-449f-a750-0888819a2981"
      },
      "source": [
        "# NUEVO EJEMPLO\n",
        "let = ['a', 'b', 'c', 'd', 'e' , 'e']\n",
        "for l in let:\n",
        "    print(l)\n",
        "    if (l=='d'):\n",
        "        break"
      ],
      "execution_count": null,
      "outputs": [
        {
          "output_type": "stream",
          "name": "stdout",
          "text": [
            "a\n",
            "b\n",
            "c\n",
            "d\n"
          ]
        }
      ]
    },
    {
      "cell_type": "markdown",
      "metadata": {
        "id": "R0toxyp3ao0T"
      },
      "source": [
        "The \"continue\" command tells the loop to end this iteration and skip to the next iteration:"
      ]
    },
    {
      "cell_type": "code",
      "metadata": {
        "colab": {
          "base_uri": "https://localhost:8080/"
        },
        "id": "Stg-CH6IOv7g",
        "outputId": "c9022cff-baf0-40dd-d34b-11c1c57abd83"
      },
      "source": [
        "stocks = ['AAPL','GOOG','IBM','FB','F','V', 'G', 'GE']\n",
        "for i in stocks:\n",
        "    if i == 'FB':\n",
        "        continue\n",
        "    print(i)"
      ],
      "execution_count": null,
      "outputs": [
        {
          "output_type": "stream",
          "name": "stdout",
          "text": [
            "AAPL\n",
            "GOOG\n",
            "IBM\n",
            "F\n",
            "V\n",
            "G\n",
            "GE\n"
          ]
        }
      ]
    },
    {
      "cell_type": "code",
      "metadata": {
        "colab": {
          "base_uri": "https://localhost:8080/"
        },
        "id": "cjxZOqsA5jnH",
        "outputId": "d4c9bef2-4c78-420a-e684-2382c14873fa"
      },
      "source": [
        "# NUEVO EJEMPLO\n",
        "let = ['a', 'd', 'c', 'd', 'e' , 'd']\n",
        "for l in let:\n",
        "    if l == 'd':\n",
        "        continue\n",
        "    print(l)"
      ],
      "execution_count": null,
      "outputs": [
        {
          "output_type": "stream",
          "name": "stdout",
          "text": [
            "a\n",
            "c\n",
            "e\n"
          ]
        }
      ]
    },
    {
      "cell_type": "markdown",
      "metadata": {
        "id": "4NusvdhBaxpZ"
      },
      "source": [
        "# List Comprehension\n",
        "List comprehension is a Pythonic way to create lists. Common applications are to make new lists where each element is the result of some operations applied to each member of another sequence. For example, if we want to create a list of squares using for loop:"
      ]
    },
    {
      "cell_type": "code",
      "metadata": {
        "colab": {
          "base_uri": "https://localhost:8080/"
        },
        "id": "bdxxeOABOv7h",
        "outputId": "7dc6ecd2-3ff7-4a97-f290-50c59ce67b1a"
      },
      "source": [
        "squares = []\n",
        "for i in [1,2,3,4,5]:\n",
        "    squares.append(i**2)\n",
        "print(squares)"
      ],
      "execution_count": null,
      "outputs": [
        {
          "output_type": "stream",
          "name": "stdout",
          "text": [
            "[1, 4, 9, 16, 25]\n"
          ]
        }
      ]
    },
    {
      "cell_type": "code",
      "metadata": {
        "colab": {
          "base_uri": "https://localhost:8080/"
        },
        "id": "a3QrPnAK51Kv",
        "outputId": "586f1491-899e-4890-95ab-2bc6fdc2bbb0"
      },
      "source": [
        "# NUEVO EJEMPLO\n",
        "cubes = []\n",
        "for i in [60,70,80,90]:\n",
        "    cubes.append(i**3)\n",
        "print(cubes)"
      ],
      "execution_count": null,
      "outputs": [
        {
          "output_type": "stream",
          "name": "stdout",
          "text": [
            "[216000, 343000, 512000, 729000]\n"
          ]
        }
      ]
    },
    {
      "cell_type": "markdown",
      "metadata": {
        "id": "--KliJBOa1CC"
      },
      "source": [
        "Using list comprehension:"
      ]
    },
    {
      "cell_type": "code",
      "metadata": {
        "colab": {
          "base_uri": "https://localhost:8080/"
        },
        "id": "440-yjG8Ov7h",
        "outputId": "c16fd19a-9ac3-4829-a8e6-f6246560db11"
      },
      "source": [
        "qList = [1,2,3,4,5]\n",
        "squares = [x**2 for x in qList]\n",
        "print(squares)"
      ],
      "execution_count": null,
      "outputs": [
        {
          "output_type": "stream",
          "name": "stdout",
          "text": [
            "[1, 4, 9, 16, 25]\n"
          ]
        }
      ]
    },
    {
      "cell_type": "code",
      "metadata": {
        "colab": {
          "base_uri": "https://localhost:8080/"
        },
        "id": "AVWxQNUU5_Tf",
        "outputId": "8a59332e-d40b-4a1b-806a-a93c562d9a9f"
      },
      "source": [
        "# NUEVO EJEMPLO\n",
        "List = [56,87,37,89,23]\n",
        "cubes = [x**3 for x in List]\n",
        "print(cubes)"
      ],
      "execution_count": null,
      "outputs": [
        {
          "output_type": "stream",
          "name": "stdout",
          "text": [
            "[175616, 658503, 50653, 704969, 12167]\n"
          ]
        }
      ]
    },
    {
      "cell_type": "markdown",
      "metadata": {
        "id": "uMuCfR3ya3zT"
      },
      "source": [
        "Recall the example above where we used a for loop to select stocks. Here we use list comprehension:"
      ]
    },
    {
      "cell_type": "code",
      "metadata": {
        "colab": {
          "base_uri": "https://localhost:8080/"
        },
        "id": "ZGtCtog2Ov7h",
        "outputId": "dc32df1a-ca7d-4709-927b-aa9fb48e9a76"
      },
      "source": [
        "stocks = ['AAPL','GOOG','IBM','FB','F','V', 'G', 'GE']\n",
        "selected = ['AAPL','IBM']\n",
        "new_list = [x for x in stocks if x in selected]\n",
        "print(new_list)"
      ],
      "execution_count": null,
      "outputs": [
        {
          "output_type": "stream",
          "name": "stdout",
          "text": [
            "['AAPL', 'IBM']\n"
          ]
        }
      ]
    },
    {
      "cell_type": "code",
      "metadata": {
        "colab": {
          "base_uri": "https://localhost:8080/"
        },
        "id": "2U3azECk6Ky_",
        "outputId": "9e08379d-80a6-4392-e10b-541ffbf853a5"
      },
      "source": [
        "# NUEVO EJEMPLO\n",
        "listl = [56561652,656563,5678874,50990,788778,3434,56776,67,4,5,4,5,4]\n",
        "selected = [5,56561652]\n",
        "List = [x for x in listl if x in selected]\n",
        "print(List)"
      ],
      "execution_count": null,
      "outputs": [
        {
          "output_type": "stream",
          "name": "stdout",
          "text": [
            "[56561652, 5, 5]\n"
          ]
        }
      ]
    },
    {
      "cell_type": "markdown",
      "metadata": {
        "id": "EPeUv6Lia5oD"
      },
      "source": [
        "A list comprehension consists of square brackets containing an expression followed by a \"for\" clause, and possibly \"for\" or \"if\" clauses. For example:"
      ]
    },
    {
      "cell_type": "code",
      "metadata": {
        "colab": {
          "base_uri": "https://localhost:8080/"
        },
        "id": "O1AMB5d7Ov7i",
        "outputId": "3c05bc28-0d4c-4fe9-b907-469a37bdfe1e"
      },
      "source": [
        "print( [(x, y) for x in [1,2,3] for y in [3,1,4] if x != y] )\n",
        "print( [str(x)+' vs '+str(y) for x in ['AAPL','GOOG','IBM','FB'] for y in ['F','V','G','GE'] if x!=y] )"
      ],
      "execution_count": null,
      "outputs": [
        {
          "output_type": "stream",
          "name": "stdout",
          "text": [
            "[(1, 3), (1, 4), (2, 3), (2, 1), (2, 4), (3, 1), (3, 4)]\n",
            "['AAPL vs F', 'AAPL vs V', 'AAPL vs G', 'AAPL vs GE', 'GOOG vs F', 'GOOG vs V', 'GOOG vs G', 'GOOG vs GE', 'IBM vs F', 'IBM vs V', 'IBM vs G', 'IBM vs GE', 'FB vs F', 'FB vs V', 'FB vs G', 'FB vs GE']\n"
          ]
        }
      ]
    },
    {
      "cell_type": "code",
      "metadata": {
        "colab": {
          "base_uri": "https://localhost:8080/"
        },
        "id": "bDd_oFyV6aTc",
        "outputId": "fd284897-2253-43ad-8f74-428226634162"
      },
      "source": [
        "# NUEVO EJEMPLO\n",
        "print( [(x, y) for x in [56,65,89,76] for y in [79,80,70] if x != y] )\n",
        "print( [str(x)+' vs '+str(y) for x in ['Homero','Bart','Maggie'] for y in ['Lisa','Marge'] if x!=y] )"
      ],
      "execution_count": null,
      "outputs": [
        {
          "output_type": "stream",
          "name": "stdout",
          "text": [
            "[(56, 79), (56, 80), (56, 70), (65, 79), (65, 80), (65, 70), (89, 79), (89, 80), (89, 70), (76, 79), (76, 80), (76, 70)]\n",
            "['Homero vs Lisa', 'Homero vs Marge', 'Bart vs Lisa', 'Bart vs Marge', 'Maggie vs Lisa', 'Maggie vs Marge']\n"
          ]
        }
      ]
    },
    {
      "cell_type": "markdown",
      "metadata": {
        "id": "jJpvq-o4a8P7"
      },
      "source": [
        "List comprehension is an elegant way to organize one or more for loops when creating a list.\n",
        "\n",
        "# Summary\n",
        "This chapter has introduced logical operations, loops, and list comprehension. In the next chapter, we will introduce functions and object-oriented programming, which will enable us to make our codes clean and versatile."
      ]
    },
    {
      "cell_type": "markdown",
      "metadata": {
        "id": "Tef_X2wJbdhn"
      },
      "source": [
        "<div align=\"center\">\n",
        "<img style=\"display: block; margin: auto;\" alt=\"photo\" src=\"https://cdn.quantconnect.com/web/i/icon.png\">\n",
        "\n",
        "Quantconnect\n",
        "\n",
        "Introduction to Financial Python\n",
        "</div>\n",
        "\n",
        "# 03 Functions and Objective-Oriented Programming\n",
        "\n",
        "# Introduction\n",
        "\n",
        "In the last tutorial we introduced logical operations, loops and list comprehension. We will introduce functions and object-oriented programming in this chapter, which will enable us to build complex algorithms in more flexible ways.\n",
        "\n",
        "# Functions\n",
        "A function is a reusable block of code. We can use a function to output a value, or do anything else we want. We can easily define our own function by using the keyword \"def\"."
      ]
    },
    {
      "cell_type": "code",
      "metadata": {
        "colab": {
          "base_uri": "https://localhost:8080/"
        },
        "id": "eE_NkTiSO2PO",
        "outputId": "74a5c4f8-f995-4d1a-87f6-393ea8fb0d82"
      },
      "source": [
        "def product(x,y):\n",
        "    return x*y\n",
        "print(product(2,3))\n",
        "print(product(5,10))"
      ],
      "execution_count": null,
      "outputs": [
        {
          "output_type": "stream",
          "name": "stdout",
          "text": [
            "6\n",
            "50\n"
          ]
        }
      ]
    },
    {
      "cell_type": "code",
      "metadata": {
        "colab": {
          "base_uri": "https://localhost:8080/"
        },
        "id": "JO9WUzt67I7v",
        "outputId": "c59b6cef-7b44-42c4-eea3-e4250b2c02a4"
      },
      "source": [
        "# NUEVO EJEMPLO\n",
        "def exp(x, y):\n",
        "    return x**y\n",
        "print(exp(3,652))\n",
        "print(exp(652,3))"
      ],
      "execution_count": null,
      "outputs": [
        {
          "output_type": "stream",
          "name": "stdout",
          "text": [
            "121076003492901667573267968125980016188898839067718471997699955241683451306283571774920131396844356544079662099235043147847722595314846965876005300920589709105128845091602123324245611834757869947673772714174871140798776319582956127020842821566458384804725340205083949783522264140364949242312918568818649459744241\n",
            "277167808\n"
          ]
        }
      ]
    },
    {
      "cell_type": "markdown",
      "metadata": {
        "id": "4oRU_dVJbsdD"
      },
      "source": [
        "The keyword \"def\" is followed by the function name and the parenthesized list of formal parameters. The statements that form the body of the function start at the next line, and must be indented. The product() function above has \"x\" and \"y\" as its parameters. A function doesn't necessarily have parameters:"
      ]
    },
    {
      "cell_type": "code",
      "metadata": {
        "colab": {
          "base_uri": "https://localhost:8080/"
        },
        "id": "JhdWVLbUO2PQ",
        "outputId": "1325b72c-5f20-4237-e2fe-ba33a583a097"
      },
      "source": [
        "def say_hi():\n",
        "    print('Welcome to QuantConnect')\n",
        "say_hi()"
      ],
      "execution_count": null,
      "outputs": [
        {
          "output_type": "stream",
          "name": "stdout",
          "text": [
            "Welcome to QuantConnect\n"
          ]
        }
      ]
    },
    {
      "cell_type": "code",
      "metadata": {
        "colab": {
          "base_uri": "https://localhost:8080/"
        },
        "id": "EHS-2TbG7YH2",
        "outputId": "d8825068-4635-490f-b727-1a758e0082e5"
      },
      "source": [
        "# NUEVO EJEMPLO\n",
        "def hola(): print('hola compañero')\n",
        "hola()"
      ],
      "execution_count": null,
      "outputs": [
        {
          "output_type": "stream",
          "name": "stdout",
          "text": [
            "hola compañero\n"
          ]
        }
      ]
    },
    {
      "cell_type": "markdown",
      "metadata": {
        "id": "lHwqVpWVb1Jr"
      },
      "source": [
        "# Built-in Function\n",
        "**range()** is a function that creates a list containing an arithmetic sequence. It's often used in for loops. The arguments must be integers. If the \"step\" argument is omitted, it defaults to 1."
      ]
    },
    {
      "cell_type": "code",
      "metadata": {
        "colab": {
          "base_uri": "https://localhost:8080/"
        },
        "id": "VVOTELcIO2PQ",
        "outputId": "4c231845-2866-4f78-dd2c-fe58b2984a6b"
      },
      "source": [
        "print(range(10))\n",
        "print(range(1,11))\n",
        "print(range(1,11,2))"
      ],
      "execution_count": null,
      "outputs": [
        {
          "output_type": "stream",
          "name": "stdout",
          "text": [
            "range(0, 10)\n",
            "range(1, 11)\n",
            "range(1, 11, 2)\n"
          ]
        }
      ]
    },
    {
      "cell_type": "code",
      "metadata": {
        "colab": {
          "base_uri": "https://localhost:8080/"
        },
        "id": "za9y09vj7e-O",
        "outputId": "7e24c6a2-9230-44ca-8fae-c02c341cc87d"
      },
      "source": [
        "# NUEVO EJEMPLO\n",
        "print( (range(6767)) )\n",
        "print( (range(10,5000000)) )\n",
        "print( (range(20,700,2)))"
      ],
      "execution_count": null,
      "outputs": [
        {
          "output_type": "stream",
          "name": "stdout",
          "text": [
            "range(0, 6767)\n",
            "range(10, 5000000)\n",
            "range(20, 700, 2)\n"
          ]
        }
      ]
    },
    {
      "cell_type": "markdown",
      "metadata": {
        "id": "PD0cSgiwcQ4L"
      },
      "source": [
        "**len()** is another function used together with range() to create a for loop. This function returns the length of an object. The argument must be a sequence or a collection."
      ]
    },
    {
      "cell_type": "code",
      "metadata": {
        "colab": {
          "base_uri": "https://localhost:8080/"
        },
        "id": "Hg18c7v-O2PR",
        "outputId": "c298957f-a809-419b-9297-1fced5b3bd3a"
      },
      "source": [
        "tickers = ['AAPL','GOOG','IBM','FB','F','V', 'G', 'GE']\n",
        "print('The length of tickers is {}'.format(len(tickers)))\n",
        "for i in range(len(tickers)):\n",
        "    print(tickers[i])"
      ],
      "execution_count": null,
      "outputs": [
        {
          "output_type": "stream",
          "name": "stdout",
          "text": [
            "The length of tickers is 8\n",
            "AAPL\n",
            "GOOG\n",
            "IBM\n",
            "FB\n",
            "F\n",
            "V\n",
            "G\n",
            "GE\n"
          ]
        }
      ]
    },
    {
      "cell_type": "code",
      "metadata": {
        "colab": {
          "base_uri": "https://localhost:8080/"
        },
        "id": "2eBVYU6U7t1m",
        "outputId": "5bfc211e-e28a-43ab-a345-20bdfcc0e799"
      },
      "source": [
        "# NUEVO EJEMPLO\n",
        "listl = ['a','b','c','d','e','f','g']\n",
        "\n",
        "print('Longitud de la lista es :', len(listl))\n",
        "print('Lista:', listl)"
      ],
      "execution_count": null,
      "outputs": [
        {
          "output_type": "stream",
          "name": "stdout",
          "text": [
            "Longitud de la lista es : 7\n",
            "Lista: ['a', 'b', 'c', 'd', 'e', 'f', 'g']\n"
          ]
        }
      ]
    },
    {
      "cell_type": "markdown",
      "metadata": {
        "id": "OIQSuub1cWgi"
      },
      "source": [
        "Note: If you want to print only the tickers without those numbers, then simply write \"for ticker in tickers: print ticker\"\n",
        "\n",
        "**map(**) is a function that applies a specific function to every item of a sequence or collection, and returns a list of the results."
      ]
    },
    {
      "cell_type": "code",
      "metadata": {
        "colab": {
          "base_uri": "https://localhost:8080/"
        },
        "id": "78DyKVOyO2PR",
        "outputId": "34addeaa-68f3-4e61-d529-68de8b65d408"
      },
      "source": [
        "\n",
        "for tickers in map(len,['AAPL','GOOG','IBM','FB','F','V', 'G', 'GE']):\n",
        "    print( tickers )\n"
      ],
      "execution_count": null,
      "outputs": [
        {
          "output_type": "stream",
          "name": "stdout",
          "text": [
            "4\n",
            "4\n",
            "3\n",
            "2\n",
            "1\n",
            "1\n",
            "1\n",
            "2\n"
          ]
        }
      ]
    },
    {
      "cell_type": "code",
      "metadata": {
        "colab": {
          "base_uri": "https://localhost:8080/"
        },
        "id": "Rd1kiQ0l77i2",
        "outputId": "cbe92d77-33d0-4164-a72c-0369aa101c52"
      },
      "source": [
        "# NUEVO EJEMPLO\n",
        "for ej  in map(len,['a','bb','ccc','dddd','eeeee','dddddd']):\n",
        "    print( ej )\n"
      ],
      "execution_count": null,
      "outputs": [
        {
          "output_type": "stream",
          "name": "stdout",
          "text": [
            "1\n",
            "2\n",
            "3\n",
            "4\n",
            "5\n",
            "6\n"
          ]
        }
      ]
    },
    {
      "cell_type": "markdown",
      "metadata": {
        "id": "mvr06UM7ca7b"
      },
      "source": [
        "The **lambda operator** is a way to create small anonymous functions. These functions are just needed where they have been created. For example:"
      ]
    },
    {
      "cell_type": "code",
      "metadata": {
        "colab": {
          "base_uri": "https://localhost:8080/"
        },
        "id": "pAEHADYXO2PR",
        "outputId": "3d36edee-42fc-4dc3-9985-f433a470eb64"
      },
      "source": [
        "\n",
        "for sqrt  in map(lambda x: x**2,[0,1,2,3,4,5,6,7,8,9]):\n",
        "    print( sqrt )"
      ],
      "execution_count": null,
      "outputs": [
        {
          "output_type": "stream",
          "name": "stdout",
          "text": [
            "0\n",
            "1\n",
            "4\n",
            "9\n",
            "16\n",
            "25\n",
            "36\n",
            "49\n",
            "64\n",
            "81\n"
          ]
        }
      ]
    },
    {
      "cell_type": "code",
      "metadata": {
        "colab": {
          "base_uri": "https://localhost:8080/"
        },
        "id": "CwYR5s2w8VMm",
        "outputId": "bd60f21a-be25-4560-ba6c-bc59297fa7c3"
      },
      "source": [
        "# NUEVO EJEMPLO\n",
        "for cube  in map(lambda x: x**3,[0,1,2,3,4,5]):\n",
        "    print( cube )"
      ],
      "execution_count": null,
      "outputs": [
        {
          "output_type": "stream",
          "name": "stdout",
          "text": [
            "0\n",
            "1\n",
            "8\n",
            "27\n",
            "64\n",
            "125\n"
          ]
        }
      ]
    },
    {
      "cell_type": "markdown",
      "metadata": {
        "id": "Mgixpxomcj3T"
      },
      "source": [
        "map() can be applied to more than one list. The lists have to have the same length."
      ]
    },
    {
      "cell_type": "code",
      "metadata": {
        "colab": {
          "base_uri": "https://localhost:8080/"
        },
        "id": "HtckhAaJO2PS",
        "outputId": "11bd2588-4d73-4f88-9b0c-c8d0f5ea377b"
      },
      "source": [
        "for sum  in map(lambda x, y: x+y,[1,2,3,4,5],[5,4,3,2,1]):\n",
        "    print( sum )\n"
      ],
      "execution_count": null,
      "outputs": [
        {
          "output_type": "stream",
          "name": "stdout",
          "text": [
            "6\n",
            "6\n",
            "6\n",
            "6\n",
            "6\n"
          ]
        }
      ]
    },
    {
      "cell_type": "code",
      "metadata": {
        "colab": {
          "base_uri": "https://localhost:8080/"
        },
        "id": "vZGjePho8eEX",
        "outputId": "b6b7b545-67ce-49a0-b5eb-6e21f1c05887"
      },
      "source": [
        "# NUEVO EJEMPLO\n",
        "for ej2  in map(lambda x, y: x+'U'+y,['a', 'b'],['c','d']):\n",
        "    print( ej2 )"
      ],
      "execution_count": null,
      "outputs": [
        {
          "output_type": "stream",
          "name": "stdout",
          "text": [
            "aUc\n",
            "bUd\n"
          ]
        }
      ]
    },
    {
      "cell_type": "markdown",
      "metadata": {
        "id": "ZDnMTH-KcklT"
      },
      "source": [
        "**sorted()** takes a list or set and returns a new sorted list"
      ]
    },
    {
      "cell_type": "code",
      "metadata": {
        "colab": {
          "base_uri": "https://localhost:8080/"
        },
        "id": "P0sHUMFWO2PS",
        "outputId": "3d821066-b993-4091-9428-c9b9c83d3691"
      },
      "source": [
        "sorted([5,2,3,4,1])"
      ],
      "execution_count": null,
      "outputs": [
        {
          "output_type": "execute_result",
          "data": {
            "text/plain": [
              "[1, 2, 3, 4, 5]"
            ]
          },
          "metadata": {},
          "execution_count": 98
        }
      ]
    },
    {
      "cell_type": "code",
      "metadata": {
        "colab": {
          "base_uri": "https://localhost:8080/"
        },
        "id": "jSs3Susr8qYP",
        "outputId": "2af78e11-aec2-46df-e450-c0d3f9cd6c04"
      },
      "source": [
        "# NUEVO EJEMPLO\n",
        "sorted( [5,6,5,656,65,8,79,7,34,2,2,3,45,6,7,7,8] )"
      ],
      "execution_count": null,
      "outputs": [
        {
          "output_type": "execute_result",
          "data": {
            "text/plain": [
              "[2, 2, 3, 5, 5, 6, 6, 7, 7, 7, 8, 8, 34, 45, 65, 79, 656]"
            ]
          },
          "metadata": {},
          "execution_count": 99
        }
      ]
    },
    {
      "cell_type": "markdown",
      "metadata": {
        "id": "-N5_EDOFcnsc"
      },
      "source": [
        "We can add a \"key\" parameter to specify a function to be called on each list element prior to making comparisons. For example:"
      ]
    },
    {
      "cell_type": "code",
      "metadata": {
        "colab": {
          "base_uri": "https://localhost:8080/"
        },
        "id": "0i3peZ0bO2PS",
        "outputId": "178eff47-e2e5-43aa-8aaf-080ac9e6f770"
      },
      "source": [
        "price_list = [('AAPL',144.09),('GOOG',911.71),('MSFT',69),('FB',150),('WMT',75.32)]\n",
        "sorted(price_list, key = lambda x: x[1])"
      ],
      "execution_count": null,
      "outputs": [
        {
          "output_type": "execute_result",
          "data": {
            "text/plain": [
              "[('MSFT', 69), ('WMT', 75.32), ('AAPL', 144.09), ('FB', 150), ('GOOG', 911.71)]"
            ]
          },
          "metadata": {},
          "execution_count": 100
        }
      ]
    },
    {
      "cell_type": "code",
      "metadata": {
        "colab": {
          "base_uri": "https://localhost:8080/"
        },
        "id": "Fl75ik3N8xT4",
        "outputId": "3969f766-3b07-43e4-8ae9-18ad95fccc4a"
      },
      "source": [
        "# NUEVO EJEMPLO\n",
        "prices = [ ('pollo', 10000), ('arroz', 4000), ('leche', 3600), ('papa', 800) ]\n",
        "sorted( prices, key=lambda x: x[1] )"
      ],
      "execution_count": null,
      "outputs": [
        {
          "output_type": "execute_result",
          "data": {
            "text/plain": [
              "[('papa', 800), ('leche', 3600), ('arroz', 4000), ('pollo', 10000)]"
            ]
          },
          "metadata": {},
          "execution_count": 101
        }
      ]
    },
    {
      "cell_type": "markdown",
      "metadata": {
        "id": "yun2zptKcxe_"
      },
      "source": [
        "By default the values are sorted by ascending order. We can change it to descending by adding an optional parameter \"reverse'."
      ]
    },
    {
      "cell_type": "code",
      "metadata": {
        "colab": {
          "base_uri": "https://localhost:8080/"
        },
        "id": "dEZqdl94O2PT",
        "outputId": "a343c687-ffad-472d-e6e9-35b7ffa4b7ca"
      },
      "source": [
        "price_list = [('AAPL',144.09),('GOOG',911.71),('MSFT',69),('FB',150),('WMT',75.32)]\n",
        "sorted(price_list, key = lambda x: x[1],reverse = True)"
      ],
      "execution_count": null,
      "outputs": [
        {
          "output_type": "execute_result",
          "data": {
            "text/plain": [
              "[('GOOG', 911.71), ('FB', 150), ('AAPL', 144.09), ('WMT', 75.32), ('MSFT', 69)]"
            ]
          },
          "metadata": {},
          "execution_count": 102
        }
      ]
    },
    {
      "cell_type": "code",
      "metadata": {
        "colab": {
          "base_uri": "https://localhost:8080/"
        },
        "id": "QPNy_jFZ9IsQ",
        "outputId": "f7a36221-4101-4263-d4c2-9ce050f4fc25"
      },
      "source": [
        "# NUEVO EJEMPLO\n",
        "prices = [ ('pollo', 10000), ('arroz', 4000), ('leche', 3600), ('papa', 800), ('maiz', 3000) ]\n",
        "sorted( prices, key=lambda x: x[1],reverse = True,  )"
      ],
      "execution_count": null,
      "outputs": [
        {
          "output_type": "execute_result",
          "data": {
            "text/plain": [
              "[('pollo', 10000),\n",
              " ('arroz', 4000),\n",
              " ('leche', 3600),\n",
              " ('maiz', 3000),\n",
              " ('papa', 800)]"
            ]
          },
          "metadata": {},
          "execution_count": 103
        }
      ]
    },
    {
      "cell_type": "markdown",
      "metadata": {
        "id": "OA2wYAa0c6Dn"
      },
      "source": [
        "Lists also have a function list.sort(). This function takes the same \"key\" and \"reverse\" arguments as sorted(), but it doesn't return a new list."
      ]
    },
    {
      "cell_type": "code",
      "metadata": {
        "colab": {
          "base_uri": "https://localhost:8080/"
        },
        "id": "pG9VQCLnO2PT",
        "outputId": "80394412-84a0-4e9f-c19e-5797899c2d9e"
      },
      "source": [
        "price_list = [('AAPL',144.09),('GOOG',911.71),('MSFT',69),('FB',150),('WMT',75.32)]\n",
        "price_list.sort(key = lambda x: x[1])\n",
        "print(price_list)"
      ],
      "execution_count": null,
      "outputs": [
        {
          "output_type": "stream",
          "name": "stdout",
          "text": [
            "[('MSFT', 69), ('WMT', 75.32), ('AAPL', 144.09), ('FB', 150), ('GOOG', 911.71)]\n"
          ]
        }
      ]
    },
    {
      "cell_type": "code",
      "metadata": {
        "colab": {
          "base_uri": "https://localhost:8080/"
        },
        "id": "-nD7ldbW9OPu",
        "outputId": "a3d02416-3d77-4df0-a691-2bdf23f4752a"
      },
      "source": [
        "# NUEVO EJEMPLO\n",
        "prices = [ ('pollo', 10000), ('arroz', 4000), ('leche', 3600), ('papa', 800), ('maiz', 3000) ]\n",
        "prices.sort(key=lambda x: x[1] )\n",
        "print(prices)"
      ],
      "execution_count": null,
      "outputs": [
        {
          "output_type": "stream",
          "name": "stdout",
          "text": [
            "[('papa', 800), ('maiz', 3000), ('leche', 3600), ('arroz', 4000), ('pollo', 10000)]\n"
          ]
        }
      ]
    },
    {
      "cell_type": "markdown",
      "metadata": {
        "id": "mxljL1W1c_c5"
      },
      "source": [
        "# Object-Oriented Programming\n",
        "Python is an object-oriented programming language. It's important to understand the concept of \"objects\" because almost every kind of data from QuantConnect API is an object.\n",
        "\n",
        "## Class\n",
        "A class is a type of data, just like a string, float, or list. When we create an object of that data type, we call it an instance of a class.\n",
        "\n",
        "In Python, everything is an object - everything is an instance of some class. The data stored inside an object are called attributes, and the functions which are associated with the object are called methods.\n",
        "\n",
        "For example, as mentioned above, a list is an object of the \"list\" class, and it has a method list.sort().\n",
        "\n",
        "We can create our own objects by defining a class. We would do this when it's helpful to group certain functions together. For example, we define a class named \"Stock\" here:"
      ]
    },
    {
      "cell_type": "code",
      "metadata": {
        "id": "zC4Y4PgDO2PT"
      },
      "source": [
        "class stock:\n",
        "    def __init__(self, ticker, open, close, volume):\n",
        "        self.ticker = ticker\n",
        "        self.open = open\n",
        "        self.close = close\n",
        "        self.volume = volume\n",
        "        self.rate_return = float(close)/open - 1\n",
        " \n",
        "    def update(self, open, close):\n",
        "        self.open = open\n",
        "        self.close = close\n",
        "        self.rate_return = float(self.close)/self.open - 1\n",
        " \n",
        "    def print_return(self):\n",
        "        print(self.rate_return)"
      ],
      "execution_count": null,
      "outputs": []
    },
    {
      "cell_type": "code",
      "metadata": {
        "id": "8dtNg_R39YKO"
      },
      "source": [
        "# NUEVO EJEMPLO\n",
        "class Perro:\n",
        "    def __init__(self, nombre, raza):\n",
        "        self.nombre = nombre\n",
        "        self.raza = raza\n",
        "    def getNombre(self):\n",
        "        return self.nombre\n",
        "    def getRaza(self):\n",
        "        return self.raza"
      ],
      "execution_count": null,
      "outputs": []
    },
    {
      "cell_type": "markdown",
      "metadata": {
        "id": "rV06INT5dETi"
      },
      "source": [
        "The \"Stock\" class has attributes \"ticker\", \"open\", \"close\", \"volume\" and \"rate_return\". Inside the class body, the first method is called __init__, which is a special method. When we create a new instance of the class, the __init__ method is immediately executed with all the parameters that we pass to the \"Stock\" object. The purpose of this method is to set up a new \"Stock\" object using data we have provided.\n",
        "\n",
        "Here we create two Stock objects named \"apple\" and \"google\"."
      ]
    },
    {
      "cell_type": "code",
      "metadata": {
        "id": "8tIpNk93O2PU"
      },
      "source": [
        "apple = stock('AAPL', 143.69, 144.09, 20109375)\n",
        "google = stock('GOOG', 898.7, 911.7, 1561616)"
      ],
      "execution_count": null,
      "outputs": []
    },
    {
      "cell_type": "code",
      "metadata": {
        "id": "r2SeiKCs93Eg"
      },
      "source": [
        "# NUEVO EJEMPLO\n",
        "perro1 = Perro('salchi', 'dalmata')\n",
        "perro2 = Perro('motas', 'pincher')"
      ],
      "execution_count": null,
      "outputs": []
    },
    {
      "cell_type": "markdown",
      "metadata": {
        "id": "VxmELNiHdPKS"
      },
      "source": [
        "Stock objects also have two other methods: update() and print_return(). We can access the attribues of a Stock object and call its methods:"
      ]
    },
    {
      "cell_type": "code",
      "metadata": {
        "colab": {
          "base_uri": "https://localhost:8080/"
        },
        "id": "SsiIkmekO2PU",
        "outputId": "ac9f2ea6-8e28-4bfa-fa4f-01e117589b44"
      },
      "source": [
        "apple.ticker\n",
        "google.print_return()\n",
        "google.update(912.8,913.4)\n",
        "google.print_return()"
      ],
      "execution_count": null,
      "outputs": [
        {
          "output_type": "stream",
          "name": "stdout",
          "text": [
            "0.014465338822744034\n",
            "0.0006573181419806673\n"
          ]
        }
      ]
    },
    {
      "cell_type": "code",
      "metadata": {
        "colab": {
          "base_uri": "https://localhost:8080/"
        },
        "id": "7nmB6zia-Brw",
        "outputId": "7115b41b-46be-4a3b-e551-f4dfb12e4a64"
      },
      "source": [
        "# NUEVO EJEMPLO\n",
        "print( perro1.getNombre(), perro1.getRaza() )\n",
        "print( perro2.getNombre(), perro2.getRaza() )"
      ],
      "execution_count": null,
      "outputs": [
        {
          "output_type": "stream",
          "name": "stdout",
          "text": [
            "salchi dalmata\n",
            "motas pincher\n"
          ]
        }
      ]
    },
    {
      "cell_type": "markdown",
      "metadata": {
        "id": "Q8fl7keNdVKF"
      },
      "source": [
        "By calling the update() function, we updated the open and close prices of a stock. Please note that when we use the attributes or call the methods **inside a class**, we need to specify them as self.attribute or self.method(), otherwise Python will deem them as global variables and thus raise an error.\n",
        "\n",
        "We can add an attribute to an object anywhere:"
      ]
    },
    {
      "cell_type": "code",
      "metadata": {
        "colab": {
          "base_uri": "https://localhost:8080/",
          "height": 37
        },
        "id": "rO4OLnqOO2PU",
        "outputId": "eba356a6-3a7c-4442-ed72-a3241f4572c7"
      },
      "source": [
        "apple.ceo = 'Tim Cook'\n",
        "apple.ceo"
      ],
      "execution_count": null,
      "outputs": [
        {
          "output_type": "execute_result",
          "data": {
            "application/vnd.google.colaboratory.intrinsic+json": {
              "type": "string"
            },
            "text/plain": [
              "'Tim Cook'"
            ]
          },
          "metadata": {},
          "execution_count": 112
        }
      ]
    },
    {
      "cell_type": "code",
      "metadata": {
        "id": "-l0ljo0y-Pgu",
        "colab": {
          "base_uri": "https://localhost:8080/"
        },
        "outputId": "dd9f6075-0698-4eab-ffe2-1733ade8f691"
      },
      "source": [
        "# NUEVO EJEMPLO\n",
        "perro1.edad = 4\n",
        "perro1.edad "
      ],
      "execution_count": null,
      "outputs": [
        {
          "output_type": "execute_result",
          "data": {
            "text/plain": [
              "4"
            ]
          },
          "metadata": {},
          "execution_count": 113
        }
      ]
    },
    {
      "cell_type": "markdown",
      "metadata": {
        "id": "WyfnFgVidh4J"
      },
      "source": [
        "We can check what names (i.e. attributes and methods) are defined on an object using the dir() function:"
      ]
    },
    {
      "cell_type": "code",
      "metadata": {
        "colab": {
          "base_uri": "https://localhost:8080/"
        },
        "id": "pPoz0LA8O2PU",
        "outputId": "0c7dec6e-72cb-4e0d-e0e6-6e23e85a39dc"
      },
      "source": [
        "dir(apple)"
      ],
      "execution_count": null,
      "outputs": [
        {
          "output_type": "execute_result",
          "data": {
            "text/plain": [
              "['__class__',\n",
              " '__delattr__',\n",
              " '__dict__',\n",
              " '__dir__',\n",
              " '__doc__',\n",
              " '__eq__',\n",
              " '__format__',\n",
              " '__ge__',\n",
              " '__getattribute__',\n",
              " '__gt__',\n",
              " '__hash__',\n",
              " '__init__',\n",
              " '__init_subclass__',\n",
              " '__le__',\n",
              " '__lt__',\n",
              " '__module__',\n",
              " '__ne__',\n",
              " '__new__',\n",
              " '__reduce__',\n",
              " '__reduce_ex__',\n",
              " '__repr__',\n",
              " '__setattr__',\n",
              " '__sizeof__',\n",
              " '__str__',\n",
              " '__subclasshook__',\n",
              " '__weakref__',\n",
              " 'ceo',\n",
              " 'close',\n",
              " 'open',\n",
              " 'print_return',\n",
              " 'rate_return',\n",
              " 'ticker',\n",
              " 'update',\n",
              " 'volume']"
            ]
          },
          "metadata": {},
          "execution_count": 114
        }
      ]
    },
    {
      "cell_type": "code",
      "metadata": {
        "colab": {
          "base_uri": "https://localhost:8080/"
        },
        "id": "Z_h7ZwAm-W7N",
        "outputId": "e1c73764-92f8-4005-872b-d28d21111a77"
      },
      "source": [
        "# NUEVO EJEMPLO\n",
        "dir(perro1)"
      ],
      "execution_count": null,
      "outputs": [
        {
          "output_type": "execute_result",
          "data": {
            "text/plain": [
              "['__class__',\n",
              " '__delattr__',\n",
              " '__dict__',\n",
              " '__dir__',\n",
              " '__doc__',\n",
              " '__eq__',\n",
              " '__format__',\n",
              " '__ge__',\n",
              " '__getattribute__',\n",
              " '__gt__',\n",
              " '__hash__',\n",
              " '__init__',\n",
              " '__init_subclass__',\n",
              " '__le__',\n",
              " '__lt__',\n",
              " '__module__',\n",
              " '__ne__',\n",
              " '__new__',\n",
              " '__reduce__',\n",
              " '__reduce_ex__',\n",
              " '__repr__',\n",
              " '__setattr__',\n",
              " '__sizeof__',\n",
              " '__str__',\n",
              " '__subclasshook__',\n",
              " '__weakref__',\n",
              " 'edad',\n",
              " 'getNombre',\n",
              " 'getRaza',\n",
              " 'nombre',\n",
              " 'raza']"
            ]
          },
          "metadata": {},
          "execution_count": 115
        }
      ]
    },
    {
      "cell_type": "markdown",
      "metadata": {
        "id": "Qpemj1UZd2aa"
      },
      "source": [
        "## Inheritance\n",
        "Inheritance is a way of arranging classes in a hierarchy from the most general to the most specific. A \"child\" class is a more specific type of a \"parent\" class because a child class will inherit all the attribues and methods of its parent. For example, we define a class named \"Child\" which inherits \"Stock\":"
      ]
    },
    {
      "cell_type": "code",
      "metadata": {
        "id": "UELXnxomO2PV"
      },
      "source": [
        "class child(stock):\n",
        "    def __init__(self,name):\n",
        "        self.name = name"
      ],
      "execution_count": null,
      "outputs": []
    },
    {
      "cell_type": "code",
      "metadata": {
        "colab": {
          "base_uri": "https://localhost:8080/"
        },
        "id": "ffS2THZyO2PV",
        "outputId": "15461ec5-a95c-48f2-9a8f-3e916a26963e"
      },
      "source": [
        "aa = child('aa')\n",
        "print(aa.name)\n",
        "aa.update(100,102)\n",
        "print(aa.open)\n",
        "print(aa.close)\n",
        "print(aa.print_return())"
      ],
      "execution_count": null,
      "outputs": [
        {
          "output_type": "stream",
          "name": "stdout",
          "text": [
            "aa\n",
            "100\n",
            "102\n",
            "0.020000000000000018\n",
            "None\n"
          ]
        }
      ]
    },
    {
      "cell_type": "code",
      "metadata": {
        "id": "ZasD92N4-gwW"
      },
      "source": [
        "# NUEVO EJEMPLO\n",
        "class PerroAdopcion(Perro):\n",
        "    def __init__(self):\n",
        "        self.nombre = 'NombreEnAdopcion'\n",
        "        self.raza = 'RazaEnAdopcion'"
      ],
      "execution_count": null,
      "outputs": []
    },
    {
      "cell_type": "code",
      "metadata": {
        "colab": {
          "base_uri": "https://localhost:8080/"
        },
        "id": "HdCrdgmkLmCW",
        "outputId": "f0f044f3-6ab4-47ee-b712-facfea6d0c4c"
      },
      "source": [
        "# NUEVO EJEMPLO\n",
        "perro3 = PerroAdopcion()\n",
        "print(perro3.getNombre())\n",
        "print(perro3.getRaza())"
      ],
      "execution_count": null,
      "outputs": [
        {
          "output_type": "stream",
          "name": "stdout",
          "text": [
            "NombreEnAdopcion\n",
            "RazaEnAdopcion\n"
          ]
        }
      ]
    },
    {
      "cell_type": "markdown",
      "metadata": {
        "id": "pdIEjUv2eJqL"
      },
      "source": [
        "As seen above, the new class Child has inherited the methods from Stock.\n",
        "\n",
        "#Summary\n",
        "\n",
        "In this chapter we have introduced functions and classes. When we write a QuantConnect algorithm, we would define our algorithm as a class (QCAlgorithm). This means our algorithm inherited the QC API methods from QCAlgorithm class.\n",
        "\n",
        "In the next chapter, we will introduce NumPy and Pandas, which enable us to conduct scientific calculations in Python."
      ]
    },
    {
      "cell_type": "markdown",
      "metadata": {
        "id": "dQbENH6mexTd"
      },
      "source": [
        "<div align=\"center\">\n",
        "<img style=\"display: block; margin: auto;\" alt=\"photo\" src=\"https://cdn.quantconnect.com/web/i/icon.png\">\n",
        "\n",
        "Quantconnect\n",
        "\n",
        "Introduction to Financial Python\n",
        "</div>\n",
        "\n",
        "# 04 NumPy and Basic Pandas\n",
        "\n",
        "# Introduction\n",
        "\n",
        "Now that we have introduced the fundamentals of Python, it's time to learn about NumPy and Pandas.\n",
        "\n",
        "# NumPy\n",
        "NumPy is the core library for scientific computing in Python. It provides a high-performance multidimensional array object, and tools for working with these arrays. It also has strong integration with Pandas, which is another powerful tool for manipulating financial data.\n",
        "\n",
        "Python packages like NumPy and Pandas contain classes and methods which we can use by importing the package:"
      ]
    },
    {
      "cell_type": "code",
      "metadata": {
        "id": "aIESp-rdO58h"
      },
      "source": [
        "import numpy as np"
      ],
      "execution_count": null,
      "outputs": []
    },
    {
      "cell_type": "markdown",
      "metadata": {
        "id": "GScHHJ5ke7ea"
      },
      "source": [
        "## Basic NumPy Arrays\n",
        "A NumPy array is a grid of values, all of the same type, and is indexed by a tuple of nonnegative integers. Here we make an array by passing a list of Apple stock prices:"
      ]
    },
    {
      "cell_type": "code",
      "metadata": {
        "colab": {
          "base_uri": "https://localhost:8080/"
        },
        "id": "lZI1wkwDO58i",
        "outputId": "2032f8fe-4485-4d49-eee7-9996a6d1db31"
      },
      "source": [
        "price_list = [143.73, 145.83, 143.68, 144.02, 143.5, 142.62]\n",
        "price_array = np.array(price_list)\n",
        "print(price_array, type(price_array))"
      ],
      "execution_count": null,
      "outputs": [
        {
          "output_type": "stream",
          "name": "stdout",
          "text": [
            "[143.73 145.83 143.68 144.02 143.5  142.62] <class 'numpy.ndarray'>\n"
          ]
        }
      ]
    },
    {
      "cell_type": "code",
      "metadata": {
        "colab": {
          "base_uri": "https://localhost:8080/"
        },
        "id": "AjURkBQzAXnW",
        "outputId": "4150b0b5-8318-4d2f-a1a2-d1728cc49c8e"
      },
      "source": [
        "# NUEVO EJEMPLO\n",
        "List = [232.0, 443.0, 543.5, 787.0]\n",
        "myNumPyList = np.array( List )\n",
        "print( myNumPyList, type(myNumPyList) )"
      ],
      "execution_count": null,
      "outputs": [
        {
          "output_type": "stream",
          "name": "stdout",
          "text": [
            "[232.  443.  543.5 787. ] <class 'numpy.ndarray'>\n"
          ]
        }
      ]
    },
    {
      "cell_type": "markdown",
      "metadata": {
        "id": "-5Yj6u9ifB-t"
      },
      "source": [
        "Notice that the type of array is \"ndarray\" which is a multi-dimensional array. If we pass np.array() a list of lists, it will create a 2-dimensional array."
      ]
    },
    {
      "cell_type": "code",
      "metadata": {
        "colab": {
          "base_uri": "https://localhost:8080/"
        },
        "id": "obvIZrK-O58j",
        "outputId": "81b393fa-7238-49c2-d092-c0a68985c23e"
      },
      "source": [
        "Ar = np.array([[1,3],[2,4]])\n",
        "print(Ar, type(Ar))"
      ],
      "execution_count": null,
      "outputs": [
        {
          "output_type": "stream",
          "name": "stdout",
          "text": [
            "[[1 3]\n",
            " [2 4]] <class 'numpy.ndarray'>\n"
          ]
        }
      ]
    },
    {
      "cell_type": "code",
      "metadata": {
        "colab": {
          "base_uri": "https://localhost:8080/"
        },
        "id": "XoP7YxpGApiN",
        "outputId": "5d5b5043-5d04-4c8e-eefe-914572293190"
      },
      "source": [
        "# NUEVO EJEMPLO\n",
        "newArr = np.array([ [9, 8], [2, 8] ])\n",
        "print( newArr, type( newArr ) )"
      ],
      "execution_count": null,
      "outputs": [
        {
          "output_type": "stream",
          "name": "stdout",
          "text": [
            "[[9 8]\n",
            " [2 8]] <class 'numpy.ndarray'>\n"
          ]
        }
      ]
    },
    {
      "cell_type": "markdown",
      "metadata": {
        "id": "uDdfLD9HfHkl"
      },
      "source": [
        "We get the dimensions of an ndarray using the .shape attribute:"
      ]
    },
    {
      "cell_type": "code",
      "metadata": {
        "colab": {
          "base_uri": "https://localhost:8080/"
        },
        "id": "G2txdn73O58j",
        "outputId": "09bdc5e7-0670-4c37-f49d-f824460cf8f4"
      },
      "source": [
        "print(Ar.shape)"
      ],
      "execution_count": null,
      "outputs": [
        {
          "output_type": "stream",
          "name": "stdout",
          "text": [
            "(2, 2)\n"
          ]
        }
      ]
    },
    {
      "cell_type": "code",
      "metadata": {
        "colab": {
          "base_uri": "https://localhost:8080/"
        },
        "id": "u1luNAdQA98s",
        "outputId": "561d8997-709c-41b8-e327-dd26af22bb1a"
      },
      "source": [
        "# NUEVO EJEMPLO\n",
        "print( newArr.shape )"
      ],
      "execution_count": null,
      "outputs": [
        {
          "output_type": "stream",
          "name": "stdout",
          "text": [
            "(2, 2)\n"
          ]
        }
      ]
    },
    {
      "cell_type": "markdown",
      "metadata": {
        "id": "87W5ueORfPEy"
      },
      "source": [
        "If we create an 2-dimensional array (i.e. matrix), each row can be accessed by index:"
      ]
    },
    {
      "cell_type": "code",
      "metadata": {
        "colab": {
          "base_uri": "https://localhost:8080/"
        },
        "id": "x_QV9aPbO58j",
        "outputId": "c63e1cb6-d300-41a0-d2a0-947c3025ead0"
      },
      "source": [
        "print(Ar[0])\n",
        "print(Ar[1])"
      ],
      "execution_count": null,
      "outputs": [
        {
          "output_type": "stream",
          "name": "stdout",
          "text": [
            "[1 3]\n",
            "[2 4]\n"
          ]
        }
      ]
    },
    {
      "cell_type": "code",
      "metadata": {
        "colab": {
          "base_uri": "https://localhost:8080/"
        },
        "id": "1gyy8w8bBHKl",
        "outputId": "293503ca-7d97-4c00-936b-26fad641fee4"
      },
      "source": [
        "# NUEVO EJEMPLO\n",
        "print( newArr[0] )\n",
        "print( newArr[1] )"
      ],
      "execution_count": null,
      "outputs": [
        {
          "output_type": "stream",
          "name": "stdout",
          "text": [
            "[9 8]\n",
            "[2 8]\n"
          ]
        }
      ]
    },
    {
      "cell_type": "markdown",
      "metadata": {
        "id": "5Hke7Vt-fSGB"
      },
      "source": [
        "If we want to access the matrix by column instead:"
      ]
    },
    {
      "cell_type": "code",
      "metadata": {
        "colab": {
          "base_uri": "https://localhost:8080/"
        },
        "id": "gHVwbPfOO58j",
        "outputId": "f634ea63-d8df-40aa-bd99-604994164ef4"
      },
      "source": [
        "print('the first column: ', Ar[:,0])\n",
        "print('the second column: ', Ar[:,1])"
      ],
      "execution_count": null,
      "outputs": [
        {
          "output_type": "stream",
          "name": "stdout",
          "text": [
            "the first column:  [1 2]\n",
            "the second column:  [3 4]\n"
          ]
        }
      ]
    },
    {
      "cell_type": "code",
      "metadata": {
        "colab": {
          "base_uri": "https://localhost:8080/"
        },
        "id": "ApReOyRgBQuu",
        "outputId": "942cf9f6-47f6-4442-c72f-aa476e2206a6"
      },
      "source": [
        "# NUEVO EJEMPLO\n",
        "print('Columna uno: ', newArr[:,0])\n",
        "print('Columna dos: ', newArr[:,1])"
      ],
      "execution_count": null,
      "outputs": [
        {
          "output_type": "stream",
          "name": "stdout",
          "text": [
            "Columna uno:  [9 2]\n",
            "Columna dos:  [8 8]\n"
          ]
        }
      ]
    },
    {
      "cell_type": "markdown",
      "metadata": {
        "id": "T61cD0HMfStB"
      },
      "source": [
        "## Array Functions\n",
        "Some functions built in NumPy that allow us to perform calculations on arrays. For example, we can apply the natural logarithm to each element of an array:"
      ]
    },
    {
      "cell_type": "code",
      "metadata": {
        "colab": {
          "base_uri": "https://localhost:8080/"
        },
        "id": "PKhwtJ7XO58k",
        "outputId": "4bc28473-a1e6-4c0a-c642-4646d4b0a22f"
      },
      "source": [
        "print(np.log(price_array))"
      ],
      "execution_count": null,
      "outputs": [
        {
          "output_type": "stream",
          "name": "stdout",
          "text": [
            "[4.96793654 4.98244156 4.9675886  4.96995218 4.96633504 4.96018375]\n"
          ]
        }
      ]
    },
    {
      "cell_type": "code",
      "metadata": {
        "colab": {
          "base_uri": "https://localhost:8080/"
        },
        "id": "5tKoeKIoBfv9",
        "outputId": "e682fbee-1e42-4e37-b29f-bd6efa5afcd9"
      },
      "source": [
        "# # NUEVO EJEMPLO\n",
        "print( np.log( List ) )"
      ],
      "execution_count": null,
      "outputs": [
        {
          "output_type": "stream",
          "name": "stdout",
          "text": [
            "[5.44673737 6.09356977 6.29802971 6.66822825]\n"
          ]
        }
      ]
    },
    {
      "cell_type": "markdown",
      "metadata": {
        "id": "uzjBRFBLfZ-D"
      },
      "source": [
        "Other functions return a single value:"
      ]
    },
    {
      "cell_type": "code",
      "metadata": {
        "colab": {
          "base_uri": "https://localhost:8080/"
        },
        "id": "nQuABZqUO58k",
        "outputId": "9f7b1e99-44d8-4ae8-f80f-8fed16ceafee"
      },
      "source": [
        "print(np.mean(price_array))\n",
        "print(np.std(price_array))\n",
        "print(np.sum(price_array))\n",
        "print(np.max(price_array))"
      ],
      "execution_count": null,
      "outputs": [
        {
          "output_type": "stream",
          "name": "stdout",
          "text": [
            "143.89666666666668\n",
            "0.9673790478515796\n",
            "863.38\n",
            "145.83\n"
          ]
        }
      ]
    },
    {
      "cell_type": "code",
      "metadata": {
        "colab": {
          "base_uri": "https://localhost:8080/"
        },
        "id": "DKbgvQURBwNn",
        "outputId": "5a352b39-bd76-498e-d9c8-98bf836009c2"
      },
      "source": [
        "# NUEVO EJEMPLO\n",
        "print( np.mean(List) )\n",
        "print( np.std(List) )\n",
        "print( np.sum(List) )\n",
        "print( np.max(List) )"
      ],
      "execution_count": null,
      "outputs": [
        {
          "output_type": "stream",
          "name": "stdout",
          "text": [
            "501.375\n",
            "199.5787360291672\n",
            "2005.5\n",
            "787.0\n"
          ]
        }
      ]
    },
    {
      "cell_type": "markdown",
      "metadata": {
        "id": "IRW95BsifgDB"
      },
      "source": [
        "The functions above return the mean, standard deviation, total and maximum value of an array.\n",
        "\n",
        "# Pandas\n",
        "Pandas is one of the most powerful tools for dealing with financial data. \n",
        "\n",
        "First we need to import Pandas:"
      ]
    },
    {
      "cell_type": "code",
      "metadata": {
        "id": "xIYH4oUfO58k"
      },
      "source": [
        "import pandas as pd"
      ],
      "execution_count": null,
      "outputs": []
    },
    {
      "cell_type": "markdown",
      "metadata": {
        "id": "zOig5gORfnJU"
      },
      "source": [
        "## Series\n",
        "Series is a one-dimensional labeled array capable of holding any data type (integers, strings, float, Python object, etc.)\n",
        "\n",
        "We create a Series by calling pd.Series(data), where data can be a dictionary, an array or just a scalar value."
      ]
    },
    {
      "cell_type": "code",
      "metadata": {
        "colab": {
          "base_uri": "https://localhost:8080/"
        },
        "id": "JmzoNzrPO58k",
        "outputId": "4f1c42fb-119f-4a34-c070-28f7acad2d7b"
      },
      "source": [
        "price = [143.73, 145.83, 143.68, 144.02, 143.5, 142.62]\n",
        "s = pd.Series(price)\n",
        "s"
      ],
      "execution_count": null,
      "outputs": [
        {
          "output_type": "execute_result",
          "data": {
            "text/plain": [
              "0    143.73\n",
              "1    145.83\n",
              "2    143.68\n",
              "3    144.02\n",
              "4    143.50\n",
              "5    142.62\n",
              "dtype: float64"
            ]
          },
          "metadata": {},
          "execution_count": 138
        }
      ]
    },
    {
      "cell_type": "code",
      "metadata": {
        "colab": {
          "base_uri": "https://localhost:8080/"
        },
        "id": "tRTdUfsNCCxl",
        "outputId": "6996a929-cdd8-42ee-8edb-0672d226451a"
      },
      "source": [
        "# NUEVO EJEMPLO\n",
        "series = pd.Series( List )\n",
        "print(series)"
      ],
      "execution_count": null,
      "outputs": [
        {
          "output_type": "stream",
          "name": "stdout",
          "text": [
            "0    232.0\n",
            "1    443.0\n",
            "2    543.5\n",
            "3    787.0\n",
            "dtype: float64\n"
          ]
        }
      ]
    },
    {
      "cell_type": "markdown",
      "metadata": {
        "id": "tP5iDnunfq46"
      },
      "source": [
        "We can customize the indices of a new Series:"
      ]
    },
    {
      "cell_type": "code",
      "metadata": {
        "colab": {
          "base_uri": "https://localhost:8080/"
        },
        "id": "eswQC3ZPO58l",
        "outputId": "6363a886-a0e0-461a-dfdf-5eb50c9f229d"
      },
      "source": [
        "s = pd.Series(price,index = ['a','b','c','d','e','f'])\n",
        "s"
      ],
      "execution_count": null,
      "outputs": [
        {
          "output_type": "execute_result",
          "data": {
            "text/plain": [
              "a    143.73\n",
              "b    145.83\n",
              "c    143.68\n",
              "d    144.02\n",
              "e    143.50\n",
              "f    142.62\n",
              "dtype: float64"
            ]
          },
          "metadata": {},
          "execution_count": 142
        }
      ]
    },
    {
      "cell_type": "code",
      "metadata": {
        "colab": {
          "base_uri": "https://localhost:8080/"
        },
        "id": "QWWf6P-SCQi5",
        "outputId": "6c8e212d-5a91-4e2a-b458-110c06750175"
      },
      "source": [
        "# NUEVO EJEMPLO\n",
        "series = pd.Series( List, index=['a','b','c','d'] )\n",
        "print(series)"
      ],
      "execution_count": null,
      "outputs": [
        {
          "output_type": "stream",
          "name": "stdout",
          "text": [
            "a    232.0\n",
            "b    443.0\n",
            "c    543.5\n",
            "d    787.0\n",
            "dtype: float64\n"
          ]
        }
      ]
    },
    {
      "cell_type": "markdown",
      "metadata": {
        "id": "wdZrb8pEfuua"
      },
      "source": [
        "Or we can change the indices of an existing Series:"
      ]
    },
    {
      "cell_type": "code",
      "metadata": {
        "colab": {
          "base_uri": "https://localhost:8080/"
        },
        "id": "MwlRnPF6O58l",
        "outputId": "43477075-d0ed-407d-ed62-0283f7379cb2"
      },
      "source": [
        "s.index = [6,5,4,3,2,1]\n",
        "s"
      ],
      "execution_count": null,
      "outputs": [
        {
          "output_type": "execute_result",
          "data": {
            "text/plain": [
              "6    143.73\n",
              "5    145.83\n",
              "4    143.68\n",
              "3    144.02\n",
              "2    143.50\n",
              "1    142.62\n",
              "dtype: float64"
            ]
          },
          "metadata": {},
          "execution_count": 144
        }
      ]
    },
    {
      "cell_type": "code",
      "metadata": {
        "colab": {
          "base_uri": "https://localhost:8080/"
        },
        "id": "mx9OgtQDCmq9",
        "outputId": "37ec2cf1-2d8d-4b1b-d924-7b130a1dec9d"
      },
      "source": [
        "# NUEVO EJEMPLO\n",
        "series.index = [4,3,2,1]\n",
        "series"
      ],
      "execution_count": null,
      "outputs": [
        {
          "output_type": "execute_result",
          "data": {
            "text/plain": [
              "4    232.0\n",
              "3    443.0\n",
              "2    543.5\n",
              "1    787.0\n",
              "dtype: float64"
            ]
          },
          "metadata": {},
          "execution_count": 145
        }
      ]
    },
    {
      "cell_type": "markdown",
      "metadata": {
        "id": "6cGNQZwLfxIz"
      },
      "source": [
        "Series is like a list since it can be sliced by index:"
      ]
    },
    {
      "cell_type": "code",
      "metadata": {
        "colab": {
          "base_uri": "https://localhost:8080/"
        },
        "id": "N9bBSg6cO58l",
        "outputId": "a5330374-14ad-4db1-9b5f-1f51d97fecb8"
      },
      "source": [
        "print(s[1:])\n",
        "print(s[:-2])"
      ],
      "execution_count": null,
      "outputs": [
        {
          "output_type": "stream",
          "name": "stdout",
          "text": [
            "5    145.83\n",
            "4    143.68\n",
            "3    144.02\n",
            "2    143.50\n",
            "1    142.62\n",
            "dtype: float64\n",
            "6    143.73\n",
            "5    145.83\n",
            "4    143.68\n",
            "3    144.02\n",
            "dtype: float64\n"
          ]
        }
      ]
    },
    {
      "cell_type": "code",
      "metadata": {
        "colab": {
          "base_uri": "https://localhost:8080/"
        },
        "id": "HSTHWwv5C67E",
        "outputId": "c5bf0b51-3d83-4444-a70d-2f08fc61e467"
      },
      "source": [
        "# NUEVO EJEMPLO\n",
        "print(series[3:])\n",
        "print(series[:-1])"
      ],
      "execution_count": null,
      "outputs": [
        {
          "output_type": "stream",
          "name": "stdout",
          "text": [
            "1    787.0\n",
            "dtype: float64\n",
            "4    232.0\n",
            "3    443.0\n",
            "2    543.5\n",
            "dtype: float64\n"
          ]
        }
      ]
    },
    {
      "cell_type": "markdown",
      "metadata": {
        "id": "5V25nViZfz3Z"
      },
      "source": [
        "Series is also like a dictionary whose values can be set or fetched by index label:"
      ]
    },
    {
      "cell_type": "code",
      "metadata": {
        "colab": {
          "base_uri": "https://localhost:8080/"
        },
        "id": "b3Y0kKGYO58l",
        "outputId": "e0b28365-36aa-482f-a324-0474292cdfe8"
      },
      "source": [
        "print(s[4])\n",
        "s[4] = 0\n",
        "print(s)"
      ],
      "execution_count": null,
      "outputs": [
        {
          "output_type": "stream",
          "name": "stdout",
          "text": [
            "143.68\n",
            "6    143.73\n",
            "5    145.83\n",
            "4      0.00\n",
            "3    144.02\n",
            "2    143.50\n",
            "1    142.62\n",
            "dtype: float64\n"
          ]
        }
      ]
    },
    {
      "cell_type": "code",
      "metadata": {
        "colab": {
          "base_uri": "https://localhost:8080/"
        },
        "id": "1SCIMBf_DJgV",
        "outputId": "ac84f6e5-f2f8-42fa-cdc0-1a2fadbb0c19"
      },
      "source": [
        "# NUEVO EJEMPLO\n",
        "print(series[1])\n",
        "series[2] = 767667\n",
        "print(series)"
      ],
      "execution_count": null,
      "outputs": [
        {
          "output_type": "stream",
          "name": "stdout",
          "text": [
            "787.0\n",
            "4       232.0\n",
            "3       443.0\n",
            "2    767667.0\n",
            "1       787.0\n",
            "dtype: float64\n"
          ]
        }
      ]
    },
    {
      "cell_type": "markdown",
      "metadata": {
        "id": "RQ1P7Gkyf060"
      },
      "source": [
        "Series can also have a name attribute, which will be used when we make up a Pandas DataFrame using several series."
      ]
    },
    {
      "cell_type": "code",
      "metadata": {
        "colab": {
          "base_uri": "https://localhost:8080/"
        },
        "id": "ZeD4-p7KO58m",
        "outputId": "c14e6a4e-7c7f-472b-f839-e12aafa89712"
      },
      "source": [
        "s = pd.Series(price, name = 'Apple Price List')\n",
        "print(s)\n",
        "print(s.name)"
      ],
      "execution_count": null,
      "outputs": [
        {
          "output_type": "stream",
          "name": "stdout",
          "text": [
            "0    143.73\n",
            "1    145.83\n",
            "2    143.68\n",
            "3    144.02\n",
            "4    143.50\n",
            "5    142.62\n",
            "Name: Apple Price List, dtype: float64\n",
            "Apple Price List\n"
          ]
        }
      ]
    },
    {
      "cell_type": "code",
      "metadata": {
        "colab": {
          "base_uri": "https://localhost:8080/"
        },
        "id": "xZWmiyOoGeaD",
        "outputId": "a1f23901-9905-45f0-87f7-1ceebc6f452d"
      },
      "source": [
        "# NUEVO EJEMPLO\n",
        "series = pd.Series( List, name='Promedios de vida' )\n",
        "print(series)\n",
        "print(series.name)"
      ],
      "execution_count": null,
      "outputs": [
        {
          "output_type": "stream",
          "name": "stdout",
          "text": [
            "0    232.0\n",
            "1    443.0\n",
            "2    543.5\n",
            "3    787.0\n",
            "Name: Promedios de vida, dtype: float64\n",
            "Promedios de vida\n"
          ]
        }
      ]
    },
    {
      "cell_type": "markdown",
      "metadata": {
        "id": "geJb1pGHf5Et"
      },
      "source": [
        "We can get the statistical summaries of a Series:"
      ]
    },
    {
      "cell_type": "code",
      "metadata": {
        "colab": {
          "base_uri": "https://localhost:8080/"
        },
        "id": "mGPtFcjegm4i",
        "outputId": "d32bc4c2-bbc8-4082-e96f-1aa9c24a5eec"
      },
      "source": [
        "print(s.describe())"
      ],
      "execution_count": null,
      "outputs": [
        {
          "output_type": "stream",
          "name": "stdout",
          "text": [
            "count      6.000000\n",
            "mean     143.896667\n",
            "std        1.059711\n",
            "min      142.620000\n",
            "25%      143.545000\n",
            "50%      143.705000\n",
            "75%      143.947500\n",
            "max      145.830000\n",
            "Name: Apple Price List, dtype: float64\n"
          ]
        }
      ]
    },
    {
      "cell_type": "code",
      "metadata": {
        "colab": {
          "base_uri": "https://localhost:8080/"
        },
        "id": "nRZQ9eHUGrju",
        "outputId": "8ca2fd7d-2174-40ec-eb15-20e97a2ca33c"
      },
      "source": [
        "# NUEVO EJEMPLO\n",
        "print(series.describe())"
      ],
      "execution_count": null,
      "outputs": [
        {
          "output_type": "stream",
          "name": "stdout",
          "text": [
            "count      4.000000\n",
            "mean     501.375000\n",
            "std      230.453674\n",
            "min      232.000000\n",
            "25%      390.250000\n",
            "50%      493.250000\n",
            "75%      604.375000\n",
            "max      787.000000\n",
            "Name: Promedios de vida, dtype: float64\n"
          ]
        }
      ]
    },
    {
      "cell_type": "markdown",
      "metadata": {
        "id": "LkdZu-CDgvlR"
      },
      "source": [
        "## Time Index\n",
        "Pandas has a built-in function specifically for creating date indices: pd.date_range(). We use it to create a new index for our Series:"
      ]
    },
    {
      "cell_type": "code",
      "metadata": {
        "colab": {
          "base_uri": "https://localhost:8080/"
        },
        "id": "HJe5hU4zO58m",
        "outputId": "73a7eed1-be4d-45bf-aa6b-dc970e8d2acc"
      },
      "source": [
        "time_index = pd.date_range('2017-01-01',periods = len(s),freq = 'D')\n",
        "print(time_index)\n",
        "s.index = time_index\n",
        "print(s)"
      ],
      "execution_count": null,
      "outputs": [
        {
          "output_type": "stream",
          "name": "stdout",
          "text": [
            "DatetimeIndex(['2017-01-01', '2017-01-02', '2017-01-03', '2017-01-04',\n",
            "               '2017-01-05', '2017-01-06'],\n",
            "              dtype='datetime64[ns]', freq='D')\n",
            "2017-01-01    143.73\n",
            "2017-01-02    145.83\n",
            "2017-01-03    143.68\n",
            "2017-01-04    144.02\n",
            "2017-01-05    143.50\n",
            "2017-01-06    142.62\n",
            "Freq: D, Name: Apple Price List, dtype: float64\n"
          ]
        }
      ]
    },
    {
      "cell_type": "code",
      "metadata": {
        "colab": {
          "base_uri": "https://localhost:8080/"
        },
        "id": "jrkMG3ywGzTE",
        "outputId": "ac49db9a-b3ca-41c3-f5e2-b3c638e062aa"
      },
      "source": [
        "# NUEVO EJEMPLO\n",
        "timeIndex = pd.date_range( '2020-06-16', periods=len(series), freq='D' )\n",
        "print(timeIndex)\n",
        "series.index = timeIndex\n",
        "print(series)"
      ],
      "execution_count": null,
      "outputs": [
        {
          "output_type": "stream",
          "name": "stdout",
          "text": [
            "DatetimeIndex(['2020-06-16', '2020-06-17', '2020-06-18', '2020-06-19'], dtype='datetime64[ns]', freq='D')\n",
            "2020-06-16    232.0\n",
            "2020-06-17    443.0\n",
            "2020-06-18    543.5\n",
            "2020-06-19    787.0\n",
            "Freq: D, Name: Promedios de vida, dtype: float64\n"
          ]
        }
      ]
    },
    {
      "cell_type": "markdown",
      "metadata": {
        "id": "7WedejFZg19J"
      },
      "source": [
        "Series are usually accessed using the iloc[] and loc[] methods. iloc[] is used to access elements by integer index, and loc[] is used to access the index of the series.\n",
        "\n",
        "iloc[] is necessary when the index of a series are integers, take our previous defined series as example:"
      ]
    },
    {
      "cell_type": "code",
      "metadata": {
        "colab": {
          "base_uri": "https://localhost:8080/"
        },
        "id": "KrVSOyMvO58m",
        "outputId": "2591243f-b2c4-48c5-e495-81fee4ef9afa"
      },
      "source": [
        "s.index = [6,5,4,3,2,1]\n",
        "print(s)\n",
        "print(s[1])"
      ],
      "execution_count": null,
      "outputs": [
        {
          "output_type": "stream",
          "name": "stdout",
          "text": [
            "6    143.73\n",
            "5    145.83\n",
            "4    143.68\n",
            "3    144.02\n",
            "2    143.50\n",
            "1    142.62\n",
            "Name: Apple Price List, dtype: float64\n",
            "142.62\n"
          ]
        }
      ]
    },
    {
      "cell_type": "code",
      "metadata": {
        "colab": {
          "base_uri": "https://localhost:8080/"
        },
        "id": "z0hogvceHXYk",
        "outputId": "f4b65b74-ba2f-4724-f6df-e79c20d4361a"
      },
      "source": [
        "# NUEVO EJEMPLO\n",
        "series.index = [3,2,1,0]\n",
        "print(series)\n",
        "print(series[0])"
      ],
      "execution_count": null,
      "outputs": [
        {
          "output_type": "stream",
          "name": "stdout",
          "text": [
            "3    232.0\n",
            "2    443.0\n",
            "1    543.5\n",
            "0    787.0\n",
            "Name: Promedios de vida, dtype: float64\n",
            "787.0\n"
          ]
        }
      ]
    },
    {
      "cell_type": "markdown",
      "metadata": {
        "id": "r30VKPtpg61p"
      },
      "source": [
        "If we intended to take the second element of the series, we would make a mistake here, because the index are integers. In order to access to the element we want, we use iloc[] here:"
      ]
    },
    {
      "cell_type": "code",
      "metadata": {
        "colab": {
          "base_uri": "https://localhost:8080/"
        },
        "id": "bHukfaAmO58m",
        "outputId": "303dac0a-af1c-4c99-b6d8-2b805cf3ac19"
      },
      "source": [
        "print(s.iloc[1])"
      ],
      "execution_count": null,
      "outputs": [
        {
          "output_type": "stream",
          "name": "stdout",
          "text": [
            "145.83\n"
          ]
        }
      ]
    },
    {
      "cell_type": "code",
      "metadata": {
        "colab": {
          "base_uri": "https://localhost:8080/"
        },
        "id": "74XD0JtZHpHw",
        "outputId": "6f075a70-577f-421c-d11d-62fa948946ae"
      },
      "source": [
        "# NUEVO EJEMPLO\n",
        "print( series.iloc[3] ) "
      ],
      "execution_count": null,
      "outputs": [
        {
          "output_type": "stream",
          "name": "stdout",
          "text": [
            "787.0\n"
          ]
        }
      ]
    },
    {
      "cell_type": "markdown",
      "metadata": {
        "id": "kHVBRL_Rg84j"
      },
      "source": [
        "While working with time series data, we often use time as the index. Pandas provides us with various methods to access the data by time index"
      ]
    },
    {
      "cell_type": "code",
      "metadata": {
        "colab": {
          "base_uri": "https://localhost:8080/"
        },
        "id": "FCf8Hg7jO58n",
        "outputId": "948cc42a-ed76-4b92-e3b7-023fea7796bf"
      },
      "source": [
        "s.index = time_index\n",
        "print(s['2017-01-03'])"
      ],
      "execution_count": null,
      "outputs": [
        {
          "output_type": "stream",
          "name": "stdout",
          "text": [
            "143.68\n"
          ]
        }
      ]
    },
    {
      "cell_type": "code",
      "metadata": {
        "colab": {
          "base_uri": "https://localhost:8080/"
        },
        "id": "9BAV4BPEHwtN",
        "outputId": "687dc518-b5c2-4368-bbcb-9a752ea4d44e"
      },
      "source": [
        "# NUEVO EJEMPLO\n",
        "series.index = timeIndex\n",
        "print( series['2020-06-18 '] )"
      ],
      "execution_count": null,
      "outputs": [
        {
          "output_type": "stream",
          "name": "stdout",
          "text": [
            "543.5\n"
          ]
        }
      ]
    },
    {
      "cell_type": "markdown",
      "metadata": {
        "id": "XJXcrSFpg-To"
      },
      "source": [
        "We can even access to a range of dates:"
      ]
    },
    {
      "cell_type": "code",
      "metadata": {
        "colab": {
          "base_uri": "https://localhost:8080/"
        },
        "id": "NsE-Lr_9O58n",
        "outputId": "ffbb9c9e-a9fe-46f8-99c1-8599bd568b4c"
      },
      "source": [
        "print(s['2017-01-02':'2017-01-05'])"
      ],
      "execution_count": null,
      "outputs": [
        {
          "output_type": "stream",
          "name": "stdout",
          "text": [
            "2017-01-02    145.83\n",
            "2017-01-03    143.68\n",
            "2017-01-04    144.02\n",
            "2017-01-05    143.50\n",
            "Freq: D, Name: Apple Price List, dtype: float64\n"
          ]
        }
      ]
    },
    {
      "cell_type": "code",
      "metadata": {
        "colab": {
          "base_uri": "https://localhost:8080/"
        },
        "id": "YII5Bb9iH4Nk",
        "outputId": "19b743c7-ff12-4661-a0b3-713b1e2e913c"
      },
      "source": [
        "# NUEVO EJEMPLO\n",
        "print( series['2020-06-16': '2020-06-19'] )"
      ],
      "execution_count": null,
      "outputs": [
        {
          "output_type": "stream",
          "name": "stdout",
          "text": [
            "2020-06-16    232.0\n",
            "2020-06-17    443.0\n",
            "2020-06-18    543.5\n",
            "2020-06-19    787.0\n",
            "Freq: D, Name: Promedios de vida, dtype: float64\n"
          ]
        }
      ]
    },
    {
      "cell_type": "markdown",
      "metadata": {
        "id": "cWA3NCXEhCLB"
      },
      "source": [
        "Series[] provides us a very flexible way to index data. We can add any condition in the square brackets:"
      ]
    },
    {
      "cell_type": "code",
      "metadata": {
        "colab": {
          "base_uri": "https://localhost:8080/"
        },
        "id": "aawbrg2EO58n",
        "outputId": "8d899965-573d-4352-82bf-8c2d20e1fb8a"
      },
      "source": [
        "print(s[s < np.mean(s)] )\n",
        "print([(s > np.mean(s)) & (s < np.mean(s) + 1.64*np.std(s))])"
      ],
      "execution_count": null,
      "outputs": [
        {
          "output_type": "stream",
          "name": "stdout",
          "text": [
            "2017-01-01    143.73\n",
            "2017-01-03    143.68\n",
            "2017-01-05    143.50\n",
            "2017-01-06    142.62\n",
            "Name: Apple Price List, dtype: float64\n",
            "[2017-01-01    False\n",
            "2017-01-02    False\n",
            "2017-01-03    False\n",
            "2017-01-04     True\n",
            "2017-01-05    False\n",
            "2017-01-06    False\n",
            "Freq: D, Name: Apple Price List, dtype: bool]\n"
          ]
        }
      ]
    },
    {
      "cell_type": "code",
      "metadata": {
        "colab": {
          "base_uri": "https://localhost:8080/"
        },
        "id": "WH7BuNTVIAs4",
        "outputId": "9c3bed94-7a06-4206-d206-1920a8d1cbf1"
      },
      "source": [
        "# NUEVO EJEMPLO\n",
        "print( series[series < np.mean(series)] )\n",
        "print([(s > np.mean(s)) & (s < np.mean(s) + 3.44*np.std(s))])"
      ],
      "execution_count": null,
      "outputs": [
        {
          "output_type": "stream",
          "name": "stdout",
          "text": [
            "2020-06-16    232.0\n",
            "2020-06-17    443.0\n",
            "Freq: D, Name: Promedios de vida, dtype: float64\n",
            "[2017-01-01    False\n",
            "2017-01-02     True\n",
            "2017-01-03    False\n",
            "2017-01-04     True\n",
            "2017-01-05    False\n",
            "2017-01-06    False\n",
            "Freq: D, Name: Apple Price List, dtype: bool]\n"
          ]
        }
      ]
    },
    {
      "cell_type": "markdown",
      "metadata": {
        "id": "jAByChIwhEuI"
      },
      "source": [
        "As demonstrated, we can use logical operators like & (and), | (or) and ~ (not) to group multiple conditions.\n",
        "\n",
        "# Summary\n",
        "Here we have introduced NumPy and Pandas for scientific computing in Python. In the next chapter, we will dive into Pandas to learn resampling and manipulating Pandas DataFrame, which are commonly used in financial data analysis."
      ]
    },
    {
      "cell_type": "markdown",
      "metadata": {
        "id": "m10fp8cnKCnv"
      },
      "source": [
        "<div align=\"center\">\n",
        "<img style=\"display: block; margin: auto;\" alt=\"photo\" src=\"https://cdn.quantconnect.com/web/i/icon.png\">\n",
        "\n",
        "Quantconnect\n",
        "\n",
        "Introduction to Financial Python\n",
        "</div>\n",
        "\n",
        "# 05 Pandas-Resampling and DataFrame\n",
        "\n",
        "# Introduction\n",
        "In the last chapter we had a glimpse of Pandas. In this chapter we will learn about resampling methods and the DataFrame object, which is a powerful tool for financial data analysis.\n",
        "\n",
        "# Fetching Data\n",
        "\n",
        "Get the data online (scraping) from Yahoo Finance with yfinance"
      ]
    },
    {
      "cell_type": "code",
      "metadata": {
        "colab": {
          "base_uri": "https://localhost:8080/",
          "height": 489
        },
        "id": "TOrAfDCZL2Xu",
        "outputId": "7cf9d7ea-241f-4c60-b285-a3028376a0ad"
      },
      "source": [
        "\n",
        "\n",
        "import yfinance as yf\n",
        "\n",
        "aapl = yf.Ticker(\"AAPL\")\n",
        "\n",
        "# get stock info\n",
        "print(aapl.info)\n",
        "\n",
        "# get historical market data\n",
        "aapl_table = aapl.history(start=\"2016-01-01\",  end=\"2017-12-31\")\n",
        "aapl_table"
      ],
      "execution_count": 6,
      "outputs": [
        {
          "output_type": "stream",
          "name": "stdout",
          "text": [
            "{'zip': '95014', 'sector': 'Technology', 'fullTimeEmployees': 147000, 'longBusinessSummary': 'Apple Inc. designs, manufactures, and markets smartphones, personal computers, tablets, wearables, and accessories worldwide. It also sells various related services. The company offers iPhone, a line of smartphones; Mac, a line of personal computers; iPad, a line of multi-purpose tablets; and wearables, home, and accessories comprising AirPods, Apple TV, Apple Watch, Beats products, HomePod, iPod touch, and other Apple-branded and third-party accessories. It also provides AppleCare support services; cloud services store services; and operates various platforms, including the App Store, that allow customers to discover and download applications and digital content, such as books, music, video, games, and podcasts. In addition, the company offers various services, such as Apple Arcade, a game subscription service; Apple Music, which offers users a curated listening experience with on-demand radio stations; Apple News+, a subscription news and magazine service; Apple TV+, which offers exclusive original content; Apple Card, a co-branded credit card; and Apple Pay, a cashless payment service, as well as licenses its intellectual property. The company serves consumers, and small and mid-sized businesses; and the education, enterprise, and government markets. It sells and delivers third-party applications for its products through the App Store. The company also sells its products through its retail and online stores, and direct sales force; and third-party cellular network carriers, wholesalers, retailers, and resellers. Apple Inc. was founded in 1977 and is headquartered in Cupertino, California.', 'city': 'Cupertino', 'phone': '408-996-1010', 'state': 'CA', 'country': 'United States', 'companyOfficers': [], 'website': 'http://www.apple.com', 'maxAge': 1, 'address1': 'One Apple Park Way', 'industry': 'Consumer Electronics', 'ebitdaMargins': 0.31955, 'profitMargins': 0.25004, 'grossMargins': 0.41005, 'operatingCashflow': 104414003200, 'revenueGrowth': 0.364, 'operatingMargins': 0.28788, 'ebitda': 110934999040, 'targetLowPrice': 132, 'recommendationKey': 'buy', 'grossProfits': 104956000000, 'freeCashflow': 80625876992, 'targetMedianPrice': 169.64, 'currentPrice': 144.84, 'earningsGrowth': 1, 'currentRatio': 1.062, 'returnOnAssets': 0.19302, 'numberOfAnalystOpinions': 42, 'targetMeanPrice': 167.92, 'debtToEquity': 210.782, 'returnOnEquity': 1.27125, 'targetHighPrice': 190, 'totalCash': 61696000000, 'totalDebt': 135491002368, 'totalRevenue': 347155005440, 'totalCashPerShare': 3.732, 'financialCurrency': 'USD', 'revenuePerShare': 20.61, 'quickRatio': 0.887, 'recommendationMean': 1.9, 'exchange': 'NMS', 'shortName': 'Apple Inc.', 'longName': 'Apple Inc.', 'exchangeTimezoneName': 'America/New_York', 'exchangeTimezoneShortName': 'EDT', 'isEsgPopulated': False, 'gmtOffSetMilliseconds': '-14400000', 'quoteType': 'EQUITY', 'symbol': 'AAPL', 'messageBoardId': 'finmb_24937', 'market': 'us_market', 'annualHoldingsTurnover': None, 'enterpriseToRevenue': 7.109, 'beta3Year': None, 'enterpriseToEbitda': 22.247, '52WeekChange': 0.24883604, 'morningStarRiskRating': None, 'forwardEps': 5.68, 'revenueQuarterlyGrowth': None, 'sharesOutstanding': 16530199552, 'fundInceptionDate': None, 'annualReportExpenseRatio': None, 'totalAssets': None, 'bookValue': 3.882, 'sharesShort': 101107412, 'sharesPercentSharesOut': 0.0061000003, 'fundFamily': None, 'lastFiscalYearEnd': 1601078400, 'heldPercentInstitutions': 0.58701, 'netIncomeToCommon': 86801997824, 'trailingEps': 5.108, 'lastDividendValue': 0.22, 'SandP52WeekChange': 0.3047781, 'priceToBook': 37.310665, 'heldPercentInsiders': 0.00072999997, 'nextFiscalYearEnd': 1664150400, 'yield': None, 'mostRecentQuarter': 1624665600, 'shortRatio': 1.18, 'sharesShortPreviousMonthDate': 1630368000, 'floatShares': 16512974627, 'beta': 1.222222, 'enterpriseValue': 2468024156160, 'priceHint': 2, 'threeYearAverageReturn': None, 'lastSplitDate': 1598832000, 'lastSplitFactor': '4:1', 'legalType': None, 'lastDividendDate': 1628208000, 'morningStarOverallRating': None, 'earningsQuarterlyGrowth': 0.932, 'priceToSalesTrailing12Months': 6.896729, 'dateShortInterest': 1632960000, 'pegRatio': 1.38, 'ytdReturn': None, 'forwardPE': 25.5, 'lastCapGain': None, 'shortPercentOfFloat': 0.0061000003, 'sharesShortPriorMonth': 96838699, 'impliedSharesOutstanding': None, 'category': None, 'fiveYearAverageReturn': None, 'previousClose': 143.76, 'regularMarketOpen': 143.77, 'twoHundredDayAverage': 138.76833, 'trailingAnnualDividendYield': 0.0058082915, 'payoutRatio': 0.16309999, 'volume24Hr': None, 'regularMarketDayHigh': 144.895, 'navPrice': None, 'averageDailyVolume10Day': 68793633, 'regularMarketPreviousClose': 143.76, 'fiftyDayAverage': 146.59706, 'trailingAnnualDividendRate': 0.835, 'open': 143.77, 'toCurrency': None, 'averageVolume10days': 68793633, 'expireDate': None, 'algorithm': None, 'dividendRate': 0.88, 'exDividendDate': 1628208000, 'circulatingSupply': None, 'startDate': None, 'regularMarketDayLow': 143.515, 'currency': 'USD', 'trailingPE': 28.35552, 'regularMarketVolume': 65076405, 'lastMarket': None, 'maxSupply': None, 'openInterest': None, 'marketCap': 2394234028032, 'volumeAllCurrencies': None, 'strikePrice': None, 'averageVolume': 77415270, 'dayLow': 143.515, 'ask': 144.97, 'askSize': 1400, 'volume': 65076405, 'fiftyTwoWeekHigh': 157.26, 'fromCurrency': None, 'fiveYearAvgDividendYield': 1.24, 'fiftyTwoWeekLow': 107.32, 'bid': 144.86, 'tradeable': False, 'dividendYield': 0.0061000003, 'bidSize': 1800, 'dayHigh': 144.895, 'regularMarketPrice': 144.84, 'logo_url': 'https://logo.clearbit.com/apple.com'}\n"
          ]
        },
        {
          "output_type": "execute_result",
          "data": {
            "text/html": [
              "<div>\n",
              "<style scoped>\n",
              "    .dataframe tbody tr th:only-of-type {\n",
              "        vertical-align: middle;\n",
              "    }\n",
              "\n",
              "    .dataframe tbody tr th {\n",
              "        vertical-align: top;\n",
              "    }\n",
              "\n",
              "    .dataframe thead th {\n",
              "        text-align: right;\n",
              "    }\n",
              "</style>\n",
              "<table border=\"1\" class=\"dataframe\">\n",
              "  <thead>\n",
              "    <tr style=\"text-align: right;\">\n",
              "      <th></th>\n",
              "      <th>Open</th>\n",
              "      <th>High</th>\n",
              "      <th>Low</th>\n",
              "      <th>Close</th>\n",
              "      <th>Volume</th>\n",
              "      <th>Dividends</th>\n",
              "      <th>Stock Splits</th>\n",
              "    </tr>\n",
              "    <tr>\n",
              "      <th>Date</th>\n",
              "      <th></th>\n",
              "      <th></th>\n",
              "      <th></th>\n",
              "      <th></th>\n",
              "      <th></th>\n",
              "      <th></th>\n",
              "      <th></th>\n",
              "    </tr>\n",
              "  </thead>\n",
              "  <tbody>\n",
              "    <tr>\n",
              "      <th>2016-01-04</th>\n",
              "      <td>23.655168</td>\n",
              "      <td>24.291444</td>\n",
              "      <td>23.514542</td>\n",
              "      <td>24.286833</td>\n",
              "      <td>270597600</td>\n",
              "      <td>0.0</td>\n",
              "      <td>0</td>\n",
              "    </tr>\n",
              "    <tr>\n",
              "      <th>2016-01-05</th>\n",
              "      <td>24.379041</td>\n",
              "      <td>24.402094</td>\n",
              "      <td>23.609056</td>\n",
              "      <td>23.678215</td>\n",
              "      <td>223164000</td>\n",
              "      <td>0.0</td>\n",
              "      <td>0</td>\n",
              "    </tr>\n",
              "    <tr>\n",
              "      <th>2016-01-06</th>\n",
              "      <td>23.182565</td>\n",
              "      <td>23.599834</td>\n",
              "      <td>23.023498</td>\n",
              "      <td>23.214840</td>\n",
              "      <td>273829600</td>\n",
              "      <td>0.0</td>\n",
              "      <td>0</td>\n",
              "    </tr>\n",
              "    <tr>\n",
              "      <th>2016-01-07</th>\n",
              "      <td>22.749162</td>\n",
              "      <td>23.083437</td>\n",
              "      <td>22.230459</td>\n",
              "      <td>22.235069</td>\n",
              "      <td>324377600</td>\n",
              "      <td>0.0</td>\n",
              "      <td>0</td>\n",
              "    </tr>\n",
              "    <tr>\n",
              "      <th>2016-01-08</th>\n",
              "      <td>22.719197</td>\n",
              "      <td>22.848296</td>\n",
              "      <td>22.306540</td>\n",
              "      <td>22.352646</td>\n",
              "      <td>283192000</td>\n",
              "      <td>0.0</td>\n",
              "      <td>0</td>\n",
              "    </tr>\n",
              "    <tr>\n",
              "      <th>...</th>\n",
              "      <td>...</td>\n",
              "      <td>...</td>\n",
              "      <td>...</td>\n",
              "      <td>...</td>\n",
              "      <td>...</td>\n",
              "      <td>...</td>\n",
              "      <td>...</td>\n",
              "    </tr>\n",
              "    <tr>\n",
              "      <th>2017-12-22</th>\n",
              "      <td>41.827749</td>\n",
              "      <td>42.004946</td>\n",
              "      <td>41.784649</td>\n",
              "      <td>41.906769</td>\n",
              "      <td>65397600</td>\n",
              "      <td>0.0</td>\n",
              "      <td>0</td>\n",
              "    </tr>\n",
              "    <tr>\n",
              "      <th>2017-12-26</th>\n",
              "      <td>40.898675</td>\n",
              "      <td>41.059108</td>\n",
              "      <td>40.630484</td>\n",
              "      <td>40.843601</td>\n",
              "      <td>132742000</td>\n",
              "      <td>0.0</td>\n",
              "      <td>0</td>\n",
              "    </tr>\n",
              "    <tr>\n",
              "      <th>2017-12-27</th>\n",
              "      <td>40.731054</td>\n",
              "      <td>40.893880</td>\n",
              "      <td>40.637667</td>\n",
              "      <td>40.850780</td>\n",
              "      <td>85992800</td>\n",
              "      <td>0.0</td>\n",
              "      <td>0</td>\n",
              "    </tr>\n",
              "    <tr>\n",
              "      <th>2017-12-28</th>\n",
              "      <td>40.946572</td>\n",
              "      <td>41.150109</td>\n",
              "      <td>40.822055</td>\n",
              "      <td>40.965729</td>\n",
              "      <td>65920800</td>\n",
              "      <td>0.0</td>\n",
              "      <td>0</td>\n",
              "    </tr>\n",
              "    <tr>\n",
              "      <th>2017-12-29</th>\n",
              "      <td>40.831633</td>\n",
              "      <td>40.848393</td>\n",
              "      <td>40.520342</td>\n",
              "      <td>40.522736</td>\n",
              "      <td>103999600</td>\n",
              "      <td>0.0</td>\n",
              "      <td>0</td>\n",
              "    </tr>\n",
              "  </tbody>\n",
              "</table>\n",
              "<p>503 rows × 7 columns</p>\n",
              "</div>"
            ],
            "text/plain": [
              "                 Open       High        Low  ...     Volume  Dividends  Stock Splits\n",
              "Date                                         ...                                    \n",
              "2016-01-04  23.655168  24.291444  23.514542  ...  270597600        0.0             0\n",
              "2016-01-05  24.379041  24.402094  23.609056  ...  223164000        0.0             0\n",
              "2016-01-06  23.182565  23.599834  23.023498  ...  273829600        0.0             0\n",
              "2016-01-07  22.749162  23.083437  22.230459  ...  324377600        0.0             0\n",
              "2016-01-08  22.719197  22.848296  22.306540  ...  283192000        0.0             0\n",
              "...               ...        ...        ...  ...        ...        ...           ...\n",
              "2017-12-22  41.827749  42.004946  41.784649  ...   65397600        0.0             0\n",
              "2017-12-26  40.898675  41.059108  40.630484  ...  132742000        0.0             0\n",
              "2017-12-27  40.731054  40.893880  40.637667  ...   85992800        0.0             0\n",
              "2017-12-28  40.946572  41.150109  40.822055  ...   65920800        0.0             0\n",
              "2017-12-29  40.831633  40.848393  40.520342  ...  103999600        0.0             0\n",
              "\n",
              "[503 rows x 7 columns]"
            ]
          },
          "metadata": {},
          "execution_count": 6
        }
      ]
    },
    {
      "cell_type": "code",
      "metadata": {
        "colab": {
          "base_uri": "https://localhost:8080/"
        },
        "id": "na5NMmOBLp_J",
        "outputId": "f0aaab91-28a6-44e2-c551-761642547dc3"
      },
      "source": [
        "!pip install yfinance"
      ],
      "execution_count": 7,
      "outputs": [
        {
          "output_type": "stream",
          "name": "stdout",
          "text": [
            "Requirement already satisfied: yfinance in /usr/local/lib/python3.7/dist-packages (0.1.63)\n",
            "Requirement already satisfied: requests>=2.20 in /usr/local/lib/python3.7/dist-packages (from yfinance) (2.23.0)\n",
            "Requirement already satisfied: pandas>=0.24 in /usr/local/lib/python3.7/dist-packages (from yfinance) (1.1.5)\n",
            "Requirement already satisfied: lxml>=4.5.1 in /usr/local/lib/python3.7/dist-packages (from yfinance) (4.6.3)\n",
            "Requirement already satisfied: multitasking>=0.0.7 in /usr/local/lib/python3.7/dist-packages (from yfinance) (0.0.9)\n",
            "Requirement already satisfied: numpy>=1.15 in /usr/local/lib/python3.7/dist-packages (from yfinance) (1.19.5)\n",
            "Requirement already satisfied: python-dateutil>=2.7.3 in /usr/local/lib/python3.7/dist-packages (from pandas>=0.24->yfinance) (2.8.2)\n",
            "Requirement already satisfied: pytz>=2017.2 in /usr/local/lib/python3.7/dist-packages (from pandas>=0.24->yfinance) (2018.9)\n",
            "Requirement already satisfied: six>=1.5 in /usr/local/lib/python3.7/dist-packages (from python-dateutil>=2.7.3->pandas>=0.24->yfinance) (1.15.0)\n",
            "Requirement already satisfied: urllib3!=1.25.0,!=1.25.1,<1.26,>=1.21.1 in /usr/local/lib/python3.7/dist-packages (from requests>=2.20->yfinance) (1.24.3)\n",
            "Requirement already satisfied: chardet<4,>=3.0.2 in /usr/local/lib/python3.7/dist-packages (from requests>=2.20->yfinance) (3.0.4)\n",
            "Requirement already satisfied: idna<3,>=2.5 in /usr/local/lib/python3.7/dist-packages (from requests>=2.20->yfinance) (2.10)\n",
            "Requirement already satisfied: certifi>=2017.4.17 in /usr/local/lib/python3.7/dist-packages (from requests>=2.20->yfinance) (2021.5.30)\n"
          ]
        }
      ]
    },
    {
      "cell_type": "code",
      "metadata": {
        "colab": {
          "base_uri": "https://localhost:8080/",
          "height": 420
        },
        "id": "2_S3TesRWmYh",
        "outputId": "66e45ca9-ec06-4a4d-8b2b-e98131e7134d"
      },
      "source": [
        "import pandas as pd\n",
        "new_data = pd.read_csv('https://raw.githubusercontent.com/femorenoba/MetNumUN2021II/main/Lab1/yahoo_apple.csv')\n",
        "new_data"
      ],
      "execution_count": 4,
      "outputs": [
        {
          "output_type": "execute_result",
          "data": {
            "text/html": [
              "<div>\n",
              "<style scoped>\n",
              "    .dataframe tbody tr th:only-of-type {\n",
              "        vertical-align: middle;\n",
              "    }\n",
              "\n",
              "    .dataframe tbody tr th {\n",
              "        vertical-align: top;\n",
              "    }\n",
              "\n",
              "    .dataframe thead th {\n",
              "        text-align: right;\n",
              "    }\n",
              "</style>\n",
              "<table border=\"1\" class=\"dataframe\">\n",
              "  <thead>\n",
              "    <tr style=\"text-align: right;\">\n",
              "      <th></th>\n",
              "      <th>Date</th>\n",
              "      <th>Open</th>\n",
              "      <th>High</th>\n",
              "      <th>Low</th>\n",
              "      <th>Close</th>\n",
              "      <th>Adj Close</th>\n",
              "      <th>Volume</th>\n",
              "    </tr>\n",
              "  </thead>\n",
              "  <tbody>\n",
              "    <tr>\n",
              "      <th>0</th>\n",
              "      <td>2020-10-19</td>\n",
              "      <td>10.140000</td>\n",
              "      <td>10.205000</td>\n",
              "      <td>9.920000</td>\n",
              "      <td>9.930000</td>\n",
              "      <td>9.910515</td>\n",
              "      <td>972500</td>\n",
              "    </tr>\n",
              "    <tr>\n",
              "      <th>1</th>\n",
              "      <td>2020-10-20</td>\n",
              "      <td>10.070000</td>\n",
              "      <td>10.395000</td>\n",
              "      <td>10.005000</td>\n",
              "      <td>10.230000</td>\n",
              "      <td>10.209925</td>\n",
              "      <td>1479400</td>\n",
              "    </tr>\n",
              "    <tr>\n",
              "      <th>2</th>\n",
              "      <td>2020-10-21</td>\n",
              "      <td>10.230000</td>\n",
              "      <td>10.420000</td>\n",
              "      <td>10.090000</td>\n",
              "      <td>10.400000</td>\n",
              "      <td>10.379592</td>\n",
              "      <td>1663900</td>\n",
              "    </tr>\n",
              "    <tr>\n",
              "      <th>3</th>\n",
              "      <td>2020-10-22</td>\n",
              "      <td>10.430000</td>\n",
              "      <td>10.810000</td>\n",
              "      <td>10.400000</td>\n",
              "      <td>10.800000</td>\n",
              "      <td>10.778808</td>\n",
              "      <td>1191100</td>\n",
              "    </tr>\n",
              "    <tr>\n",
              "      <th>4</th>\n",
              "      <td>2020-10-23</td>\n",
              "      <td>10.850000</td>\n",
              "      <td>10.995000</td>\n",
              "      <td>10.815000</td>\n",
              "      <td>10.880000</td>\n",
              "      <td>10.858650</td>\n",
              "      <td>1522800</td>\n",
              "    </tr>\n",
              "    <tr>\n",
              "      <th>...</th>\n",
              "      <td>...</td>\n",
              "      <td>...</td>\n",
              "      <td>...</td>\n",
              "      <td>...</td>\n",
              "      <td>...</td>\n",
              "      <td>...</td>\n",
              "      <td>...</td>\n",
              "    </tr>\n",
              "    <tr>\n",
              "      <th>246</th>\n",
              "      <td>2021-10-11</td>\n",
              "      <td>16.209999</td>\n",
              "      <td>16.455000</td>\n",
              "      <td>16.150000</td>\n",
              "      <td>16.320000</td>\n",
              "      <td>16.320000</td>\n",
              "      <td>1736100</td>\n",
              "    </tr>\n",
              "    <tr>\n",
              "      <th>247</th>\n",
              "      <td>2021-10-12</td>\n",
              "      <td>16.240000</td>\n",
              "      <td>16.315001</td>\n",
              "      <td>16.030001</td>\n",
              "      <td>16.059999</td>\n",
              "      <td>16.059999</td>\n",
              "      <td>1107800</td>\n",
              "    </tr>\n",
              "    <tr>\n",
              "      <th>248</th>\n",
              "      <td>2021-10-13</td>\n",
              "      <td>16.030001</td>\n",
              "      <td>16.090000</td>\n",
              "      <td>15.620000</td>\n",
              "      <td>15.790000</td>\n",
              "      <td>15.790000</td>\n",
              "      <td>1602400</td>\n",
              "    </tr>\n",
              "    <tr>\n",
              "      <th>249</th>\n",
              "      <td>2021-10-14</td>\n",
              "      <td>16.010000</td>\n",
              "      <td>16.084999</td>\n",
              "      <td>15.820000</td>\n",
              "      <td>15.870000</td>\n",
              "      <td>15.870000</td>\n",
              "      <td>1765100</td>\n",
              "    </tr>\n",
              "    <tr>\n",
              "      <th>250</th>\n",
              "      <td>2021-10-15</td>\n",
              "      <td>16.170000</td>\n",
              "      <td>16.350000</td>\n",
              "      <td>15.945000</td>\n",
              "      <td>16.090000</td>\n",
              "      <td>16.090000</td>\n",
              "      <td>1768200</td>\n",
              "    </tr>\n",
              "  </tbody>\n",
              "</table>\n",
              "<p>251 rows × 7 columns</p>\n",
              "</div>"
            ],
            "text/plain": [
              "           Date       Open       High        Low      Close  Adj Close   Volume\n",
              "0    2020-10-19  10.140000  10.205000   9.920000   9.930000   9.910515   972500\n",
              "1    2020-10-20  10.070000  10.395000  10.005000  10.230000  10.209925  1479400\n",
              "2    2020-10-21  10.230000  10.420000  10.090000  10.400000  10.379592  1663900\n",
              "3    2020-10-22  10.430000  10.810000  10.400000  10.800000  10.778808  1191100\n",
              "4    2020-10-23  10.850000  10.995000  10.815000  10.880000  10.858650  1522800\n",
              "..          ...        ...        ...        ...        ...        ...      ...\n",
              "246  2021-10-11  16.209999  16.455000  16.150000  16.320000  16.320000  1736100\n",
              "247  2021-10-12  16.240000  16.315001  16.030001  16.059999  16.059999  1107800\n",
              "248  2021-10-13  16.030001  16.090000  15.620000  15.790000  15.790000  1602400\n",
              "249  2021-10-14  16.010000  16.084999  15.820000  15.870000  15.870000  1765100\n",
              "250  2021-10-15  16.170000  16.350000  15.945000  16.090000  16.090000  1768200\n",
              "\n",
              "[251 rows x 7 columns]"
            ]
          },
          "metadata": {},
          "execution_count": 4
        }
      ]
    },
    {
      "cell_type": "code",
      "metadata": {
        "colab": {
          "base_uri": "https://localhost:8080/",
          "height": 489
        },
        "id": "5PkfI7WBMA_J",
        "outputId": "4e61da03-e6b5-46d1-fa13-3585bc99a494"
      },
      "source": [
        "\n",
        "# NUEVO EJEMPLO\n",
        "new_msft = yf.Ticker('NEW')\n",
        "print(new_msft.info)\n",
        "\n",
        "new_data = new_msft.history(start=\"2020-12-12\",  end=\"2021-10-10\")\n",
        "new_data"
      ],
      "execution_count": 8,
      "outputs": [
        {
          "output_type": "stream",
          "name": "stdout",
          "text": [
            "{'zip': '100080', 'sector': 'Consumer Defensive', 'fullTimeEmployees': 9650, 'longBusinessSummary': \"Puxin Limited, together with its subsidiaries, provides K-12 and study-abroad tutoring services in the People's Republic of China. Its K-12 tutoring services offer result-oriented educational services in various forms, such as classroom-based after-school tutoring, full-time tutoring for preparation of university entrance exams, and art college admission exams, as well as online courses in a large-class setting to help students enhance their academic results through group class and personalized tutoring courses; full-time tutoring services to high school students preparing for university entrance exams and art college admission exams; after-school tutoring services in group class settings and through personalized sessions; personalized K-12 tutoring courses to adapt to each student's learning pace, pattern, and approach; and extracurricular courses, such as painting, calligraphy, and science. The company's study-abroad tutoring services helps students to prepare for admission tests and applications for high schools, universities, and graduate programs primarily in English-speaking countries through study-abroad test preparation courses and study-abroad consulting services. It also provides web-based platforms and mobile apps for K-12 tutoring services; and cloud-based products and services for K-12 tutoring and study-abroad tutoring services. As of December 31, 2020, it operated 407 learning centers, which include 328 K-12 and 79 study-abroad learning centers. The company offers its products under the Puxin, Puxin-Lingxian, Puxin-YESSAT, Puxin-Fubusi, and ZMN Education brands, as well as operates franchised schools under the Global Education brand. Puxin Limited was founded in 2014 and is headquartered in Beijing, the People's Republic of China.\", 'city': 'Beijing', 'phone': '86 10 8260 5578', 'country': 'China', 'companyOfficers': [], 'website': 'http://www.pxjy.com', 'maxAge': 1, 'address1': 'Dingjun Building', 'industry': 'Education & Training Services', 'address2': 'Building 4, 5th Floor 75 Suzhou Street Haidian District', 'ebitdaMargins': -0.01919, 'profitMargins': 0.017280001, 'grossMargins': 0.45645002, 'operatingCashflow': None, 'revenueGrowth': -0.086, 'operatingMargins': -0.05969, 'ebitda': -54489248, 'targetLowPrice': 10.21, 'recommendationKey': 'strong_buy', 'grossProfits': 1345319000, 'freeCashflow': None, 'targetMedianPrice': 10.21, 'currentPrice': 0.53, 'earningsGrowth': None, 'currentRatio': 0.387, 'returnOnAssets': -0.02238, 'numberOfAnalystOpinions': 1, 'targetMeanPrice': 10.21, 'debtToEquity': 559.826, 'returnOnEquity': 0.13101, 'targetHighPrice': 10.21, 'totalCash': 279088000, 'totalDebt': 2593294080, 'totalRevenue': 2839326976, 'totalCashPerShare': 3.191, 'financialCurrency': 'CNY', 'revenuePerShare': 32.587, 'quickRatio': 0.099, 'recommendationMean': 1, 'exchange': 'NYQ', 'shortName': 'Puxin Limited', 'longName': 'Puxin Limited', 'exchangeTimezoneName': 'America/New_York', 'exchangeTimezoneShortName': 'EDT', 'isEsgPopulated': False, 'gmtOffSetMilliseconds': '-14400000', 'quoteType': 'EQUITY', 'symbol': 'NEW', 'messageBoardId': 'finmb_560290242', 'market': 'us_market', 'annualHoldingsTurnover': None, 'enterpriseToRevenue': 0.829, 'beta3Year': None, 'enterpriseToEbitda': -43.213, '52WeekChange': -0.93720376, 'morningStarRiskRating': None, 'forwardEps': 0.95, 'revenueQuarterlyGrowth': None, 'sharesOutstanding': 87463400, 'fundInceptionDate': None, 'annualReportExpenseRatio': None, 'totalAssets': None, 'bookValue': 5.364, 'sharesShort': 1743105, 'sharesPercentSharesOut': 0.0199, 'fundFamily': None, 'lastFiscalYearEnd': 1609372800, 'heldPercentInstitutions': 0.100710005, 'netIncomeToCommon': 49056000, 'trailingEps': 0.03, 'lastDividendValue': None, 'SandP52WeekChange': 0.3047781, 'priceToBook': 0.09880686, 'heldPercentInsiders': 0.0029300002, 'nextFiscalYearEnd': 1672444800, 'yield': None, 'mostRecentQuarter': 1617148800, 'shortRatio': 1.18, 'sharesShortPreviousMonthDate': 1630368000, 'floatShares': 42154731, 'beta': 1.583583, 'enterpriseValue': 2354625536, 'priceHint': 4, 'threeYearAverageReturn': None, 'lastSplitDate': None, 'lastSplitFactor': None, 'legalType': None, 'lastDividendDate': None, 'morningStarOverallRating': None, 'earningsQuarterlyGrowth': None, 'priceToSalesTrailing12Months': 0.016326264, 'dateShortInterest': 1632960000, 'pegRatio': None, 'ytdReturn': None, 'forwardPE': 0.5578947, 'lastCapGain': None, 'shortPercentOfFloat': None, 'sharesShortPriorMonth': 1466750, 'impliedSharesOutstanding': None, 'category': None, 'fiveYearAverageReturn': None, 'previousClose': 0.53, 'regularMarketOpen': 0.5116, 'twoHundredDayAverage': 1.6686594, 'trailingAnnualDividendYield': None, 'payoutRatio': 0, 'volume24Hr': None, 'regularMarketDayHigh': 0.53, 'navPrice': None, 'averageDailyVolume10Day': 7274800, 'regularMarketPreviousClose': 0.53, 'fiftyDayAverage': 0.5627647, 'trailingAnnualDividendRate': None, 'open': 0.5116, 'toCurrency': None, 'averageVolume10days': 7274800, 'expireDate': None, 'algorithm': None, 'dividendRate': None, 'exDividendDate': None, 'circulatingSupply': None, 'startDate': None, 'regularMarketDayLow': 0.51, 'currency': 'USD', 'trailingPE': 17.666666, 'regularMarketVolume': 1753234, 'lastMarket': None, 'maxSupply': None, 'openInterest': None, 'marketCap': 46355600, 'volumeAllCurrencies': None, 'strikePrice': None, 'averageVolume': 2819625, 'dayLow': 0.51, 'ask': 0.5118, 'askSize': 2200, 'volume': 1753234, 'fiftyTwoWeekHigh': 9.17, 'fromCurrency': None, 'fiveYearAvgDividendYield': None, 'fiftyTwoWeekLow': 0.44, 'bid': 0.5105, 'tradeable': False, 'dividendYield': None, 'bidSize': 2900, 'dayHigh': 0.53, 'regularMarketPrice': 0.53, 'logo_url': 'https://logo.clearbit.com/pxjy.com'}\n"
          ]
        },
        {
          "output_type": "execute_result",
          "data": {
            "text/html": [
              "<div>\n",
              "<style scoped>\n",
              "    .dataframe tbody tr th:only-of-type {\n",
              "        vertical-align: middle;\n",
              "    }\n",
              "\n",
              "    .dataframe tbody tr th {\n",
              "        vertical-align: top;\n",
              "    }\n",
              "\n",
              "    .dataframe thead th {\n",
              "        text-align: right;\n",
              "    }\n",
              "</style>\n",
              "<table border=\"1\" class=\"dataframe\">\n",
              "  <thead>\n",
              "    <tr style=\"text-align: right;\">\n",
              "      <th></th>\n",
              "      <th>Open</th>\n",
              "      <th>High</th>\n",
              "      <th>Low</th>\n",
              "      <th>Close</th>\n",
              "      <th>Volume</th>\n",
              "      <th>Dividends</th>\n",
              "      <th>Stock Splits</th>\n",
              "    </tr>\n",
              "    <tr>\n",
              "      <th>Date</th>\n",
              "      <th></th>\n",
              "      <th></th>\n",
              "      <th></th>\n",
              "      <th></th>\n",
              "      <th></th>\n",
              "      <th></th>\n",
              "      <th></th>\n",
              "    </tr>\n",
              "  </thead>\n",
              "  <tbody>\n",
              "    <tr>\n",
              "      <th>2020-12-14</th>\n",
              "      <td>6.570</td>\n",
              "      <td>6.670</td>\n",
              "      <td>5.900</td>\n",
              "      <td>6.090</td>\n",
              "      <td>579200</td>\n",
              "      <td>0</td>\n",
              "      <td>0</td>\n",
              "    </tr>\n",
              "    <tr>\n",
              "      <th>2020-12-15</th>\n",
              "      <td>6.300</td>\n",
              "      <td>6.800</td>\n",
              "      <td>6.200</td>\n",
              "      <td>6.760</td>\n",
              "      <td>326300</td>\n",
              "      <td>0</td>\n",
              "      <td>0</td>\n",
              "    </tr>\n",
              "    <tr>\n",
              "      <th>2020-12-16</th>\n",
              "      <td>6.850</td>\n",
              "      <td>6.880</td>\n",
              "      <td>6.500</td>\n",
              "      <td>6.780</td>\n",
              "      <td>313200</td>\n",
              "      <td>0</td>\n",
              "      <td>0</td>\n",
              "    </tr>\n",
              "    <tr>\n",
              "      <th>2020-12-17</th>\n",
              "      <td>6.800</td>\n",
              "      <td>6.800</td>\n",
              "      <td>6.500</td>\n",
              "      <td>6.790</td>\n",
              "      <td>265600</td>\n",
              "      <td>0</td>\n",
              "      <td>0</td>\n",
              "    </tr>\n",
              "    <tr>\n",
              "      <th>2020-12-18</th>\n",
              "      <td>6.780</td>\n",
              "      <td>6.860</td>\n",
              "      <td>6.620</td>\n",
              "      <td>6.730</td>\n",
              "      <td>96300</td>\n",
              "      <td>0</td>\n",
              "      <td>0</td>\n",
              "    </tr>\n",
              "    <tr>\n",
              "      <th>...</th>\n",
              "      <td>...</td>\n",
              "      <td>...</td>\n",
              "      <td>...</td>\n",
              "      <td>...</td>\n",
              "      <td>...</td>\n",
              "      <td>...</td>\n",
              "      <td>...</td>\n",
              "    </tr>\n",
              "    <tr>\n",
              "      <th>2021-10-04</th>\n",
              "      <td>0.565</td>\n",
              "      <td>0.565</td>\n",
              "      <td>0.503</td>\n",
              "      <td>0.520</td>\n",
              "      <td>976700</td>\n",
              "      <td>0</td>\n",
              "      <td>0</td>\n",
              "    </tr>\n",
              "    <tr>\n",
              "      <th>2021-10-05</th>\n",
              "      <td>0.517</td>\n",
              "      <td>0.540</td>\n",
              "      <td>0.502</td>\n",
              "      <td>0.510</td>\n",
              "      <td>734400</td>\n",
              "      <td>0</td>\n",
              "      <td>0</td>\n",
              "    </tr>\n",
              "    <tr>\n",
              "      <th>2021-10-06</th>\n",
              "      <td>0.500</td>\n",
              "      <td>0.555</td>\n",
              "      <td>0.500</td>\n",
              "      <td>0.551</td>\n",
              "      <td>781000</td>\n",
              "      <td>0</td>\n",
              "      <td>0</td>\n",
              "    </tr>\n",
              "    <tr>\n",
              "      <th>2021-10-07</th>\n",
              "      <td>0.550</td>\n",
              "      <td>0.568</td>\n",
              "      <td>0.535</td>\n",
              "      <td>0.563</td>\n",
              "      <td>665100</td>\n",
              "      <td>0</td>\n",
              "      <td>0</td>\n",
              "    </tr>\n",
              "    <tr>\n",
              "      <th>2021-10-08</th>\n",
              "      <td>0.570</td>\n",
              "      <td>0.591</td>\n",
              "      <td>0.533</td>\n",
              "      <td>0.560</td>\n",
              "      <td>680000</td>\n",
              "      <td>0</td>\n",
              "      <td>0</td>\n",
              "    </tr>\n",
              "  </tbody>\n",
              "</table>\n",
              "<p>207 rows × 7 columns</p>\n",
              "</div>"
            ],
            "text/plain": [
              "             Open   High    Low  Close  Volume  Dividends  Stock Splits\n",
              "Date                                                                   \n",
              "2020-12-14  6.570  6.670  5.900  6.090  579200          0             0\n",
              "2020-12-15  6.300  6.800  6.200  6.760  326300          0             0\n",
              "2020-12-16  6.850  6.880  6.500  6.780  313200          0             0\n",
              "2020-12-17  6.800  6.800  6.500  6.790  265600          0             0\n",
              "2020-12-18  6.780  6.860  6.620  6.730   96300          0             0\n",
              "...           ...    ...    ...    ...     ...        ...           ...\n",
              "2021-10-04  0.565  0.565  0.503  0.520  976700          0             0\n",
              "2021-10-05  0.517  0.540  0.502  0.510  734400          0             0\n",
              "2021-10-06  0.500  0.555  0.500  0.551  781000          0             0\n",
              "2021-10-07  0.550  0.568  0.535  0.563  665100          0             0\n",
              "2021-10-08  0.570  0.591  0.533  0.560  680000          0             0\n",
              "\n",
              "[207 rows x 7 columns]"
            ]
          },
          "metadata": {},
          "execution_count": 8
        }
      ]
    },
    {
      "cell_type": "markdown",
      "metadata": {
        "id": "YPbHPLTkXn_q"
      },
      "source": [
        "We will create a Series named \"aapl\" whose values are Apple's daily closing prices, which are of course indexed by dates:"
      ]
    },
    {
      "cell_type": "code",
      "metadata": {
        "id": "gGjLHUOaXpHn"
      },
      "source": [
        "aapl = aapl_table['Close']['2017']"
      ],
      "execution_count": 9,
      "outputs": []
    },
    {
      "cell_type": "code",
      "metadata": {
        "id": "uRzeDMLdbK2b"
      },
      "source": [
        "# EJEMPLO NUEVO\n",
        "new_apple = new_data['Close']['2021']"
      ],
      "execution_count": 10,
      "outputs": []
    },
    {
      "cell_type": "code",
      "metadata": {
        "colab": {
          "base_uri": "https://localhost:8080/"
        },
        "id": "XLbqYavObfT-",
        "outputId": "57e06611-101a-40da-b3e9-95f6e86e1e90"
      },
      "source": [
        "print(aapl)"
      ],
      "execution_count": 11,
      "outputs": [
        {
          "output_type": "stream",
          "name": "stdout",
          "text": [
            "Date\n",
            "2017-01-03    27.372362\n",
            "2017-01-04    27.341724\n",
            "2017-01-05    27.480768\n",
            "2017-01-06    27.787128\n",
            "2017-01-09    28.041647\n",
            "                ...    \n",
            "2017-12-22    41.906769\n",
            "2017-12-26    40.843601\n",
            "2017-12-27    40.850780\n",
            "2017-12-28    40.965729\n",
            "2017-12-29    40.522736\n",
            "Name: Close, Length: 251, dtype: float64\n"
          ]
        }
      ]
    },
    {
      "cell_type": "code",
      "metadata": {
        "colab": {
          "base_uri": "https://localhost:8080/"
        },
        "id": "Xm-t3G4ebj12",
        "outputId": "551ea329-5835-47e1-c1b6-5e02c772e6f9"
      },
      "source": [
        "# EJEMPLO NUEVO\n",
        "print(new_apple)\n"
      ],
      "execution_count": 12,
      "outputs": [
        {
          "output_type": "stream",
          "name": "stdout",
          "text": [
            "Date\n",
            "2021-01-04    6.120\n",
            "2021-01-05    6.160\n",
            "2021-01-06    6.100\n",
            "2021-01-07    6.110\n",
            "2021-01-08    6.360\n",
            "              ...  \n",
            "2021-10-04    0.520\n",
            "2021-10-05    0.510\n",
            "2021-10-06    0.551\n",
            "2021-10-07    0.563\n",
            "2021-10-08    0.560\n",
            "Name: Close, Length: 194, dtype: float64\n"
          ]
        }
      ]
    },
    {
      "cell_type": "markdown",
      "metadata": {
        "id": "qXL0DqEOcA50"
      },
      "source": [
        "Recall that we can fetch a specific data point using series['yyyy-mm-dd']. We can also fetch the data in a specific month using series['yyyy-mm']."
      ]
    },
    {
      "cell_type": "code",
      "metadata": {
        "colab": {
          "base_uri": "https://localhost:8080/"
        },
        "id": "6BxS8MMUcPc1",
        "outputId": "45207989-a261-4e2b-8298-2ff24f4f3404"
      },
      "source": [
        "print(aapl['2017-3'])"
      ],
      "execution_count": 13,
      "outputs": [
        {
          "output_type": "stream",
          "name": "stdout",
          "text": [
            "Date\n",
            "2017-03-01    33.086273\n",
            "2017-03-02    32.889843\n",
            "2017-03-03    33.083927\n",
            "2017-03-06    32.979771\n",
            "2017-03-07    33.022381\n",
            "2017-03-08    32.899315\n",
            "2017-03-09    32.823559\n",
            "2017-03-10    32.932442\n",
            "2017-03-13    32.946636\n",
            "2017-03-14    32.896938\n",
            "2017-03-15    33.244865\n",
            "2017-03-16    33.299297\n",
            "2017-03-17    33.133629\n",
            "2017-03-20    33.481544\n",
            "2017-03-21    33.098118\n",
            "2017-03-22    33.472088\n",
            "2017-03-23    33.353737\n",
            "2017-03-24    33.287472\n",
            "2017-03-27    33.344273\n",
            "2017-03-28    34.035393\n",
            "2017-03-29    34.111130\n",
            "2017-03-30    34.066166\n",
            "2017-03-31    34.002258\n",
            "Name: Close, dtype: float64\n"
          ]
        }
      ]
    },
    {
      "cell_type": "code",
      "metadata": {
        "colab": {
          "base_uri": "https://localhost:8080/"
        },
        "id": "KZEsJimCcPni",
        "outputId": "e97cc741-f6ea-4a38-9ef7-f0115b243292"
      },
      "source": [
        "# NUEVO EJEMPLO\n",
        "print(new_apple['2021-09'])"
      ],
      "execution_count": 15,
      "outputs": [
        {
          "output_type": "stream",
          "name": "stdout",
          "text": [
            "Date\n",
            "2021-09-01    0.707\n",
            "2021-09-02    0.690\n",
            "2021-09-03    0.661\n",
            "2021-09-07    0.680\n",
            "2021-09-08    0.639\n",
            "2021-09-09    0.623\n",
            "2021-09-10    0.620\n",
            "2021-09-13    0.630\n",
            "2021-09-14    0.577\n",
            "2021-09-15    0.540\n",
            "2021-09-16    0.535\n",
            "2021-09-17    0.507\n",
            "2021-09-20    0.458\n",
            "2021-09-21    0.451\n",
            "2021-09-22    0.480\n",
            "2021-09-23    0.490\n",
            "2021-09-24    0.480\n",
            "2021-09-27    0.530\n",
            "2021-09-28    0.554\n",
            "2021-09-29    0.532\n",
            "2021-09-30    0.580\n",
            "Name: Close, dtype: float64\n"
          ]
        }
      ]
    },
    {
      "cell_type": "code",
      "metadata": {
        "colab": {
          "base_uri": "https://localhost:8080/"
        },
        "id": "u3aQXRLJdJDi",
        "outputId": "d84d3140-2ef8-400a-8e91-5982e932a8e3"
      },
      "source": [
        "aapl['2017-2':'2017-4']"
      ],
      "execution_count": 16,
      "outputs": [
        {
          "output_type": "execute_result",
          "data": {
            "text/plain": [
              "Date\n",
              "2017-02-01    30.341730\n",
              "2017-02-02    30.289881\n",
              "2017-02-03    30.419500\n",
              "2017-02-06    30.704645\n",
              "2017-02-07    30.996874\n",
              "                ...    \n",
              "2017-04-24    33.997517\n",
              "2017-04-25    34.208172\n",
              "2017-04-26    34.006989\n",
              "2017-04-27    34.033016\n",
              "2017-04-28    33.999889\n",
              "Name: Close, Length: 61, dtype: float64"
            ]
          },
          "metadata": {},
          "execution_count": 16
        }
      ]
    },
    {
      "cell_type": "code",
      "metadata": {
        "colab": {
          "base_uri": "https://localhost:8080/"
        },
        "id": "ZhzcOCtadM8E",
        "outputId": "a32ce88f-76f4-4e67-cc97-93d537910be0"
      },
      "source": [
        "#NUEVO EJEMPLO\n",
        "new_apple['2020-10':'2021-01']"
      ],
      "execution_count": 17,
      "outputs": [
        {
          "output_type": "execute_result",
          "data": {
            "text/plain": [
              "Date\n",
              "2021-01-04    6.12\n",
              "2021-01-05    6.16\n",
              "2021-01-06    6.10\n",
              "2021-01-07    6.11\n",
              "2021-01-08    6.36\n",
              "2021-01-11    6.39\n",
              "2021-01-12    6.07\n",
              "2021-01-13    6.02\n",
              "2021-01-14    6.00\n",
              "2021-01-15    5.74\n",
              "2021-01-19    5.97\n",
              "2021-01-20    6.36\n",
              "2021-01-21    6.54\n",
              "2021-01-22    6.94\n",
              "2021-01-25    6.69\n",
              "2021-01-26    6.50\n",
              "2021-01-27    6.65\n",
              "2021-01-28    6.18\n",
              "2021-01-29    6.33\n",
              "Name: Close, dtype: float64"
            ]
          },
          "metadata": {},
          "execution_count": 17
        }
      ]
    },
    {
      "cell_type": "markdown",
      "metadata": {
        "id": "wncJG81HeRlU"
      },
      "source": [
        ".head(N) and .tail(N) are methods for quickly accessing the first or last N elements."
      ]
    },
    {
      "cell_type": "code",
      "metadata": {
        "colab": {
          "base_uri": "https://localhost:8080/"
        },
        "id": "4CNSc9YceS6X",
        "outputId": "9e86eda6-6ad6-4bc9-f795-9539433622ef"
      },
      "source": [
        "print(aapl.head(5))\n",
        "print(aapl.tail(10))"
      ],
      "execution_count": 18,
      "outputs": [
        {
          "output_type": "stream",
          "name": "stdout",
          "text": [
            "Date\n",
            "2017-01-03    27.372362\n",
            "2017-01-04    27.341724\n",
            "2017-01-05    27.480768\n",
            "2017-01-06    27.787128\n",
            "2017-01-09    28.041647\n",
            "Name: Close, dtype: float64\n",
            "Date\n",
            "2017-12-15    41.657742\n",
            "2017-12-18    42.244396\n",
            "2017-12-19    41.794228\n",
            "2017-12-20    41.748730\n",
            "2017-12-21    41.906769\n",
            "2017-12-22    41.906769\n",
            "2017-12-26    40.843601\n",
            "2017-12-27    40.850780\n",
            "2017-12-28    40.965729\n",
            "2017-12-29    40.522736\n",
            "Name: Close, dtype: float64\n"
          ]
        }
      ]
    },
    {
      "cell_type": "code",
      "metadata": {
        "colab": {
          "base_uri": "https://localhost:8080/"
        },
        "id": "FNuyuivAeZHz",
        "outputId": "dcd2498a-bdef-4e87-b1ef-50c041ebac33"
      },
      "source": [
        "# NUEVO EJEMPLO\n",
        "print(new_apple.head(5))\n",
        "print(new_apple.tail(9))"
      ],
      "execution_count": 19,
      "outputs": [
        {
          "output_type": "stream",
          "name": "stdout",
          "text": [
            "Date\n",
            "2021-01-04    6.12\n",
            "2021-01-05    6.16\n",
            "2021-01-06    6.10\n",
            "2021-01-07    6.11\n",
            "2021-01-08    6.36\n",
            "Name: Close, dtype: float64\n",
            "Date\n",
            "2021-09-28    0.554\n",
            "2021-09-29    0.532\n",
            "2021-09-30    0.580\n",
            "2021-10-01    0.540\n",
            "2021-10-04    0.520\n",
            "2021-10-05    0.510\n",
            "2021-10-06    0.551\n",
            "2021-10-07    0.563\n",
            "2021-10-08    0.560\n",
            "Name: Close, dtype: float64\n"
          ]
        }
      ]
    },
    {
      "cell_type": "markdown",
      "metadata": {
        "id": "7iw-l646e10w"
      },
      "source": [
        "# Resampling\n",
        "**_series.resample(freq)_** is a class called \"DatetimeIndexResampler\" which groups data in a Series object into regular time intervals. The argument \"freq\" determines the length of each interval.\n",
        "\n",
        "**_series.resample.mean()_** is a complete statement that groups data into intervals, and then compute the mean of each interval. For example, if we want to aggregate the daily data into monthly data by mean:"
      ]
    },
    {
      "cell_type": "code",
      "metadata": {
        "colab": {
          "base_uri": "https://localhost:8080/"
        },
        "id": "V_DqmvtyfAWs",
        "outputId": "2cc5a240-a69e-4cd3-c3a3-849d10265296"
      },
      "source": [
        "\n",
        "by_month = aapl.resample('M').mean()\n",
        "print(by_month)"
      ],
      "execution_count": 20,
      "outputs": [
        {
          "output_type": "stream",
          "name": "stdout",
          "text": [
            "Date\n",
            "2017-01-31    28.178331\n",
            "2017-02-28    31.606277\n",
            "2017-03-31    33.282220\n",
            "2017-04-30    33.819262\n",
            "2017-05-31    36.125683\n",
            "2017-06-30    35.133983\n",
            "2017-07-31    35.245244\n",
            "2017-08-31    37.897229\n",
            "2017-09-30    37.604738\n",
            "2017-10-31    37.654551\n",
            "2017-11-30    41.233916\n",
            "2017-12-31    41.160037\n",
            "Freq: M, Name: Close, dtype: float64\n"
          ]
        }
      ]
    },
    {
      "cell_type": "code",
      "metadata": {
        "colab": {
          "base_uri": "https://localhost:8080/"
        },
        "id": "3boh0QRBfHJ3",
        "outputId": "41309c86-c235-4f23-b2d9-20fa29348fd7"
      },
      "source": [
        "# NUEVO EJEMPLO\n",
        "by_month = new_apple.resample('M').mean()\n",
        "print(by_month)"
      ],
      "execution_count": 21,
      "outputs": [
        {
          "output_type": "stream",
          "name": "stdout",
          "text": [
            "Date\n",
            "2021-01-31    6.275263\n",
            "2021-02-28    7.546316\n",
            "2021-03-31    5.577826\n",
            "2021-04-30    3.806190\n",
            "2021-05-31    2.609500\n",
            "2021-06-30    1.883182\n",
            "2021-07-31    1.194762\n",
            "2021-08-31    0.625455\n",
            "2021-09-30    0.569714\n",
            "2021-10-31    0.540667\n",
            "Freq: M, Name: Close, dtype: float64\n"
          ]
        }
      ]
    },
    {
      "cell_type": "markdown",
      "metadata": {
        "id": "bFJ6BELBgCJK"
      },
      "source": [
        "We can also aggregate the data by month with max:"
      ]
    },
    {
      "cell_type": "code",
      "metadata": {
        "colab": {
          "base_uri": "https://localhost:8080/"
        },
        "id": "lYoVemkugFPT",
        "outputId": "d1b41f2e-1c9f-4cc2-b361-cb1f7316b41a"
      },
      "source": [
        "aapl.resample('M').max()"
      ],
      "execution_count": 22,
      "outputs": [
        {
          "output_type": "execute_result",
          "data": {
            "text/plain": [
              "Date\n",
              "2017-01-31    28.739212\n",
              "2017-02-28    32.451962\n",
              "2017-03-31    34.111130\n",
              "2017-04-30    34.264984\n",
              "2017-05-31    37.099125\n",
              "2017-06-30    36.944645\n",
              "2017-07-31    36.471699\n",
              "2017-08-31    39.129719\n",
              "2017-09-30    39.141651\n",
              "2017-10-31    40.332245\n",
              "2017-11-30    42.050137\n",
              "2017-12-31    42.244396\n",
              "Freq: M, Name: Close, dtype: float64"
            ]
          },
          "metadata": {},
          "execution_count": 22
        }
      ]
    },
    {
      "cell_type": "code",
      "metadata": {
        "colab": {
          "base_uri": "https://localhost:8080/"
        },
        "id": "Vr_sNpH8gRQ7",
        "outputId": "02307d3f-1005-4d59-d8c4-46dbd6d14495"
      },
      "source": [
        "# NUEVO EJEMPLO\n",
        "new_apple.resample('M').max()"
      ],
      "execution_count": 23,
      "outputs": [
        {
          "output_type": "execute_result",
          "data": {
            "text/plain": [
              "Date\n",
              "2021-01-31    6.940\n",
              "2021-02-28    8.810\n",
              "2021-03-31    7.420\n",
              "2021-04-30    4.350\n",
              "2021-05-31    3.400\n",
              "2021-06-30    2.200\n",
              "2021-07-31    1.780\n",
              "2021-08-31    0.716\n",
              "2021-09-30    0.707\n",
              "2021-10-31    0.563\n",
              "Freq: M, Name: Close, dtype: float64"
            ]
          },
          "metadata": {},
          "execution_count": 23
        }
      ]
    },
    {
      "cell_type": "markdown",
      "metadata": {
        "id": "SfsQjVeJggIy"
      },
      "source": [
        "We can choose almost any frequency by using the format 'nf', where 'n' is an integer and 'f' is M for month, W for week and D for day."
      ]
    },
    {
      "cell_type": "code",
      "metadata": {
        "colab": {
          "base_uri": "https://localhost:8080/"
        },
        "id": "5GVdKZEggj8r",
        "outputId": "129288d1-d8b5-4b90-aa1d-ea34d1d563dc"
      },
      "source": [
        "three_day = aapl.resample('3D').mean()\n",
        "two_week = aapl.resample('2W').mean()\n",
        "two_month = aapl.resample('2M').mean()\n",
        "\n",
        "\n",
        "print(three_day)\n",
        "print(two_week)\n",
        "print(two_month )"
      ],
      "execution_count": 24,
      "outputs": [
        {
          "output_type": "stream",
          "name": "stdout",
          "text": [
            "Date\n",
            "2017-01-03    27.398285\n",
            "2017-01-06    27.787128\n",
            "2017-01-09    28.110773\n",
            "2017-01-12    28.078175\n",
            "2017-01-15    28.279667\n",
            "                ...    \n",
            "2017-12-17    42.019312\n",
            "2017-12-20    41.854089\n",
            "2017-12-23          NaN\n",
            "2017-12-26    40.886703\n",
            "2017-12-29    40.522736\n",
            "Freq: 3D, Name: Close, Length: 121, dtype: float64\n",
            "Date\n",
            "2017-01-08    27.495496\n",
            "2017-01-22    28.172571\n",
            "2017-02-05    29.108261\n",
            "2017-02-19    31.516818\n",
            "2017-03-05    32.595558\n",
            "2017-03-19    33.017883\n",
            "2017-04-02    33.625218\n",
            "2017-04-16    33.849728\n",
            "2017-04-30    33.791842\n",
            "2017-05-14    35.697631\n",
            "2017-05-28    36.496178\n",
            "2017-06-11    36.515007\n",
            "2017-06-25    34.529045\n",
            "2017-07-09    34.265135\n",
            "2017-07-23    35.278873\n",
            "2017-08-06    36.272777\n",
            "2017-08-20    37.904120\n",
            "2017-09-03    38.458791\n",
            "2017-09-17    38.282708\n",
            "2017-10-01    36.840874\n",
            "2017-10-15    37.071597\n",
            "2017-10-29    37.757320\n",
            "2017-11-12    41.032238\n",
            "2017-11-26    41.204376\n",
            "2017-12-10    40.867068\n",
            "2017-12-24    41.620863\n",
            "2018-01-07    40.795712\n",
            "Freq: 2W-SUN, Name: Close, dtype: float64\n",
            "Date\n",
            "2017-01-31    28.178331\n",
            "2017-03-31    32.524055\n",
            "2017-05-31    35.056854\n",
            "2017-07-31    35.186964\n",
            "2017-09-30    37.761187\n",
            "2017-11-30    39.402613\n",
            "2018-01-31    41.160037\n",
            "Freq: 2M, Name: Close, dtype: float64\n"
          ]
        }
      ]
    },
    {
      "cell_type": "code",
      "metadata": {
        "colab": {
          "base_uri": "https://localhost:8080/"
        },
        "id": "OSW_Ttxmgoxz",
        "outputId": "7f4eda76-a76b-4c4f-814b-8835df947664"
      },
      "source": [
        "# NUEVO EJEMPLO\n",
        "three_day = new_apple.resample('3D').mean()\n",
        "two_week = new_apple.resample('2W').mean()\n",
        "two_month = new_apple.resample('2M').mean()\n",
        "\n",
        "\n",
        "print(three_day)\n",
        "print(two_week)\n",
        "print(two_month )"
      ],
      "execution_count": 25,
      "outputs": [
        {
          "output_type": "stream",
          "name": "stdout",
          "text": [
            "Date\n",
            "2021-01-04    6.126667\n",
            "2021-01-07    6.235000\n",
            "2021-01-10    6.230000\n",
            "2021-01-13    5.920000\n",
            "2021-01-16         NaN\n",
            "                ...   \n",
            "2021-09-25    0.530000\n",
            "2021-09-28    0.555333\n",
            "2021-10-01    0.540000\n",
            "2021-10-04    0.527000\n",
            "2021-10-07    0.561500\n",
            "Freq: 3D, Name: Close, Length: 93, dtype: float64\n",
            "Date\n",
            "2021-01-10    6.170000\n",
            "2021-01-24    6.225556\n",
            "2021-02-07    6.625000\n",
            "2021-02-21    8.011111\n",
            "2021-03-07    7.120000\n",
            "2021-03-21    5.880000\n",
            "2021-04-04    4.446667\n",
            "2021-04-18    3.728000\n",
            "2021-05-02    3.830000\n",
            "2021-05-16    3.027000\n",
            "2021-05-30    2.192000\n",
            "2021-06-13    1.963333\n",
            "2021-06-27    1.829000\n",
            "2021-07-11    1.641111\n",
            "2021-07-25    1.233000\n",
            "2021-08-08    0.683200\n",
            "2021-08-22    0.615800\n",
            "2021-09-05    0.628800\n",
            "2021-09-19    0.594556\n",
            "2021-10-03    0.509500\n",
            "2021-10-17    0.540800\n",
            "Freq: 2W-SUN, Name: Close, dtype: float64\n",
            "Date\n",
            "2021-01-31    6.275263\n",
            "2021-03-31    6.468333\n",
            "2021-05-31    3.222439\n",
            "2021-07-31    1.546977\n",
            "2021-09-30    0.598233\n",
            "2021-11-30    0.540667\n",
            "Freq: 2M, Name: Close, dtype: float64\n"
          ]
        }
      ]
    },
    {
      "cell_type": "markdown",
      "metadata": {
        "id": "x4lt8egpg7dI"
      },
      "source": [
        "Besides the mean() method, other methods can also be used with the resampler:\n"
      ]
    },
    {
      "cell_type": "code",
      "metadata": {
        "colab": {
          "base_uri": "https://localhost:8080/"
        },
        "id": "y8s62mIOhCVo",
        "outputId": "6a01718b-8fc7-4d78-9197-47c0229fb6de"
      },
      "source": [
        "std = aapl.resample('W').std()\n",
        "max = aapl.resample('W').max()\n",
        "min = aapl.resample('W').min()\n",
        "\n",
        "\n",
        "print(std)\n",
        "print(max)\n",
        "print(min)"
      ],
      "execution_count": 26,
      "outputs": [
        {
          "output_type": "stream",
          "name": "stdout",
          "text": [
            "Date\n",
            "2017-01-08    0.203367\n",
            "2017-01-15    0.072528\n",
            "2017-01-22    0.025554\n",
            "2017-01-29    0.245284\n",
            "2017-02-05    0.943262\n",
            "2017-02-12    0.252003\n",
            "2017-02-19    0.231389\n",
            "2017-02-26    0.059342\n",
            "2017-03-05    0.340088\n",
            "2017-03-12    0.076285\n",
            "2017-03-19    0.177834\n",
            "2017-03-26    0.157263\n",
            "2017-04-02    0.319807\n",
            "2017-04-09    0.128690\n",
            "2017-04-16    0.212480\n",
            "2017-04-23    0.174672\n",
            "2017-04-30    0.090026\n",
            "2017-05-07    0.235640\n",
            "2017-05-14    0.352980\n",
            "2017-05-21    0.536091\n",
            "2017-05-28    0.060390\n",
            "2017-06-04    0.281222\n",
            "2017-06-11    0.620034\n",
            "2017-06-18    0.382567\n",
            "2017-06-25    0.128893\n",
            "2017-07-02    0.264106\n",
            "2017-07-09    0.158887\n",
            "2017-07-16    0.404283\n",
            "2017-07-23    0.124992\n",
            "2017-07-30    0.384441\n",
            "2017-08-06    0.924390\n",
            "2017-08-13    0.467470\n",
            "2017-08-20    0.435251\n",
            "2017-08-27    0.275765\n",
            "2017-09-03    0.251723\n",
            "2017-09-10    0.381644\n",
            "2017-09-17    0.294139\n",
            "2017-09-24    0.735195\n",
            "2017-10-01    0.354845\n",
            "2017-10-08    0.204853\n",
            "2017-10-15    0.118732\n",
            "2017-10-22    0.517001\n",
            "2017-10-29    0.680456\n",
            "2017-11-05    0.560688\n",
            "2017-11-12    0.190969\n",
            "2017-11-19    0.436197\n",
            "2017-11-26    0.563045\n",
            "2017-12-03    0.427442\n",
            "2017-12-10    0.073124\n",
            "2017-12-17    0.205265\n",
            "2017-12-24    0.194123\n",
            "2017-12-31    0.190392\n",
            "Freq: W-SUN, Name: Close, dtype: float64\n",
            "Date\n",
            "2017-01-08    27.787128\n",
            "2017-01-15    28.220749\n",
            "2017-01-22    28.279667\n",
            "2017-01-29    28.739212\n",
            "2017-02-05    30.419500\n",
            "2017-02-12    31.341915\n",
            "2017-02-19    32.122974\n",
            "2017-02-26    32.451962\n",
            "2017-03-05    33.086273\n",
            "2017-03-12    33.022381\n",
            "2017-03-19    33.299297\n",
            "2017-03-26    33.481544\n",
            "2017-04-02    34.111130\n",
            "2017-04-09    34.264984\n",
            "2017-04-16    33.886288\n",
            "2017-04-23    33.713505\n",
            "2017-04-30    34.208172\n",
            "2017-05-07    35.256699\n",
            "2017-05-14    37.099125\n",
            "2017-05-21    37.004063\n",
            "2017-05-28    36.597656\n",
            "2017-06-04    36.944645\n",
            "2017-06-11    36.925636\n",
            "2017-06-18    34.838955\n",
            "2017-06-25    34.779549\n",
            "2017-07-02    34.658325\n",
            "2017-07-09    34.266197\n",
            "2017-07-16    35.421234\n",
            "2017-07-23    35.891808\n",
            "2017-07-30    36.471699\n",
            "2017-08-06    37.346302\n",
            "2017-08-13    38.277931\n",
            "2017-08-20    38.557095\n",
            "2017-08-27    38.170567\n",
            "2017-09-03    39.141651\n",
            "2017-09-10    38.671616\n",
            "2017-09-17    38.533234\n",
            "2017-09-24    37.872326\n",
            "2017-10-01    36.798641\n",
            "2017-10-08    37.075409\n",
            "2017-10-15    37.457165\n",
            "2017-10-22    38.287483\n",
            "2017-10-29    38.903061\n",
            "2017-11-05    41.157795\n",
            "2017-11-12    42.050137\n",
            "2017-11-19    41.657742\n",
            "2017-11-26    41.897194\n",
            "2017-12-03    41.686481\n",
            "2017-12-10    40.659214\n",
            "2017-12-17    41.657742\n",
            "2017-12-24    42.244396\n",
            "2017-12-31    40.965729\n",
            "Freq: W-SUN, Name: Close, dtype: float64\n",
            "Date\n",
            "2017-01-08    27.341724\n",
            "2017-01-15    28.041647\n",
            "2017-01-22    28.227821\n",
            "2017-01-29    28.272598\n",
            "2017-02-05    28.597815\n",
            "2017-02-12    30.704645\n",
            "2017-02-19    31.547834\n",
            "2017-02-26    32.314690\n",
            "2017-03-05    32.409363\n",
            "2017-03-12    32.823559\n",
            "2017-03-19    32.896938\n",
            "2017-03-26    33.098118\n",
            "2017-04-02    33.344273\n",
            "2017-04-09    33.926521\n",
            "2017-04-16    33.384506\n",
            "2017-04-23    33.296932\n",
            "2017-04-30    33.997517\n",
            "2017-05-07    34.681549\n",
            "2017-05-14    36.215260\n",
            "2017-05-21    35.708805\n",
            "2017-05-28    36.443184\n",
            "2017-06-04    36.305336\n",
            "2017-06-11    35.406975\n",
            "2017-06-18    33.812248\n",
            "2017-06-25    34.463451\n",
            "2017-07-02    34.147354\n",
            "2017-07-09    33.921589\n",
            "2017-07-16    34.475330\n",
            "2017-07-23    35.544811\n",
            "2017-07-30    35.530556\n",
            "2017-08-06    35.347565\n",
            "2017-08-13    37.058708\n",
            "2017-08-20    37.578854\n",
            "2017-08-27    37.509659\n",
            "2017-09-03    38.526077\n",
            "2017-09-10    37.848454\n",
            "2017-09-17    37.764957\n",
            "2017-09-24    36.240322\n",
            "2017-10-01    35.920609\n",
            "2017-10-08    36.619701\n",
            "2017-10-15    37.182785\n",
            "2017-10-22    37.216179\n",
            "2017-10-29    37.261517\n",
            "2017-11-05    39.778706\n",
            "2017-11-12    41.575336\n",
            "2017-11-19    40.486816\n",
            "2017-11-26    40.702320\n",
            "2017-12-03    40.582603\n",
            "2017-12-10    40.470058\n",
            "2017-12-17    41.114182\n",
            "2017-12-24    41.748730\n",
            "2017-12-31    40.522736\n",
            "Freq: W-SUN, Name: Close, dtype: float64\n"
          ]
        }
      ]
    },
    {
      "cell_type": "code",
      "metadata": {
        "colab": {
          "base_uri": "https://localhost:8080/"
        },
        "id": "Zr-kKHEjhERe",
        "outputId": "464363b9-cc6c-4e81-f8e6-793541fd6eef"
      },
      "source": [
        "# NUEVO EJEMPLO\n",
        "std = new_apple.resample('W').std()\n",
        "max = new_apple.resample('W').max()\n",
        "min = new_apple.resample('W').min()\n",
        "\n",
        "\n",
        "print(std)\n",
        "print(max)\n",
        "print(min)"
      ],
      "execution_count": 27,
      "outputs": [
        {
          "output_type": "stream",
          "name": "stdout",
          "text": [
            "Date\n",
            "2021-01-10    0.108628\n",
            "2021-01-17    0.232013\n",
            "2021-01-24    0.402772\n",
            "2021-01-31    0.215291\n",
            "2021-02-07    0.198872\n",
            "2021-02-14    0.413944\n",
            "2021-02-21    0.179072\n",
            "2021-02-28    0.394183\n",
            "2021-03-07    0.488600\n",
            "2021-03-14    0.218929\n",
            "2021-03-21    0.267451\n",
            "2021-03-28    0.531347\n",
            "2021-04-04    0.297881\n",
            "2021-04-11    0.118448\n",
            "2021-04-18    0.048166\n",
            "2021-04-25    0.093167\n",
            "2021-05-02    0.239541\n",
            "2021-05-09    0.146799\n",
            "2021-05-16    0.200075\n",
            "2021-05-23    0.107378\n",
            "2021-05-30    0.140428\n",
            "2021-06-06    0.100457\n",
            "2021-06-13    0.189921\n",
            "2021-06-20    0.132966\n",
            "2021-06-27    0.074632\n",
            "2021-07-04    0.065422\n",
            "2021-07-11    0.106771\n",
            "2021-07-18    0.076289\n",
            "2021-07-25    0.174442\n",
            "2021-08-01    0.032280\n",
            "2021-08-08    0.003912\n",
            "2021-08-15    0.044289\n",
            "2021-08-22    0.017869\n",
            "2021-08-29    0.026725\n",
            "2021-09-05    0.037925\n",
            "2021-09-12    0.027622\n",
            "2021-09-19    0.047431\n",
            "2021-09-26    0.016498\n",
            "2021-10-03    0.020620\n",
            "2021-10-10    0.024222\n",
            "Freq: W-SUN, Name: Close, dtype: float64\n",
            "Date\n",
            "2021-01-10    6.360\n",
            "2021-01-17    6.390\n",
            "2021-01-24    6.940\n",
            "2021-01-31    6.690\n",
            "2021-02-07    7.040\n",
            "2021-02-14    8.030\n",
            "2021-02-21    8.810\n",
            "2021-02-28    8.020\n",
            "2021-03-07    7.420\n",
            "2021-03-14    6.210\n",
            "2021-03-21    6.210\n",
            "2021-03-28    5.570\n",
            "2021-04-04    4.350\n",
            "2021-04-11    4.090\n",
            "2021-04-18    3.620\n",
            "2021-04-25    3.830\n",
            "2021-05-02    4.130\n",
            "2021-05-09    3.400\n",
            "2021-05-16    3.100\n",
            "2021-05-23    2.540\n",
            "2021-05-30    2.160\n",
            "2021-06-06    2.020\n",
            "2021-06-13    2.200\n",
            "2021-06-20    2.030\n",
            "2021-06-27    1.870\n",
            "2021-07-04    1.840\n",
            "2021-07-11    1.610\n",
            "2021-07-18    1.420\n",
            "2021-07-25    1.260\n",
            "2021-08-01    0.728\n",
            "2021-08-08    0.679\n",
            "2021-08-15    0.716\n",
            "2021-08-22    0.583\n",
            "2021-08-29    0.634\n",
            "2021-09-05    0.707\n",
            "2021-09-12    0.680\n",
            "2021-09-19    0.630\n",
            "2021-09-26    0.490\n",
            "2021-10-03    0.580\n",
            "2021-10-10    0.563\n",
            "Freq: W-SUN, Name: Close, dtype: float64\n",
            "Date\n",
            "2021-01-10    6.100\n",
            "2021-01-17    5.740\n",
            "2021-01-24    5.970\n",
            "2021-01-31    6.180\n",
            "2021-02-07    6.560\n",
            "2021-02-14    6.920\n",
            "2021-02-21    8.400\n",
            "2021-02-28    7.090\n",
            "2021-03-07    6.260\n",
            "2021-03-14    5.670\n",
            "2021-03-21    5.520\n",
            "2021-03-28    4.200\n",
            "2021-04-04    3.690\n",
            "2021-04-11    3.760\n",
            "2021-04-18    3.490\n",
            "2021-04-25    3.610\n",
            "2021-05-02    3.590\n",
            "2021-05-09    2.990\n",
            "2021-05-16    2.590\n",
            "2021-05-23    2.300\n",
            "2021-05-30    1.770\n",
            "2021-06-06    1.800\n",
            "2021-06-13    1.760\n",
            "2021-06-20    1.710\n",
            "2021-06-27    1.690\n",
            "2021-07-04    1.680\n",
            "2021-07-11    1.360\n",
            "2021-07-18    1.240\n",
            "2021-07-25    0.840\n",
            "2021-08-01    0.652\n",
            "2021-08-08    0.670\n",
            "2021-08-15    0.604\n",
            "2021-08-22    0.536\n",
            "2021-08-29    0.562\n",
            "2021-09-05    0.609\n",
            "2021-09-12    0.620\n",
            "2021-09-19    0.507\n",
            "2021-09-26    0.451\n",
            "2021-10-03    0.530\n",
            "2021-10-10    0.510\n",
            "Freq: W-SUN, Name: Close, dtype: float64\n"
          ]
        }
      ]
    },
    {
      "cell_type": "markdown",
      "metadata": {
        "id": "0USa5ZCmhWDV"
      },
      "source": [
        "Often we want to calculate monthly returns of a stock, based on prices on the last day of each month. To fetch those prices, we use the series.resample.agg() method:"
      ]
    },
    {
      "cell_type": "code",
      "metadata": {
        "colab": {
          "base_uri": "https://localhost:8080/"
        },
        "id": "q9g7J4QzhXly",
        "outputId": "49fbd655-1f92-40d7-88b3-e6699cc82deb"
      },
      "source": [
        "last_day = aapl.resample('M').agg(lambda x: x[-1])\n",
        "print(last_day)"
      ],
      "execution_count": 28,
      "outputs": [
        {
          "output_type": "stream",
          "name": "stdout",
          "text": [
            "Date\n",
            "2017-01-31    28.597815\n",
            "2017-02-28    32.423576\n",
            "2017-03-31    34.002258\n",
            "2017-04-30    33.999889\n",
            "2017-05-31    36.305336\n",
            "2017-06-30    34.228168\n",
            "2017-07-31    35.347565\n",
            "2017-08-31    39.129719\n",
            "2017-09-30    36.772396\n",
            "2017-10-31    40.332245\n",
            "2017-11-30    41.150108\n",
            "2017-12-31    40.522736\n",
            "Freq: M, Name: Close, dtype: float64\n"
          ]
        }
      ]
    },
    {
      "cell_type": "code",
      "metadata": {
        "colab": {
          "base_uri": "https://localhost:8080/"
        },
        "id": "5EBPfPw_hayq",
        "outputId": "97631e2c-518a-4f12-dc40-a54dcfbb9815"
      },
      "source": [
        "# NUEVO EJEMPLO\n",
        "alast_day = new_apple.resample('M').agg(lambda x: x[-3])\n",
        "print(alast_day)"
      ],
      "execution_count": 29,
      "outputs": [
        {
          "output_type": "stream",
          "name": "stdout",
          "text": [
            "Date\n",
            "2021-01-31    6.650\n",
            "2021-02-28    7.710\n",
            "2021-03-31    3.690\n",
            "2021-04-30    4.050\n",
            "2021-05-31    1.770\n",
            "2021-06-30    1.840\n",
            "2021-07-31    0.728\n",
            "2021-08-31    0.595\n",
            "2021-09-30    0.554\n",
            "2021-10-31    0.551\n",
            "Freq: M, Name: Close, dtype: float64\n"
          ]
        }
      ]
    },
    {
      "cell_type": "markdown",
      "metadata": {
        "id": "XJiVDm-shuxV"
      },
      "source": [
        "Or directly calculate the monthly rates of return using the data for the first day and the last day:"
      ]
    },
    {
      "cell_type": "code",
      "metadata": {
        "colab": {
          "base_uri": "https://localhost:8080/"
        },
        "id": "oLsffaLih5vq",
        "outputId": "fb7a4297-9d84-487a-cfbe-3108e24f17ca"
      },
      "source": [
        "monthly_return = aapl.resample('M').agg(lambda x: x[-1]/x[0] - 1)\n",
        "print(monthly_return)"
      ],
      "execution_count": 30,
      "outputs": [
        {
          "output_type": "stream",
          "name": "stdout",
          "text": [
            "Date\n",
            "2017-01-31    0.044770\n",
            "2017-02-28    0.068613\n",
            "2017-03-31    0.027685\n",
            "2017-04-30   -0.000348\n",
            "2017-05-31    0.046463\n",
            "2017-06-30   -0.059799\n",
            "2017-07-31    0.036446\n",
            "2017-08-31    0.097261\n",
            "2017-09-30   -0.060530\n",
            "2017-10-31    0.099018\n",
            "2017-11-30    0.033422\n",
            "2017-12-31   -0.010640\n",
            "Freq: M, Name: Close, dtype: float64\n"
          ]
        }
      ]
    },
    {
      "cell_type": "code",
      "metadata": {
        "colab": {
          "base_uri": "https://localhost:8080/"
        },
        "id": "9CK1VD2HiCda",
        "outputId": "3d717099-6501-425f-f44d-29c896e0b07c"
      },
      "source": [
        "# NUEVO EJEMPLO\n",
        "amonthly_return = new_apple.resample('M').agg(lambda x: x[-1]/x[0] - 1)\n",
        "print(amonthly_return)"
      ],
      "execution_count": 31,
      "outputs": [
        {
          "output_type": "stream",
          "name": "stdout",
          "text": [
            "Date\n",
            "2021-01-31    0.034314\n",
            "2021-02-28    0.074242\n",
            "2021-03-31   -0.460916\n",
            "2021-04-30   -0.174713\n",
            "2021-05-31   -0.432353\n",
            "2021-06-30   -0.113861\n",
            "2021-07-31   -0.612360\n",
            "2021-08-31   -0.029851\n",
            "2021-09-30   -0.179632\n",
            "2021-10-31    0.037037\n",
            "Freq: M, Name: Close, dtype: float64\n"
          ]
        }
      ]
    },
    {
      "cell_type": "markdown",
      "metadata": {
        "id": "-y8gwkMmifa0"
      },
      "source": [
        "Series object also provides us some convenient methods to do some quick calculation."
      ]
    },
    {
      "cell_type": "code",
      "metadata": {
        "colab": {
          "base_uri": "https://localhost:8080/"
        },
        "id": "PsUM7F4Vihr3",
        "outputId": "ba8c7cea-e588-4cb3-a12b-c54050757249"
      },
      "source": [
        "print(monthly_return.mean())\n",
        "print(monthly_return.std())\n",
        "print(monthly_return.max())"
      ],
      "execution_count": 32,
      "outputs": [
        {
          "output_type": "stream",
          "name": "stdout",
          "text": [
            "0.026863447001085543\n",
            "0.05225846608953644\n",
            "0.09901817765273635\n"
          ]
        }
      ]
    },
    {
      "cell_type": "code",
      "metadata": {
        "colab": {
          "base_uri": "https://localhost:8080/"
        },
        "id": "0Lx3uicCiqv7",
        "outputId": "325380d7-d327-4225-b791-603317ff7ca6"
      },
      "source": [
        "# NUEVO EJEMPLO\n",
        "print(amonthly_return.mean())\n",
        "print(amonthly_return.std())\n",
        "print(amonthly_return.max())"
      ],
      "execution_count": 33,
      "outputs": [
        {
          "output_type": "stream",
          "name": "stdout",
          "text": [
            "-0.18580929107497307\n",
            "0.23893635212397032\n",
            "0.07424246288418712\n"
          ]
        }
      ]
    },
    {
      "cell_type": "markdown",
      "metadata": {
        "id": "dmzCCKenjFfT"
      },
      "source": [
        "Another two methods frequently used on Series are .diff() and .pct_change(). The former calculates the difference between consecutive elements, and the latter calculates the percentage change."
      ]
    },
    {
      "cell_type": "code",
      "metadata": {
        "colab": {
          "base_uri": "https://localhost:8080/"
        },
        "id": "BEhr7RSajG35",
        "outputId": "4ca2742e-1c4c-4a47-cc49-f311119c1179"
      },
      "source": [
        "print(last_day.diff())\n",
        "print(last_day.pct_change())"
      ],
      "execution_count": 34,
      "outputs": [
        {
          "output_type": "stream",
          "name": "stdout",
          "text": [
            "Date\n",
            "2017-01-31         NaN\n",
            "2017-02-28    3.825762\n",
            "2017-03-31    1.578682\n",
            "2017-04-30   -0.002369\n",
            "2017-05-31    2.305447\n",
            "2017-06-30   -2.077168\n",
            "2017-07-31    1.119396\n",
            "2017-08-31    3.782154\n",
            "2017-09-30   -2.357323\n",
            "2017-10-31    3.559849\n",
            "2017-11-30    0.817863\n",
            "2017-12-31   -0.627373\n",
            "Freq: M, Name: Close, dtype: float64\n",
            "Date\n",
            "2017-01-31         NaN\n",
            "2017-02-28    0.133778\n",
            "2017-03-31    0.048689\n",
            "2017-04-30   -0.000070\n",
            "2017-05-31    0.067807\n",
            "2017-06-30   -0.057214\n",
            "2017-07-31    0.032704\n",
            "2017-08-31    0.106999\n",
            "2017-09-30   -0.060244\n",
            "2017-10-31    0.096808\n",
            "2017-11-30    0.020278\n",
            "2017-12-31   -0.015246\n",
            "Freq: M, Name: Close, dtype: float64\n"
          ]
        }
      ]
    },
    {
      "cell_type": "code",
      "metadata": {
        "colab": {
          "base_uri": "https://localhost:8080/"
        },
        "id": "cxktzolynVJG",
        "outputId": "5dd603c9-96e4-425a-b35b-de63d8d8f48c"
      },
      "source": [
        "# NUEVO EJEMPLO\n",
        "print(alast_day.diff())\n",
        "print(alast_day.pct_change())"
      ],
      "execution_count": 35,
      "outputs": [
        {
          "output_type": "stream",
          "name": "stdout",
          "text": [
            "Date\n",
            "2021-01-31      NaN\n",
            "2021-02-28    1.060\n",
            "2021-03-31   -4.020\n",
            "2021-04-30    0.360\n",
            "2021-05-31   -2.280\n",
            "2021-06-30    0.070\n",
            "2021-07-31   -1.112\n",
            "2021-08-31   -0.133\n",
            "2021-09-30   -0.041\n",
            "2021-10-31   -0.003\n",
            "Freq: M, Name: Close, dtype: float64\n",
            "Date\n",
            "2021-01-31         NaN\n",
            "2021-02-28    0.159398\n",
            "2021-03-31   -0.521401\n",
            "2021-04-30    0.097561\n",
            "2021-05-31   -0.562963\n",
            "2021-06-30    0.039548\n",
            "2021-07-31   -0.604348\n",
            "2021-08-31   -0.182692\n",
            "2021-09-30   -0.068908\n",
            "2021-10-31   -0.005415\n",
            "Freq: M, Name: Close, dtype: float64\n"
          ]
        }
      ]
    },
    {
      "cell_type": "markdown",
      "metadata": {
        "id": "j_WMNysXngQI"
      },
      "source": [
        "Notice that we induced a NaN value while calculating percentage changes i.e. returns.\n",
        "\n",
        "When dealing with NaN values, we usually either removing the data point or fill it with a specific value. Here we fill it with 0:\n",
        "\n"
      ]
    },
    {
      "cell_type": "code",
      "metadata": {
        "colab": {
          "base_uri": "https://localhost:8080/"
        },
        "id": "UGT1Xygkng9P",
        "outputId": "111f7c34-a377-4401-c203-7158adfcac71"
      },
      "source": [
        "daily_return = last_day.pct_change()\n",
        "print(daily_return.fillna(0))"
      ],
      "execution_count": 36,
      "outputs": [
        {
          "output_type": "stream",
          "name": "stdout",
          "text": [
            "Date\n",
            "2017-01-31    0.000000\n",
            "2017-02-28    0.133778\n",
            "2017-03-31    0.048689\n",
            "2017-04-30   -0.000070\n",
            "2017-05-31    0.067807\n",
            "2017-06-30   -0.057214\n",
            "2017-07-31    0.032704\n",
            "2017-08-31    0.106999\n",
            "2017-09-30   -0.060244\n",
            "2017-10-31    0.096808\n",
            "2017-11-30    0.020278\n",
            "2017-12-31   -0.015246\n",
            "Freq: M, Name: Close, dtype: float64\n"
          ]
        }
      ]
    },
    {
      "cell_type": "code",
      "metadata": {
        "colab": {
          "base_uri": "https://localhost:8080/"
        },
        "id": "O4mtIlFYnkRD",
        "outputId": "8645db7a-4b36-4a39-824a-cc64fa8d9f6d"
      },
      "source": [
        "# NUEVO EJEMPLO\n",
        "adaily_return = alast_day.pct_change()\n",
        "print(adaily_return.fillna(0))"
      ],
      "execution_count": 37,
      "outputs": [
        {
          "output_type": "stream",
          "name": "stdout",
          "text": [
            "Date\n",
            "2021-01-31    0.000000\n",
            "2021-02-28    0.159398\n",
            "2021-03-31   -0.521401\n",
            "2021-04-30    0.097561\n",
            "2021-05-31   -0.562963\n",
            "2021-06-30    0.039548\n",
            "2021-07-31   -0.604348\n",
            "2021-08-31   -0.182692\n",
            "2021-09-30   -0.068908\n",
            "2021-10-31   -0.005415\n",
            "Freq: M, Name: Close, dtype: float64\n"
          ]
        }
      ]
    },
    {
      "cell_type": "markdown",
      "metadata": {
        "id": "9KLUwNQznuee"
      },
      "source": [
        "Alternatively, we can fill a NaN with the next fitted value. This is called 'backward fill', or 'bfill' in short:"
      ]
    },
    {
      "cell_type": "code",
      "metadata": {
        "colab": {
          "base_uri": "https://localhost:8080/"
        },
        "id": "XaPuJh8xnwGf",
        "outputId": "1f47607c-550b-475a-cf51-9513877bd8e9"
      },
      "source": [
        "daily_return = last_day.pct_change()\n",
        "print(daily_return.fillna(method = 'bfill'))"
      ],
      "execution_count": 38,
      "outputs": [
        {
          "output_type": "stream",
          "name": "stdout",
          "text": [
            "Date\n",
            "2017-01-31    0.133778\n",
            "2017-02-28    0.133778\n",
            "2017-03-31    0.048689\n",
            "2017-04-30   -0.000070\n",
            "2017-05-31    0.067807\n",
            "2017-06-30   -0.057214\n",
            "2017-07-31    0.032704\n",
            "2017-08-31    0.106999\n",
            "2017-09-30   -0.060244\n",
            "2017-10-31    0.096808\n",
            "2017-11-30    0.020278\n",
            "2017-12-31   -0.015246\n",
            "Freq: M, Name: Close, dtype: float64\n"
          ]
        }
      ]
    },
    {
      "cell_type": "code",
      "metadata": {
        "colab": {
          "base_uri": "https://localhost:8080/"
        },
        "id": "7kDMKe5VnyM6",
        "outputId": "300f9ea3-934f-4b27-abb3-3a4bf38d4be6"
      },
      "source": [
        "# NUEVO EJEMPLO\n",
        "adaily_return = alast_day.pct_change()\n",
        "print(adaily_return.fillna(method = 'bfill'))"
      ],
      "execution_count": 39,
      "outputs": [
        {
          "output_type": "stream",
          "name": "stdout",
          "text": [
            "Date\n",
            "2021-01-31    0.159398\n",
            "2021-02-28    0.159398\n",
            "2021-03-31   -0.521401\n",
            "2021-04-30    0.097561\n",
            "2021-05-31   -0.562963\n",
            "2021-06-30    0.039548\n",
            "2021-07-31   -0.604348\n",
            "2021-08-31   -0.182692\n",
            "2021-09-30   -0.068908\n",
            "2021-10-31   -0.005415\n",
            "Freq: M, Name: Close, dtype: float64\n"
          ]
        }
      ]
    },
    {
      "cell_type": "markdown",
      "metadata": {
        "id": "QIMvBYzxn8qF"
      },
      "source": [
        "As expected, since there is a 'backward fill' method, there must be a 'forward fill' method, or 'ffill' in short. However we can't use it here because the NaN is the first value.\n",
        "\n",
        "We can also simply remove NaN values by .dropna()"
      ]
    },
    {
      "cell_type": "code",
      "metadata": {
        "colab": {
          "base_uri": "https://localhost:8080/"
        },
        "id": "kkOwfGWgn-kD",
        "outputId": "c88eda35-3781-4315-df43-1dffa391a85e"
      },
      "source": [
        "daily_return = last_day.pct_change()\n",
        "daily_return.dropna()"
      ],
      "execution_count": 40,
      "outputs": [
        {
          "output_type": "execute_result",
          "data": {
            "text/plain": [
              "Date\n",
              "2017-02-28    0.133778\n",
              "2017-03-31    0.048689\n",
              "2017-04-30   -0.000070\n",
              "2017-05-31    0.067807\n",
              "2017-06-30   -0.057214\n",
              "2017-07-31    0.032704\n",
              "2017-08-31    0.106999\n",
              "2017-09-30   -0.060244\n",
              "2017-10-31    0.096808\n",
              "2017-11-30    0.020278\n",
              "2017-12-31   -0.015246\n",
              "Freq: M, Name: Close, dtype: float64"
            ]
          },
          "metadata": {},
          "execution_count": 40
        }
      ]
    },
    {
      "cell_type": "code",
      "metadata": {
        "colab": {
          "base_uri": "https://localhost:8080/"
        },
        "id": "F3fc-Eh1oB4H",
        "outputId": "5a63ac2f-7f67-4c4e-df3f-af8d51ff97f3"
      },
      "source": [
        "# NUEVO EJEMPLO\n",
        "adaily_return = alast_day.pct_change()\n",
        "adaily_return.dropna()"
      ],
      "execution_count": 41,
      "outputs": [
        {
          "output_type": "execute_result",
          "data": {
            "text/plain": [
              "Date\n",
              "2021-02-28    0.159398\n",
              "2021-03-31   -0.521401\n",
              "2021-04-30    0.097561\n",
              "2021-05-31   -0.562963\n",
              "2021-06-30    0.039548\n",
              "2021-07-31   -0.604348\n",
              "2021-08-31   -0.182692\n",
              "2021-09-30   -0.068908\n",
              "2021-10-31   -0.005415\n",
              "Freq: M, Name: Close, dtype: float64"
            ]
          },
          "metadata": {},
          "execution_count": 41
        }
      ]
    },
    {
      "cell_type": "markdown",
      "metadata": {
        "id": "hzOVy0luoSu4"
      },
      "source": [
        "# DataFrame\n",
        "The **DataFrame** is the most commonly used data structure in Pandas. It is essentially a table, just like an Excel spreadsheet.\n",
        "\n",
        "More precisely, a DataFrame is a collection of Series objects, each of which may contain different data types. A DataFrame can be created from various data types: dictionary, 2-D numpy.ndarray, a Series or another DataFrame.\n",
        "\n",
        "## Create DataFrames\n",
        "The most common method of creating a DataFrame is passing a dictionary:"
      ]
    },
    {
      "cell_type": "code",
      "metadata": {
        "colab": {
          "base_uri": "https://localhost:8080/"
        },
        "id": "okRnPdL3oVdc",
        "outputId": "7f64376e-73f1-4abe-c631-c84782ae74cf"
      },
      "source": [
        "dict = {'AAPL': [143.5, 144.09, 142.73, 144.18, 143.77],'GOOG':[898.7, 911.71, 906.69, 918.59, 926.99],\n",
        "        'IBM':[155.58, 153.67, 152.36, 152.94, 153.49]}\n",
        "data_index = pd.date_range('2017-07-03',periods = 5, freq = 'D')\n",
        "df = pd.DataFrame(dict, index = data_index)\n",
        "print(df)"
      ],
      "execution_count": 42,
      "outputs": [
        {
          "output_type": "stream",
          "name": "stdout",
          "text": [
            "              AAPL    GOOG     IBM\n",
            "2017-07-03  143.50  898.70  155.58\n",
            "2017-07-04  144.09  911.71  153.67\n",
            "2017-07-05  142.73  906.69  152.36\n",
            "2017-07-06  144.18  918.59  152.94\n",
            "2017-07-07  143.77  926.99  153.49\n"
          ]
        }
      ]
    },
    {
      "cell_type": "code",
      "metadata": {
        "colab": {
          "base_uri": "https://localhost:8080/"
        },
        "id": "fuNYp6pbodLi",
        "outputId": "731adc4d-79d1-4814-c905-8df0428237ed"
      },
      "source": [
        "# NUEVO EJEMPLO\n",
        "dict = {'PERA': [233.5, 444.09, 344.35, 294.80, 333.66],'FRESA':[458.55, 877.76, 767.69,431.49, 545.77],\n",
        "        'UVA':[299.88, 344.44, 333.33, 287.88, 277.77]}\n",
        "data_index = pd.date_range('2020-05-03',periods = 5, freq = 'D')\n",
        "df = pd.DataFrame(dict, index = data_index)\n",
        "print(df)"
      ],
      "execution_count": 43,
      "outputs": [
        {
          "output_type": "stream",
          "name": "stdout",
          "text": [
            "              PERA   FRESA     UVA\n",
            "2020-05-03  233.50  458.55  299.88\n",
            "2020-05-04  444.09  877.76  344.44\n",
            "2020-05-05  344.35  767.69  333.33\n",
            "2020-05-06  294.80  431.49  287.88\n",
            "2020-05-07  333.66  545.77  277.77\n"
          ]
        }
      ]
    },
    {
      "cell_type": "markdown",
      "metadata": {
        "id": "Iy1N10Czvjeq"
      },
      "source": [
        "## Manipulating DataFrames\n",
        "We can fetch values in a DataFrame by columns and index. Each column in a DataFrame is essentially a Pandas Series. We can fetch a column by square brackets: **df['column_name']**\n",
        "\n",
        "If a column name contains no spaces, then we can also use df.column_name to fetch a column:"
      ]
    },
    {
      "cell_type": "code",
      "metadata": {
        "colab": {
          "base_uri": "https://localhost:8080/"
        },
        "id": "u06nVGHJvp0q",
        "outputId": "834c4f65-5f28-4dce-a544-e60ceca838fc"
      },
      "source": [
        "df = aapl_table\n",
        "print(df.Close.tail(5))\n",
        "print(df['Volume'].tail(5))"
      ],
      "execution_count": 64,
      "outputs": [
        {
          "output_type": "stream",
          "name": "stdout",
          "text": [
            "Date\n",
            "2017-12-22    41.906769\n",
            "2017-12-26    40.843601\n",
            "2017-12-27    40.850780\n",
            "2017-12-28    40.965729\n",
            "2017-12-29    40.522736\n",
            "Name: Close, dtype: float64\n",
            "Date\n",
            "2017-12-22     65397600\n",
            "2017-12-26    132742000\n",
            "2017-12-27     85992800\n",
            "2017-12-28     65920800\n",
            "2017-12-29    103999600\n",
            "Name: Volume, dtype: int64\n"
          ]
        }
      ]
    },
    {
      "cell_type": "code",
      "metadata": {
        "colab": {
          "base_uri": "https://localhost:8080/"
        },
        "id": "iyJAFXD9zpA7",
        "outputId": "90b7d568-ae32-4f9b-9fb7-b3659ff30950"
      },
      "source": [
        "# NUEVO EJEMPLO\n",
        "new_df = new_data\n",
        "print(new_df.Close.tail(3))\n",
        "print(new_df['Volume'].tail(5))"
      ],
      "execution_count": 65,
      "outputs": [
        {
          "output_type": "stream",
          "name": "stdout",
          "text": [
            "Date\n",
            "2021-10-06    0.551\n",
            "2021-10-07    0.563\n",
            "2021-10-08    0.560\n",
            "Name: Close, dtype: float64\n",
            "Date\n",
            "2021-10-04    976700\n",
            "2021-10-05    734400\n",
            "2021-10-06    781000\n",
            "2021-10-07    665100\n",
            "2021-10-08    680000\n",
            "Name: Volume, dtype: int64\n"
          ]
        }
      ]
    },
    {
      "cell_type": "markdown",
      "metadata": {
        "id": "IO9Kc3Ej0KOt"
      },
      "source": [
        "All the methods we applied to a Series index such as iloc[], loc[] and resampling methods, can also be applied to a DataFrame:"
      ]
    },
    {
      "cell_type": "code",
      "metadata": {
        "colab": {
          "base_uri": "https://localhost:8080/"
        },
        "id": "uq-4G8m7zpEO",
        "outputId": "5aa1f75e-8755-4ec0-de5a-6d31a77612eb"
      },
      "source": [
        "aapl_2016 = df['2016']\n",
        "aapl_month = aapl_2016.resample('M').agg(lambda x: x[-1])\n",
        "print(aapl_month)"
      ],
      "execution_count": 66,
      "outputs": [
        {
          "output_type": "stream",
          "name": "stdout",
          "text": [
            "                 Open       High        Low  ...     Volume  Dividends  Stock Splits\n",
            "Date                                         ...                                    \n",
            "2016-01-31  21.852386  22.440248  21.750950  ...  257666000        0.0             0\n",
            "2016-02-29  22.450755  22.768302  22.402081  ...  140865200        0.0             0\n",
            "2016-03-31  25.431520  25.473242  25.236819  ...  103553600        0.0             0\n",
            "2016-04-30  21.785529  21.954734  21.442488  ...  274126000        0.0             0\n",
            "2016-05-31  23.226405  23.412963  23.044512  ...  169228800        0.0             0\n",
            "2016-06-30  22.023115  22.333266  21.990468  ...  143345600        0.0             0\n",
            "2016-07-31  24.296778  24.380729  24.177847  ...  110934800        0.0             0\n",
            "2016-08-31  24.773058  24.986415  24.768367  ...  118649600        0.0             0\n",
            "2016-09-30  26.367384  26.580743  26.212641  ...  145516400        0.0             0\n",
            "2016-10-31  26.646396  26.782384  26.540888  ...  105677600        0.0             0\n",
            "2016-11-30  26.300090  26.441488  25.986656  ...  144649200        0.0             0\n",
            "2016-12-31  27.490193  27.619807  27.202683  ...  122345200        0.0             0\n",
            "\n",
            "[12 rows x 7 columns]\n"
          ]
        }
      ]
    },
    {
      "cell_type": "code",
      "metadata": {
        "colab": {
          "base_uri": "https://localhost:8080/"
        },
        "id": "8CT1ZB7NzpN1",
        "outputId": "b39db1b7-7a06-4ed3-877c-e281dbba82f1"
      },
      "source": [
        "# NUEVO EJEMPLO\n",
        "apple_2021 = new_df['2021']\n",
        "apple_month = apple_2021.resample('M').agg(lambda x: x[-1])\n",
        "print(apple_month)"
      ],
      "execution_count": 67,
      "outputs": [
        {
          "output_type": "stream",
          "name": "stdout",
          "text": [
            "             Open   High    Low  Close   Volume  Dividends  Stock Splits\n",
            "Date                                                                    \n",
            "2021-01-31  6.600  6.740  6.280   6.33   337400          0             0\n",
            "2021-02-28  7.180  7.410  6.660   7.09  1088400          0             0\n",
            "2021-03-31  3.890  4.200  3.885   4.00   896800          0             0\n",
            "2021-04-30  3.600  3.644  3.540   3.59   241600          0             0\n",
            "2021-05-31  2.120  2.250  1.890   1.93  1627100          0             0\n",
            "2021-06-30  1.850  1.850  1.770   1.79   369400          0             0\n",
            "2021-07-31  0.730  0.730  0.664   0.69  1249400          0             0\n",
            "2021-08-31  0.635  0.685  0.621   0.65  1541200          0             0\n",
            "2021-09-30  0.540  0.629  0.524   0.58  3107500          0             0\n",
            "2021-10-31  0.570  0.591  0.533   0.56   680000          0             0\n"
          ]
        }
      ]
    },
    {
      "cell_type": "markdown",
      "metadata": {
        "id": "Llhz9pt22tRs"
      },
      "source": [
        "We may select certain columns of a DataFrame using their names:"
      ]
    },
    {
      "cell_type": "code",
      "metadata": {
        "colab": {
          "base_uri": "https://localhost:8080/"
        },
        "id": "lbpVPkc22uJm",
        "outputId": "fea6dabf-fdab-4dff-8c07-abd2ac639cf3"
      },
      "source": [
        "aapl_bar = aapl_month[['Open', 'High', 'Low', 'Close']]\n",
        "print(aapl_bar)"
      ],
      "execution_count": 69,
      "outputs": [
        {
          "output_type": "stream",
          "name": "stdout",
          "text": [
            "                 Open       High        Low      Close\n",
            "Date                                                  \n",
            "2016-01-31  21.852386  22.440248  21.750950  22.440248\n",
            "2016-02-29  22.450755  22.768302  22.402081  22.411352\n",
            "2016-03-31  25.431520  25.473242  25.236819  25.262316\n",
            "2016-04-30  21.785529  21.954734  21.442488  21.727583\n",
            "2016-05-31  23.226405  23.412963  23.044512  23.287037\n",
            "2016-06-30  22.023115  22.333266  21.990468  22.293623\n",
            "2016-07-31  24.296778  24.380729  24.177847  24.301441\n",
            "2016-08-31  24.773058  24.986415  24.768367  24.876219\n",
            "2016-09-30  26.367384  26.580743  26.212641  26.505716\n",
            "2016-10-31  26.646396  26.782384  26.540888  26.620605\n",
            "2016-11-30  26.300090  26.441488  25.986656  26.045572\n",
            "2016-12-31  27.490193  27.619807  27.202683  27.294592\n"
          ]
        }
      ]
    },
    {
      "cell_type": "code",
      "metadata": {
        "colab": {
          "base_uri": "https://localhost:8080/"
        },
        "id": "BR7wSkcw2-U7",
        "outputId": "149f578d-4665-46b7-f89b-fb664b1e6eca"
      },
      "source": [
        "# NUEVO EJEMPLO\n",
        "apple_bar = apple_month[['Open', 'High', 'Low', 'Close']]\n",
        "print(apple_bar)"
      ],
      "execution_count": 72,
      "outputs": [
        {
          "output_type": "stream",
          "name": "stdout",
          "text": [
            "             Open   High    Low  Close\n",
            "Date                                  \n",
            "2021-01-31  6.600  6.740  6.280   6.33\n",
            "2021-02-28  7.180  7.410  6.660   7.09\n",
            "2021-03-31  3.890  4.200  3.885   4.00\n",
            "2021-04-30  3.600  3.644  3.540   3.59\n",
            "2021-05-31  2.120  2.250  1.890   1.93\n",
            "2021-06-30  1.850  1.850  1.770   1.79\n",
            "2021-07-31  0.730  0.730  0.664   0.69\n",
            "2021-08-31  0.635  0.685  0.621   0.65\n",
            "2021-09-30  0.540  0.629  0.524   0.58\n",
            "2021-10-31  0.570  0.591  0.533   0.56\n"
          ]
        }
      ]
    },
    {
      "cell_type": "markdown",
      "metadata": {
        "id": "oxr7fvcD3Kz3"
      },
      "source": [
        "We can even specify both rows and columns using loc[]. The row indices and column names are separated by a comma:"
      ]
    },
    {
      "cell_type": "code",
      "metadata": {
        "colab": {
          "base_uri": "https://localhost:8080/"
        },
        "id": "61ruyf9r3KF4",
        "outputId": "c79a1bf5-f0b6-48ac-d154-9833440ad4dc"
      },
      "source": [
        "print(aapl_month.loc['2016-03':'2016-06', ['Open', 'High', 'Low', 'Close']])"
      ],
      "execution_count": 71,
      "outputs": [
        {
          "output_type": "stream",
          "name": "stdout",
          "text": [
            "                 Open       High        Low      Close\n",
            "Date                                                  \n",
            "2016-03-31  25.431520  25.473242  25.236819  25.262316\n",
            "2016-04-30  21.785529  21.954734  21.442488  21.727583\n",
            "2016-05-31  23.226405  23.412963  23.044512  23.287037\n",
            "2016-06-30  22.023115  22.333266  21.990468  22.293623\n"
          ]
        }
      ]
    },
    {
      "cell_type": "code",
      "metadata": {
        "colab": {
          "base_uri": "https://localhost:8080/"
        },
        "id": "RMaTUlqw3XV6",
        "outputId": "7e9afd5b-b63b-4996-c85a-654e5d7232a7"
      },
      "source": [
        "# NUEVO EJEMPLO\n",
        "print(apple_month.loc['2021-03':'2021-06', ['Open', 'High', 'Low', 'Close']])"
      ],
      "execution_count": 73,
      "outputs": [
        {
          "output_type": "stream",
          "name": "stdout",
          "text": [
            "            Open   High    Low  Close\n",
            "Date                                 \n",
            "2021-03-31  3.89  4.200  3.885   4.00\n",
            "2021-04-30  3.60  3.644  3.540   3.59\n",
            "2021-05-31  2.12  2.250  1.890   1.93\n",
            "2021-06-30  1.85  1.850  1.770   1.79\n"
          ]
        }
      ]
    },
    {
      "cell_type": "markdown",
      "metadata": {
        "id": "vfopdV9T3xqC"
      },
      "source": [
        "The subset methods in DataFrame is quite useful. By writing logical statements in square brackets, we can make customized subsets:"
      ]
    },
    {
      "cell_type": "code",
      "metadata": {
        "colab": {
          "base_uri": "https://localhost:8080/"
        },
        "id": "4pyiU_k_3v86",
        "outputId": "832fa49f-4609-4410-96c5-b113f9e4032a"
      },
      "source": [
        "\n",
        "import numpy as np\n",
        "\n",
        "above = aapl_bar[aapl_bar.Close > np.mean(aapl_bar.Close)]\n",
        "print(above)"
      ],
      "execution_count": 75,
      "outputs": [
        {
          "output_type": "stream",
          "name": "stdout",
          "text": [
            "                 Open       High        Low      Close\n",
            "Date                                                  \n",
            "2016-03-31  25.431520  25.473242  25.236819  25.262316\n",
            "2016-08-31  24.773058  24.986415  24.768367  24.876219\n",
            "2016-09-30  26.367384  26.580743  26.212641  26.505716\n",
            "2016-10-31  26.646396  26.782384  26.540888  26.620605\n",
            "2016-11-30  26.300090  26.441488  25.986656  26.045572\n",
            "2016-12-31  27.490193  27.619807  27.202683  27.294592\n"
          ]
        }
      ]
    },
    {
      "cell_type": "code",
      "metadata": {
        "colab": {
          "base_uri": "https://localhost:8080/"
        },
        "id": "PPkIihx136vw",
        "outputId": "eedfda8a-da32-438b-a316-bbab304b9d89"
      },
      "source": [
        "# NUEVO EJEMPLO\n",
        "import numpy as np\n",
        "\n",
        "new_above = apple_bar[apple_bar.Close > np.mean(apple_bar.Close)]\n",
        "print(new_above)\n"
      ],
      "execution_count": 76,
      "outputs": [
        {
          "output_type": "stream",
          "name": "stdout",
          "text": [
            "            Open   High    Low  Close\n",
            "Date                                 \n",
            "2021-01-31  6.60  6.740  6.280   6.33\n",
            "2021-02-28  7.18  7.410  6.660   7.09\n",
            "2021-03-31  3.89  4.200  3.885   4.00\n",
            "2021-04-30  3.60  3.644  3.540   3.59\n"
          ]
        }
      ]
    },
    {
      "cell_type": "markdown",
      "metadata": {
        "id": "aXYHdVV64MaY"
      },
      "source": [
        "## Data Validation\n",
        "As mentioned, all methods that apply to a Series can also be applied to a DataFrame. Here we add a new column to an existing DataFrame:"
      ]
    },
    {
      "cell_type": "code",
      "metadata": {
        "colab": {
          "base_uri": "https://localhost:8080/"
        },
        "id": "Lkg2oT4w4NOQ",
        "outputId": "ea99a642-18ba-489a-d38b-f8b9e166764d"
      },
      "source": [
        "aapl_bar['rate_return'] = aapl_bar.Close.pct_change()\n",
        "print(aapl_bar)"
      ],
      "execution_count": 78,
      "outputs": [
        {
          "output_type": "stream",
          "name": "stdout",
          "text": [
            "                 Open       High        Low      Close  rate_return\n",
            "Date                                                               \n",
            "2016-01-31  21.852386  22.440248  21.750950  22.440248          NaN\n",
            "2016-02-29  22.450755  22.768302  22.402081  22.411352    -0.001288\n",
            "2016-03-31  25.431520  25.473242  25.236819  25.262316     0.127211\n",
            "2016-04-30  21.785529  21.954734  21.442488  21.727583    -0.139921\n",
            "2016-05-31  23.226405  23.412963  23.044512  23.287037     0.071773\n",
            "2016-06-30  22.023115  22.333266  21.990468  22.293623    -0.042660\n",
            "2016-07-31  24.296778  24.380729  24.177847  24.301441     0.090062\n",
            "2016-08-31  24.773058  24.986415  24.768367  24.876219     0.023652\n",
            "2016-09-30  26.367384  26.580743  26.212641  26.505716     0.065504\n",
            "2016-10-31  26.646396  26.782384  26.540888  26.620605     0.004335\n",
            "2016-11-30  26.300090  26.441488  25.986656  26.045572    -0.021601\n",
            "2016-12-31  27.490193  27.619807  27.202683  27.294592     0.047955\n"
          ]
        },
        {
          "output_type": "stream",
          "name": "stderr",
          "text": [
            "/usr/local/lib/python3.7/dist-packages/ipykernel_launcher.py:1: SettingWithCopyWarning: \n",
            "A value is trying to be set on a copy of a slice from a DataFrame.\n",
            "Try using .loc[row_indexer,col_indexer] = value instead\n",
            "\n",
            "See the caveats in the documentation: https://pandas.pydata.org/pandas-docs/stable/user_guide/indexing.html#returning-a-view-versus-a-copy\n",
            "  \"\"\"Entry point for launching an IPython kernel.\n"
          ]
        }
      ]
    },
    {
      "cell_type": "code",
      "metadata": {
        "colab": {
          "base_uri": "https://localhost:8080/"
        },
        "id": "o-qdQTjG4NR5",
        "outputId": "dfa5a91e-972b-463d-9b28-645f296ba9da"
      },
      "source": [
        "# NUEVO EJEMPLO\n",
        "apple_bar['rate_return'] = apple_bar.Close.pct_change()\n",
        "print(apple_bar)"
      ],
      "execution_count": 79,
      "outputs": [
        {
          "output_type": "stream",
          "name": "stdout",
          "text": [
            "             Open   High    Low  Close  rate_return\n",
            "Date                                               \n",
            "2021-01-31  6.600  6.740  6.280   6.33          NaN\n",
            "2021-02-28  7.180  7.410  6.660   7.09     0.120063\n",
            "2021-03-31  3.890  4.200  3.885   4.00    -0.435825\n",
            "2021-04-30  3.600  3.644  3.540   3.59    -0.102500\n",
            "2021-05-31  2.120  2.250  1.890   1.93    -0.462396\n",
            "2021-06-30  1.850  1.850  1.770   1.79    -0.072539\n",
            "2021-07-31  0.730  0.730  0.664   0.69    -0.614525\n",
            "2021-08-31  0.635  0.685  0.621   0.65    -0.057971\n",
            "2021-09-30  0.540  0.629  0.524   0.58    -0.107692\n",
            "2021-10-31  0.570  0.591  0.533   0.56    -0.034483\n"
          ]
        },
        {
          "output_type": "stream",
          "name": "stderr",
          "text": [
            "/usr/local/lib/python3.7/dist-packages/ipykernel_launcher.py:2: SettingWithCopyWarning: \n",
            "A value is trying to be set on a copy of a slice from a DataFrame.\n",
            "Try using .loc[row_indexer,col_indexer] = value instead\n",
            "\n",
            "See the caveats in the documentation: https://pandas.pydata.org/pandas-docs/stable/user_guide/indexing.html#returning-a-view-versus-a-copy\n",
            "  \n"
          ]
        }
      ]
    },
    {
      "cell_type": "markdown",
      "metadata": {
        "id": "U0zAwN344foZ"
      },
      "source": [
        "Here the calculation introduced a NaN value. If the DataFrame is large, we would not be able to observe it. isnull() provides a convenient way to check abnormal values."
      ]
    },
    {
      "cell_type": "code",
      "metadata": {
        "colab": {
          "base_uri": "https://localhost:8080/"
        },
        "id": "QdkA5BLy4g3p",
        "outputId": "e2e7d820-d530-4c8f-934b-b1061cb0bf2a"
      },
      "source": [
        "missing = aapl_bar.isnull()\n",
        "print(missing)\n",
        "print('---------------------------------------------')\n",
        "print(missing.describe())"
      ],
      "execution_count": 80,
      "outputs": [
        {
          "output_type": "stream",
          "name": "stdout",
          "text": [
            "             Open   High    Low  Close  rate_return\n",
            "Date                                               \n",
            "2016-01-31  False  False  False  False         True\n",
            "2016-02-29  False  False  False  False        False\n",
            "2016-03-31  False  False  False  False        False\n",
            "2016-04-30  False  False  False  False        False\n",
            "2016-05-31  False  False  False  False        False\n",
            "2016-06-30  False  False  False  False        False\n",
            "2016-07-31  False  False  False  False        False\n",
            "2016-08-31  False  False  False  False        False\n",
            "2016-09-30  False  False  False  False        False\n",
            "2016-10-31  False  False  False  False        False\n",
            "2016-11-30  False  False  False  False        False\n",
            "2016-12-31  False  False  False  False        False\n",
            "---------------------------------------------\n",
            "         Open   High    Low  Close rate_return\n",
            "count      12     12     12     12          12\n",
            "unique      1      1      1      1           2\n",
            "top     False  False  False  False       False\n",
            "freq       12     12     12     12          11\n"
          ]
        }
      ]
    },
    {
      "cell_type": "code",
      "metadata": {
        "colab": {
          "base_uri": "https://localhost:8080/"
        },
        "id": "tBI03NQI4oo9",
        "outputId": "927cafa3-718a-4944-db2c-6d0331e960ca"
      },
      "source": [
        "#NUEVO EJEMPLO\n",
        "new_missing = apple_bar.isnull()\n",
        "print(new_missing)\n",
        "print('---------------------------------------------')\n",
        "print(new_missing.describe())"
      ],
      "execution_count": 81,
      "outputs": [
        {
          "output_type": "stream",
          "name": "stdout",
          "text": [
            "             Open   High    Low  Close  rate_return\n",
            "Date                                               \n",
            "2021-01-31  False  False  False  False         True\n",
            "2021-02-28  False  False  False  False        False\n",
            "2021-03-31  False  False  False  False        False\n",
            "2021-04-30  False  False  False  False        False\n",
            "2021-05-31  False  False  False  False        False\n",
            "2021-06-30  False  False  False  False        False\n",
            "2021-07-31  False  False  False  False        False\n",
            "2021-08-31  False  False  False  False        False\n",
            "2021-09-30  False  False  False  False        False\n",
            "2021-10-31  False  False  False  False        False\n",
            "---------------------------------------------\n",
            "         Open   High    Low  Close rate_return\n",
            "count      10     10     10     10          10\n",
            "unique      1      1      1      1           2\n",
            "top     False  False  False  False       False\n",
            "freq       10     10     10     10           9\n"
          ]
        }
      ]
    },
    {
      "cell_type": "markdown",
      "metadata": {
        "id": "mstcA0Uw44hX"
      },
      "source": [
        "The row labelled \"unique\" indicates the number of unique values in each column. Since the \"rate_return\" column has 2 unique values, it has at least one missing value.\n",
        "\n",
        "We can deduce the number of missing values by comparing \"count\" with \"freq\". There are 12 counts and 11 False values, so there is one True value which corresponds to the missing value.\n",
        "\n",
        "We can also find the rows with missing values easily:"
      ]
    },
    {
      "cell_type": "code",
      "metadata": {
        "colab": {
          "base_uri": "https://localhost:8080/"
        },
        "id": "DOXVLmOS45Mb",
        "outputId": "80db25b9-2d35-4d3b-e771-6a6b3ce8e32a"
      },
      "source": [
        "print(missing[missing.rate_return == True])"
      ],
      "execution_count": 82,
      "outputs": [
        {
          "output_type": "stream",
          "name": "stdout",
          "text": [
            "             Open   High    Low  Close  rate_return\n",
            "Date                                               \n",
            "2016-01-31  False  False  False  False         True\n"
          ]
        }
      ]
    },
    {
      "cell_type": "code",
      "metadata": {
        "colab": {
          "base_uri": "https://localhost:8080/"
        },
        "id": "TWWbrp-745Y9",
        "outputId": "66b3be16-a8f7-436e-cb17-35343bda14d8"
      },
      "source": [
        "# NUEVO EJEMPLO\n",
        "print(new_missing[new_missing.rate_return == True])"
      ],
      "execution_count": 83,
      "outputs": [
        {
          "output_type": "stream",
          "name": "stdout",
          "text": [
            "             Open   High    Low  Close  rate_return\n",
            "Date                                               \n",
            "2021-01-31  False  False  False  False         True\n"
          ]
        }
      ]
    },
    {
      "cell_type": "markdown",
      "metadata": {
        "id": "KeC0OMNo5IT1"
      },
      "source": [
        "Usually when dealing with missing data, we either delete the whole row or fill it with some value. As we introduced in the Series chapter, the same method dropna() and fillna() can be applied to a DataFrame."
      ]
    },
    {
      "cell_type": "code",
      "metadata": {
        "colab": {
          "base_uri": "https://localhost:8080/"
        },
        "id": "0kcwxzH_5JMX",
        "outputId": "0523270e-7c77-4c03-90aa-65c07d3388ff"
      },
      "source": [
        "drop = aapl_bar.dropna()\n",
        "print(drop)\n",
        "print('\\n--------------------------------------------------\\n')\n",
        "fill = aapl_bar.fillna(0)\n",
        "print(fill)"
      ],
      "execution_count": 84,
      "outputs": [
        {
          "output_type": "stream",
          "name": "stdout",
          "text": [
            "                 Open       High        Low      Close  rate_return\n",
            "Date                                                               \n",
            "2016-02-29  22.450755  22.768302  22.402081  22.411352    -0.001288\n",
            "2016-03-31  25.431520  25.473242  25.236819  25.262316     0.127211\n",
            "2016-04-30  21.785529  21.954734  21.442488  21.727583    -0.139921\n",
            "2016-05-31  23.226405  23.412963  23.044512  23.287037     0.071773\n",
            "2016-06-30  22.023115  22.333266  21.990468  22.293623    -0.042660\n",
            "2016-07-31  24.296778  24.380729  24.177847  24.301441     0.090062\n",
            "2016-08-31  24.773058  24.986415  24.768367  24.876219     0.023652\n",
            "2016-09-30  26.367384  26.580743  26.212641  26.505716     0.065504\n",
            "2016-10-31  26.646396  26.782384  26.540888  26.620605     0.004335\n",
            "2016-11-30  26.300090  26.441488  25.986656  26.045572    -0.021601\n",
            "2016-12-31  27.490193  27.619807  27.202683  27.294592     0.047955\n",
            "\n",
            "--------------------------------------------------\n",
            "\n",
            "                 Open       High        Low      Close  rate_return\n",
            "Date                                                               \n",
            "2016-01-31  21.852386  22.440248  21.750950  22.440248     0.000000\n",
            "2016-02-29  22.450755  22.768302  22.402081  22.411352    -0.001288\n",
            "2016-03-31  25.431520  25.473242  25.236819  25.262316     0.127211\n",
            "2016-04-30  21.785529  21.954734  21.442488  21.727583    -0.139921\n",
            "2016-05-31  23.226405  23.412963  23.044512  23.287037     0.071773\n",
            "2016-06-30  22.023115  22.333266  21.990468  22.293623    -0.042660\n",
            "2016-07-31  24.296778  24.380729  24.177847  24.301441     0.090062\n",
            "2016-08-31  24.773058  24.986415  24.768367  24.876219     0.023652\n",
            "2016-09-30  26.367384  26.580743  26.212641  26.505716     0.065504\n",
            "2016-10-31  26.646396  26.782384  26.540888  26.620605     0.004335\n",
            "2016-11-30  26.300090  26.441488  25.986656  26.045572    -0.021601\n",
            "2016-12-31  27.490193  27.619807  27.202683  27.294592     0.047955\n"
          ]
        }
      ]
    },
    {
      "cell_type": "code",
      "metadata": {
        "colab": {
          "base_uri": "https://localhost:8080/"
        },
        "id": "aFGCxTs65JWj",
        "outputId": "29211115-9247-436c-f31d-24987b19c88c"
      },
      "source": [
        "# NUEVO EJEMPLO\n",
        "new_drop = apple_bar.dropna()\n",
        "print(new_drop)\n",
        "print('\\n--------------------------------------------------\\n')\n",
        "new_fill = apple_bar.fillna(0)\n",
        "print(new_fill)"
      ],
      "execution_count": 88,
      "outputs": [
        {
          "output_type": "stream",
          "name": "stdout",
          "text": [
            "             Open   High    Low  Close  rate_return\n",
            "Date                                               \n",
            "2021-02-28  7.180  7.410  6.660   7.09     0.120063\n",
            "2021-03-31  3.890  4.200  3.885   4.00    -0.435825\n",
            "2021-04-30  3.600  3.644  3.540   3.59    -0.102500\n",
            "2021-05-31  2.120  2.250  1.890   1.93    -0.462396\n",
            "2021-06-30  1.850  1.850  1.770   1.79    -0.072539\n",
            "2021-07-31  0.730  0.730  0.664   0.69    -0.614525\n",
            "2021-08-31  0.635  0.685  0.621   0.65    -0.057971\n",
            "2021-09-30  0.540  0.629  0.524   0.58    -0.107692\n",
            "2021-10-31  0.570  0.591  0.533   0.56    -0.034483\n",
            "\n",
            "--------------------------------------------------\n",
            "\n",
            "             Open   High    Low  Close  rate_return\n",
            "Date                                               \n",
            "2021-01-31  6.600  6.740  6.280   6.33     0.000000\n",
            "2021-02-28  7.180  7.410  6.660   7.09     0.120063\n",
            "2021-03-31  3.890  4.200  3.885   4.00    -0.435825\n",
            "2021-04-30  3.600  3.644  3.540   3.59    -0.102500\n",
            "2021-05-31  2.120  2.250  1.890   1.93    -0.462396\n",
            "2021-06-30  1.850  1.850  1.770   1.79    -0.072539\n",
            "2021-07-31  0.730  0.730  0.664   0.69    -0.614525\n",
            "2021-08-31  0.635  0.685  0.621   0.65    -0.057971\n",
            "2021-09-30  0.540  0.629  0.524   0.58    -0.107692\n",
            "2021-10-31  0.570  0.591  0.533   0.56    -0.034483\n"
          ]
        }
      ]
    },
    {
      "cell_type": "markdown",
      "metadata": {
        "id": "JtRUdcfj5ZXd"
      },
      "source": [
        "## DataFrame Concat\n",
        "We have seen how to extract a Series from a dataFrame. Now we need to consider how to merge a Series or a DataFrame into another one.\n",
        "\n",
        "In Pandas, the function **concat()** allows us to merge multiple Series into a DataFrame:"
      ]
    },
    {
      "cell_type": "code",
      "metadata": {
        "colab": {
          "base_uri": "https://localhost:8080/"
        },
        "id": "e19r4QKG5aOq",
        "outputId": "250d2a8f-a7bd-42b1-949b-e9176a3eb716"
      },
      "source": [
        "s1 = pd.Series([143.5, 144.09, 142.73, 144.18, 143.77], name = 'AAPL')\n",
        "s2 = pd.Series([898.7, 911.71, 906.69, 918.59, 926.99], name = 'GOOG')\n",
        "data_frame = pd.concat([s1,s2], axis = 1)\n",
        "print(data_frame)"
      ],
      "execution_count": 86,
      "outputs": [
        {
          "output_type": "stream",
          "name": "stdout",
          "text": [
            "     AAPL    GOOG\n",
            "0  143.50  898.70\n",
            "1  144.09  911.71\n",
            "2  142.73  906.69\n",
            "3  144.18  918.59\n",
            "4  143.77  926.99\n"
          ]
        }
      ]
    },
    {
      "cell_type": "code",
      "metadata": {
        "colab": {
          "base_uri": "https://localhost:8080/"
        },
        "id": "aemyABBI5aZR",
        "outputId": "f5496c30-243b-437d-d729-a0da1c03bbec"
      },
      "source": [
        "# NUEVO EJEMPLO\n",
        "new_s1 = pd.Series([233.5, 444.09, 344.35, 294.80, 333.66], name = 'PERA')\n",
        "new_s2 = pd.Series([458.55, 877.76, 767.69,431.49, 545.77], name = 'UVA')\n",
        "new_data_frame = pd.concat([new_s1,new_s2], axis = 1)\n",
        "print(new_data_frame)\n"
      ],
      "execution_count": 89,
      "outputs": [
        {
          "output_type": "stream",
          "name": "stdout",
          "text": [
            "     PERA     UVA\n",
            "0  233.50  458.55\n",
            "1  444.09  877.76\n",
            "2  344.35  767.69\n",
            "3  294.80  431.49\n",
            "4  333.66  545.77\n"
          ]
        }
      ]
    },
    {
      "cell_type": "markdown",
      "metadata": {
        "id": "vcCyKwqY6Ql8"
      },
      "source": [
        "The \"axis = 1\" parameter will join two DataFrames by columns:"
      ]
    },
    {
      "cell_type": "code",
      "metadata": {
        "colab": {
          "base_uri": "https://localhost:8080/"
        },
        "id": "W3r5bUMf6RL_",
        "outputId": "d343d531-e93a-4f3d-ea2a-4bbc9a25ea9a"
      },
      "source": [
        "log_price = np.log(aapl_bar.Close)\n",
        "log_price.name = 'log_price'\n",
        "print(log_price)\n",
        "print('\\n---------------------- separate line--------------------\\n')\n",
        "concat = pd.concat([aapl_bar, log_price], axis = 1)\n",
        "print(concat)"
      ],
      "execution_count": 90,
      "outputs": [
        {
          "output_type": "stream",
          "name": "stdout",
          "text": [
            "Date\n",
            "2016-01-31    3.110856\n",
            "2016-02-29    3.109568\n",
            "2016-03-31    3.229314\n",
            "2016-04-30    3.078583\n",
            "2016-05-31    3.147897\n",
            "2016-06-30    3.104301\n",
            "2016-07-31    3.190536\n",
            "2016-08-31    3.213912\n",
            "2016-09-30    3.277360\n",
            "2016-10-31    3.281686\n",
            "2016-11-30    3.259848\n",
            "2016-12-31    3.306689\n",
            "Freq: M, Name: log_price, dtype: float64\n",
            "\n",
            "---------------------- separate line--------------------\n",
            "\n",
            "                 Open       High        Low      Close  rate_return  log_price\n",
            "Date                                                                          \n",
            "2016-01-31  21.852386  22.440248  21.750950  22.440248          NaN   3.110856\n",
            "2016-02-29  22.450755  22.768302  22.402081  22.411352    -0.001288   3.109568\n",
            "2016-03-31  25.431520  25.473242  25.236819  25.262316     0.127211   3.229314\n",
            "2016-04-30  21.785529  21.954734  21.442488  21.727583    -0.139921   3.078583\n",
            "2016-05-31  23.226405  23.412963  23.044512  23.287037     0.071773   3.147897\n",
            "2016-06-30  22.023115  22.333266  21.990468  22.293623    -0.042660   3.104301\n",
            "2016-07-31  24.296778  24.380729  24.177847  24.301441     0.090062   3.190536\n",
            "2016-08-31  24.773058  24.986415  24.768367  24.876219     0.023652   3.213912\n",
            "2016-09-30  26.367384  26.580743  26.212641  26.505716     0.065504   3.277360\n",
            "2016-10-31  26.646396  26.782384  26.540888  26.620605     0.004335   3.281686\n",
            "2016-11-30  26.300090  26.441488  25.986656  26.045572    -0.021601   3.259848\n",
            "2016-12-31  27.490193  27.619807  27.202683  27.294592     0.047955   3.306689\n"
          ]
        }
      ]
    },
    {
      "cell_type": "code",
      "metadata": {
        "colab": {
          "base_uri": "https://localhost:8080/"
        },
        "id": "zI5b3Ah66RQB",
        "outputId": "1f41c900-e22f-4849-f557-ec29d2025a64"
      },
      "source": [
        "# NUEVO EJEMPLO\n",
        "new_log_price = np.log(apple_bar.Close)\n",
        "new_log_price.name = 'log_price'\n",
        "print(new_log_price)\n",
        "print('\\n---------------------- separate line--------------------\\n')\n",
        "new_concat = pd.concat([apple_bar, log_price], axis = 1)\n",
        "print(new_concat)"
      ],
      "execution_count": 92,
      "outputs": [
        {
          "output_type": "stream",
          "name": "stdout",
          "text": [
            "Date\n",
            "2021-01-31    1.845300\n",
            "2021-02-28    1.958685\n",
            "2021-03-31    1.386294\n",
            "2021-04-30    1.278152\n",
            "2021-05-31    0.657520\n",
            "2021-06-30    0.582216\n",
            "2021-07-31   -0.371064\n",
            "2021-08-31   -0.430783\n",
            "2021-09-30   -0.544727\n",
            "2021-10-31   -0.579818\n",
            "Freq: M, Name: log_price, dtype: float64\n",
            "\n",
            "---------------------- separate line--------------------\n",
            "\n",
            "             Open   High    Low  Close  rate_return  log_price\n",
            "Date                                                          \n",
            "2016-01-31    NaN    NaN    NaN    NaN          NaN   3.110856\n",
            "2016-02-29    NaN    NaN    NaN    NaN          NaN   3.109568\n",
            "2016-03-31    NaN    NaN    NaN    NaN          NaN   3.229314\n",
            "2016-04-30    NaN    NaN    NaN    NaN          NaN   3.078583\n",
            "2016-05-31    NaN    NaN    NaN    NaN          NaN   3.147897\n",
            "2016-06-30    NaN    NaN    NaN    NaN          NaN   3.104301\n",
            "2016-07-31    NaN    NaN    NaN    NaN          NaN   3.190536\n",
            "2016-08-31    NaN    NaN    NaN    NaN          NaN   3.213912\n",
            "2016-09-30    NaN    NaN    NaN    NaN          NaN   3.277360\n",
            "2016-10-31    NaN    NaN    NaN    NaN          NaN   3.281686\n",
            "2016-11-30    NaN    NaN    NaN    NaN          NaN   3.259848\n",
            "2016-12-31    NaN    NaN    NaN    NaN          NaN   3.306689\n",
            "2021-01-31  6.600  6.740  6.280   6.33          NaN        NaN\n",
            "2021-02-28  7.180  7.410  6.660   7.09     0.120063        NaN\n",
            "2021-03-31  3.890  4.200  3.885   4.00    -0.435825        NaN\n",
            "2021-04-30  3.600  3.644  3.540   3.59    -0.102500        NaN\n",
            "2021-05-31  2.120  2.250  1.890   1.93    -0.462396        NaN\n",
            "2021-06-30  1.850  1.850  1.770   1.79    -0.072539        NaN\n",
            "2021-07-31  0.730  0.730  0.664   0.69    -0.614525        NaN\n",
            "2021-08-31  0.635  0.685  0.621   0.65    -0.057971        NaN\n",
            "2021-09-30  0.540  0.629  0.524   0.58    -0.107692        NaN\n",
            "2021-10-31  0.570  0.591  0.533   0.56    -0.034483        NaN\n"
          ]
        }
      ]
    },
    {
      "cell_type": "markdown",
      "metadata": {
        "id": "R-HjfWcf63q3"
      },
      "source": [
        "We can also join two DataFrames by rows. Consider these two DataFrames:"
      ]
    },
    {
      "cell_type": "code",
      "metadata": {
        "colab": {
          "base_uri": "https://localhost:8080/"
        },
        "id": "hnh52CWJ64kb",
        "outputId": "6167feff-0d9f-45a4-efa0-7cc914931821"
      },
      "source": [
        "df_volume = aapl_table.loc['2016-10':'2017-04',['Volume', 'Stock Splits']].resample('M').agg(lambda x: x[-1])\n",
        "print(df_volume)\n",
        "print('\\n---------------------- separate line--------------------\\n')\n",
        "df_2017 = aapl_table.loc['2016-10':'2017-04',['Open', 'High', 'Low', 'Close']].resample('M').agg(lambda x: x[-1])\n",
        "print(df_2017)"
      ],
      "execution_count": 94,
      "outputs": [
        {
          "output_type": "stream",
          "name": "stdout",
          "text": [
            "               Volume  Stock Splits\n",
            "Date                               \n",
            "2016-10-31  105677600             0\n",
            "2016-11-30  144649200             0\n",
            "2016-12-31  122345200             0\n",
            "2017-01-31  196804000             0\n",
            "2017-02-28   93931600             0\n",
            "2017-03-31   78646800             0\n",
            "2017-04-30   83441600             0\n",
            "\n",
            "---------------------- separate line--------------------\n",
            "\n",
            "                 Open       High        Low      Close\n",
            "Date                                                  \n",
            "2016-10-31  26.646396  26.782384  26.540888  26.620605\n",
            "2016-11-30  26.300090  26.441488  25.986656  26.045572\n",
            "2016-12-31  27.490193  27.619807  27.202683  27.294592\n",
            "2017-01-31  28.550682  28.607241  28.425781  28.597815\n",
            "2017-02-28  32.444877  32.530084  32.354935  32.423576\n",
            "2017-03-31  34.016459  34.146637  33.848410  34.002258\n",
            "2017-04-30  34.104032  34.153737  33.909951  33.999889\n"
          ]
        }
      ]
    },
    {
      "cell_type": "code",
      "metadata": {
        "colab": {
          "base_uri": "https://localhost:8080/"
        },
        "id": "jB2y13KB641B",
        "outputId": "1e260efb-689d-430a-e7ec-1920efce24cd"
      },
      "source": [
        "# NUEVO EJEMPLO\n",
        "new_df_volume = new_data.loc['2020-10':'2021-04',['Volume', 'Stock Splits']].resample('M').agg(lambda x: x[-1])\n",
        "print(new_df_volume)\n",
        "print('\\n---------------------- separate line--------------------\\n')\n",
        "new_df_2021 = new_data.loc['2020-10':'2021-04',['Open', 'High', 'Low', 'Close']].resample('M').agg(lambda x: x[-1])\n",
        "print(new_df_2021)"
      ],
      "execution_count": 97,
      "outputs": [
        {
          "output_type": "stream",
          "name": "stdout",
          "text": [
            "             Volume  Stock Splits\n",
            "Date                             \n",
            "2020-12-31   661500             0\n",
            "2021-01-31   337400             0\n",
            "2021-02-28  1088400             0\n",
            "2021-03-31   896800             0\n",
            "2021-04-30   241600             0\n",
            "\n",
            "---------------------- separate line--------------------\n",
            "\n",
            "            Open   High    Low  Close\n",
            "Date                                 \n",
            "2020-12-31  6.80  6.950  5.720   5.82\n",
            "2021-01-31  6.60  6.740  6.280   6.33\n",
            "2021-02-28  7.18  7.410  6.660   7.09\n",
            "2021-03-31  3.89  4.200  3.885   4.00\n",
            "2021-04-30  3.60  3.644  3.540   3.59\n"
          ]
        }
      ]
    },
    {
      "cell_type": "markdown",
      "metadata": {
        "id": "-q1a1ViJ8W0Z"
      },
      "source": [
        "Now we merge the DataFrames with our DataFrame 'aapl_bar'"
      ]
    },
    {
      "cell_type": "code",
      "metadata": {
        "colab": {
          "base_uri": "https://localhost:8080/"
        },
        "id": "eKcpK-YB8adz",
        "outputId": "a8a12e2c-d29e-4869-e382-477946334d48"
      },
      "source": [
        "concat = pd.concat([aapl_bar, df_volume], axis = 1)\n",
        "print(concat)"
      ],
      "execution_count": 98,
      "outputs": [
        {
          "output_type": "stream",
          "name": "stdout",
          "text": [
            "                 Open       High  ...       Volume  Stock Splits\n",
            "Date                              ...                           \n",
            "2016-01-31  21.852386  22.440248  ...          NaN           NaN\n",
            "2016-02-29  22.450755  22.768302  ...          NaN           NaN\n",
            "2016-03-31  25.431520  25.473242  ...          NaN           NaN\n",
            "2016-04-30  21.785529  21.954734  ...          NaN           NaN\n",
            "2016-05-31  23.226405  23.412963  ...          NaN           NaN\n",
            "2016-06-30  22.023115  22.333266  ...          NaN           NaN\n",
            "2016-07-31  24.296778  24.380729  ...          NaN           NaN\n",
            "2016-08-31  24.773058  24.986415  ...          NaN           NaN\n",
            "2016-09-30  26.367384  26.580743  ...          NaN           NaN\n",
            "2016-10-31  26.646396  26.782384  ...  105677600.0           0.0\n",
            "2016-11-30  26.300090  26.441488  ...  144649200.0           0.0\n",
            "2016-12-31  27.490193  27.619807  ...  122345200.0           0.0\n",
            "2017-01-31        NaN        NaN  ...  196804000.0           0.0\n",
            "2017-02-28        NaN        NaN  ...   93931600.0           0.0\n",
            "2017-03-31        NaN        NaN  ...   78646800.0           0.0\n",
            "2017-04-30        NaN        NaN  ...   83441600.0           0.0\n",
            "\n",
            "[16 rows x 7 columns]\n"
          ]
        }
      ]
    },
    {
      "cell_type": "code",
      "metadata": {
        "colab": {
          "base_uri": "https://localhost:8080/"
        },
        "id": "w9qm7wHc8aoN",
        "outputId": "ed73752b-c918-4c49-a046-352a9ae2362d"
      },
      "source": [
        "# NUEVO EJEMPLO\n",
        "new_concat = pd.concat([apple_bar, new_df_volume], axis = 1)\n",
        "print(new_concat)"
      ],
      "execution_count": 100,
      "outputs": [
        {
          "output_type": "stream",
          "name": "stdout",
          "text": [
            "             Open   High    Low  Close  rate_return     Volume  Stock Splits\n",
            "Date                                                                        \n",
            "2020-12-31    NaN    NaN    NaN    NaN          NaN   661500.0           0.0\n",
            "2021-01-31  6.600  6.740  6.280   6.33          NaN   337400.0           0.0\n",
            "2021-02-28  7.180  7.410  6.660   7.09     0.120063  1088400.0           0.0\n",
            "2021-03-31  3.890  4.200  3.885   4.00    -0.435825   896800.0           0.0\n",
            "2021-04-30  3.600  3.644  3.540   3.59    -0.102500   241600.0           0.0\n",
            "2021-05-31  2.120  2.250  1.890   1.93    -0.462396        NaN           NaN\n",
            "2021-06-30  1.850  1.850  1.770   1.79    -0.072539        NaN           NaN\n",
            "2021-07-31  0.730  0.730  0.664   0.69    -0.614525        NaN           NaN\n",
            "2021-08-31  0.635  0.685  0.621   0.65    -0.057971        NaN           NaN\n",
            "2021-09-30  0.540  0.629  0.524   0.58    -0.107692        NaN           NaN\n",
            "2021-10-31  0.570  0.591  0.533   0.56    -0.034483        NaN           NaN\n"
          ]
        }
      ]
    },
    {
      "cell_type": "markdown",
      "metadata": {
        "id": "sOgJNtm88rj2"
      },
      "source": [
        "By default the DataFrame are joined with all of the data. This default options results in zero information loss. We can also merge them by intersection, this is called 'inner join"
      ]
    },
    {
      "cell_type": "code",
      "metadata": {
        "colab": {
          "base_uri": "https://localhost:8080/"
        },
        "id": "zy0n4Fvg8sIN",
        "outputId": "7d3ba3d8-2158-4ea7-b2f8-fb4b00e24f4e"
      },
      "source": [
        "concat = pd.concat([aapl_bar,df_volume],axis = 1, join = 'inner')\n",
        "print(concat)"
      ],
      "execution_count": 101,
      "outputs": [
        {
          "output_type": "stream",
          "name": "stdout",
          "text": [
            "                 Open       High  ...     Volume  Stock Splits\n",
            "Date                              ...                         \n",
            "2016-10-31  26.646396  26.782384  ...  105677600             0\n",
            "2016-11-30  26.300090  26.441488  ...  144649200             0\n",
            "2016-12-31  27.490193  27.619807  ...  122345200             0\n",
            "\n",
            "[3 rows x 7 columns]\n"
          ]
        }
      ]
    },
    {
      "cell_type": "code",
      "metadata": {
        "colab": {
          "base_uri": "https://localhost:8080/"
        },
        "id": "VVcHoAED8sMW",
        "outputId": "9e7df2ee-174b-4105-ddab-93acc0c008c8"
      },
      "source": [
        "# NUEVO EJEMPLO\n",
        "new_concat = pd.concat([apple_bar,new_df_volume],axis = 1, join = 'inner')\n",
        "print(new_concat)"
      ],
      "execution_count": 102,
      "outputs": [
        {
          "output_type": "stream",
          "name": "stdout",
          "text": [
            "            Open   High    Low  Close  rate_return   Volume  Stock Splits\n",
            "Date                                                                     \n",
            "2021-01-31  6.60  6.740  6.280   6.33          NaN   337400             0\n",
            "2021-02-28  7.18  7.410  6.660   7.09     0.120063  1088400             0\n",
            "2021-03-31  3.89  4.200  3.885   4.00    -0.435825   896800             0\n",
            "2021-04-30  3.60  3.644  3.540   3.59    -0.102500   241600             0\n"
          ]
        }
      ]
    },
    {
      "cell_type": "markdown",
      "metadata": {
        "id": "7zv_CnUr87tk"
      },
      "source": [
        "Only the intersection part was left if use 'inner join' method. Now let's try to append a DataFrame to another one:"
      ]
    },
    {
      "cell_type": "code",
      "metadata": {
        "colab": {
          "base_uri": "https://localhost:8080/"
        },
        "id": "XsJmqCdS8_O_",
        "outputId": "5d034132-4382-424f-de98-5ae9ec4de467"
      },
      "source": [
        "append = aapl_bar.append(df_2017)\n",
        "print(append)"
      ],
      "execution_count": 103,
      "outputs": [
        {
          "output_type": "stream",
          "name": "stdout",
          "text": [
            "                 Open       High        Low      Close  rate_return\n",
            "Date                                                               \n",
            "2016-01-31  21.852386  22.440248  21.750950  22.440248          NaN\n",
            "2016-02-29  22.450755  22.768302  22.402081  22.411352    -0.001288\n",
            "2016-03-31  25.431520  25.473242  25.236819  25.262316     0.127211\n",
            "2016-04-30  21.785529  21.954734  21.442488  21.727583    -0.139921\n",
            "2016-05-31  23.226405  23.412963  23.044512  23.287037     0.071773\n",
            "2016-06-30  22.023115  22.333266  21.990468  22.293623    -0.042660\n",
            "2016-07-31  24.296778  24.380729  24.177847  24.301441     0.090062\n",
            "2016-08-31  24.773058  24.986415  24.768367  24.876219     0.023652\n",
            "2016-09-30  26.367384  26.580743  26.212641  26.505716     0.065504\n",
            "2016-10-31  26.646396  26.782384  26.540888  26.620605     0.004335\n",
            "2016-11-30  26.300090  26.441488  25.986656  26.045572    -0.021601\n",
            "2016-12-31  27.490193  27.619807  27.202683  27.294592     0.047955\n",
            "2016-10-31  26.646396  26.782384  26.540888  26.620605          NaN\n",
            "2016-11-30  26.300090  26.441488  25.986656  26.045572          NaN\n",
            "2016-12-31  27.490193  27.619807  27.202683  27.294592          NaN\n",
            "2017-01-31  28.550682  28.607241  28.425781  28.597815          NaN\n",
            "2017-02-28  32.444877  32.530084  32.354935  32.423576          NaN\n",
            "2017-03-31  34.016459  34.146637  33.848410  34.002258          NaN\n",
            "2017-04-30  34.104032  34.153737  33.909951  33.999889          NaN\n"
          ]
        }
      ]
    },
    {
      "cell_type": "code",
      "metadata": {
        "colab": {
          "base_uri": "https://localhost:8080/"
        },
        "id": "rqFO0VIu8_Tf",
        "outputId": "7868869f-37e9-480d-d9ca-365bcb7f51d6"
      },
      "source": [
        "# NUEVO EJEMPLO\n",
        "new_append = apple_bar.append(new_df_2021)\n",
        "print(new_append)"
      ],
      "execution_count": 110,
      "outputs": [
        {
          "output_type": "stream",
          "name": "stdout",
          "text": [
            "             Open   High    Low  Close  rate_return\n",
            "Date                                               \n",
            "2021-01-31  6.600  6.740  6.280   6.33          NaN\n",
            "2021-02-28  7.180  7.410  6.660   7.09     0.120063\n",
            "2021-03-31  3.890  4.200  3.885   4.00    -0.435825\n",
            "2021-04-30  3.600  3.644  3.540   3.59    -0.102500\n",
            "2021-05-31  2.120  2.250  1.890   1.93    -0.462396\n",
            "2021-06-30  1.850  1.850  1.770   1.79    -0.072539\n",
            "2021-07-31  0.730  0.730  0.664   0.69    -0.614525\n",
            "2021-08-31  0.635  0.685  0.621   0.65    -0.057971\n",
            "2021-09-30  0.540  0.629  0.524   0.58    -0.107692\n",
            "2021-10-31  0.570  0.591  0.533   0.56    -0.034483\n",
            "2020-12-31  6.800  6.950  5.720   5.82          NaN\n",
            "2021-01-31  6.600  6.740  6.280   6.33          NaN\n",
            "2021-02-28  7.180  7.410  6.660   7.09          NaN\n",
            "2021-03-31  3.890  4.200  3.885   4.00          NaN\n",
            "2021-04-30  3.600  3.644  3.540   3.59          NaN\n"
          ]
        }
      ]
    },
    {
      "cell_type": "markdown",
      "metadata": {
        "id": "2OyYlZf89YFg"
      },
      "source": [
        "'Append' is essentially to concat two DataFrames by axis = 0, thus here is an alternative way to append:"
      ]
    },
    {
      "cell_type": "code",
      "metadata": {
        "colab": {
          "base_uri": "https://localhost:8080/"
        },
        "id": "j2P7Ojqi9Ywt",
        "outputId": "eb98ed25-2fd9-45e4-b709-0fdfb1dde214"
      },
      "source": [
        "concat = pd.concat([aapl_bar, df_2017], axis = 0)\n",
        "print(concat)"
      ],
      "execution_count": 106,
      "outputs": [
        {
          "output_type": "stream",
          "name": "stdout",
          "text": [
            "                 Open       High        Low      Close  rate_return\n",
            "Date                                                               \n",
            "2016-01-31  21.852386  22.440248  21.750950  22.440248          NaN\n",
            "2016-02-29  22.450755  22.768302  22.402081  22.411352    -0.001288\n",
            "2016-03-31  25.431520  25.473242  25.236819  25.262316     0.127211\n",
            "2016-04-30  21.785529  21.954734  21.442488  21.727583    -0.139921\n",
            "2016-05-31  23.226405  23.412963  23.044512  23.287037     0.071773\n",
            "2016-06-30  22.023115  22.333266  21.990468  22.293623    -0.042660\n",
            "2016-07-31  24.296778  24.380729  24.177847  24.301441     0.090062\n",
            "2016-08-31  24.773058  24.986415  24.768367  24.876219     0.023652\n",
            "2016-09-30  26.367384  26.580743  26.212641  26.505716     0.065504\n",
            "2016-10-31  26.646396  26.782384  26.540888  26.620605     0.004335\n",
            "2016-11-30  26.300090  26.441488  25.986656  26.045572    -0.021601\n",
            "2016-12-31  27.490193  27.619807  27.202683  27.294592     0.047955\n",
            "2016-10-31  26.646396  26.782384  26.540888  26.620605          NaN\n",
            "2016-11-30  26.300090  26.441488  25.986656  26.045572          NaN\n",
            "2016-12-31  27.490193  27.619807  27.202683  27.294592          NaN\n",
            "2017-01-31  28.550682  28.607241  28.425781  28.597815          NaN\n",
            "2017-02-28  32.444877  32.530084  32.354935  32.423576          NaN\n",
            "2017-03-31  34.016459  34.146637  33.848410  34.002258          NaN\n",
            "2017-04-30  34.104032  34.153737  33.909951  33.999889          NaN\n"
          ]
        }
      ]
    },
    {
      "cell_type": "code",
      "metadata": {
        "colab": {
          "base_uri": "https://localhost:8080/"
        },
        "id": "IqPPmvAQ9Y0U",
        "outputId": "0656b751-4517-4313-a96f-07b570d6c40c"
      },
      "source": [
        "# NUEVO EJEMPLO\n",
        "new_concat = pd.concat([apple_bar, new_df_2021], axis = 0)\n",
        "print(new_concat)"
      ],
      "execution_count": 111,
      "outputs": [
        {
          "output_type": "stream",
          "name": "stdout",
          "text": [
            "             Open   High    Low  Close  rate_return\n",
            "Date                                               \n",
            "2021-01-31  6.600  6.740  6.280   6.33          NaN\n",
            "2021-02-28  7.180  7.410  6.660   7.09     0.120063\n",
            "2021-03-31  3.890  4.200  3.885   4.00    -0.435825\n",
            "2021-04-30  3.600  3.644  3.540   3.59    -0.102500\n",
            "2021-05-31  2.120  2.250  1.890   1.93    -0.462396\n",
            "2021-06-30  1.850  1.850  1.770   1.79    -0.072539\n",
            "2021-07-31  0.730  0.730  0.664   0.69    -0.614525\n",
            "2021-08-31  0.635  0.685  0.621   0.65    -0.057971\n",
            "2021-09-30  0.540  0.629  0.524   0.58    -0.107692\n",
            "2021-10-31  0.570  0.591  0.533   0.56    -0.034483\n",
            "2020-12-31  6.800  6.950  5.720   5.82          NaN\n",
            "2021-01-31  6.600  6.740  6.280   6.33          NaN\n",
            "2021-02-28  7.180  7.410  6.660   7.09          NaN\n",
            "2021-03-31  3.890  4.200  3.885   4.00          NaN\n",
            "2021-04-30  3.600  3.644  3.540   3.59          NaN\n"
          ]
        }
      ]
    },
    {
      "cell_type": "markdown",
      "metadata": {
        "id": "RFiUB1yE9rHl"
      },
      "source": [
        "Please note that if the two DataFrame have some columns with the same column names, these columns are considered to be the same and will be merged. It's very important to have the right column names. If we change a column names here:"
      ]
    },
    {
      "cell_type": "code",
      "metadata": {
        "colab": {
          "base_uri": "https://localhost:8080/"
        },
        "id": "Ca6pcUGi9tBz",
        "outputId": "e274fd5b-bf9b-4072-ad5d-39d6ba395291"
      },
      "source": [
        "df_2017.columns = ['Change', 'High', 'Low', 'Close']\n",
        "concat = pd.concat([aapl_bar, df_2017], axis = 0,sort=True)\n",
        "print(concat)"
      ],
      "execution_count": 109,
      "outputs": [
        {
          "output_type": "stream",
          "name": "stdout",
          "text": [
            "               Change      Close       High        Low       Open  rate_return\n",
            "Date                                                                          \n",
            "2016-01-31        NaN  22.440248  22.440248  21.750950  21.852386          NaN\n",
            "2016-02-29        NaN  22.411352  22.768302  22.402081  22.450755    -0.001288\n",
            "2016-03-31        NaN  25.262316  25.473242  25.236819  25.431520     0.127211\n",
            "2016-04-30        NaN  21.727583  21.954734  21.442488  21.785529    -0.139921\n",
            "2016-05-31        NaN  23.287037  23.412963  23.044512  23.226405     0.071773\n",
            "2016-06-30        NaN  22.293623  22.333266  21.990468  22.023115    -0.042660\n",
            "2016-07-31        NaN  24.301441  24.380729  24.177847  24.296778     0.090062\n",
            "2016-08-31        NaN  24.876219  24.986415  24.768367  24.773058     0.023652\n",
            "2016-09-30        NaN  26.505716  26.580743  26.212641  26.367384     0.065504\n",
            "2016-10-31        NaN  26.620605  26.782384  26.540888  26.646396     0.004335\n",
            "2016-11-30        NaN  26.045572  26.441488  25.986656  26.300090    -0.021601\n",
            "2016-12-31        NaN  27.294592  27.619807  27.202683  27.490193     0.047955\n",
            "2016-10-31  26.646396  26.620605  26.782384  26.540888        NaN          NaN\n",
            "2016-11-30  26.300090  26.045572  26.441488  25.986656        NaN          NaN\n",
            "2016-12-31  27.490193  27.294592  27.619807  27.202683        NaN          NaN\n",
            "2017-01-31  28.550682  28.597815  28.607241  28.425781        NaN          NaN\n",
            "2017-02-28  32.444877  32.423576  32.530084  32.354935        NaN          NaN\n",
            "2017-03-31  34.016459  34.002258  34.146637  33.848410        NaN          NaN\n",
            "2017-04-30  34.104032  33.999889  34.153737  33.909951        NaN          NaN\n"
          ]
        }
      ]
    },
    {
      "cell_type": "code",
      "metadata": {
        "colab": {
          "base_uri": "https://localhost:8080/"
        },
        "id": "HxWfLY_O98z8",
        "outputId": "28423aff-b62f-42cb-df92-929383181e39"
      },
      "source": [
        "# NUEVO EJEMPLO\n",
        "new_df_2021.columns = ['Change', 'High', 'Low', 'Close']\n",
        "new_concat = pd.concat([apple_bar, new_df_2021], axis = 0,sort=True)\n",
        "print(new_concat)"
      ],
      "execution_count": 112,
      "outputs": [
        {
          "output_type": "stream",
          "name": "stdout",
          "text": [
            "            Change  Close   High    Low   Open  rate_return\n",
            "Date                                                       \n",
            "2021-01-31     NaN   6.33  6.740  6.280  6.600          NaN\n",
            "2021-02-28     NaN   7.09  7.410  6.660  7.180     0.120063\n",
            "2021-03-31     NaN   4.00  4.200  3.885  3.890    -0.435825\n",
            "2021-04-30     NaN   3.59  3.644  3.540  3.600    -0.102500\n",
            "2021-05-31     NaN   1.93  2.250  1.890  2.120    -0.462396\n",
            "2021-06-30     NaN   1.79  1.850  1.770  1.850    -0.072539\n",
            "2021-07-31     NaN   0.69  0.730  0.664  0.730    -0.614525\n",
            "2021-08-31     NaN   0.65  0.685  0.621  0.635    -0.057971\n",
            "2021-09-30     NaN   0.58  0.629  0.524  0.540    -0.107692\n",
            "2021-10-31     NaN   0.56  0.591  0.533  0.570    -0.034483\n",
            "2020-12-31    6.80   5.82  6.950  5.720    NaN          NaN\n",
            "2021-01-31    6.60   6.33  6.740  6.280    NaN          NaN\n",
            "2021-02-28    7.18   7.09  7.410  6.660    NaN          NaN\n",
            "2021-03-31    3.89   4.00  4.200  3.885    NaN          NaN\n",
            "2021-04-30    3.60   3.59  3.644  3.540    NaN          NaN\n"
          ]
        }
      ]
    },
    {
      "cell_type": "markdown",
      "metadata": {
        "id": "qvnbcn6t-mx3"
      },
      "source": [
        "Since the column name of 'Open' has been changed, the new DataFrame has an new column named 'Change'.\n",
        "\n",
        "# Summary\n",
        "\n",
        "Hereby we introduced the most import part of python: resampling and DataFrame manipulation. We only introduced the most commonly used method in Financial data analysis. There are also many methods used in data mining, which are also beneficial. You can always check the [Pandas](https://pandas.pydata.org/pandas-docs/stable/index.html) official documentations for help."
      ]
    }
  ]
}