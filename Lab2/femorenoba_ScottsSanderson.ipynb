{
  "nbformat": 4,
  "nbformat_minor": 0,
  "metadata": {
    "celltoolbar": "Slideshow",
    "kernelspec": {
      "display_name": "Python 3",
      "language": "python",
      "name": "python3"
    },
    "language_info": {
      "codemirror_mode": {
        "name": "ipython",
        "version": 3
      },
      "file_extension": ".py",
      "mimetype": "text/x-python",
      "name": "python",
      "nbconvert_exporter": "python",
      "pygments_lexer": "ipython3",
      "version": "3.5.2"
    },
    "livereveal": {
      "start_slideshow_at": "selected"
    },
    "name": "Main.ipynb",
    "colab": {
      "name": "femorenoba_ScottsSanderson.ipynb",
      "provenance": [],
      "collapsed_sections": [
        "W9GTQxJUUyqK",
        "7MCPcC3wUyqY",
        "ef9T9LXvUyqa",
        "cPam5mHiUyql",
        "4aH6vx_wUyqn",
        "fvEPRX7PUyqz",
        "mdayQ-g3Uyqz"
      ]
    }
  },
  "cells": [
    {
      "cell_type": "markdown",
      "metadata": {
        "id": "QPicV7gHX9p6"
      },
      "source": [
        "<H1 align=\"center\">“The PyData Toolbox with Scott Sanderson” notebook</H1>\n",
        "\n",
        "<h2 align=\"center\">Fernando Moreno Bautista</h2>\n",
        "<h2 align=\"center\"> 1013656283</h2>\n",
        "<h2 align=\"center\">Metodos Númericos</h2>\n"
      ]
    },
    {
      "cell_type": "code",
      "metadata": {
        "colab": {
          "base_uri": "https://localhost:8080/"
        },
        "id": "XZIpl8jCWMle",
        "outputId": "12bad5cb-a3b4-40d5-b4f2-ffb25168c7f8"
      },
      "source": [
        "!pip install -U fortran-magic"
      ],
      "execution_count": 3,
      "outputs": [
        {
          "output_type": "stream",
          "name": "stdout",
          "text": [
            "Collecting fortran-magic\n",
            "  Downloading fortran_magic-0.7-py3-none-any.whl (9.6 kB)\n",
            "Requirement already satisfied: numpy in /usr/local/lib/python3.7/dist-packages (from fortran-magic) (1.19.5)\n",
            "Requirement already satisfied: ipython in /usr/local/lib/python3.7/dist-packages (from fortran-magic) (5.5.0)\n",
            "Requirement already satisfied: setuptools>=18.5 in /usr/local/lib/python3.7/dist-packages (from ipython->fortran-magic) (57.4.0)\n",
            "Requirement already satisfied: prompt-toolkit<2.0.0,>=1.0.4 in /usr/local/lib/python3.7/dist-packages (from ipython->fortran-magic) (1.0.18)\n",
            "Requirement already satisfied: traitlets>=4.2 in /usr/local/lib/python3.7/dist-packages (from ipython->fortran-magic) (5.1.0)\n",
            "Requirement already satisfied: pickleshare in /usr/local/lib/python3.7/dist-packages (from ipython->fortran-magic) (0.7.5)\n",
            "Requirement already satisfied: pexpect in /usr/local/lib/python3.7/dist-packages (from ipython->fortran-magic) (4.8.0)\n",
            "Requirement already satisfied: decorator in /usr/local/lib/python3.7/dist-packages (from ipython->fortran-magic) (4.4.2)\n",
            "Requirement already satisfied: simplegeneric>0.8 in /usr/local/lib/python3.7/dist-packages (from ipython->fortran-magic) (0.8.1)\n",
            "Requirement already satisfied: pygments in /usr/local/lib/python3.7/dist-packages (from ipython->fortran-magic) (2.6.1)\n",
            "Requirement already satisfied: wcwidth in /usr/local/lib/python3.7/dist-packages (from prompt-toolkit<2.0.0,>=1.0.4->ipython->fortran-magic) (0.2.5)\n",
            "Requirement already satisfied: six>=1.9.0 in /usr/local/lib/python3.7/dist-packages (from prompt-toolkit<2.0.0,>=1.0.4->ipython->fortran-magic) (1.15.0)\n",
            "Requirement already satisfied: ptyprocess>=0.5 in /usr/local/lib/python3.7/dist-packages (from pexpect->ipython->fortran-magic) (0.7.0)\n",
            "Installing collected packages: fortran-magic\n",
            "Successfully installed fortran-magic-0.7\n"
          ]
        }
      ]
    },
    {
      "cell_type": "code",
      "metadata": {
        "autoscroll": false,
        "ein.tags": "worksheet-0",
        "colab": {
          "base_uri": "https://localhost:8080/",
          "height": 71
        },
        "id": "Mc2GBg49Uyp8",
        "outputId": "f5765b34-c6ec-4b9f-c18f-1971f99dd74a"
      },
      "source": [
        "%matplotlib inline\n",
        "%load_ext fortranmagic\n",
        "\n",
        "import sys; sys.path.append('..')\n",
        "\n",
        "import pandas as pd\n",
        "import numpy as np\n",
        "import matplotlib as mpl\n",
        "import matplotlib.pyplot as plt\n",
        "import seaborn as sns\n",
        "\n",
        "mpl.rc('figure', figsize=(12, 7))\n",
        "\n",
        "ran_the_first_cell = True\n",
        "\n",
        "jan2017 = pd.to_datetime(['2017-01-03 00:00:00+00:00',\n",
        " '2017-01-04 00:00:00+00:00',\n",
        " '2017-01-05 00:00:00+00:00',\n",
        " '2017-01-06 00:00:00+00:00',\n",
        " '2017-01-09 00:00:00+00:00',\n",
        " '2017-01-10 00:00:00+00:00',\n",
        " '2017-01-11 00:00:00+00:00',\n",
        " '2017-01-12 00:00:00+00:00',\n",
        " '2017-01-13 00:00:00+00:00',\n",
        " '2017-01-17 00:00:00+00:00',\n",
        " '2017-01-18 00:00:00+00:00',\n",
        " '2017-01-19 00:00:00+00:00',\n",
        " '2017-01-20 00:00:00+00:00',\n",
        " '2017-01-23 00:00:00+00:00',\n",
        " '2017-01-24 00:00:00+00:00',\n",
        " '2017-01-25 00:00:00+00:00',\n",
        " '2017-01-26 00:00:00+00:00',\n",
        " '2017-01-27 00:00:00+00:00',\n",
        " '2017-01-30 00:00:00+00:00',\n",
        " '2017-01-31 00:00:00+00:00',\n",
        " '2017-02-01 00:00:00+00:00'])\n",
        "calendar = jan2017.values.astype('datetime64[D]')\n",
        "\n",
        "event_dates = pd.to_datetime(['2017-01-06 00:00:00+00:00', \n",
        "                             '2017-01-07 00:00:00+00:00', \n",
        "                             '2017-01-08 00:00:00+00:00']).values.astype('datetime64[D]')\n",
        "event_values = np.array([10, 15, 20])"
      ],
      "execution_count": 4,
      "outputs": [
        {
          "output_type": "stream",
          "name": "stderr",
          "text": [
            "/usr/local/lib/python3.7/dist-packages/fortranmagic.py:147: UserWarning: get_ipython_cache_dir has moved to the IPython.paths module since IPython 4.0.\n",
            "  self._lib_dir = os.path.join(get_ipython_cache_dir(), 'fortran')\n"
          ]
        },
        {
          "output_type": "display_data",
          "data": {
            "application/javascript": [
              "$.getScript(\"https://raw.github.com/marijnh/CodeMirror/master/mode/fortran/fortran.js\", function () {\n",
              "IPython.config.cell_magic_highlight['magic_fortran'] = {'reg':[/^%%fortran/]};});\n"
            ]
          },
          "metadata": {}
        }
      ]
    },
    {
      "cell_type": "markdown",
      "metadata": {
        "collapsed": true,
        "ein.tags": "worksheet-0",
        "id": "eYzAQGtrUyqC"
      },
      "source": [
        "# About Me:\n",
        "\n",
        "<img src=\"https://github.com/ssanderson/pydata-toolbox/blob/master/notebooks/images/me.jpg?raw=1\" alt=\"Drawing\" width=\"500px\"/>\n",
        "\n",
        "- Senior Engineer at [Quantopian](www.quantopian.com)\n",
        "- Background in Mathematics and Philosophy\n",
        "- **Twitter:** [@scottbsanderson](https://twitter.com/scottbsanderson)\n",
        "- **GitHub:** [ssanderson](github.com/ssanderson)"
      ]
    },
    {
      "cell_type": "markdown",
      "metadata": {
        "id": "Qv0vx1yLUyqD"
      },
      "source": [
        "## Outline\n",
        "\n",
        "- Built-in Data Structures\n",
        "- Numpy `array`\n",
        "- Pandas `Series`/`DataFrame`\n",
        "- Plotting and \"Real-World\" Analyses"
      ]
    },
    {
      "cell_type": "markdown",
      "metadata": {
        "id": "VFe_u0Y6UyqE"
      },
      "source": [
        "# Data Structures"
      ]
    },
    {
      "cell_type": "markdown",
      "metadata": {
        "id": "bUscmvZkUyqF"
      },
      "source": [
        "> Rule 5. Data dominates. If you've chosen the right data structures and organized things well, the algorithms\n",
        "will almost always be self-evident. Data structures, not algorithms, are central to programming.\n",
        "\n",
        "- *Notes on Programming in C*, by Rob Pike."
      ]
    },
    {
      "cell_type": "markdown",
      "metadata": {
        "id": "LeTIjmdkUyqF"
      },
      "source": [
        "# Lists"
      ]
    },
    {
      "cell_type": "code",
      "metadata": {
        "collapsed": true,
        "id": "8vwO_zMlUyqF"
      },
      "source": [
        "assert ran_the_first_cell, \"Oh noes!\""
      ],
      "execution_count": null,
      "outputs": []
    },
    {
      "cell_type": "code",
      "metadata": {
        "colab": {
          "base_uri": "https://localhost:8080/"
        },
        "id": "67Xzk6hwUyqG",
        "outputId": "67457837-bd58-4ee7-83ca-40d623a6a9b7"
      },
      "source": [
        "l = [1, 'two', 3.0, 4, 5.0, \"six\"]\n",
        "l"
      ],
      "execution_count": null,
      "outputs": [
        {
          "output_type": "execute_result",
          "data": {
            "text/plain": [
              "[1, 'two', 3.0, 4, 5.0, 'six']"
            ]
          },
          "metadata": {},
          "execution_count": 4
        }
      ]
    },
    {
      "cell_type": "code",
      "metadata": {
        "colab": {
          "base_uri": "https://localhost:8080/"
        },
        "id": "GgYXF8sXZvN8",
        "outputId": "ca6cf0c9-423f-4c01-e9a4-6b075ade4e2f"
      },
      "source": [
        "# NUEVO EJEMPLO\n",
        "List = [\"hola\", \"soy\", 1, \"lista\", \"combinada\", 4,4,5]\n",
        "List"
      ],
      "execution_count": null,
      "outputs": [
        {
          "output_type": "execute_result",
          "data": {
            "text/plain": [
              "['hola', 'soy', 1, 'lista', 'combinada', 4, 4, 5]"
            ]
          },
          "metadata": {},
          "execution_count": 21
        }
      ]
    },
    {
      "cell_type": "code",
      "metadata": {
        "colab": {
          "base_uri": "https://localhost:8080/"
        },
        "id": "PI_z0vClUyqG",
        "outputId": "e042b127-85cd-447c-892b-608b5403074a"
      },
      "source": [
        "# Lists can be indexed like C-style arrays.\n",
        "first = l[0]\n",
        "second = l[1]\n",
        "print(\"first:\", first)\n",
        "print(\"second:\", second)"
      ],
      "execution_count": null,
      "outputs": [
        {
          "output_type": "stream",
          "name": "stdout",
          "text": [
            "first: 1\n",
            "second: two\n"
          ]
        }
      ]
    },
    {
      "cell_type": "code",
      "metadata": {
        "colab": {
          "base_uri": "https://localhost:8080/"
        },
        "id": "MfKmqTC-aCT4",
        "outputId": "702b4b62-5a3a-4146-b2a7-3ac1723d8f1e"
      },
      "source": [
        "# NUEVO EJEMPLO\n",
        "# Lists can be indexed like C-style arrays.\n",
        "second = List[1]\n",
        "third = List[2]\n",
        "print(\"second element:\", second)\n",
        "print(\"third element: \",third)"
      ],
      "execution_count": null,
      "outputs": [
        {
          "output_type": "stream",
          "name": "stdout",
          "text": [
            "second element: soy\n",
            "third element:  1\n"
          ]
        }
      ]
    },
    {
      "cell_type": "code",
      "metadata": {
        "colab": {
          "base_uri": "https://localhost:8080/"
        },
        "id": "TzwKf_OkUyqH",
        "outputId": "d2e56d07-574c-4821-de4b-29dfa173a3d3"
      },
      "source": [
        "# Negative indexing gives elements relative to the end of the list.\n",
        "last = l[-1]\n",
        "penultimate = l[-2]\n",
        "print(\"last:\", last)\n",
        "print(\"second to last:\", penultimate)"
      ],
      "execution_count": null,
      "outputs": [
        {
          "output_type": "stream",
          "name": "stdout",
          "text": [
            "last: six\n",
            "second to last: 5.0\n"
          ]
        }
      ]
    },
    {
      "cell_type": "code",
      "metadata": {
        "colab": {
          "base_uri": "https://localhost:8080/"
        },
        "id": "0cL-aoRHapCL",
        "outputId": "eb5a3b72-c57a-4f4c-c3f3-65ce4929e0f9"
      },
      "source": [
        "# NUEVO EJEMPLO\n",
        "# Negative indexing gives elements relative to the end of the list.\n",
        "ultimo = List[-1]\n",
        "penultimo = List[-2]\n",
        "print(\"last element:\", ultimo)\n",
        "print(\"second to last element: \",penultimo)"
      ],
      "execution_count": null,
      "outputs": [
        {
          "output_type": "stream",
          "name": "stdout",
          "text": [
            "last element: 5\n",
            "second to last element:  4\n"
          ]
        }
      ]
    },
    {
      "cell_type": "code",
      "metadata": {
        "colab": {
          "base_uri": "https://localhost:8080/"
        },
        "id": "5_T1VjGIUyqH",
        "outputId": "1bb67c1e-bac1-4c10-ca2d-002946aa2c4d"
      },
      "source": [
        "# Lists can also be sliced, which makes a copy of elements between \n",
        "# start (inclusive) and stop (exclusive)\n",
        "sublist = l[1:3]\n",
        "sublist"
      ],
      "execution_count": null,
      "outputs": [
        {
          "output_type": "execute_result",
          "data": {
            "text/plain": [
              "['two', 3.0]"
            ]
          },
          "metadata": {},
          "execution_count": 12
        }
      ]
    },
    {
      "cell_type": "code",
      "metadata": {
        "colab": {
          "base_uri": "https://localhost:8080/"
        },
        "id": "lLXipAE5bJn2",
        "outputId": "3f8c12b1-bee0-424e-cbe7-11f9b1ecc84b"
      },
      "source": [
        "# NUEVO EJEMPLO\n",
        "# Lists can also be sliced, which makes a copy of elements between \n",
        "# start (inclusive) and stop (exclusive)\n",
        "sublist = List[1:-3]\n",
        "sublist"
      ],
      "execution_count": null,
      "outputs": [
        {
          "output_type": "execute_result",
          "data": {
            "text/plain": [
              "['soy', 1, 'lista', 'combinada']"
            ]
          },
          "metadata": {},
          "execution_count": 13
        }
      ]
    },
    {
      "cell_type": "code",
      "metadata": {
        "colab": {
          "base_uri": "https://localhost:8080/"
        },
        "id": "nhPUg07tUyqI",
        "outputId": "8b62a225-7b59-4764-d78a-0ccad0b7fbbe"
      },
      "source": [
        "# l[:N] is equivalent to l[0:N].\n",
        "first_three = l[:3]\n",
        "first_three"
      ],
      "execution_count": null,
      "outputs": [
        {
          "output_type": "execute_result",
          "data": {
            "text/plain": [
              "[1, 'two', 3.0]"
            ]
          },
          "metadata": {},
          "execution_count": 14
        }
      ]
    },
    {
      "cell_type": "code",
      "metadata": {
        "colab": {
          "base_uri": "https://localhost:8080/"
        },
        "id": "m0TodXmFbh7P",
        "outputId": "5730d9d5-e6a9-42e0-8885-eab4055a2f80"
      },
      "source": [
        "# NUEVO EJEMPLO\n",
        "# l[:N] is equivalent to l[0:N].\n",
        "first_three = List[:-1]\n",
        "first_three"
      ],
      "execution_count": null,
      "outputs": [
        {
          "output_type": "execute_result",
          "data": {
            "text/plain": [
              "['hola', 'soy', 1, 'lista', 'combinada', 4, 4]"
            ]
          },
          "metadata": {},
          "execution_count": 17
        }
      ]
    },
    {
      "cell_type": "code",
      "metadata": {
        "colab": {
          "base_uri": "https://localhost:8080/"
        },
        "id": "b6LodkemUyqI",
        "outputId": "3d83057c-7c4f-4db7-ea5f-a5412bb59614"
      },
      "source": [
        "# l[3:] is equivalent to l[3:len(l)].\n",
        "after_three = l[3:]\n",
        "after_three"
      ],
      "execution_count": null,
      "outputs": [
        {
          "output_type": "execute_result",
          "data": {
            "text/plain": [
              "[4, 5.0, 'six']"
            ]
          },
          "metadata": {},
          "execution_count": 18
        }
      ]
    },
    {
      "cell_type": "code",
      "metadata": {
        "colab": {
          "base_uri": "https://localhost:8080/"
        },
        "id": "roRm6bP3br8a",
        "outputId": "d5ca0a29-0889-4205-a0cd-915471e4d6ab"
      },
      "source": [
        "# NUEVO EJEMPLO\n",
        "# l[2:] is equivalent to l[2:len(l)].\n",
        "after_three = List[3:]\n",
        "after_three"
      ],
      "execution_count": null,
      "outputs": [
        {
          "output_type": "execute_result",
          "data": {
            "text/plain": [
              "['lista', 'combinada', 4, 4, 5]"
            ]
          },
          "metadata": {},
          "execution_count": 19
        }
      ]
    },
    {
      "cell_type": "code",
      "metadata": {
        "colab": {
          "base_uri": "https://localhost:8080/"
        },
        "id": "22Z-aKgNUyqI",
        "outputId": "9b4f3c5d-f3c9-4488-dd05-26d127cb1900"
      },
      "source": [
        "# There's also a third parameter, \"step\", which gets every Nth element.\n",
        "l = ['a', 'b', 'c', 'd', 'e', 'f', 'g','h']\n",
        "l[1:7:2]"
      ],
      "execution_count": null,
      "outputs": [
        {
          "output_type": "execute_result",
          "data": {
            "text/plain": [
              "['b', 'd', 'f']"
            ]
          },
          "metadata": {},
          "execution_count": 20
        }
      ]
    },
    {
      "cell_type": "code",
      "metadata": {
        "colab": {
          "base_uri": "https://localhost:8080/"
        },
        "id": "Z-3YyVhlb4wq",
        "outputId": "3fda74de-c782-4843-88c2-5dedaeb7bd85"
      },
      "source": [
        "# NUEVO EJEMPLO\n",
        "# There's also a third parameter, \"step\", which gets every Nth element.\n",
        "List = [\"si\",\"la\",\"vida\",\"fura\",\"estable\", \"Todo\", \"tiempo\"]\n",
        "List[0:8:2]"
      ],
      "execution_count": null,
      "outputs": [
        {
          "output_type": "execute_result",
          "data": {
            "text/plain": [
              "['si', 'vida', 'estable', 'tiempo']"
            ]
          },
          "metadata": {},
          "execution_count": 23
        }
      ]
    },
    {
      "cell_type": "code",
      "metadata": {
        "colab": {
          "base_uri": "https://localhost:8080/"
        },
        "id": "YY3x4_PaUyqJ",
        "outputId": "9c1ec935-3e73-4966-aea0-a57d0f5d991e"
      },
      "source": [
        "# This is a cute way to reverse a list.\n",
        "l[::-1]"
      ],
      "execution_count": null,
      "outputs": [
        {
          "output_type": "execute_result",
          "data": {
            "text/plain": [
              "['h', 'g', 'f', 'e', 'd', 'c', 'b', 'a']"
            ]
          },
          "metadata": {},
          "execution_count": 24
        }
      ]
    },
    {
      "cell_type": "code",
      "metadata": {
        "colab": {
          "base_uri": "https://localhost:8080/"
        },
        "id": "_1gXbmbHcabZ",
        "outputId": "221cba21-20d8-4dd2-c8df-e3c0cd52079b"
      },
      "source": [
        "# NUEVO EJEMPLO\n",
        "# This is a cute way to reverse a list.\n",
        "List[::-1]"
      ],
      "execution_count": null,
      "outputs": [
        {
          "output_type": "execute_result",
          "data": {
            "text/plain": [
              "['tiempo', 'Todo', 'estable', 'fura', 'vida', 'la', 'si']"
            ]
          },
          "metadata": {},
          "execution_count": 25
        }
      ]
    },
    {
      "cell_type": "code",
      "metadata": {
        "colab": {
          "base_uri": "https://localhost:8080/"
        },
        "id": "Bx14WzENUyqJ",
        "outputId": "6b5e0e82-7422-4206-a47c-18c565baa0c6"
      },
      "source": [
        "# Lists can be grown efficiently (in O(1) amortized time).\n",
        "l = [1, 2, 3, 4, 5]\n",
        "print(\"Before:\", l)\n",
        "l.append('six')\n",
        "print(\"After:\", l)"
      ],
      "execution_count": null,
      "outputs": [
        {
          "output_type": "stream",
          "name": "stdout",
          "text": [
            "Before: [1, 2, 3, 4, 5]\n",
            "After: [1, 2, 3, 4, 5, 'six']\n"
          ]
        }
      ]
    },
    {
      "cell_type": "code",
      "metadata": {
        "colab": {
          "base_uri": "https://localhost:8080/"
        },
        "id": "jY8JeA1wb3ok",
        "outputId": "0c689d3c-0c5c-42a6-df93-1c5fd4eabaa3"
      },
      "source": [
        "# NUEVO EJEMPLO\n",
        "# Lists can be grown efficiently (in O(1) amortized time).\n",
        "print(\"Before:\", List)\n",
        "List.append(\"Yo no beberia\")\n",
        "print(\"Afer:\", List)"
      ],
      "execution_count": null,
      "outputs": [
        {
          "output_type": "stream",
          "name": "stdout",
          "text": [
            "Before: ['si', 'la', 'vida', 'fura', 'estable', 'Todo', 'tiempo']\n",
            "Afer: ['si', 'la', 'vida', 'fura', 'estable', 'Todo', 'tiempo', 'Yo no beberia']\n"
          ]
        }
      ]
    },
    {
      "cell_type": "code",
      "metadata": {
        "colab": {
          "base_uri": "https://localhost:8080/"
        },
        "id": "EgQbDSgqUyqK",
        "outputId": "55ba3ed3-0ff5-4f70-fb18-afe429a4223e"
      },
      "source": [
        "# Comprehensions let us perform elementwise computations.\n",
        "l = [1, 2, 3, 4, 5]\n",
        "[x * 2 for x in l]"
      ],
      "execution_count": null,
      "outputs": [
        {
          "output_type": "execute_result",
          "data": {
            "text/plain": [
              "[2, 4, 6, 8, 10]"
            ]
          },
          "metadata": {},
          "execution_count": 29
        }
      ]
    },
    {
      "cell_type": "code",
      "metadata": {
        "colab": {
          "base_uri": "https://localhost:8080/"
        },
        "id": "OmDgBZ-Vb5q7",
        "outputId": "23219a49-316d-4080-cdff-06ee6ae9026f"
      },
      "source": [
        "# NUEVO EJEMPLO\n",
        "# Comprehensions let us perform elementwise computations.\n",
        "[x * 3 for x in List]"
      ],
      "execution_count": null,
      "outputs": [
        {
          "output_type": "execute_result",
          "data": {
            "text/plain": [
              "['sisisi',\n",
              " 'lalala',\n",
              " 'vidavidavida',\n",
              " 'furafurafura',\n",
              " 'estableestableestable',\n",
              " 'TodoTodoTodo',\n",
              " 'tiempotiempotiempo',\n",
              " 'Yo no beberiaYo no beberiaYo no beberia']"
            ]
          },
          "metadata": {},
          "execution_count": 31
        }
      ]
    },
    {
      "cell_type": "markdown",
      "metadata": {
        "ein.tags": "worksheet-0",
        "id": "W9GTQxJUUyqK"
      },
      "source": [
        "## Review: Python Lists\n",
        "\n",
        "- Zero-indexed sequence of arbitrary Python values.\n",
        "- Slicing syntax: `l[start:stop:step]` copies elements at regular intervals from `start` to `stop`.\n",
        "- Efficient (`O(1)`) appends and removes from end.\n",
        "- Comprehension syntax: `[f(x) for x in l if cond(x)]`."
      ]
    },
    {
      "cell_type": "markdown",
      "metadata": {
        "id": "1-A9577xUyqK"
      },
      "source": [
        "# Dictionaries"
      ]
    },
    {
      "cell_type": "code",
      "metadata": {
        "colab": {
          "base_uri": "https://localhost:8080/"
        },
        "id": "fRglsceaUyqL",
        "outputId": "eb39db0f-227e-4a5a-b281-9069ed470b2d"
      },
      "source": [
        "# Dictionaries are key-value mappings.\n",
        "philosophers = {'David': 'Hume', 'Immanuel': 'Kant', 'Bertrand': 'Russell'}\n",
        "philosophers"
      ],
      "execution_count": null,
      "outputs": [
        {
          "output_type": "execute_result",
          "data": {
            "text/plain": [
              "{'Bertrand': 'Russell', 'David': 'Hume', 'Immanuel': 'Kant'}"
            ]
          },
          "metadata": {},
          "execution_count": 32
        }
      ]
    },
    {
      "cell_type": "code",
      "metadata": {
        "colab": {
          "base_uri": "https://localhost:8080/"
        },
        "id": "j_iErlAvdDGQ",
        "outputId": "ad99ec42-73e7-402e-ecba-f4b7fe218fdf"
      },
      "source": [
        "# NUEVO EJEMPLO\n",
        "# Dictionaries are key-value mappings.\n",
        "fruits = {'Pera': 'Verde', 'Manzana': 'Roja', 'Melon': 'Amarillo'}\n",
        "fruits"
      ],
      "execution_count": null,
      "outputs": [
        {
          "output_type": "execute_result",
          "data": {
            "text/plain": [
              "{'Manzana': 'Roja', 'Melon': 'Amarillo', 'Pera': 'Verde'}"
            ]
          },
          "metadata": {},
          "execution_count": 35
        }
      ]
    },
    {
      "cell_type": "code",
      "metadata": {
        "colab": {
          "base_uri": "https://localhost:8080/"
        },
        "id": "szfqbkttUyqL",
        "outputId": "7d126853-b03f-4b14-b70e-a66b220cbdfd"
      },
      "source": [
        "# Like lists, dictionaries are size-mutable.\n",
        "philosophers['Ludwig'] = 'Wittgenstein'\n",
        "philosophers"
      ],
      "execution_count": null,
      "outputs": [
        {
          "output_type": "execute_result",
          "data": {
            "text/plain": [
              "{'Bertrand': 'Russell',\n",
              " 'David': 'Hume',\n",
              " 'Immanuel': 'Kant',\n",
              " 'Ludwig': 'Wittgenstein'}"
            ]
          },
          "metadata": {},
          "execution_count": 36
        }
      ]
    },
    {
      "cell_type": "code",
      "metadata": {
        "colab": {
          "base_uri": "https://localhost:8080/"
        },
        "id": "HUNzY5YHdDkY",
        "outputId": "a682d246-dce1-4dfa-94b7-4e93f0262bbe"
      },
      "source": [
        "# NUEVO EJEMPLO\n",
        "# Like lists, dictionaries are size-mutable.\n",
        "fruits['Fresa'] = 'Roja'\n",
        "fruits"
      ],
      "execution_count": null,
      "outputs": [
        {
          "output_type": "execute_result",
          "data": {
            "text/plain": [
              "{'Fresa': 'Roja', 'Manzana': 'Roja', 'Melon': 'Amarillo', 'Pera': 'Verde'}"
            ]
          },
          "metadata": {},
          "execution_count": 37
        }
      ]
    },
    {
      "cell_type": "code",
      "metadata": {
        "colab": {
          "base_uri": "https://localhost:8080/"
        },
        "id": "tnm1nt65UyqL",
        "outputId": "2b01cbc2-6b04-4c9d-af29-f6b26b47af89"
      },
      "source": [
        "del philosophers['David']\n",
        "philosophers"
      ],
      "execution_count": null,
      "outputs": [
        {
          "output_type": "execute_result",
          "data": {
            "text/plain": [
              "{'Bertrand': 'Russell', 'Immanuel': 'Kant', 'Ludwig': 'Wittgenstein'}"
            ]
          },
          "metadata": {},
          "execution_count": 38
        }
      ]
    },
    {
      "cell_type": "code",
      "metadata": {
        "colab": {
          "base_uri": "https://localhost:8080/"
        },
        "id": "CjzO_4S7dEL-",
        "outputId": "ef8dccee-479d-4307-e9d5-85b2c4ef549f"
      },
      "source": [
        "# NUEVO EJEMPLO\n",
        "del fruits['Fresa']\n",
        "fruits"
      ],
      "execution_count": null,
      "outputs": [
        {
          "output_type": "execute_result",
          "data": {
            "text/plain": [
              "{'Manzana': 'Roja', 'Melon': 'Amarillo', 'Pera': 'Verde'}"
            ]
          },
          "metadata": {},
          "execution_count": 39
        }
      ]
    },
    {
      "cell_type": "code",
      "metadata": {
        "id": "w887AU2dUyqM"
      },
      "source": [
        "# No slicing.\n",
        "#philosophers['Bertrand':'Immanuel']"
      ],
      "execution_count": null,
      "outputs": []
    },
    {
      "cell_type": "markdown",
      "metadata": {
        "ein.tags": "worksheet-0",
        "id": "bRb-gKEjUyqM"
      },
      "source": [
        "\n",
        "## Review: Python Dictionaries\n",
        "\n",
        "- Unordered key-value mapping from (almost) arbitrary keys to arbitrary values.\n",
        "- Efficient (`O(1)`) lookup, insertion, and deletion.\n",
        "- No slicing (would require a notion of order)."
      ]
    },
    {
      "cell_type": "code",
      "metadata": {
        "collapsed": true,
        "id": "3SCsmHAkUyqM"
      },
      "source": [
        "# Suppose we have some matrices...\n",
        "a = [[1, 2, 3],\n",
        "     [2, 3, 4],\n",
        "     [5, 6, 7],\n",
        "     [1, 1, 1]]\n",
        "\n",
        "b = [[1, 2, 3, 4],\n",
        "     [2, 3, 4, 5]]"
      ],
      "execution_count": null,
      "outputs": []
    },
    {
      "cell_type": "code",
      "metadata": {
        "id": "yBPy9uzifMyo"
      },
      "source": [
        "# NUEVO EJEMPLO\n",
        "# Suppose we have some matrices...\n",
        "f = [[9, 8, 7],\n",
        "     [2, 3, 4],\n",
        "     [4, 4, 4]]\n",
        "\n",
        "b = [[9, 7, 4, 4],\n",
        "     [7, 6, 5, 4]]"
      ],
      "execution_count": null,
      "outputs": []
    },
    {
      "cell_type": "code",
      "metadata": {
        "collapsed": true,
        "id": "NIKgpyd3UyqN"
      },
      "source": [
        "def matmul(A, B):\n",
        "    \"\"\"Multiply matrix A by matrix B.\"\"\"\n",
        "    rows_out = len(A)\n",
        "    cols_out = len(B[0])\n",
        "    out = [[0 for col in range(cols_out)] for row in range(rows_out)]\n",
        "    \n",
        "    for i in range(rows_out):\n",
        "        for j in range(cols_out):\n",
        "            for k in range(len(B)):\n",
        "                out[i][j] += A[i][k] * B[k][j]\n",
        "    return out"
      ],
      "execution_count": null,
      "outputs": []
    },
    {
      "cell_type": "code",
      "metadata": {
        "id": "a-rqZ_BADRNR"
      },
      "source": [
        "# NUEVO EJEMPLO\n",
        "def multimat(F, B):\n",
        "    \"\"\"Multiply matrix F by matrix B.\"\"\"\n",
        "    rows_out = len(F)\n",
        "    cols_out = len(B[0])\n",
        "    out = [[0 for col in range(cols_out)] for row in range(rows_out)]\n",
        "    \n",
        "    for i in range(rows_out):\n",
        "        for j in range(cols_out):\n",
        "            for k in range(len(F)):\n",
        "                out[i][j] += F[i][k] * B[k][j]\n",
        "    return out"
      ],
      "execution_count": null,
      "outputs": []
    },
    {
      "cell_type": "code",
      "metadata": {
        "colab": {
          "base_uri": "https://localhost:8080/"
        },
        "id": "igwvCuMHUyqO",
        "outputId": "3a2a072b-d1fb-4ed9-a6b3-c8bbefcd9477"
      },
      "source": [
        "%%time\n",
        "\n",
        "matmul(a, b)"
      ],
      "execution_count": null,
      "outputs": [
        {
          "output_type": "stream",
          "name": "stdout",
          "text": [
            "CPU times: user 50 µs, sys: 0 ns, total: 50 µs\n",
            "Wall time: 55.1 µs\n"
          ]
        },
        {
          "output_type": "execute_result",
          "data": {
            "text/plain": [
              "[[23, 19, 14, 12], [39, 32, 23, 20], [87, 71, 50, 44], [16, 13, 9, 8]]"
            ]
          },
          "metadata": {},
          "execution_count": 51
        }
      ]
    },
    {
      "cell_type": "code",
      "metadata": {
        "colab": {
          "base_uri": "https://localhost:8080/"
        },
        "id": "MvP9XI2efiMN",
        "outputId": "be231f03-5794-4d98-cc5b-42fc44f38452"
      },
      "source": [
        "# NUEVO EJEMPLO\n",
        "%%time\n",
        "\n",
        "matmul(f, b)"
      ],
      "execution_count": null,
      "outputs": [
        {
          "output_type": "stream",
          "name": "stdout",
          "text": [
            "CPU times: user 38 µs, sys: 6 µs, total: 44 µs\n",
            "Wall time: 57.5 µs\n"
          ]
        },
        {
          "output_type": "execute_result",
          "data": {
            "text/plain": [
              "[[137, 111, 76, 68], [39, 32, 23, 20], [64, 52, 36, 32]]"
            ]
          },
          "metadata": {},
          "execution_count": 54
        }
      ]
    },
    {
      "cell_type": "code",
      "metadata": {
        "colab": {
          "base_uri": "https://localhost:8080/"
        },
        "id": "_60Ia1mBUyqO",
        "outputId": "60dc6fe5-64d9-46a7-d071-80a49f319640"
      },
      "source": [
        "import random\n",
        "def random_matrix(m, n):\n",
        "    out = []\n",
        "    for row in range(m):\n",
        "        out.append([random.random() for _ in range(n)])\n",
        "    return out\n",
        "\n",
        "randm = random_matrix(2, 3)\n",
        "randm"
      ],
      "execution_count": null,
      "outputs": [
        {
          "output_type": "execute_result",
          "data": {
            "text/plain": [
              "[[0.7207000148653144, 0.9299273288672896, 0.9366169880999433],\n",
              " [0.5038987731634849, 0.14318658931377104, 0.049276800950747934]]"
            ]
          },
          "metadata": {},
          "execution_count": 55
        }
      ]
    },
    {
      "cell_type": "code",
      "metadata": {
        "colab": {
          "base_uri": "https://localhost:8080/"
        },
        "id": "FEXNOszrEYMw",
        "outputId": "5ba9409a-fe31-449b-8403-13d423029d0e"
      },
      "source": [
        "# NUEVO EJEMPLO\n",
        "import random\n",
        "def random_matrix(m, n):\n",
        "    out = []\n",
        "    for row in range(m):\n",
        "        out.append([random.random() for _ in range(n)])\n",
        "    return out\n",
        "\n",
        "ran = random_matrix(3, 3)\n",
        "ran"
      ],
      "execution_count": null,
      "outputs": [
        {
          "output_type": "execute_result",
          "data": {
            "text/plain": [
              "[[0.7501488636122841, 0.5992015934176299, 0.8170546491733618],\n",
              " [0.9651975735484607, 0.0926238609392277, 0.7081618305267775],\n",
              " [0.05649528150030614, 0.27216281696604216, 0.30240245602577787]]"
            ]
          },
          "metadata": {},
          "execution_count": 57
        }
      ]
    },
    {
      "cell_type": "code",
      "metadata": {
        "scrolled": true,
        "colab": {
          "base_uri": "https://localhost:8080/"
        },
        "id": "bjX3FWXqUyqO",
        "outputId": "d5c4c9c4-b5b3-4b3f-f5cb-9e800055e0fc"
      },
      "source": [
        "%%time\n",
        "randa = random_matrix(600, 100)\n",
        "randb = random_matrix(100, 600)\n",
        "x = matmul(randa, randb)"
      ],
      "execution_count": null,
      "outputs": [
        {
          "output_type": "stream",
          "name": "stdout",
          "text": [
            "CPU times: user 11.2 s, sys: 14.9 ms, total: 11.3 s\n",
            "Wall time: 11.3 s\n"
          ]
        }
      ]
    },
    {
      "cell_type": "code",
      "metadata": {
        "colab": {
          "base_uri": "https://localhost:8080/"
        },
        "id": "2cX_8ddIEq8M",
        "outputId": "6629ddbb-8d21-48ea-afc9-30a53694ffe8"
      },
      "source": [
        "# NUEVO EJEMPLO\n",
        "%%time\n",
        "randa = random_matrix(500, 200)\n",
        "randb = random_matrix(200, 500)\n",
        "x = matmul(randa, randb)"
      ],
      "execution_count": null,
      "outputs": [
        {
          "output_type": "stream",
          "name": "stdout",
          "text": [
            "CPU times: user 15 s, sys: 39.8 ms, total: 15.1 s\n",
            "Wall time: 15.1 s\n"
          ]
        }
      ]
    },
    {
      "cell_type": "code",
      "metadata": {
        "collapsed": true,
        "id": "i4uZMUpdUyqP"
      },
      "source": [
        "# Maybe that's not that bad?  Let's try a simpler case.\n",
        "def python_dot_product(xs, ys):\n",
        "    return sum(x * y for x, y in zip(xs, ys))"
      ],
      "execution_count": null,
      "outputs": []
    },
    {
      "cell_type": "code",
      "metadata": {
        "id": "DSUUrFsVFPbR"
      },
      "source": [
        "# NUEVO EJEMPLO\n",
        "# Maybe that's not that bad?  Let's try a simpler case.\n",
        "def python_dot_product(xa, ya):\n",
        "    return sum(x * y for x, y in zip(xa, ya))"
      ],
      "execution_count": null,
      "outputs": []
    },
    {
      "cell_type": "code",
      "metadata": {
        "collapsed": true,
        "id": "tE38xE0kUyqP"
      },
      "source": [
        "%%fortran\n",
        "subroutine fortran_dot_product(xs, ys, result)\n",
        "    double precision, intent(in) :: xs(:)\n",
        "    double precision, intent(in) :: ys(:)\n",
        "    double precision, intent(out) :: result\n",
        "    \n",
        "    result = sum(xs * ys)\n",
        "end"
      ],
      "execution_count": null,
      "outputs": []
    },
    {
      "cell_type": "code",
      "metadata": {
        "id": "GoOQjWenFd1d"
      },
      "source": [
        "# NUEVO EJEMPLO\n",
        "%%fortran\n",
        "subroutine fortran_dot_product(xa, ya, result)\n",
        "    double precision, intent(in) :: xa(:)\n",
        "    double precision, intent(in) :: ya(:)\n",
        "    double precision, intent(out) :: result\n",
        "    \n",
        "    result = sum(xa * ya)\n",
        "end"
      ],
      "execution_count": null,
      "outputs": []
    },
    {
      "cell_type": "code",
      "metadata": {
        "collapsed": true,
        "id": "G20M04EYUyqQ"
      },
      "source": [
        "list_data = [float(i) for i in range(100000)]\n",
        "array_data = np.array(list_data)"
      ],
      "execution_count": null,
      "outputs": []
    },
    {
      "cell_type": "code",
      "metadata": {
        "id": "zUawfjLaf7KV"
      },
      "source": [
        "# NUEVO EJEMPLO\n",
        "new_list_data = [float(i) for i in range(40000)]\n",
        "new_array_data = np.array(new_list_data)"
      ],
      "execution_count": null,
      "outputs": []
    },
    {
      "cell_type": "code",
      "metadata": {
        "colab": {
          "base_uri": "https://localhost:8080/"
        },
        "id": "nRjPrbSOUyqQ",
        "outputId": "3b2c1732-6569-4c45-b87f-486ee9d4ae32"
      },
      "source": [
        "%%time\n",
        "python_dot_product(list_data, list_data)"
      ],
      "execution_count": null,
      "outputs": [
        {
          "output_type": "stream",
          "name": "stdout",
          "text": [
            "CPU times: user 11.6 ms, sys: 0 ns, total: 11.6 ms\n",
            "Wall time: 14.2 ms\n"
          ]
        },
        {
          "output_type": "execute_result",
          "data": {
            "text/plain": [
              "333328333350000.0"
            ]
          },
          "metadata": {},
          "execution_count": 69
        }
      ]
    },
    {
      "cell_type": "code",
      "metadata": {
        "colab": {
          "base_uri": "https://localhost:8080/"
        },
        "id": "KneaoUDRgKty",
        "outputId": "42e04eb5-38be-4ed4-85d6-1ef5fb7c820e"
      },
      "source": [
        "# NUEVO EJEMPLO\n",
        "%%time\n",
        "python_dot_product(new_list_data, new_list_data)"
      ],
      "execution_count": null,
      "outputs": [
        {
          "output_type": "stream",
          "name": "stdout",
          "text": [
            "CPU times: user 5.03 ms, sys: 0 ns, total: 5.03 ms\n",
            "Wall time: 4.99 ms\n"
          ]
        },
        {
          "output_type": "execute_result",
          "data": {
            "text/plain": [
              "21332533340000.0"
            ]
          },
          "metadata": {},
          "execution_count": 72
        }
      ]
    },
    {
      "cell_type": "code",
      "metadata": {
        "colab": {
          "base_uri": "https://localhost:8080/"
        },
        "id": "DJSy4ynSUyqQ",
        "outputId": "b95948f5-4b3b-4762-c2d2-a334617e4bc7"
      },
      "source": [
        "%%time\n",
        "fortran_dot_product(array_data, array_data)"
      ],
      "execution_count": null,
      "outputs": [
        {
          "output_type": "stream",
          "name": "stdout",
          "text": [
            "CPU times: user 255 µs, sys: 0 ns, total: 255 µs\n",
            "Wall time: 261 µs\n"
          ]
        },
        {
          "output_type": "execute_result",
          "data": {
            "text/plain": [
              "333328333350000.0"
            ]
          },
          "metadata": {},
          "execution_count": 73
        }
      ]
    },
    {
      "cell_type": "code",
      "metadata": {
        "colab": {
          "base_uri": "https://localhost:8080/"
        },
        "id": "esKten_HgMwx",
        "outputId": "a728d93e-9e66-4ca2-f7f6-cc48ccb30a21"
      },
      "source": [
        "# NUEVO EJEMPLO\n",
        "%%time\n",
        "fortran_dot_product(new_array_data, new_array_data)"
      ],
      "execution_count": null,
      "outputs": [
        {
          "output_type": "stream",
          "name": "stdout",
          "text": [
            "CPU times: user 108 µs, sys: 0 ns, total: 108 µs\n",
            "Wall time: 113 µs\n"
          ]
        },
        {
          "output_type": "execute_result",
          "data": {
            "text/plain": [
              "21332533340000.0"
            ]
          },
          "metadata": {},
          "execution_count": 75
        }
      ]
    },
    {
      "cell_type": "markdown",
      "metadata": {
        "id": "AC5hfF6XUyqR"
      },
      "source": [
        "## Why is the Python Version so Much Slower?"
      ]
    },
    {
      "cell_type": "code",
      "metadata": {
        "colab": {
          "base_uri": "https://localhost:8080/"
        },
        "id": "Ke4xjsbjUyqR",
        "outputId": "ef1dd3f7-e2ee-434c-c52e-4a1dfb8237e6"
      },
      "source": [
        "# Dynamic typing.\n",
        "def mul_elemwise(xs, ys):\n",
        "    return [x * y for x, y in zip(xs, ys)]\n",
        "\n",
        "mul_elemwise([1, 2, 3, 4], [1, 2 + 0j, 3.0, 'four'])\n",
        "#[type(x) for x in _]"
      ],
      "execution_count": null,
      "outputs": [
        {
          "output_type": "execute_result",
          "data": {
            "text/plain": [
              "[1, (4+0j), 9.0, 'fourfourfourfour']"
            ]
          },
          "metadata": {},
          "execution_count": 76
        }
      ]
    },
    {
      "cell_type": "code",
      "metadata": {
        "colab": {
          "base_uri": "https://localhost:8080/"
        },
        "id": "Tn0wvmbcGf46",
        "outputId": "298a5e6e-2407-4832-a322-6470bff9028f"
      },
      "source": [
        "# NUEVO EJEMPLO\n",
        "# Dynamic typing.\n",
        "def mul_elemwise(xa, ya):\n",
        "    return [x * y for x, y in zip(xa, ya)]\n",
        "\n",
        "mul_elemwise([6, 7, 8, 9], [6, 7 + 0j, 9.0, 'ten'])\n",
        "#[type(x) for x in _]"
      ],
      "execution_count": null,
      "outputs": [
        {
          "output_type": "execute_result",
          "data": {
            "text/plain": [
              "[36, (49+0j), 72.0, 'tententententententententen']"
            ]
          },
          "metadata": {},
          "execution_count": 78
        }
      ]
    },
    {
      "cell_type": "code",
      "metadata": {
        "colab": {
          "base_uri": "https://localhost:8080/"
        },
        "id": "A-TNxp49UyqR",
        "outputId": "55f064b0-6e2d-4032-8702-c8a2dbf4386a"
      },
      "source": [
        "# Interpretation overhead.\n",
        "source_code = 'a + b * c'\n",
        "bytecode = compile(source_code, '', 'eval')\n",
        "import dis; dis.dis(bytecode)"
      ],
      "execution_count": null,
      "outputs": [
        {
          "output_type": "stream",
          "name": "stdout",
          "text": [
            "  1           0 LOAD_NAME                0 (a)\n",
            "              2 LOAD_NAME                1 (b)\n",
            "              4 LOAD_NAME                2 (c)\n",
            "              6 BINARY_MULTIPLY\n",
            "              8 BINARY_ADD\n",
            "             10 RETURN_VALUE\n"
          ]
        }
      ]
    },
    {
      "cell_type": "markdown",
      "metadata": {
        "id": "V3FO3npEUyqR"
      },
      "source": [
        "## Why is the Python Version so Slow?\n",
        "- Dynamic typing means that every single operation requires dispatching on the input type.\n",
        "- Having an interpreter means that every instruction is fetched and dispatched at runtime.\n",
        "- Other overheads:\n",
        "  - Arbitrary-size integers.\n",
        "  - Reference-counted garbage collection."
      ]
    },
    {
      "cell_type": "markdown",
      "metadata": {
        "id": "OkotoqvqUyqS"
      },
      "source": [
        "> This is the paradox that we have to work with when we're doing scientific or numerically-intensive Python. What makes Python fast for development -- this high-level, interpreted, and dynamically-typed aspect of the language -- is exactly what makes it slow for code execution.\n",
        "\n",
        "- Jake VanderPlas, [*Losing Your Loops: Fast Numerical Computing with NumPy*](https://www.youtube.com/watch?v=EEUXKG97YRw)"
      ]
    },
    {
      "cell_type": "markdown",
      "metadata": {
        "id": "V4DbDwTjUyqS"
      },
      "source": [
        "# What Do We Do?"
      ]
    },
    {
      "cell_type": "markdown",
      "metadata": {
        "id": "8WN5hFoAUyqT"
      },
      "source": [
        "- Python is slow for numerical computation because it performs dynamic dispatch on every operation we perform..."
      ]
    },
    {
      "cell_type": "markdown",
      "metadata": {
        "collapsed": true,
        "id": "mfVpuCvRUyqT"
      },
      "source": [
        "- ...but often, we just want to do the same thing over and over in a loop!"
      ]
    },
    {
      "cell_type": "markdown",
      "metadata": {
        "id": "DMQYv0d_UyqT"
      },
      "source": [
        "- If we don't need Python's dynamicism, we don't want to pay (much) for it."
      ]
    },
    {
      "cell_type": "markdown",
      "metadata": {
        "id": "RrwuioUNUyqT"
      },
      "source": [
        "- **Idea:** Dispatch **once per operation** instead of **once per element**."
      ]
    },
    {
      "cell_type": "code",
      "metadata": {
        "colab": {
          "base_uri": "https://localhost:8080/"
        },
        "id": "1U-zBse1UyqU",
        "outputId": "e690c012-afb0-41d5-9f29-8a0a0bf58e24"
      },
      "source": [
        "import numpy as np\n",
        "\n",
        "data = np.array([1, 2, 3, 4])\n",
        "data"
      ],
      "execution_count": null,
      "outputs": [
        {
          "output_type": "execute_result",
          "data": {
            "text/plain": [
              "array([1, 2, 3, 4])"
            ]
          },
          "metadata": {},
          "execution_count": 80
        }
      ]
    },
    {
      "cell_type": "code",
      "metadata": {
        "colab": {
          "base_uri": "https://localhost:8080/"
        },
        "id": "LN3DEah4g5tJ",
        "outputId": "58ac5c04-a473-4cf3-db4a-ea11a84b40e8"
      },
      "source": [
        "# NUEVO EJEMPLO\n",
        "new_data = np.array(list(range(8)))\n",
        "new_data"
      ],
      "execution_count": null,
      "outputs": [
        {
          "output_type": "execute_result",
          "data": {
            "text/plain": [
              "array([0, 1, 2, 3, 4, 5, 6, 7])"
            ]
          },
          "metadata": {},
          "execution_count": 83
        }
      ]
    },
    {
      "cell_type": "code",
      "metadata": {
        "colab": {
          "base_uri": "https://localhost:8080/"
        },
        "id": "4IJCS_b7UyqU",
        "outputId": "126ec676-1b8d-4f69-aa8a-ca3367adf47c"
      },
      "source": [
        "data + data"
      ],
      "execution_count": null,
      "outputs": [
        {
          "output_type": "execute_result",
          "data": {
            "text/plain": [
              "array([2, 4, 6, 8])"
            ]
          },
          "metadata": {},
          "execution_count": 82
        }
      ]
    },
    {
      "cell_type": "code",
      "metadata": {
        "colab": {
          "base_uri": "https://localhost:8080/"
        },
        "id": "EmiPgGxFhEe7",
        "outputId": "658dfc2a-5ca8-4451-9557-e7057a78c9d0"
      },
      "source": [
        "# NUEVO EJEMPLO\n",
        "new_data + new_data"
      ],
      "execution_count": null,
      "outputs": [
        {
          "output_type": "execute_result",
          "data": {
            "text/plain": [
              "array([ 0,  2,  4,  6,  8, 10, 12, 14])"
            ]
          },
          "metadata": {},
          "execution_count": 84
        }
      ]
    },
    {
      "cell_type": "code",
      "metadata": {
        "colab": {
          "base_uri": "https://localhost:8080/"
        },
        "id": "py435r5iUyqU",
        "outputId": "3f632780-4e60-49d9-fb68-f23d37c7298d"
      },
      "source": [
        "%%time\n",
        "# Naive dot product\n",
        "(array_data * array_data).sum()"
      ],
      "execution_count": null,
      "outputs": [
        {
          "output_type": "stream",
          "name": "stdout",
          "text": [
            "CPU times: user 1.22 ms, sys: 0 ns, total: 1.22 ms\n",
            "Wall time: 3.49 ms\n"
          ]
        },
        {
          "output_type": "execute_result",
          "data": {
            "text/plain": [
              "333328333350000.0"
            ]
          },
          "metadata": {},
          "execution_count": 85
        }
      ]
    },
    {
      "cell_type": "code",
      "metadata": {
        "colab": {
          "base_uri": "https://localhost:8080/"
        },
        "id": "LUKNJ81AhKMF",
        "outputId": "b6ba9c82-0412-4797-8013-657d10d3d7ac"
      },
      "source": [
        "# NUEVO EJEMPLO\n",
        "%%time\n",
        "# Naive dot product\n",
        "(new_array_data * new_array_data).sum()"
      ],
      "execution_count": null,
      "outputs": [
        {
          "output_type": "stream",
          "name": "stdout",
          "text": [
            "CPU times: user 1.24 ms, sys: 0 ns, total: 1.24 ms\n",
            "Wall time: 1.33 ms\n"
          ]
        },
        {
          "output_type": "execute_result",
          "data": {
            "text/plain": [
              "21332533340000.0"
            ]
          },
          "metadata": {},
          "execution_count": 86
        }
      ]
    },
    {
      "cell_type": "code",
      "metadata": {
        "colab": {
          "base_uri": "https://localhost:8080/"
        },
        "id": "u-h15mevUyqU",
        "outputId": "6a805526-ec95-484d-e8fc-00efeb13a120"
      },
      "source": [
        "%%time\n",
        "# Built-in dot product.\n",
        "array_data.dot(array_data)"
      ],
      "execution_count": null,
      "outputs": [
        {
          "output_type": "stream",
          "name": "stdout",
          "text": [
            "CPU times: user 2.63 ms, sys: 5.13 ms, total: 7.76 ms\n",
            "Wall time: 11.1 ms\n"
          ]
        },
        {
          "output_type": "execute_result",
          "data": {
            "text/plain": [
              "333328333350000.0"
            ]
          },
          "metadata": {},
          "execution_count": 87
        }
      ]
    },
    {
      "cell_type": "code",
      "metadata": {
        "colab": {
          "base_uri": "https://localhost:8080/"
        },
        "id": "qL-nGMC5hr-N",
        "outputId": "30d2c17e-e636-430f-a0a8-a7f6dcb1ae1d"
      },
      "source": [
        "# NUEVO EJEMPLO\n",
        "%%time\n",
        "# Built-in dot product.\n",
        "new_array_data.dot(new_array_data)"
      ],
      "execution_count": null,
      "outputs": [
        {
          "output_type": "stream",
          "name": "stdout",
          "text": [
            "CPU times: user 740 µs, sys: 1 ms, total: 1.74 ms\n",
            "Wall time: 1.84 ms\n"
          ]
        },
        {
          "output_type": "execute_result",
          "data": {
            "text/plain": [
              "21332533340000.0"
            ]
          },
          "metadata": {},
          "execution_count": 89
        }
      ]
    },
    {
      "cell_type": "code",
      "metadata": {
        "colab": {
          "base_uri": "https://localhost:8080/"
        },
        "id": "pzt3wMdJUyqV",
        "outputId": "a6802f35-8449-4d41-a42a-5f974b047a6f"
      },
      "source": [
        "%%time\n",
        "fortran_dot_product(array_data, array_data)"
      ],
      "execution_count": null,
      "outputs": [
        {
          "output_type": "stream",
          "name": "stdout",
          "text": [
            "CPU times: user 309 µs, sys: 0 ns, total: 309 µs\n",
            "Wall time: 351 µs\n"
          ]
        },
        {
          "output_type": "execute_result",
          "data": {
            "text/plain": [
              "333328333350000.0"
            ]
          },
          "metadata": {},
          "execution_count": 90
        }
      ]
    },
    {
      "cell_type": "code",
      "metadata": {
        "colab": {
          "base_uri": "https://localhost:8080/"
        },
        "id": "6hcYT5dehsZA",
        "outputId": "3c552141-0d60-4fc3-a529-2c9f72276f8e"
      },
      "source": [
        "# NUEVO EJEMPLO\n",
        "%%time\n",
        "fortran_dot_product(new_array_data, new_array_data)"
      ],
      "execution_count": null,
      "outputs": [
        {
          "output_type": "stream",
          "name": "stdout",
          "text": [
            "CPU times: user 106 µs, sys: 0 ns, total: 106 µs\n",
            "Wall time: 111 µs\n"
          ]
        },
        {
          "output_type": "execute_result",
          "data": {
            "text/plain": [
              "21332533340000.0"
            ]
          },
          "metadata": {},
          "execution_count": 93
        }
      ]
    },
    {
      "cell_type": "code",
      "metadata": {
        "id": "m17enuoEUyqV"
      },
      "source": [
        "# Numpy won't allow us to write a string into an int array.\n",
        "# data[0] = \"foo\""
      ],
      "execution_count": null,
      "outputs": []
    },
    {
      "cell_type": "code",
      "metadata": {
        "collapsed": true,
        "id": "0jlySFPqUyqV"
      },
      "source": [
        "# We also can't grow an array once it's created.\n",
        "# data.append(3)"
      ],
      "execution_count": null,
      "outputs": []
    },
    {
      "cell_type": "code",
      "metadata": {
        "collapsed": true,
        "id": "bF4sTO-KUyqV",
        "colab": {
          "base_uri": "https://localhost:8080/"
        },
        "outputId": "cef754ae-c574-487f-8806-9ac269c6803f"
      },
      "source": [
        "# We **can** reshape an array though.\n",
        "two_by_two = data.reshape(2, 2)\n",
        "two_by_two"
      ],
      "execution_count": null,
      "outputs": [
        {
          "output_type": "execute_result",
          "data": {
            "text/plain": [
              "array([[1, 2],\n",
              "       [3, 4]])"
            ]
          },
          "metadata": {},
          "execution_count": 94
        }
      ]
    },
    {
      "cell_type": "code",
      "metadata": {
        "colab": {
          "base_uri": "https://localhost:8080/"
        },
        "id": "XfvQInG3qLzr",
        "outputId": "24ce07fe-e7df-46c9-ff0b-84253f937d36"
      },
      "source": [
        "# NUEVO EJEMPLO\n",
        "# We **can** reshape an array though.\n",
        "new_data\n",
        "two_by_two = new_data.reshape(2, 4)\n",
        "two_by_two"
      ],
      "execution_count": null,
      "outputs": [
        {
          "output_type": "execute_result",
          "data": {
            "text/plain": [
              "array([[0, 1, 2, 3],\n",
              "       [4, 5, 6, 7]])"
            ]
          },
          "metadata": {},
          "execution_count": 98
        }
      ]
    },
    {
      "cell_type": "markdown",
      "metadata": {
        "id": "IYzTFL9LUyqW"
      },
      "source": [
        "Numpy arrays are:\n",
        "\n",
        "- Fixed-type"
      ]
    },
    {
      "cell_type": "markdown",
      "metadata": {
        "id": "Ku_BlIy0UyqW"
      },
      "source": [
        "- Size-immutable"
      ]
    },
    {
      "cell_type": "markdown",
      "metadata": {
        "id": "Z0KBCXTKUyqW"
      },
      "source": [
        "- Multi-dimensional"
      ]
    },
    {
      "cell_type": "markdown",
      "metadata": {
        "id": "z2jEJwAUUyqW"
      },
      "source": [
        "- Fast\\*"
      ]
    },
    {
      "cell_type": "markdown",
      "metadata": {
        "id": "d3P4sb9BUyqW"
      },
      "source": [
        "\\* If you use them correctly."
      ]
    },
    {
      "cell_type": "markdown",
      "metadata": {
        "id": "waQWUh9kUyqY"
      },
      "source": [
        "# What's in an Array?"
      ]
    },
    {
      "cell_type": "code",
      "metadata": {
        "id": "oD7rcKCIUyqY",
        "colab": {
          "base_uri": "https://localhost:8080/"
        },
        "outputId": "c8cb86bd-1c1f-4ee0-c9d4-fd1c54af4c29"
      },
      "source": [
        "arr = np.array([1, 2, 3, 4, 5, 6], dtype='int16').reshape(2, 3)\n",
        "print(\"Array:\\n\", arr, sep='')\n",
        "print(\"===========\")\n",
        "print(\"DType:\", arr.dtype)\n",
        "print(\"Shape:\", arr.shape)\n",
        "print(\"Strides:\", arr.strides)\n",
        "print(\"Data:\", arr.data.tobytes())"
      ],
      "execution_count": null,
      "outputs": [
        {
          "output_type": "stream",
          "name": "stdout",
          "text": [
            "Array:\n",
            "[[1 2 3]\n",
            " [4 5 6]]\n",
            "===========\n",
            "DType: int16\n",
            "Shape: (2, 3)\n",
            "Strides: (6, 2)\n",
            "Data: b'\\x01\\x00\\x02\\x00\\x03\\x00\\x04\\x00\\x05\\x00\\x06\\x00'\n"
          ]
        }
      ]
    },
    {
      "cell_type": "code",
      "metadata": {
        "colab": {
          "base_uri": "https://localhost:8080/"
        },
        "id": "_dPCCVb3MHEM",
        "outputId": "9d6d1f29-db6c-460e-8664-140c35b65eb8"
      },
      "source": [
        "# NUEVO EJEMPLO\n",
        "new_arr = np.array([5, 6, 7, 8, 9, 9], dtype='int16').reshape(2, 3)\n",
        "print(\"Array:\\n\", new_arr, sep='')\n",
        "print(\"===========\")\n",
        "print(\"DType:\", new_arr.dtype)\n",
        "print(\"Shape:\", new_arr.shape)\n",
        "print(\"Strides:\", new_arr.strides)\n",
        "print(\"Data:\", new_arr.data.tobytes())"
      ],
      "execution_count": null,
      "outputs": [
        {
          "output_type": "stream",
          "name": "stdout",
          "text": [
            "Array:\n",
            "[[5 6 7]\n",
            " [8 9 9]]\n",
            "===========\n",
            "DType: int16\n",
            "Shape: (2, 3)\n",
            "Strides: (6, 2)\n",
            "Data: b'\\x05\\x00\\x06\\x00\\x07\\x00\\x08\\x00\\t\\x00\\t\\x00'\n"
          ]
        }
      ]
    },
    {
      "cell_type": "markdown",
      "metadata": {
        "id": "7MCPcC3wUyqY"
      },
      "source": [
        "# Core Operations\n",
        "\n",
        "- Vectorized **ufuncs** for elementwise operations.\n",
        "- Fancy indexing and masking for selection and filtering.\n",
        "- Aggregations across axes.\n",
        "- Broadcasting"
      ]
    },
    {
      "cell_type": "markdown",
      "metadata": {
        "id": "aZzW9NHuUyqY"
      },
      "source": [
        "# UFuncs\n",
        "\n",
        "UFuncs (universal functions) are functions that operate elementwise on one or more arrays."
      ]
    },
    {
      "cell_type": "code",
      "metadata": {
        "id": "EM1ywtGNUyqZ",
        "colab": {
          "base_uri": "https://localhost:8080/"
        },
        "outputId": "1b5e3591-3700-475f-ed1c-74bdb31a06d0"
      },
      "source": [
        "data = np.arange(15).reshape(3, 5)\n",
        "data"
      ],
      "execution_count": null,
      "outputs": [
        {
          "output_type": "execute_result",
          "data": {
            "text/plain": [
              "array([[ 0,  1,  2,  3,  4],\n",
              "       [ 5,  6,  7,  8,  9],\n",
              "       [10, 11, 12, 13, 14]])"
            ]
          },
          "metadata": {},
          "execution_count": 102
        }
      ]
    },
    {
      "cell_type": "code",
      "metadata": {
        "colab": {
          "base_uri": "https://localhost:8080/"
        },
        "id": "S6ossyLArlYh",
        "outputId": "552e5e12-6cfc-48a8-8362-750b2d022873"
      },
      "source": [
        "# NUEVO EJEMPLO\n",
        "new_data = np.arange(60).reshape(6, 10)\n",
        "new_data"
      ],
      "execution_count": null,
      "outputs": [
        {
          "output_type": "execute_result",
          "data": {
            "text/plain": [
              "array([[ 0,  1,  2,  3,  4,  5,  6,  7,  8,  9],\n",
              "       [10, 11, 12, 13, 14, 15, 16, 17, 18, 19],\n",
              "       [20, 21, 22, 23, 24, 25, 26, 27, 28, 29],\n",
              "       [30, 31, 32, 33, 34, 35, 36, 37, 38, 39],\n",
              "       [40, 41, 42, 43, 44, 45, 46, 47, 48, 49],\n",
              "       [50, 51, 52, 53, 54, 55, 56, 57, 58, 59]])"
            ]
          },
          "metadata": {},
          "execution_count": 107
        }
      ]
    },
    {
      "cell_type": "code",
      "metadata": {
        "id": "LnWLdOMoUyqZ",
        "colab": {
          "base_uri": "https://localhost:8080/"
        },
        "outputId": "f2c27664-1f10-40de-8227-48bd304e21cb"
      },
      "source": [
        "# Binary operators.\n",
        "data * data"
      ],
      "execution_count": null,
      "outputs": [
        {
          "output_type": "execute_result",
          "data": {
            "text/plain": [
              "array([[  0,   1,   4,   9,  16],\n",
              "       [ 25,  36,  49,  64,  81],\n",
              "       [100, 121, 144, 169, 196]])"
            ]
          },
          "metadata": {},
          "execution_count": 108
        }
      ]
    },
    {
      "cell_type": "code",
      "metadata": {
        "colab": {
          "base_uri": "https://localhost:8080/"
        },
        "id": "m5QwzqOpropj",
        "outputId": "3c68d25f-b682-48bc-b3d8-8a57ce51f073"
      },
      "source": [
        "# NUEVO EJEMPLO\n",
        "new_data * new_data"
      ],
      "execution_count": null,
      "outputs": [
        {
          "output_type": "execute_result",
          "data": {
            "text/plain": [
              "array([[   0,    1,    4,    9,   16,   25,   36,   49,   64,   81],\n",
              "       [ 100,  121,  144,  169,  196,  225,  256,  289,  324,  361],\n",
              "       [ 400,  441,  484,  529,  576,  625,  676,  729,  784,  841],\n",
              "       [ 900,  961, 1024, 1089, 1156, 1225, 1296, 1369, 1444, 1521],\n",
              "       [1600, 1681, 1764, 1849, 1936, 2025, 2116, 2209, 2304, 2401],\n",
              "       [2500, 2601, 2704, 2809, 2916, 3025, 3136, 3249, 3364, 3481]])"
            ]
          },
          "metadata": {},
          "execution_count": 109
        }
      ]
    },
    {
      "cell_type": "code",
      "metadata": {
        "id": "kXWyLeDpUyqZ",
        "colab": {
          "base_uri": "https://localhost:8080/"
        },
        "outputId": "e58b9454-ab63-4b27-d263-1a9aa7612cdd"
      },
      "source": [
        "# Unary functions.\n",
        "np.sqrt(data)"
      ],
      "execution_count": null,
      "outputs": [
        {
          "output_type": "execute_result",
          "data": {
            "text/plain": [
              "array([[0.        , 1.        , 1.41421356, 1.73205081, 2.        ],\n",
              "       [2.23606798, 2.44948974, 2.64575131, 2.82842712, 3.        ],\n",
              "       [3.16227766, 3.31662479, 3.46410162, 3.60555128, 3.74165739]])"
            ]
          },
          "metadata": {},
          "execution_count": 110
        }
      ]
    },
    {
      "cell_type": "code",
      "metadata": {
        "colab": {
          "base_uri": "https://localhost:8080/"
        },
        "id": "SPfaHJPTrpPG",
        "outputId": "f45bc04c-a0e5-4c76-a458-b5268f514957"
      },
      "source": [
        "# NUEVO EJEMPLO\n",
        "np.sqrt(new_data)"
      ],
      "execution_count": null,
      "outputs": [
        {
          "output_type": "execute_result",
          "data": {
            "text/plain": [
              "array([[0.        , 1.        , 1.41421356, 1.73205081, 2.        ,\n",
              "        2.23606798, 2.44948974, 2.64575131, 2.82842712, 3.        ],\n",
              "       [3.16227766, 3.31662479, 3.46410162, 3.60555128, 3.74165739,\n",
              "        3.87298335, 4.        , 4.12310563, 4.24264069, 4.35889894],\n",
              "       [4.47213595, 4.58257569, 4.69041576, 4.79583152, 4.89897949,\n",
              "        5.        , 5.09901951, 5.19615242, 5.29150262, 5.38516481],\n",
              "       [5.47722558, 5.56776436, 5.65685425, 5.74456265, 5.83095189,\n",
              "        5.91607978, 6.        , 6.08276253, 6.164414  , 6.244998  ],\n",
              "       [6.32455532, 6.40312424, 6.4807407 , 6.55743852, 6.63324958,\n",
              "        6.70820393, 6.78232998, 6.8556546 , 6.92820323, 7.        ],\n",
              "       [7.07106781, 7.14142843, 7.21110255, 7.28010989, 7.34846923,\n",
              "        7.41619849, 7.48331477, 7.54983444, 7.61577311, 7.68114575]])"
            ]
          },
          "metadata": {},
          "execution_count": 111
        }
      ]
    },
    {
      "cell_type": "code",
      "metadata": {
        "id": "U32dKuJFUyqZ",
        "colab": {
          "base_uri": "https://localhost:8080/"
        },
        "outputId": "ff5e150f-0716-424f-93a8-b91bfd5741c0"
      },
      "source": [
        "# Comparison operations\n",
        "(data % 3) == 0"
      ],
      "execution_count": null,
      "outputs": [
        {
          "output_type": "execute_result",
          "data": {
            "text/plain": [
              "array([[ True, False, False,  True, False],\n",
              "       [False,  True, False, False,  True],\n",
              "       [False, False,  True, False, False]])"
            ]
          },
          "metadata": {},
          "execution_count": 112
        }
      ]
    },
    {
      "cell_type": "code",
      "metadata": {
        "colab": {
          "base_uri": "https://localhost:8080/"
        },
        "id": "HWJtnvKkrpzH",
        "outputId": "1cdcee3c-ad82-4724-e80f-4ddf9c9497e4"
      },
      "source": [
        "# NUEVO EJEMPLO\n",
        "(new_data % 5) == 0"
      ],
      "execution_count": null,
      "outputs": [
        {
          "output_type": "execute_result",
          "data": {
            "text/plain": [
              "array([[ True, False, False, False, False,  True, False, False, False,\n",
              "        False],\n",
              "       [ True, False, False, False, False,  True, False, False, False,\n",
              "        False],\n",
              "       [ True, False, False, False, False,  True, False, False, False,\n",
              "        False],\n",
              "       [ True, False, False, False, False,  True, False, False, False,\n",
              "        False],\n",
              "       [ True, False, False, False, False,  True, False, False, False,\n",
              "        False],\n",
              "       [ True, False, False, False, False,  True, False, False, False,\n",
              "        False]])"
            ]
          },
          "metadata": {},
          "execution_count": 113
        }
      ]
    },
    {
      "cell_type": "code",
      "metadata": {
        "id": "_bbIVIeTUyqa",
        "colab": {
          "base_uri": "https://localhost:8080/"
        },
        "outputId": "c541ad2a-c2cb-4d50-bb47-79354d3c5405"
      },
      "source": [
        "# Boolean combinators.\n",
        "((data % 2) == 0) & ((data % 3) == 0)"
      ],
      "execution_count": null,
      "outputs": [
        {
          "output_type": "execute_result",
          "data": {
            "text/plain": [
              "array([[ True, False, False, False, False],\n",
              "       [False,  True, False, False, False],\n",
              "       [False, False,  True, False, False]])"
            ]
          },
          "metadata": {},
          "execution_count": 114
        }
      ]
    },
    {
      "cell_type": "code",
      "metadata": {
        "colab": {
          "base_uri": "https://localhost:8080/"
        },
        "id": "W3Rs0oaZrqVX",
        "outputId": "49353a5d-b76c-496e-b2c1-2b9a159557c9"
      },
      "source": [
        "# NUEVO EJEMPLO\n",
        "((new_data % 5) == 0) & ((new_data % 6) == 0)"
      ],
      "execution_count": null,
      "outputs": [
        {
          "output_type": "execute_result",
          "data": {
            "text/plain": [
              "array([[ True, False, False, False, False, False, False, False, False,\n",
              "        False],\n",
              "       [False, False, False, False, False, False, False, False, False,\n",
              "        False],\n",
              "       [False, False, False, False, False, False, False, False, False,\n",
              "        False],\n",
              "       [ True, False, False, False, False, False, False, False, False,\n",
              "        False],\n",
              "       [False, False, False, False, False, False, False, False, False,\n",
              "        False],\n",
              "       [False, False, False, False, False, False, False, False, False,\n",
              "        False]])"
            ]
          },
          "metadata": {},
          "execution_count": 115
        }
      ]
    },
    {
      "cell_type": "code",
      "metadata": {
        "id": "6G4jJNv0Uyqa",
        "colab": {
          "base_uri": "https://localhost:8080/"
        },
        "outputId": "24dfe370-2007-4a7f-c0c9-ee05e5befa49"
      },
      "source": [
        "# as of python 3.5, @ is matrix-multiply\n",
        "data @ data.T"
      ],
      "execution_count": null,
      "outputs": [
        {
          "output_type": "execute_result",
          "data": {
            "text/plain": [
              "array([[ 30,  80, 130],\n",
              "       [ 80, 255, 430],\n",
              "       [130, 430, 730]])"
            ]
          },
          "metadata": {},
          "execution_count": 116
        }
      ]
    },
    {
      "cell_type": "code",
      "metadata": {
        "colab": {
          "base_uri": "https://localhost:8080/"
        },
        "id": "eyfuYZy7rrDR",
        "outputId": "eb77fc5a-0c8c-4fa6-ffd2-704294b1d3d1"
      },
      "source": [
        "# NUEVO EJEMPLO\n",
        "new_data @new_data.T"
      ],
      "execution_count": null,
      "outputs": [
        {
          "output_type": "execute_result",
          "data": {
            "text/plain": [
              "array([[  285,   735,  1185,  1635,  2085,  2535],\n",
              "       [  735,  2185,  3635,  5085,  6535,  7985],\n",
              "       [ 1185,  3635,  6085,  8535, 10985, 13435],\n",
              "       [ 1635,  5085,  8535, 11985, 15435, 18885],\n",
              "       [ 2085,  6535, 10985, 15435, 19885, 24335],\n",
              "       [ 2535,  7985, 13435, 18885, 24335, 29785]])"
            ]
          },
          "metadata": {},
          "execution_count": 117
        }
      ]
    },
    {
      "cell_type": "markdown",
      "metadata": {
        "id": "ef9T9LXvUyqa"
      },
      "source": [
        "# UFuncs Review\n",
        "\n",
        "- UFuncs provide efficient elementwise operations applied across one or more arrays.\n",
        "- Arithmetic Operators (`+`, `*`, `/`)\n",
        "- Comparisons (`==`, `>`, `!=`)\n",
        "- Boolean Operators (`&`, `|`, `^`)\n",
        "- Trigonometric Functions (`sin`, `cos`)\n",
        "- Transcendental Functions (`exp`, `log`)"
      ]
    },
    {
      "cell_type": "markdown",
      "metadata": {
        "id": "YV6eB7CDUyqa"
      },
      "source": [
        "# Selections"
      ]
    },
    {
      "cell_type": "markdown",
      "metadata": {
        "id": "5Hckg6OyUyqa"
      },
      "source": [
        "We often want to perform an operation on just a subset of our data."
      ]
    },
    {
      "cell_type": "code",
      "metadata": {
        "id": "DJyx7Y_-Uyqb",
        "colab": {
          "base_uri": "https://localhost:8080/"
        },
        "outputId": "5b0a37b6-10e2-499d-9e54-dae7514e4b3a"
      },
      "source": [
        "sines = np.sin(np.linspace(0, 3.14, 10))\n",
        "cosines = np.cos(np.linspace(0, 3.14, 10))\n",
        "sines"
      ],
      "execution_count": null,
      "outputs": [
        {
          "output_type": "execute_result",
          "data": {
            "text/plain": [
              "array([0.        , 0.34185385, 0.64251645, 0.86575984, 0.98468459,\n",
              "       0.98496101, 0.8665558 , 0.64373604, 0.34335012, 0.00159265])"
            ]
          },
          "metadata": {},
          "execution_count": 118
        }
      ]
    },
    {
      "cell_type": "code",
      "metadata": {
        "colab": {
          "base_uri": "https://localhost:8080/"
        },
        "id": "DrUaJFFWsUX8",
        "outputId": "c14cc79b-c6e2-42cd-b5d0-bb7cafd0a78d"
      },
      "source": [
        "# NUEVO EJEMPLO\n",
        "new_sines = np.sin(np.linspace(2, 5.70, 16))\n",
        "new_cosines = np.cos(np.linspace(2, 5.70, 16))\n",
        "new_cosines"
      ],
      "execution_count": null,
      "outputs": [
        {
          "output_type": "execute_result",
          "data": {
            "text/plain": [
              "array([-4.16146837e-01, -6.25576560e-01, -7.97136028e-01, -9.20439618e-01,\n",
              "       -9.88022954e-01, -9.95794774e-01, -9.43284599e-01, -8.33671214e-01,\n",
              "       -6.73590236e-01, -4.72732419e-01, -2.43257005e-01,  9.44352808e-04,\n",
              "        2.45088543e-01,  4.74395914e-01,  6.74984986e-01,  8.34712785e-01])"
            ]
          },
          "metadata": {},
          "execution_count": 120
        }
      ]
    },
    {
      "cell_type": "code",
      "metadata": {
        "id": "0y7CkV-jUyqb",
        "colab": {
          "base_uri": "https://localhost:8080/"
        },
        "outputId": "c0401c99-c176-4084-9db7-79bca8346180"
      },
      "source": [
        "# Slicing works with the same semantics as Python lists.\n",
        "sines[0]"
      ],
      "execution_count": null,
      "outputs": [
        {
          "output_type": "execute_result",
          "data": {
            "text/plain": [
              "0.0"
            ]
          },
          "metadata": {},
          "execution_count": 121
        }
      ]
    },
    {
      "cell_type": "code",
      "metadata": {
        "colab": {
          "base_uri": "https://localhost:8080/"
        },
        "id": "hvhsZU65sVIS",
        "outputId": "37e9f78a-9164-458e-f617-cd7bd8d21144"
      },
      "source": [
        "# NUEVO EJEMPLO\n",
        "new_cosines[8]"
      ],
      "execution_count": null,
      "outputs": [
        {
          "output_type": "execute_result",
          "data": {
            "text/plain": [
              "-0.6735902361050841"
            ]
          },
          "metadata": {},
          "execution_count": 123
        }
      ]
    },
    {
      "cell_type": "code",
      "metadata": {
        "id": "-bF4soHyUyqb",
        "colab": {
          "base_uri": "https://localhost:8080/"
        },
        "outputId": "9ef39eab-b291-4f58-856f-456b304fc73b"
      },
      "source": [
        "sines[:3]  # First three elements  "
      ],
      "execution_count": null,
      "outputs": [
        {
          "output_type": "execute_result",
          "data": {
            "text/plain": [
              "array([0.        , 0.34185385, 0.64251645])"
            ]
          },
          "metadata": {},
          "execution_count": 124
        }
      ]
    },
    {
      "cell_type": "code",
      "metadata": {
        "colab": {
          "base_uri": "https://localhost:8080/"
        },
        "id": "lwn96to_sVgC",
        "outputId": "9711b53f-555a-4714-8436-dd0e7746dc92"
      },
      "source": [
        "# NUEVO EJEMPLO\n",
        "new_cosines[-6:]  # Last six elements  "
      ],
      "execution_count": null,
      "outputs": [
        {
          "output_type": "execute_result",
          "data": {
            "text/plain": [
              "array([-0.243257  ,  0.00094435,  0.24508854,  0.47439591,  0.67498499,\n",
              "        0.83471278])"
            ]
          },
          "metadata": {},
          "execution_count": 127
        }
      ]
    },
    {
      "cell_type": "code",
      "metadata": {
        "id": "5LlYqeM4Uyqb",
        "colab": {
          "base_uri": "https://localhost:8080/"
        },
        "outputId": "b745e71d-6daa-4d04-8144-0aa290fd0780"
      },
      "source": [
        "sines[5:]  # Elements from 5 on."
      ],
      "execution_count": null,
      "outputs": [
        {
          "output_type": "execute_result",
          "data": {
            "text/plain": [
              "array([0.98496101, 0.8665558 , 0.64373604, 0.34335012, 0.00159265])"
            ]
          },
          "metadata": {},
          "execution_count": 128
        }
      ]
    },
    {
      "cell_type": "code",
      "metadata": {
        "colab": {
          "base_uri": "https://localhost:8080/"
        },
        "id": "RcnVCtJbsWDV",
        "outputId": "658fbdf0-a5aa-45a1-803d-74a984475f67"
      },
      "source": [
        "# NUEVO EJEMPLO\n",
        "new_cosines[8:] # Form 8 on"
      ],
      "execution_count": null,
      "outputs": [
        {
          "output_type": "execute_result",
          "data": {
            "text/plain": [
              "array([-0.67359024, -0.47273242, -0.243257  ,  0.00094435,  0.24508854,\n",
              "        0.47439591,  0.67498499,  0.83471278])"
            ]
          },
          "metadata": {},
          "execution_count": 130
        }
      ]
    },
    {
      "cell_type": "code",
      "metadata": {
        "id": "xhMWti7bUyqc",
        "colab": {
          "base_uri": "https://localhost:8080/"
        },
        "outputId": "b65cf27a-0860-48e3-f3ab-1288aff391f2"
      },
      "source": [
        "sines[::2]  # Every other element."
      ],
      "execution_count": null,
      "outputs": [
        {
          "output_type": "execute_result",
          "data": {
            "text/plain": [
              "array([0.        , 0.64251645, 0.98468459, 0.8665558 , 0.34335012])"
            ]
          },
          "metadata": {},
          "execution_count": 131
        }
      ]
    },
    {
      "cell_type": "code",
      "metadata": {
        "colab": {
          "base_uri": "https://localhost:8080/"
        },
        "id": "tlCfxEJ2sWYc",
        "outputId": "402d82a9-c224-466d-b718-1a6fc8b0f90a"
      },
      "source": [
        "# NUEVO EJEMPLO\n",
        "new_cosines[::2]  # Every other element."
      ],
      "execution_count": null,
      "outputs": [
        {
          "output_type": "execute_result",
          "data": {
            "text/plain": [
              "array([-0.41614684, -0.79713603, -0.98802295, -0.9432846 , -0.67359024,\n",
              "       -0.243257  ,  0.24508854,  0.67498499])"
            ]
          },
          "metadata": {},
          "execution_count": 133
        }
      ]
    },
    {
      "cell_type": "code",
      "metadata": {
        "id": "0JdlBJcXUyqc",
        "colab": {
          "base_uri": "https://localhost:8080/"
        },
        "outputId": "c498ad87-f13b-4fc0-a27f-15d5f59fb225"
      },
      "source": [
        "# More interesting: we can index with boolean arrays to filter by a predicate.\n",
        "print(\"sines:\\n\", sines)\n",
        "print(\"sines > 0.5:\\n\", sines > 0.5)\n",
        "print(\"sines[sines > 0.5]:\\n\", sines[sines > 0.5])"
      ],
      "execution_count": null,
      "outputs": [
        {
          "output_type": "stream",
          "name": "stdout",
          "text": [
            "sines:\n",
            " [0.         0.34185385 0.64251645 0.86575984 0.98468459 0.98496101\n",
            " 0.8665558  0.64373604 0.34335012 0.00159265]\n",
            "sines > 0.5:\n",
            " [False False  True  True  True  True  True  True False False]\n",
            "sines[sines > 0.5]:\n",
            " [0.64251645 0.86575984 0.98468459 0.98496101 0.8665558  0.64373604]\n"
          ]
        }
      ]
    },
    {
      "cell_type": "code",
      "metadata": {
        "colab": {
          "base_uri": "https://localhost:8080/"
        },
        "id": "0VowKUI2sXFD",
        "outputId": "e2507e64-247b-4f67-d295-16c13cbd17e8"
      },
      "source": [
        "# NUEVO EJEMPLO\n",
        "print(\"sines:\\n\", new_sines)\n",
        "print(\"sines > 0.7:\\n\", new_sines > 0.7)\n",
        "print(\"sines[sines > 0.7]:\\n\", new_sines[new_sines > 0.7])"
      ],
      "execution_count": null,
      "outputs": [
        {
          "output_type": "stream",
          "name": "stdout",
          "text": [
            "sines:\n",
            " [ 0.90929743  0.78016278  0.60379976  0.39088478  0.15430697 -0.09161205\n",
            " -0.33198519 -0.55226109 -0.739105   -0.88120603 -0.96996187 -0.99999955\n",
            " -0.9695007  -0.8803116  -0.73783146 -0.55068554]\n",
            "sines > 0.7:\n",
            " [ True  True False False False False False False False False False False\n",
            " False False False False]\n",
            "sines[sines > 0.7]:\n",
            " [0.90929743 0.78016278]\n"
          ]
        }
      ]
    },
    {
      "cell_type": "code",
      "metadata": {
        "id": "VXfmfHFZUyqc",
        "colab": {
          "base_uri": "https://localhost:8080/"
        },
        "outputId": "be759e8a-8783-459d-b6d8-4c18ea989988"
      },
      "source": [
        "# We index with lists/arrays of integers to select values at those indices.\n",
        "print(sines)\n",
        "sines[[0, 4, 7]]"
      ],
      "execution_count": null,
      "outputs": [
        {
          "output_type": "stream",
          "name": "stdout",
          "text": [
            "[0.         0.34185385 0.64251645 0.86575984 0.98468459 0.98496101\n",
            " 0.8665558  0.64373604 0.34335012 0.00159265]\n"
          ]
        },
        {
          "output_type": "execute_result",
          "data": {
            "text/plain": [
              "array([0.        , 0.98468459, 0.64373604])"
            ]
          },
          "metadata": {},
          "execution_count": 138
        }
      ]
    },
    {
      "cell_type": "code",
      "metadata": {
        "colab": {
          "base_uri": "https://localhost:8080/"
        },
        "id": "4TynX9aMsXna",
        "outputId": "8bbba1ec-db31-4ba8-95a9-4a33537960d4"
      },
      "source": [
        "# NUEVO EJEMPLO\n",
        "# We index with lists/arrays of integers to select values at those indices.\n",
        "print(new_cosines)\n",
        "new_cosines[[2, 4, 6]]"
      ],
      "execution_count": null,
      "outputs": [
        {
          "output_type": "stream",
          "name": "stdout",
          "text": [
            "[-4.16146837e-01 -6.25576560e-01 -7.97136028e-01 -9.20439618e-01\n",
            " -9.88022954e-01 -9.95794774e-01 -9.43284599e-01 -8.33671214e-01\n",
            " -6.73590236e-01 -4.72732419e-01 -2.43257005e-01  9.44352808e-04\n",
            "  2.45088543e-01  4.74395914e-01  6.74984986e-01  8.34712785e-01]\n"
          ]
        },
        {
          "output_type": "execute_result",
          "data": {
            "text/plain": [
              "array([-0.79713603, -0.98802295, -0.9432846 ])"
            ]
          },
          "metadata": {},
          "execution_count": 139
        }
      ]
    },
    {
      "cell_type": "code",
      "metadata": {
        "collapsed": true,
        "id": "wb4EjSujUyqd",
        "colab": {
          "base_uri": "https://localhost:8080/"
        },
        "outputId": "fef9a048-1807-4612-b377-0082a8528b6b"
      },
      "source": [
        "# Index arrays are often used for sorting one or more arrays.\n",
        "unsorted_data = np.array([1, 3, 2, 12, -1, 5, 2])\n",
        "unsorted_data"
      ],
      "execution_count": null,
      "outputs": [
        {
          "output_type": "execute_result",
          "data": {
            "text/plain": [
              "array([ 1,  3,  2, 12, -1,  5,  2])"
            ]
          },
          "metadata": {},
          "execution_count": 140
        }
      ]
    },
    {
      "cell_type": "code",
      "metadata": {
        "colab": {
          "base_uri": "https://localhost:8080/"
        },
        "id": "ezpRmIxzsX_U",
        "outputId": "2835f3bc-89d5-4dc6-b29d-f3b1298f4ba1"
      },
      "source": [
        "# NUEVO EJEMPLO\n",
        "# Index arrays are often used for sorting one or more arrays.\n",
        "new_unsorted_data = np.array([3, 6, 70, 24, -10, 4, 9])\n",
        "new_unsorted_data"
      ],
      "execution_count": null,
      "outputs": [
        {
          "output_type": "execute_result",
          "data": {
            "text/plain": [
              "array([  3,   6,  70,  24, -10,   4,   9])"
            ]
          },
          "metadata": {},
          "execution_count": 146
        }
      ]
    },
    {
      "cell_type": "code",
      "metadata": {
        "id": "mHY8iUXsUyqd",
        "colab": {
          "base_uri": "https://localhost:8080/"
        },
        "outputId": "5ad3864b-19f6-473b-8764-55a24da7ef10"
      },
      "source": [
        "sort_indices = np.argsort(unsorted_data)\n",
        "sort_indices"
      ],
      "execution_count": null,
      "outputs": [
        {
          "output_type": "execute_result",
          "data": {
            "text/plain": [
              "array([4, 0, 2, 6, 1, 5, 3])"
            ]
          },
          "metadata": {},
          "execution_count": 147
        }
      ]
    },
    {
      "cell_type": "code",
      "metadata": {
        "colab": {
          "base_uri": "https://localhost:8080/"
        },
        "id": "Vobh7XSOsYz9",
        "outputId": "05f8e860-966f-4957-8487-9e50bc72972a"
      },
      "source": [
        "# NUEVO EJEMPLO\n",
        "new_sort_indices = np.argsort(new_unsorted_data)\n",
        "new_sort_indices"
      ],
      "execution_count": null,
      "outputs": [
        {
          "output_type": "execute_result",
          "data": {
            "text/plain": [
              "array([4, 0, 5, 1, 6, 3, 2])"
            ]
          },
          "metadata": {},
          "execution_count": 148
        }
      ]
    },
    {
      "cell_type": "code",
      "metadata": {
        "id": "6qO4nNa3Uyqd",
        "colab": {
          "base_uri": "https://localhost:8080/"
        },
        "outputId": "467cfc12-930d-4676-9c2a-9ba724edfa50"
      },
      "source": [
        "unsorted_data[sort_indices]"
      ],
      "execution_count": null,
      "outputs": [
        {
          "output_type": "execute_result",
          "data": {
            "text/plain": [
              "array([-1,  1,  2,  2,  3,  5, 12])"
            ]
          },
          "metadata": {},
          "execution_count": 149
        }
      ]
    },
    {
      "cell_type": "code",
      "metadata": {
        "colab": {
          "base_uri": "https://localhost:8080/"
        },
        "id": "nY1xzVpVsZQE",
        "outputId": "918ba382-5fac-42e3-edbb-f5b32d229ad8"
      },
      "source": [
        "# NUEVO EJEMPLO\n",
        "new_unsorted_data[new_sort_indices]"
      ],
      "execution_count": null,
      "outputs": [
        {
          "output_type": "execute_result",
          "data": {
            "text/plain": [
              "array([-10,   3,   4,   6,   9,  24,  70])"
            ]
          },
          "metadata": {},
          "execution_count": 150
        }
      ]
    },
    {
      "cell_type": "code",
      "metadata": {
        "collapsed": true,
        "id": "u9XbBhrMUyqd"
      },
      "source": [
        "market_caps = np.array([12, 6, 10, 5, 6])  # Presumably in dollars?\n",
        "assets = np.array(['A', 'B', 'C', 'D', 'E'])"
      ],
      "execution_count": null,
      "outputs": []
    },
    {
      "cell_type": "code",
      "metadata": {
        "id": "5PVWb5kzsZxX"
      },
      "source": [
        "# NUEVO EJEMPLO\n",
        "new_market_caps = np.array([4, 9, 1, 35, 22, 55, 9])  # Presumably in dollars?\n",
        "new_assets = np.array(['A', 'B', 'C', 'D', 'E', 'F', 'G'])"
      ],
      "execution_count": null,
      "outputs": []
    },
    {
      "cell_type": "code",
      "metadata": {
        "id": "GxsbA4bEUyqe",
        "colab": {
          "base_uri": "https://localhost:8080/"
        },
        "outputId": "11b219cb-34f5-4193-98ae-1856685cf7d1"
      },
      "source": [
        "# Sort assets by market cap by using the permutation that would sort market caps on ``assets``.\n",
        "sort_by_mcap = np.argsort(market_caps)\n",
        "assets[sort_by_mcap]"
      ],
      "execution_count": null,
      "outputs": [
        {
          "output_type": "execute_result",
          "data": {
            "text/plain": [
              "array(['D', 'B', 'E', 'C', 'A'], dtype='<U1')"
            ]
          },
          "metadata": {},
          "execution_count": 153
        }
      ]
    },
    {
      "cell_type": "code",
      "metadata": {
        "colab": {
          "base_uri": "https://localhost:8080/"
        },
        "id": "oy2mMot6saIc",
        "outputId": "0d8a76e5-826c-403e-bf2b-06ff830f1893"
      },
      "source": [
        "# NUEVO EJEMPLO\n",
        "# Sort assets by market cap by using the permutation that would sort market caps on ``assets``.\n",
        "sort_by_mcap = np.argsort(new_market_caps)\n",
        "new_assets[sort_by_mcap]"
      ],
      "execution_count": null,
      "outputs": [
        {
          "output_type": "execute_result",
          "data": {
            "text/plain": [
              "array(['C', 'A', 'B', 'G', 'E', 'D', 'F'], dtype='<U1')"
            ]
          },
          "metadata": {},
          "execution_count": 155
        }
      ]
    },
    {
      "cell_type": "code",
      "metadata": {
        "scrolled": true,
        "id": "7varOlfyUyqe",
        "colab": {
          "base_uri": "https://localhost:8080/"
        },
        "outputId": "52025f61-649b-4231-c09d-9019c4787ab2"
      },
      "source": [
        "# Indexers are also useful for aligning data.\n",
        "print(\"Dates:\\n\", repr(event_dates))\n",
        "print(\"Values:\\n\", repr(event_values))\n",
        "print(\"Calendar:\\n\", repr(calendar))"
      ],
      "execution_count": null,
      "outputs": [
        {
          "output_type": "stream",
          "name": "stdout",
          "text": [
            "Dates:\n",
            " array(['2017-01-06', '2017-01-07', '2017-01-08'], dtype='datetime64[D]')\n",
            "Values:\n",
            " array([10, 15, 20])\n",
            "Calendar:\n",
            " array(['2017-01-03', '2017-01-04', '2017-01-05', '2017-01-06',\n",
            "       '2017-01-09', '2017-01-10', '2017-01-11', '2017-01-12',\n",
            "       '2017-01-13', '2017-01-17', '2017-01-18', '2017-01-19',\n",
            "       '2017-01-20', '2017-01-23', '2017-01-24', '2017-01-25',\n",
            "       '2017-01-26', '2017-01-27', '2017-01-30', '2017-01-31',\n",
            "       '2017-02-01'], dtype='datetime64[D]')\n"
          ]
        }
      ]
    },
    {
      "cell_type": "code",
      "metadata": {
        "id": "UUve4RRfUyqe",
        "colab": {
          "base_uri": "https://localhost:8080/"
        },
        "outputId": "1ecb6cc3-b0ff-4caa-a444-8acac17c5028"
      },
      "source": [
        "print(\"Raw Dates:\", event_dates)\n",
        "print(\"Indices:\", calendar.searchsorted(event_dates))\n",
        "print(\"Forward-Filled Dates:\", calendar[calendar.searchsorted(event_dates)])"
      ],
      "execution_count": null,
      "outputs": [
        {
          "output_type": "stream",
          "name": "stdout",
          "text": [
            "Raw Dates: ['2017-01-06' '2017-01-07' '2017-01-08']\n",
            "Indices: [3 4 4]\n",
            "Forward-Filled Dates: ['2017-01-06' '2017-01-09' '2017-01-09']\n"
          ]
        }
      ]
    },
    {
      "cell_type": "markdown",
      "metadata": {
        "id": "I7UJwA30Uyqe"
      },
      "source": [
        "On multi-dimensional arrays, we can slice along each axis independently."
      ]
    },
    {
      "cell_type": "code",
      "metadata": {
        "id": "iw80_-YzUyqf",
        "colab": {
          "base_uri": "https://localhost:8080/"
        },
        "outputId": "264aa23e-4e56-4d1a-f2ff-0627b96af5ce"
      },
      "source": [
        "data = np.arange(25).reshape(5, 5)\n",
        "data"
      ],
      "execution_count": null,
      "outputs": [
        {
          "output_type": "execute_result",
          "data": {
            "text/plain": [
              "array([[ 0,  1,  2,  3,  4],\n",
              "       [ 5,  6,  7,  8,  9],\n",
              "       [10, 11, 12, 13, 14],\n",
              "       [15, 16, 17, 18, 19],\n",
              "       [20, 21, 22, 23, 24]])"
            ]
          },
          "metadata": {},
          "execution_count": 159
        }
      ]
    },
    {
      "cell_type": "code",
      "metadata": {
        "colab": {
          "base_uri": "https://localhost:8080/"
        },
        "id": "speyf4q6seRe",
        "outputId": "aea9d969-54d5-4aff-8d15-110c8719ab8a"
      },
      "source": [
        "# NUEVO EJEMPLO\n",
        "new_data = np.arange(50).reshape(5,10)\n",
        "new_data"
      ],
      "execution_count": null,
      "outputs": [
        {
          "output_type": "execute_result",
          "data": {
            "text/plain": [
              "array([[ 0,  1,  2,  3,  4,  5,  6,  7,  8,  9],\n",
              "       [10, 11, 12, 13, 14, 15, 16, 17, 18, 19],\n",
              "       [20, 21, 22, 23, 24, 25, 26, 27, 28, 29],\n",
              "       [30, 31, 32, 33, 34, 35, 36, 37, 38, 39],\n",
              "       [40, 41, 42, 43, 44, 45, 46, 47, 48, 49]])"
            ]
          },
          "metadata": {},
          "execution_count": 168
        }
      ]
    },
    {
      "cell_type": "code",
      "metadata": {
        "id": "E-VAKpJ6Uyqf",
        "colab": {
          "base_uri": "https://localhost:8080/"
        },
        "outputId": "0835dc81-8e41-405b-f99c-2d4a85675f36"
      },
      "source": [
        "data[:2, :2]  # First two rows and first two columns."
      ],
      "execution_count": null,
      "outputs": [
        {
          "output_type": "execute_result",
          "data": {
            "text/plain": [
              "array([[0, 1],\n",
              "       [5, 6]])"
            ]
          },
          "metadata": {},
          "execution_count": 169
        }
      ]
    },
    {
      "cell_type": "code",
      "metadata": {
        "colab": {
          "base_uri": "https://localhost:8080/"
        },
        "id": "vXMn847gse3N",
        "outputId": "e0f1ffbb-aafd-476b-c1fd-2334a33d1e10"
      },
      "source": [
        "# NUEVO EJEMPLO\n",
        "new_data[:5, :5]  # First 5 rows and first 5 columns."
      ],
      "execution_count": null,
      "outputs": [
        {
          "output_type": "execute_result",
          "data": {
            "text/plain": [
              "array([[ 0,  1,  2,  3,  4],\n",
              "       [10, 11, 12, 13, 14],\n",
              "       [20, 21, 22, 23, 24],\n",
              "       [30, 31, 32, 33, 34],\n",
              "       [40, 41, 42, 43, 44]])"
            ]
          },
          "metadata": {},
          "execution_count": 172
        }
      ]
    },
    {
      "cell_type": "code",
      "metadata": {
        "id": "s5IEDgxfUyqf",
        "colab": {
          "base_uri": "https://localhost:8080/"
        },
        "outputId": "f468af06-f625-4b2b-c4c8-d8541616646c"
      },
      "source": [
        "data[:2, [0, -1]]  # First two rows, first and last columns."
      ],
      "execution_count": null,
      "outputs": [
        {
          "output_type": "execute_result",
          "data": {
            "text/plain": [
              "array([[0, 4],\n",
              "       [5, 9]])"
            ]
          },
          "metadata": {},
          "execution_count": 173
        }
      ]
    },
    {
      "cell_type": "code",
      "metadata": {
        "colab": {
          "base_uri": "https://localhost:8080/"
        },
        "id": "Mj916d21sfaw",
        "outputId": "31f8b845-5d14-47b1-f5a2-6fdc2ce667bc"
      },
      "source": [
        "# NUEVO EJEMPLO\n",
        "new_data[:5, [0, 4]]  # First 4 rows, first and fourty columns."
      ],
      "execution_count": null,
      "outputs": [
        {
          "output_type": "execute_result",
          "data": {
            "text/plain": [
              "array([[ 0,  4],\n",
              "       [10, 14],\n",
              "       [20, 24],\n",
              "       [30, 34],\n",
              "       [40, 44]])"
            ]
          },
          "metadata": {},
          "execution_count": 179
        }
      ]
    },
    {
      "cell_type": "code",
      "metadata": {
        "id": "ifkuWNCcUyqg",
        "colab": {
          "base_uri": "https://localhost:8080/"
        },
        "outputId": "854abae6-6d1c-4e0e-959d-1b7f408736c1"
      },
      "source": [
        "data[(data[:, 0] % 2) == 0]  # Rows where the first column is divisible by two."
      ],
      "execution_count": null,
      "outputs": [
        {
          "output_type": "execute_result",
          "data": {
            "text/plain": [
              "array([[ 0,  1,  2,  3,  4],\n",
              "       [10, 11, 12, 13, 14],\n",
              "       [20, 21, 22, 23, 24]])"
            ]
          },
          "metadata": {},
          "execution_count": 180
        }
      ]
    },
    {
      "cell_type": "code",
      "metadata": {
        "colab": {
          "base_uri": "https://localhost:8080/"
        },
        "id": "iszvAwtqsf3E",
        "outputId": "1a7dba6a-8844-4ab0-d3ad-19f575fcbd4d"
      },
      "source": [
        "# NUEVO EJEMPLO\n",
        "new_data[(data[:, 0] % 8) == 0]  # Rows where the first column is divisible by 8."
      ],
      "execution_count": null,
      "outputs": [
        {
          "output_type": "execute_result",
          "data": {
            "text/plain": [
              "array([[0, 1, 2, 3, 4, 5, 6, 7, 8, 9]])"
            ]
          },
          "metadata": {},
          "execution_count": 186
        }
      ]
    },
    {
      "cell_type": "markdown",
      "metadata": {
        "id": "3ePMJPa1Uyqh"
      },
      "source": [
        "# Selections Review\n",
        "\n",
        "- Indexing with an integer removes a dimension.\n",
        "- Slicing operations work on Numpy arrays the same way they do on lists.\n",
        "- Indexing with a boolean array filters to True locations.\n",
        "- Indexing with an integer array selects indices along an axis.\n",
        "- Multidimensional arrays can apply selections independently along different axes."
      ]
    },
    {
      "cell_type": "markdown",
      "metadata": {
        "id": "Qt-wDo0XUyqh"
      },
      "source": [
        "## Reductions\n",
        "\n",
        "Functions that reduce an array to a scalar."
      ]
    },
    {
      "cell_type": "markdown",
      "metadata": {
        "id": "OExz6yI7Uyqh"
      },
      "source": [
        "$Var(X) = \\frac{1}{N}\\sqrt{\\sum_{i=1}^N (x_i - \\bar{x})^2}$"
      ]
    },
    {
      "cell_type": "code",
      "metadata": {
        "collapsed": true,
        "id": "1bOqFepPUyqh"
      },
      "source": [
        "def variance(x):\n",
        "    return ((x - x.mean()) ** 2).sum() / len(x)"
      ],
      "execution_count": null,
      "outputs": []
    },
    {
      "cell_type": "code",
      "metadata": {
        "id": "UweBJ-IxUyqi",
        "colab": {
          "base_uri": "https://localhost:8080/"
        },
        "outputId": "c3bea831-8a2c-42c6-d5dc-ed1d24ff7577"
      },
      "source": [
        "variance(np.random.standard_normal(1000))"
      ],
      "execution_count": null,
      "outputs": [
        {
          "output_type": "execute_result",
          "data": {
            "text/plain": [
              "0.9551781167112507"
            ]
          },
          "metadata": {},
          "execution_count": 188
        }
      ]
    },
    {
      "cell_type": "code",
      "metadata": {
        "colab": {
          "base_uri": "https://localhost:8080/"
        },
        "id": "7o-2VzCYVacT",
        "outputId": "4d191601-16e3-4c75-fb5c-8e689ef3bfe4"
      },
      "source": [
        "# NUEVO EJEMPLO\n",
        "variance(np.random.standard_normal(77000))"
      ],
      "execution_count": null,
      "outputs": [
        {
          "output_type": "execute_result",
          "data": {
            "text/plain": [
              "0.9977424831170579"
            ]
          },
          "metadata": {},
          "execution_count": 189
        }
      ]
    },
    {
      "cell_type": "markdown",
      "metadata": {
        "id": "11VIKXcSUyqi"
      },
      "source": [
        "- `sum()` and `mean()` are both **reductions**."
      ]
    },
    {
      "cell_type": "markdown",
      "metadata": {
        "id": "EGdQSArFUyqi"
      },
      "source": [
        "- In the simplest case, we use these to reduce an entire array into a single value..."
      ]
    },
    {
      "cell_type": "code",
      "metadata": {
        "id": "CRwBt-rPUyqi",
        "colab": {
          "base_uri": "https://localhost:8080/"
        },
        "outputId": "b5532de0-1a1a-4366-ef79-a1c0fa18da2b"
      },
      "source": [
        "data = np.arange(30)\n",
        "data.mean()"
      ],
      "execution_count": null,
      "outputs": [
        {
          "output_type": "execute_result",
          "data": {
            "text/plain": [
              "14.5"
            ]
          },
          "metadata": {},
          "execution_count": 190
        }
      ]
    },
    {
      "cell_type": "code",
      "metadata": {
        "colab": {
          "base_uri": "https://localhost:8080/"
        },
        "id": "iOgfrodhwoXJ",
        "outputId": "32068fe6-e386-4f3e-d73c-d1d626efe16e"
      },
      "source": [
        "# NUEVO EJEMPLO\n",
        "new_data = np.arange(8000)\n",
        "new_data.mean()"
      ],
      "execution_count": null,
      "outputs": [
        {
          "output_type": "execute_result",
          "data": {
            "text/plain": [
              "3999.5"
            ]
          },
          "metadata": {},
          "execution_count": 191
        }
      ]
    },
    {
      "cell_type": "markdown",
      "metadata": {
        "id": "S70914l5Uyqk"
      },
      "source": [
        "- ...but we can do more interesting things with multi-dimensional arrays."
      ]
    },
    {
      "cell_type": "code",
      "metadata": {
        "id": "LmEHc4XqUyqk",
        "colab": {
          "base_uri": "https://localhost:8080/"
        },
        "outputId": "1c3d7fcb-84df-4be8-b6ab-d251221c5715"
      },
      "source": [
        "data = np.arange(30).reshape(3, 10)\n",
        "data"
      ],
      "execution_count": null,
      "outputs": [
        {
          "output_type": "execute_result",
          "data": {
            "text/plain": [
              "array([[ 0,  1,  2,  3,  4,  5,  6,  7,  8,  9],\n",
              "       [10, 11, 12, 13, 14, 15, 16, 17, 18, 19],\n",
              "       [20, 21, 22, 23, 24, 25, 26, 27, 28, 29]])"
            ]
          },
          "metadata": {},
          "execution_count": 192
        }
      ]
    },
    {
      "cell_type": "code",
      "metadata": {
        "colab": {
          "base_uri": "https://localhost:8080/"
        },
        "id": "sZgonLDdwrQc",
        "outputId": "63dbfd63-a3b6-4c07-85c2-7d1551155ce5"
      },
      "source": [
        "# NUEVO EJEMPLO\n",
        "new_data = np.arange(70).reshape(7, 10)\n",
        "new_data"
      ],
      "execution_count": null,
      "outputs": [
        {
          "output_type": "execute_result",
          "data": {
            "text/plain": [
              "array([[ 0,  1,  2,  3,  4,  5,  6,  7,  8,  9],\n",
              "       [10, 11, 12, 13, 14, 15, 16, 17, 18, 19],\n",
              "       [20, 21, 22, 23, 24, 25, 26, 27, 28, 29],\n",
              "       [30, 31, 32, 33, 34, 35, 36, 37, 38, 39],\n",
              "       [40, 41, 42, 43, 44, 45, 46, 47, 48, 49],\n",
              "       [50, 51, 52, 53, 54, 55, 56, 57, 58, 59],\n",
              "       [60, 61, 62, 63, 64, 65, 66, 67, 68, 69]])"
            ]
          },
          "metadata": {},
          "execution_count": 194
        }
      ]
    },
    {
      "cell_type": "code",
      "metadata": {
        "id": "F_I7R8TTUyqk",
        "colab": {
          "base_uri": "https://localhost:8080/"
        },
        "outputId": "48701d15-6b87-4ccc-db5c-4acff1d6226c"
      },
      "source": [
        "data.mean()"
      ],
      "execution_count": null,
      "outputs": [
        {
          "output_type": "execute_result",
          "data": {
            "text/plain": [
              "14.5"
            ]
          },
          "metadata": {},
          "execution_count": 195
        }
      ]
    },
    {
      "cell_type": "code",
      "metadata": {
        "colab": {
          "base_uri": "https://localhost:8080/"
        },
        "id": "8TkTK8v3wrzo",
        "outputId": "d14975ea-f612-499a-ccb6-0a2f980ece1c"
      },
      "source": [
        "# NUEVO EJEMPLO\n",
        "new_data.mean()"
      ],
      "execution_count": null,
      "outputs": [
        {
          "output_type": "execute_result",
          "data": {
            "text/plain": [
              "34.5"
            ]
          },
          "metadata": {},
          "execution_count": 196
        }
      ]
    },
    {
      "cell_type": "code",
      "metadata": {
        "id": "XgeEBNNAUyql",
        "colab": {
          "base_uri": "https://localhost:8080/"
        },
        "outputId": "4824eb03-6c0b-4f13-9453-faccf1cb3615"
      },
      "source": [
        "data.mean(axis=0)"
      ],
      "execution_count": null,
      "outputs": [
        {
          "output_type": "execute_result",
          "data": {
            "text/plain": [
              "array([10., 11., 12., 13., 14., 15., 16., 17., 18., 19.])"
            ]
          },
          "metadata": {},
          "execution_count": 197
        }
      ]
    },
    {
      "cell_type": "code",
      "metadata": {
        "colab": {
          "base_uri": "https://localhost:8080/"
        },
        "id": "rmc_Ccf-wsia",
        "outputId": "2b45dd59-3a8e-45bf-9388-4818273ce2f7"
      },
      "source": [
        "# NUEVO EJEMPLO\n",
        "new_data.mean(axis=0)"
      ],
      "execution_count": null,
      "outputs": [
        {
          "output_type": "execute_result",
          "data": {
            "text/plain": [
              "array([30., 31., 32., 33., 34., 35., 36., 37., 38., 39.])"
            ]
          },
          "metadata": {},
          "execution_count": 198
        }
      ]
    },
    {
      "cell_type": "code",
      "metadata": {
        "id": "jdm6OnTnUyql",
        "colab": {
          "base_uri": "https://localhost:8080/"
        },
        "outputId": "ecb419b6-8a46-4cb3-e90b-55b7062ea69e"
      },
      "source": [
        "data.mean(axis=1)"
      ],
      "execution_count": null,
      "outputs": [
        {
          "output_type": "execute_result",
          "data": {
            "text/plain": [
              "array([ 4.5, 14.5, 24.5])"
            ]
          },
          "metadata": {},
          "execution_count": 199
        }
      ]
    },
    {
      "cell_type": "code",
      "metadata": {
        "colab": {
          "base_uri": "https://localhost:8080/"
        },
        "id": "i8KYgWsfwtYl",
        "outputId": "4e371ff6-36b9-4bf0-8a31-cef6d65256d4"
      },
      "source": [
        "# NUEVO EJEMPLO\n",
        "new_data.mean(axis=1)"
      ],
      "execution_count": null,
      "outputs": [
        {
          "output_type": "execute_result",
          "data": {
            "text/plain": [
              "array([ 4.5, 14.5, 24.5, 34.5, 44.5, 54.5, 64.5])"
            ]
          },
          "metadata": {},
          "execution_count": 200
        }
      ]
    },
    {
      "cell_type": "markdown",
      "metadata": {
        "id": "cPam5mHiUyql"
      },
      "source": [
        "## Reductions Review\n",
        "\n",
        "- Reductions allow us to perform efficient aggregations over arrays.\n",
        "- We can do aggregations over a single axis to collapse a single dimension.\n",
        "- Many built-in reductions (`mean`, `sum`, `min`, `max`, `median`, ...)."
      ]
    },
    {
      "cell_type": "markdown",
      "metadata": {
        "id": "_vqMeAC5Uyql"
      },
      "source": [
        "# Broadcasting"
      ]
    },
    {
      "cell_type": "code",
      "metadata": {
        "id": "4QIJnBk5Uyqm",
        "colab": {
          "base_uri": "https://localhost:8080/"
        },
        "outputId": "ca6f56df-68f2-4658-fe1a-4cde316d503f"
      },
      "source": [
        "row = np.array([1, 2, 3, 4])\n",
        "column = np.array([[1], [2], [3]])\n",
        "print(\"Row:\\n\", row, sep='')\n",
        "print(\"Column:\\n\", column, sep='')"
      ],
      "execution_count": null,
      "outputs": [
        {
          "output_type": "stream",
          "name": "stdout",
          "text": [
            "Row:\n",
            "[1 2 3 4]\n",
            "Column:\n",
            "[[1]\n",
            " [2]\n",
            " [3]]\n"
          ]
        }
      ]
    },
    {
      "cell_type": "code",
      "metadata": {
        "colab": {
          "base_uri": "https://localhost:8080/"
        },
        "id": "DGA3-WGGyarP",
        "outputId": "1196a0a1-d906-4a66-894f-d1e6ee77ea03"
      },
      "source": [
        "# NUEVO EJEMPLO\n",
        "new_row = np.array(list(range(10)))\n",
        "new_column = np.array([[1], [2], [3], [4],[5]])\n",
        "print(\"Row:\\n\", new_row, sep='')\n",
        "print(\"Column:\\n\", new_column, sep='')"
      ],
      "execution_count": null,
      "outputs": [
        {
          "output_type": "stream",
          "name": "stdout",
          "text": [
            "Row:\n",
            "[0 1 2 3 4 5 6 7 8 9]\n",
            "Column:\n",
            "[[1]\n",
            " [2]\n",
            " [3]\n",
            " [4]\n",
            " [5]]\n"
          ]
        }
      ]
    },
    {
      "cell_type": "code",
      "metadata": {
        "id": "70HyTSXYUyqm",
        "colab": {
          "base_uri": "https://localhost:8080/"
        },
        "outputId": "2e37d173-246a-4379-9554-f593e08cfdc8"
      },
      "source": [
        "row + column"
      ],
      "execution_count": null,
      "outputs": [
        {
          "output_type": "execute_result",
          "data": {
            "text/plain": [
              "array([[2, 3, 4, 5],\n",
              "       [3, 4, 5, 6],\n",
              "       [4, 5, 6, 7]])"
            ]
          },
          "metadata": {},
          "execution_count": 204
        }
      ]
    },
    {
      "cell_type": "code",
      "metadata": {
        "colab": {
          "base_uri": "https://localhost:8080/"
        },
        "id": "DPQWuGC_z0_7",
        "outputId": "e0c94d92-001b-4b85-d85d-7118ce2bbc1e"
      },
      "source": [
        "# NUEVO EJEMPLO\n",
        "new_row + new_column"
      ],
      "execution_count": null,
      "outputs": [
        {
          "output_type": "execute_result",
          "data": {
            "text/plain": [
              "array([[ 1,  2,  3,  4,  5,  6,  7,  8,  9, 10],\n",
              "       [ 2,  3,  4,  5,  6,  7,  8,  9, 10, 11],\n",
              "       [ 3,  4,  5,  6,  7,  8,  9, 10, 11, 12],\n",
              "       [ 4,  5,  6,  7,  8,  9, 10, 11, 12, 13],\n",
              "       [ 5,  6,  7,  8,  9, 10, 11, 12, 13, 14]])"
            ]
          },
          "metadata": {},
          "execution_count": 205
        }
      ]
    },
    {
      "cell_type": "markdown",
      "metadata": {
        "id": "oW_8Ju9lXCv7"
      },
      "source": [
        "Source: http://www.scipy-lectures.org/_images/numpy_broadcasting.png"
      ]
    },
    {
      "cell_type": "code",
      "metadata": {
        "id": "mK76Icr4Uyqn",
        "colab": {
          "base_uri": "https://localhost:8080/"
        },
        "outputId": "4194ed7e-bb83-4912-dd0a-036894e9169a"
      },
      "source": [
        "# Broadcasting is particularly useful in conjunction with reductions.\n",
        "print(\"Data:\\n\", data, sep='')\n",
        "print(\"Mean:\\n\", data.mean(axis=0), sep='')\n",
        "print(\"Data - Mean:\\n\", data - data.mean(axis=0), sep='')"
      ],
      "execution_count": null,
      "outputs": [
        {
          "output_type": "stream",
          "name": "stdout",
          "text": [
            "Data:\n",
            "[[ 0  1  2  3  4  5  6  7  8  9]\n",
            " [10 11 12 13 14 15 16 17 18 19]\n",
            " [20 21 22 23 24 25 26 27 28 29]]\n",
            "Mean:\n",
            "[10. 11. 12. 13. 14. 15. 16. 17. 18. 19.]\n",
            "Data - Mean:\n",
            "[[-10. -10. -10. -10. -10. -10. -10. -10. -10. -10.]\n",
            " [  0.   0.   0.   0.   0.   0.   0.   0.   0.   0.]\n",
            " [ 10.  10.  10.  10.  10.  10.  10.  10.  10.  10.]]\n"
          ]
        }
      ]
    },
    {
      "cell_type": "code",
      "metadata": {
        "colab": {
          "base_uri": "https://localhost:8080/"
        },
        "id": "TnHD8bNyz8tz",
        "outputId": "e432364a-21ae-460a-b81b-944c0d1a121a"
      },
      "source": [
        "# NUEVO EJEMPLO\n",
        "# Broadcasting is particularly useful in conjunction with reductions.\n",
        "print(\"Data:\\n\", new_data, sep='')\n",
        "print(\"Mean:\\n\", new_data.mean(axis=0), sep='')\n",
        "print(\"Data - Mean:\\n\", new_data - new_data.mean(axis=0), sep='')"
      ],
      "execution_count": null,
      "outputs": [
        {
          "output_type": "stream",
          "name": "stdout",
          "text": [
            "Data:\n",
            "[[ 0  1  2  3  4  5  6  7  8  9]\n",
            " [10 11 12 13 14 15 16 17 18 19]\n",
            " [20 21 22 23 24 25 26 27 28 29]\n",
            " [30 31 32 33 34 35 36 37 38 39]\n",
            " [40 41 42 43 44 45 46 47 48 49]\n",
            " [50 51 52 53 54 55 56 57 58 59]\n",
            " [60 61 62 63 64 65 66 67 68 69]]\n",
            "Mean:\n",
            "[30. 31. 32. 33. 34. 35. 36. 37. 38. 39.]\n",
            "Data - Mean:\n",
            "[[-30. -30. -30. -30. -30. -30. -30. -30. -30. -30.]\n",
            " [-20. -20. -20. -20. -20. -20. -20. -20. -20. -20.]\n",
            " [-10. -10. -10. -10. -10. -10. -10. -10. -10. -10.]\n",
            " [  0.   0.   0.   0.   0.   0.   0.   0.   0.   0.]\n",
            " [ 10.  10.  10.  10.  10.  10.  10.  10.  10.  10.]\n",
            " [ 20.  20.  20.  20.  20.  20.  20.  20.  20.  20.]\n",
            " [ 30.  30.  30.  30.  30.  30.  30.  30.  30.  30.]]\n"
          ]
        }
      ]
    },
    {
      "cell_type": "markdown",
      "metadata": {
        "id": "4aH6vx_wUyqn"
      },
      "source": [
        "# Broadcasting Review\n",
        "\n",
        "- Numpy operations can work on arrays of different dimensions as long as the arrays' shapes are still \"compatible\".\n",
        "- Broadcasting works by \"tiling\" the smaller array along the missing dimension.\n",
        "- The result of a broadcasted operation is always at least as large in each dimension as the largest array in that dimension."
      ]
    },
    {
      "cell_type": "markdown",
      "metadata": {
        "id": "uQ8HqvJgUyqo"
      },
      "source": [
        "# Numpy Review"
      ]
    },
    {
      "cell_type": "markdown",
      "metadata": {
        "id": "Xvn5oAH7Uyqo"
      },
      "source": [
        "- Numerical algorithms are slow in pure Python because the overhead dynamic dispatch dominates our runtime."
      ]
    },
    {
      "cell_type": "markdown",
      "metadata": {
        "id": "fmONU1DnUyqo"
      },
      "source": [
        "- Numpy solves this problem by:\n",
        "  1. Imposing additional restrictions on the contents of arrays.\n",
        "  2. Moving the inner loops of our algorithms into compiled C code."
      ]
    },
    {
      "cell_type": "markdown",
      "metadata": {
        "id": "JBrCjZuEUyqo"
      },
      "source": [
        "- Using Numpy effectively often requires reworking an algorithms to use vectorized operations instead of for-loops, but the resulting operations are usually simpler, clearer, and faster than the pure Python equivalent."
      ]
    },
    {
      "cell_type": "markdown",
      "metadata": {
        "id": "bTwfD3LZUyqp"
      },
      "source": [
        "Numpy is great for many things, but..."
      ]
    },
    {
      "cell_type": "markdown",
      "metadata": {
        "id": "OKjSIjtZUyqp"
      },
      "source": [
        "- Sometimes our data is equipped with a natural set of **labels**:\n",
        "  - Dates/Times\n",
        "  - Stock Tickers\n",
        "  - Field Names (e.g. Open/High/Low/Close)"
      ]
    },
    {
      "cell_type": "markdown",
      "metadata": {
        "id": "Wc8vNrMuUyqp"
      },
      "source": [
        "- Sometimes we have **more than one type of data** that we want to keep grouped together.\n",
        "  - Tables with a mix of real-valued and categorical data."
      ]
    },
    {
      "cell_type": "markdown",
      "metadata": {
        "id": "VxbhwFGwUyqp"
      },
      "source": [
        "- Sometimes we have **missing** data, which we need to ignore, fill, or otherwise work around."
      ]
    },
    {
      "cell_type": "markdown",
      "metadata": {
        "id": "Tx3XQ6PzUyqq"
      },
      "source": [
        "Pandas extends Numpy with more complex data structures:\n",
        "\n",
        "- `Series`: 1-dimensional, homogenously-typed, labelled array.\n",
        "- `DataFrame`: 2-dimensional, semi-homogenous, labelled table."
      ]
    },
    {
      "cell_type": "markdown",
      "metadata": {
        "id": "G3Km9m_FUyqq"
      },
      "source": [
        "Pandas also provides many utilities for: \n",
        "- Input/Output\n",
        "- Data Cleaning\n",
        "- Rolling Algorithms\n",
        "- Plotting"
      ]
    },
    {
      "cell_type": "markdown",
      "metadata": {
        "id": "IrWR8b4EUyqq"
      },
      "source": [
        "# Selection in Pandas"
      ]
    },
    {
      "cell_type": "code",
      "metadata": {
        "id": "ICoE3IiqUyqq",
        "colab": {
          "base_uri": "https://localhost:8080/"
        },
        "outputId": "71d41bec-b472-40c6-8b29-b76fac4addc6"
      },
      "source": [
        "s = pd.Series(index=['a', 'b', 'c', 'd', 'e'], data=[1, 2, 3, 4, 5])\n",
        "s"
      ],
      "execution_count": null,
      "outputs": [
        {
          "output_type": "execute_result",
          "data": {
            "text/plain": [
              "a    1\n",
              "b    2\n",
              "c    3\n",
              "d    4\n",
              "e    5\n",
              "dtype: int64"
            ]
          },
          "metadata": {},
          "execution_count": 208
        }
      ]
    },
    {
      "cell_type": "code",
      "metadata": {
        "colab": {
          "base_uri": "https://localhost:8080/"
        },
        "id": "6Qt4vTKi0dr9",
        "outputId": "1f03dad2-ed87-4409-e571-02ab1d3e46e8"
      },
      "source": [
        "# NUEVO EJEMPLO\n",
        "new_s = pd.Series(index=['u', 'v', 'w', 'x', 'y', 'z'], data=[i for i in range(6)])\n",
        "new_s"
      ],
      "execution_count": null,
      "outputs": [
        {
          "output_type": "execute_result",
          "data": {
            "text/plain": [
              "u    0\n",
              "v    1\n",
              "w    2\n",
              "x    3\n",
              "y    4\n",
              "z    5\n",
              "dtype: int64"
            ]
          },
          "metadata": {},
          "execution_count": 209
        }
      ]
    },
    {
      "cell_type": "code",
      "metadata": {
        "id": "SuJcWvw9Uyqq",
        "colab": {
          "base_uri": "https://localhost:8080/"
        },
        "outputId": "8ce8acaa-b94a-40e9-9534-07d814395252"
      },
      "source": [
        "# There are two pieces to a Series: the index and the values.\n",
        "print(\"The index is:\", s.index)\n",
        "print(\"The values are:\", s.values)"
      ],
      "execution_count": null,
      "outputs": [
        {
          "output_type": "stream",
          "name": "stdout",
          "text": [
            "The index is: Index(['a', 'b', 'c', 'd', 'e'], dtype='object')\n",
            "The values are: [1 2 3 4 5]\n"
          ]
        }
      ]
    },
    {
      "cell_type": "code",
      "metadata": {
        "colab": {
          "base_uri": "https://localhost:8080/"
        },
        "id": "hnuOzfZB0fsc",
        "outputId": "e94ec4bc-5ec1-4e63-ad22-ee8621603dc3"
      },
      "source": [
        "# NUEVO EJEMPLO\n",
        "# There are two pieces to a Series: the index and the values.\n",
        "print(\"The index is:\", new_s.index)\n",
        "print(\"The values are:\", new_s.values)"
      ],
      "execution_count": null,
      "outputs": [
        {
          "output_type": "stream",
          "name": "stdout",
          "text": [
            "The index is: Index(['u', 'v', 'w', 'x', 'y', 'z'], dtype='object')\n",
            "The values are: [0 1 2 3 4 5]\n"
          ]
        }
      ]
    },
    {
      "cell_type": "code",
      "metadata": {
        "id": "KK4KIq0ZUyqr",
        "colab": {
          "base_uri": "https://localhost:8080/"
        },
        "outputId": "738cbbff-7432-4c9f-bf79-7abf5329b942"
      },
      "source": [
        "# We can look up values out of a Series by position...\n",
        "s.iloc[0]"
      ],
      "execution_count": null,
      "outputs": [
        {
          "output_type": "execute_result",
          "data": {
            "text/plain": [
              "1"
            ]
          },
          "metadata": {},
          "execution_count": 212
        }
      ]
    },
    {
      "cell_type": "code",
      "metadata": {
        "colab": {
          "base_uri": "https://localhost:8080/"
        },
        "id": "WrCQDQRc0gbd",
        "outputId": "91e8795a-215e-4eef-cf38-86ea58404a02"
      },
      "source": [
        "# NUEVO EJEMPLO\n",
        "# We can look up values out of a Series by position...\n",
        "new_s.iloc[4]"
      ],
      "execution_count": null,
      "outputs": [
        {
          "output_type": "execute_result",
          "data": {
            "text/plain": [
              "4"
            ]
          },
          "metadata": {},
          "execution_count": 217
        }
      ]
    },
    {
      "cell_type": "code",
      "metadata": {
        "id": "IsIsvTh3Uyqr",
        "colab": {
          "base_uri": "https://localhost:8080/"
        },
        "outputId": "d8155416-83f7-4e65-eba6-d7172835389d"
      },
      "source": [
        "# ... or by label.\n",
        "s.loc['a']"
      ],
      "execution_count": null,
      "outputs": [
        {
          "output_type": "execute_result",
          "data": {
            "text/plain": [
              "1"
            ]
          },
          "metadata": {},
          "execution_count": 218
        }
      ]
    },
    {
      "cell_type": "code",
      "metadata": {
        "colab": {
          "base_uri": "https://localhost:8080/"
        },
        "id": "sDpREIyf0g-t",
        "outputId": "65779aa7-9350-45bf-f87f-abc8966df81f"
      },
      "source": [
        "# NUEVO EJEMPLO\n",
        "# ... or by label.\n",
        "new_s.loc['y']"
      ],
      "execution_count": null,
      "outputs": [
        {
          "output_type": "execute_result",
          "data": {
            "text/plain": [
              "4"
            ]
          },
          "metadata": {},
          "execution_count": 220
        }
      ]
    },
    {
      "cell_type": "code",
      "metadata": {
        "id": "UHGGkif3Uyqr",
        "colab": {
          "base_uri": "https://localhost:8080/"
        },
        "outputId": "8fde42ca-9604-46bc-9572-f11d6bdac94c"
      },
      "source": [
        "# Slicing works as expected...\n",
        "s.iloc[:2]"
      ],
      "execution_count": null,
      "outputs": [
        {
          "output_type": "execute_result",
          "data": {
            "text/plain": [
              "a    1\n",
              "b    2\n",
              "dtype: int64"
            ]
          },
          "metadata": {},
          "execution_count": 221
        }
      ]
    },
    {
      "cell_type": "code",
      "metadata": {
        "colab": {
          "base_uri": "https://localhost:8080/"
        },
        "id": "pam9WayV0hdb",
        "outputId": "24aee598-dae8-494c-e3e6-2a3655a57f58"
      },
      "source": [
        "# NUEVO EJEMPLO\n",
        "# Slicing works as expected...\n",
        "new_s.iloc[:]"
      ],
      "execution_count": null,
      "outputs": [
        {
          "output_type": "execute_result",
          "data": {
            "text/plain": [
              "u    0\n",
              "v    1\n",
              "w    2\n",
              "x    3\n",
              "y    4\n",
              "z    5\n",
              "dtype: int64"
            ]
          },
          "metadata": {},
          "execution_count": 222
        }
      ]
    },
    {
      "cell_type": "code",
      "metadata": {
        "id": "UPO0_InAUyqt",
        "colab": {
          "base_uri": "https://localhost:8080/"
        },
        "outputId": "82bd97d6-921d-484d-fb42-5b1e6b2edcd5"
      },
      "source": [
        "# ...but it works with labels too!\n",
        "s.loc[:'c']"
      ],
      "execution_count": null,
      "outputs": [
        {
          "output_type": "execute_result",
          "data": {
            "text/plain": [
              "a    1\n",
              "b    2\n",
              "c    3\n",
              "dtype: int64"
            ]
          },
          "metadata": {},
          "execution_count": 223
        }
      ]
    },
    {
      "cell_type": "code",
      "metadata": {
        "colab": {
          "base_uri": "https://localhost:8080/"
        },
        "id": "igpYCtaC0h46",
        "outputId": "ef92fbd4-5fc6-4eba-fe4a-0363a6a32999"
      },
      "source": [
        "# NUEVO EJEMPLO\n",
        "# ...but it works with labels too!\n",
        "new_s.loc[:'y']"
      ],
      "execution_count": null,
      "outputs": [
        {
          "output_type": "execute_result",
          "data": {
            "text/plain": [
              "u    0\n",
              "v    1\n",
              "w    2\n",
              "x    3\n",
              "y    4\n",
              "dtype: int64"
            ]
          },
          "metadata": {},
          "execution_count": 225
        }
      ]
    },
    {
      "cell_type": "code",
      "metadata": {
        "id": "MoK1619iUyqt",
        "colab": {
          "base_uri": "https://localhost:8080/"
        },
        "outputId": "8b0bbcda-ae43-4df3-9fb8-c59f563ae0f3"
      },
      "source": [
        "# Fancy indexing works the same as in numpy.\n",
        "s.iloc[[0, -1]]"
      ],
      "execution_count": null,
      "outputs": [
        {
          "output_type": "execute_result",
          "data": {
            "text/plain": [
              "a    1\n",
              "e    5\n",
              "dtype: int64"
            ]
          },
          "metadata": {},
          "execution_count": 226
        }
      ]
    },
    {
      "cell_type": "code",
      "metadata": {
        "colab": {
          "base_uri": "https://localhost:8080/"
        },
        "id": "wvfWnUzX0icQ",
        "outputId": "7270376c-52d6-4783-9087-2bf83f706aa6"
      },
      "source": [
        "# NUEVO EJEMPLO\n",
        "# Fancy indexing works the same as in numpy.\n",
        "new_s.iloc[[0, -3]]"
      ],
      "execution_count": null,
      "outputs": [
        {
          "output_type": "execute_result",
          "data": {
            "text/plain": [
              "u    0\n",
              "x    3\n",
              "dtype: int64"
            ]
          },
          "metadata": {},
          "execution_count": 227
        }
      ]
    },
    {
      "cell_type": "code",
      "metadata": {
        "id": "nJtzTuKrUyqt",
        "colab": {
          "base_uri": "https://localhost:8080/"
        },
        "outputId": "c8406bde-6790-4c8f-d349-8330db05a90b"
      },
      "source": [
        "# As does boolean masking.\n",
        "s.loc[s > 2]"
      ],
      "execution_count": null,
      "outputs": [
        {
          "output_type": "execute_result",
          "data": {
            "text/plain": [
              "c    3\n",
              "d    4\n",
              "e    5\n",
              "dtype: int64"
            ]
          },
          "metadata": {},
          "execution_count": 228
        }
      ]
    },
    {
      "cell_type": "code",
      "metadata": {
        "colab": {
          "base_uri": "https://localhost:8080/"
        },
        "id": "BDBgyvmj0jD4",
        "outputId": "d91f8b45-c39f-4092-9124-a31bfff9b5e7"
      },
      "source": [
        "# NUEVO EJEMPLO\n",
        "# As does boolean masking.\n",
        "new_s.loc[new_s > 3]"
      ],
      "execution_count": null,
      "outputs": [
        {
          "output_type": "execute_result",
          "data": {
            "text/plain": [
              "y    4\n",
              "z    5\n",
              "dtype: int64"
            ]
          },
          "metadata": {},
          "execution_count": 229
        }
      ]
    },
    {
      "cell_type": "code",
      "metadata": {
        "id": "g3XXhpMxUyqt",
        "colab": {
          "base_uri": "https://localhost:8080/"
        },
        "outputId": "46b2b07c-ebda-44ba-ed6d-46f1aa8e8056"
      },
      "source": [
        "# Element-wise operations are aligned by index.\n",
        "other_s = pd.Series({'a': 10.0, 'c': 20.0, 'd': 30.0, 'z': 40.0})\n",
        "other_s"
      ],
      "execution_count": null,
      "outputs": [
        {
          "output_type": "execute_result",
          "data": {
            "text/plain": [
              "a    10.0\n",
              "c    20.0\n",
              "d    30.0\n",
              "z    40.0\n",
              "dtype: float64"
            ]
          },
          "metadata": {},
          "execution_count": 230
        }
      ]
    },
    {
      "cell_type": "code",
      "metadata": {
        "colab": {
          "base_uri": "https://localhost:8080/"
        },
        "id": "xmJjvQKO0jzQ",
        "outputId": "d837cc82-be16-4910-8ed1-7c225348171a"
      },
      "source": [
        "# NUEVO EJEMPLO\n",
        "# Element-wise operations are aligned by index.\n",
        "new_other_s = pd.Series({'p': 6.0, 'q': 7.0, 'r': 8.0, 's': 9.0})\n",
        "new_other_s"
      ],
      "execution_count": null,
      "outputs": [
        {
          "output_type": "execute_result",
          "data": {
            "text/plain": [
              "p    6.0\n",
              "q    7.0\n",
              "r    8.0\n",
              "s    9.0\n",
              "dtype: float64"
            ]
          },
          "metadata": {},
          "execution_count": 232
        }
      ]
    },
    {
      "cell_type": "code",
      "metadata": {
        "id": "uRUPYbXyUyqu",
        "colab": {
          "base_uri": "https://localhost:8080/"
        },
        "outputId": "779111cd-9cba-4a4d-8204-554e91bf6479"
      },
      "source": [
        "s + other_s"
      ],
      "execution_count": null,
      "outputs": [
        {
          "output_type": "execute_result",
          "data": {
            "text/plain": [
              "a    11.0\n",
              "b     NaN\n",
              "c    23.0\n",
              "d    34.0\n",
              "e     NaN\n",
              "z     NaN\n",
              "dtype: float64"
            ]
          },
          "metadata": {},
          "execution_count": 233
        }
      ]
    },
    {
      "cell_type": "code",
      "metadata": {
        "colab": {
          "base_uri": "https://localhost:8080/"
        },
        "id": "YGD5zeP10kXL",
        "outputId": "f1cd03ef-d381-4980-b98c-fd031e27b631"
      },
      "source": [
        "# NUEVO EJEMPLO\n",
        "new_s + new_other_s"
      ],
      "execution_count": null,
      "outputs": [
        {
          "output_type": "execute_result",
          "data": {
            "text/plain": [
              "p   NaN\n",
              "q   NaN\n",
              "r   NaN\n",
              "s   NaN\n",
              "u   NaN\n",
              "v   NaN\n",
              "w   NaN\n",
              "x   NaN\n",
              "y   NaN\n",
              "z   NaN\n",
              "dtype: float64"
            ]
          },
          "metadata": {},
          "execution_count": 234
        }
      ]
    },
    {
      "cell_type": "code",
      "metadata": {
        "id": "c2iGPrWtUyqu",
        "colab": {
          "base_uri": "https://localhost:8080/"
        },
        "outputId": "da072a40-0bf0-44d6-bd82-37aabc58b63d"
      },
      "source": [
        "# We can fill in missing values with fillna().\n",
        "(s + other_s).fillna(0.0)"
      ],
      "execution_count": null,
      "outputs": [
        {
          "output_type": "execute_result",
          "data": {
            "text/plain": [
              "a    11.0\n",
              "b     0.0\n",
              "c    23.0\n",
              "d    34.0\n",
              "e     0.0\n",
              "z     0.0\n",
              "dtype: float64"
            ]
          },
          "metadata": {},
          "execution_count": 235
        }
      ]
    },
    {
      "cell_type": "code",
      "metadata": {
        "colab": {
          "base_uri": "https://localhost:8080/"
        },
        "id": "ZWaqRNN20kzw",
        "outputId": "4c9f9519-ad30-44a1-95aa-25672cb5040f"
      },
      "source": [
        "# NUEVO EJEMPLO\n",
        "# We can fill in missing values with fillna().\n",
        "(new_s + new_other_s).fillna(6.0)"
      ],
      "execution_count": null,
      "outputs": [
        {
          "output_type": "execute_result",
          "data": {
            "text/plain": [
              "p    6.0\n",
              "q    6.0\n",
              "r    6.0\n",
              "s    6.0\n",
              "u    6.0\n",
              "v    6.0\n",
              "w    6.0\n",
              "x    6.0\n",
              "y    6.0\n",
              "z    6.0\n",
              "dtype: float64"
            ]
          },
          "metadata": {},
          "execution_count": 237
        }
      ]
    },
    {
      "cell_type": "code",
      "metadata": {
        "id": "nNXcYDcEUyqu",
        "colab": {
          "base_uri": "https://localhost:8080/",
          "height": 236
        },
        "outputId": "41ad9986-061c-4fb8-c9fc-9943f982ea4f"
      },
      "source": [
        "# Most real datasets are read in from an external file format.\n",
        "aapl = pd.read_csv('https://raw.githubusercontent.com/ssanderson/pydata-toolbox/master/notebooks/AAPL.csv', parse_dates=['Date'], index_col='Date')\n",
        "aapl.head()"
      ],
      "execution_count": null,
      "outputs": [
        {
          "output_type": "execute_result",
          "data": {
            "text/html": [
              "<div>\n",
              "<style scoped>\n",
              "    .dataframe tbody tr th:only-of-type {\n",
              "        vertical-align: middle;\n",
              "    }\n",
              "\n",
              "    .dataframe tbody tr th {\n",
              "        vertical-align: top;\n",
              "    }\n",
              "\n",
              "    .dataframe thead th {\n",
              "        text-align: right;\n",
              "    }\n",
              "</style>\n",
              "<table border=\"1\" class=\"dataframe\">\n",
              "  <thead>\n",
              "    <tr style=\"text-align: right;\">\n",
              "      <th></th>\n",
              "      <th>Adj Close</th>\n",
              "      <th>Close</th>\n",
              "      <th>High</th>\n",
              "      <th>Low</th>\n",
              "      <th>Open</th>\n",
              "      <th>Volume</th>\n",
              "    </tr>\n",
              "    <tr>\n",
              "      <th>Date</th>\n",
              "      <th></th>\n",
              "      <th></th>\n",
              "      <th></th>\n",
              "      <th></th>\n",
              "      <th></th>\n",
              "      <th></th>\n",
              "    </tr>\n",
              "  </thead>\n",
              "  <tbody>\n",
              "    <tr>\n",
              "      <th>2010-01-04</th>\n",
              "      <td>27.613066</td>\n",
              "      <td>30.572857</td>\n",
              "      <td>30.642857</td>\n",
              "      <td>30.340000</td>\n",
              "      <td>30.490000</td>\n",
              "      <td>123432400.0</td>\n",
              "    </tr>\n",
              "    <tr>\n",
              "      <th>2010-01-05</th>\n",
              "      <td>27.660807</td>\n",
              "      <td>30.625713</td>\n",
              "      <td>30.798571</td>\n",
              "      <td>30.464285</td>\n",
              "      <td>30.657143</td>\n",
              "      <td>150476200.0</td>\n",
              "    </tr>\n",
              "    <tr>\n",
              "      <th>2010-01-06</th>\n",
              "      <td>27.220825</td>\n",
              "      <td>30.138571</td>\n",
              "      <td>30.747143</td>\n",
              "      <td>30.107143</td>\n",
              "      <td>30.625713</td>\n",
              "      <td>138040000.0</td>\n",
              "    </tr>\n",
              "    <tr>\n",
              "      <th>2010-01-07</th>\n",
              "      <td>27.170504</td>\n",
              "      <td>30.082857</td>\n",
              "      <td>30.285715</td>\n",
              "      <td>29.864286</td>\n",
              "      <td>30.250000</td>\n",
              "      <td>119282800.0</td>\n",
              "    </tr>\n",
              "    <tr>\n",
              "      <th>2010-01-08</th>\n",
              "      <td>27.351143</td>\n",
              "      <td>30.282858</td>\n",
              "      <td>30.285715</td>\n",
              "      <td>29.865715</td>\n",
              "      <td>30.042856</td>\n",
              "      <td>111902700.0</td>\n",
              "    </tr>\n",
              "  </tbody>\n",
              "</table>\n",
              "</div>"
            ],
            "text/plain": [
              "            Adj Close      Close       High        Low       Open       Volume\n",
              "Date                                                                          \n",
              "2010-01-04  27.613066  30.572857  30.642857  30.340000  30.490000  123432400.0\n",
              "2010-01-05  27.660807  30.625713  30.798571  30.464285  30.657143  150476200.0\n",
              "2010-01-06  27.220825  30.138571  30.747143  30.107143  30.625713  138040000.0\n",
              "2010-01-07  27.170504  30.082857  30.285715  29.864286  30.250000  119282800.0\n",
              "2010-01-08  27.351143  30.282858  30.285715  29.865715  30.042856  111902700.0"
            ]
          },
          "metadata": {},
          "execution_count": 238
        }
      ]
    },
    {
      "cell_type": "code",
      "metadata": {
        "colab": {
          "base_uri": "https://localhost:8080/",
          "height": 495
        },
        "id": "1nCC2toLD8j6",
        "outputId": "484d35da-5ef3-4359-a91e-25aba9048e86"
      },
      "source": [
        "# NUEVO EJEMPLO\n",
        "# Los datos se tomaron de https://www.datos.gov.co/Gastos-Gubernamentales/Tienda-Virtual-del-Estado-Colombiano-Consolidado/rgxm-mmea\n",
        "tienda = pd.read_csv('https://raw.githubusercontent.com/femorenoba/MetNumUN2021II/main/Lab2/Tienda_virtual_Colombia.csv', parse_dates=['Fecha'], index_col='Fecha')\n",
        "tienda.head()"
      ],
      "execution_count": 5,
      "outputs": [
        {
          "output_type": "execute_result",
          "data": {
            "text/html": [
              "<div>\n",
              "<style scoped>\n",
              "    .dataframe tbody tr th:only-of-type {\n",
              "        vertical-align: middle;\n",
              "    }\n",
              "\n",
              "    .dataframe tbody tr th {\n",
              "        vertical-align: top;\n",
              "    }\n",
              "\n",
              "    .dataframe thead th {\n",
              "        text-align: right;\n",
              "    }\n",
              "</style>\n",
              "<table border=\"1\" class=\"dataframe\">\n",
              "  <thead>\n",
              "    <tr style=\"text-align: right;\">\n",
              "      <th></th>\n",
              "      <th>Anio</th>\n",
              "      <th>Identificador de la Orden</th>\n",
              "      <th>Rama de la Entidad</th>\n",
              "      <th>Sector de la Entidad</th>\n",
              "      <th>Entidad</th>\n",
              "      <th>Solicitante</th>\n",
              "      <th>Proveedor</th>\n",
              "      <th>Estado</th>\n",
              "      <th>Solicitud</th>\n",
              "      <th>Items</th>\n",
              "      <th>Total</th>\n",
              "      <th>Agregacion</th>\n",
              "      <th>Ciudad</th>\n",
              "      <th>Entidad Obigada</th>\n",
              "      <th>EsPostconflicto</th>\n",
              "      <th>NIT Proveedor</th>\n",
              "      <th>Actividad Economica Proveedor</th>\n",
              "      <th>ID Entidad</th>\n",
              "    </tr>\n",
              "    <tr>\n",
              "      <th>Fecha</th>\n",
              "      <th></th>\n",
              "      <th></th>\n",
              "      <th></th>\n",
              "      <th></th>\n",
              "      <th></th>\n",
              "      <th></th>\n",
              "      <th></th>\n",
              "      <th></th>\n",
              "      <th></th>\n",
              "      <th></th>\n",
              "      <th></th>\n",
              "      <th></th>\n",
              "      <th></th>\n",
              "      <th></th>\n",
              "      <th></th>\n",
              "      <th></th>\n",
              "      <th></th>\n",
              "      <th></th>\n",
              "    </tr>\n",
              "  </thead>\n",
              "  <tbody>\n",
              "    <tr>\n",
              "      <th>2017-11-24</th>\n",
              "      <td>2017</td>\n",
              "      <td>22524</td>\n",
              "      <td>Ejecutiva</td>\n",
              "      <td>Justicia y del Derecho</td>\n",
              "      <td>ANDJE</td>\n",
              "      <td>Elena Villalba Villalobos</td>\n",
              "      <td>CONALCREDITOS  CONALCENTER BPO</td>\n",
              "      <td>Emitida</td>\n",
              "      <td>39473</td>\n",
              "      <td>Ver Conjunto detalle</td>\n",
              "      <td>42840000.0</td>\n",
              "      <td>Centro de contacto</td>\n",
              "      <td>BogotÃ¡ D.C.</td>\n",
              "      <td>Obligada</td>\n",
              "      <td>No Definido</td>\n",
              "      <td>8.002197e+08</td>\n",
              "      <td>8220</td>\n",
              "      <td>340</td>\n",
              "    </tr>\n",
              "    <tr>\n",
              "      <th>2017-11-24</th>\n",
              "      <td>2017</td>\n",
              "      <td>22525</td>\n",
              "      <td>Ejecutiva</td>\n",
              "      <td>Minas y EnergÃ­a</td>\n",
              "      <td>SERVICIO GEOLOGICO COLOMBIANO</td>\n",
              "      <td>Monica Ponguta Achury</td>\n",
              "      <td>Subatours SAS</td>\n",
              "      <td>Emitida</td>\n",
              "      <td>39510</td>\n",
              "      <td>Ver Conjunto detalle</td>\n",
              "      <td>960496947.0</td>\n",
              "      <td>Tiquetes AÃ©reos</td>\n",
              "      <td>BogotÃ¡ D.C.</td>\n",
              "      <td>Obligada</td>\n",
              "      <td>No Definido</td>\n",
              "      <td>8.000750e+09</td>\n",
              "      <td>7911</td>\n",
              "      <td>65</td>\n",
              "    </tr>\n",
              "    <tr>\n",
              "      <th>2017-11-24</th>\n",
              "      <td>2017</td>\n",
              "      <td>22526</td>\n",
              "      <td>Organismos autÃ³nomo o independientes</td>\n",
              "      <td>Justicia y del Derecho</td>\n",
              "      <td>DEFENSORIA DEL PUEBLO</td>\n",
              "      <td>Gigliola Gravinni Marin</td>\n",
              "      <td>Oracle Colombia Ltda</td>\n",
              "      <td>Emitida</td>\n",
              "      <td>39474</td>\n",
              "      <td>Ver Conjunto detalle</td>\n",
              "      <td>23461856.0</td>\n",
              "      <td>Servicios Oracle</td>\n",
              "      <td>BOGOTA</td>\n",
              "      <td>No obligada</td>\n",
              "      <td>No Definido</td>\n",
              "      <td>8.001031e+08</td>\n",
              "      <td>6202</td>\n",
              "      <td>35</td>\n",
              "    </tr>\n",
              "    <tr>\n",
              "      <th>2017-11-24</th>\n",
              "      <td>2017</td>\n",
              "      <td>22527</td>\n",
              "      <td>Ejecutiva</td>\n",
              "      <td>PlaneaciÃ³n</td>\n",
              "      <td>SUPERINTENDENCIA DE SERVICIOS PUBLICOS DOMICIL...</td>\n",
              "      <td>illiam Elias Sanabria Romero</td>\n",
              "      <td>BPM Consulting</td>\n",
              "      <td>Emitida</td>\n",
              "      <td>39501</td>\n",
              "      <td>Ver Conjunto detalle</td>\n",
              "      <td>782159181.0</td>\n",
              "      <td>Centro de contacto</td>\n",
              "      <td>BogotÃ¡ D.C.</td>\n",
              "      <td>Obligada</td>\n",
              "      <td>No Definido</td>\n",
              "      <td>9.000114e+08</td>\n",
              "      <td>8220</td>\n",
              "      <td>67</td>\n",
              "    </tr>\n",
              "    <tr>\n",
              "      <th>2017-11-24</th>\n",
              "      <td>2017</td>\n",
              "      <td>22528</td>\n",
              "      <td>Ejecutiva</td>\n",
              "      <td>EducaciÃ³n Nacional</td>\n",
              "      <td>INSTITUTO NACIONAL PARA SORDOS INSOR</td>\n",
              "      <td>Andres Santiago Florez Ortegon</td>\n",
              "      <td>COLOMBIANA DE COMERCIO SA YO ALKOSTO SA</td>\n",
              "      <td>Cancelada</td>\n",
              "      <td>39427</td>\n",
              "      <td>Ver Conjunto detalle</td>\n",
              "      <td>621600.0</td>\n",
              "      <td>Grandes Superficies</td>\n",
              "      <td>BOGOTA</td>\n",
              "      <td>Obligada</td>\n",
              "      <td>No Definido</td>\n",
              "      <td>8.909009e+08</td>\n",
              "      <td>COMERCIO AL POR MAYO</td>\n",
              "      <td>104</td>\n",
              "    </tr>\n",
              "  </tbody>\n",
              "</table>\n",
              "</div>"
            ],
            "text/plain": [
              "            Anio  ...  ID Entidad\n",
              "Fecha             ...            \n",
              "2017-11-24  2017  ...         340\n",
              "2017-11-24  2017  ...          65\n",
              "2017-11-24  2017  ...          35\n",
              "2017-11-24  2017  ...          67\n",
              "2017-11-24  2017  ...         104\n",
              "\n",
              "[5 rows x 18 columns]"
            ]
          },
          "metadata": {},
          "execution_count": 5
        }
      ]
    },
    {
      "cell_type": "code",
      "metadata": {
        "id": "6YNf344rUyqu",
        "colab": {
          "base_uri": "https://localhost:8080/",
          "height": 142
        },
        "outputId": "425a874a-aade-497c-d1af-c96e766b71ec"
      },
      "source": [
        "# Slicing generalizes to two dimensions as you'd expect:\n",
        "aapl.iloc[:2, :2]"
      ],
      "execution_count": null,
      "outputs": [
        {
          "output_type": "execute_result",
          "data": {
            "text/html": [
              "<div>\n",
              "<style scoped>\n",
              "    .dataframe tbody tr th:only-of-type {\n",
              "        vertical-align: middle;\n",
              "    }\n",
              "\n",
              "    .dataframe tbody tr th {\n",
              "        vertical-align: top;\n",
              "    }\n",
              "\n",
              "    .dataframe thead th {\n",
              "        text-align: right;\n",
              "    }\n",
              "</style>\n",
              "<table border=\"1\" class=\"dataframe\">\n",
              "  <thead>\n",
              "    <tr style=\"text-align: right;\">\n",
              "      <th></th>\n",
              "      <th>Adj Close</th>\n",
              "      <th>Close</th>\n",
              "    </tr>\n",
              "    <tr>\n",
              "      <th>Date</th>\n",
              "      <th></th>\n",
              "      <th></th>\n",
              "    </tr>\n",
              "  </thead>\n",
              "  <tbody>\n",
              "    <tr>\n",
              "      <th>2010-01-04</th>\n",
              "      <td>27.613066</td>\n",
              "      <td>30.572857</td>\n",
              "    </tr>\n",
              "    <tr>\n",
              "      <th>2010-01-05</th>\n",
              "      <td>27.660807</td>\n",
              "      <td>30.625713</td>\n",
              "    </tr>\n",
              "  </tbody>\n",
              "</table>\n",
              "</div>"
            ],
            "text/plain": [
              "            Adj Close      Close\n",
              "Date                            \n",
              "2010-01-04  27.613066  30.572857\n",
              "2010-01-05  27.660807  30.625713"
            ]
          },
          "metadata": {},
          "execution_count": 244
        }
      ]
    },
    {
      "cell_type": "code",
      "metadata": {
        "colab": {
          "base_uri": "https://localhost:8080/",
          "height": 236
        },
        "id": "0EljJc_wE3RH",
        "outputId": "3565ffd9-6eb3-4118-c52a-5f585ddc53f4"
      },
      "source": [
        "# NUEVO EJEMPLO\n",
        "# Slicing generalizes to two dimensions as you'd expect:\n",
        "tienda.iloc[:5, :3]"
      ],
      "execution_count": null,
      "outputs": [
        {
          "output_type": "execute_result",
          "data": {
            "text/html": [
              "<div>\n",
              "<style scoped>\n",
              "    .dataframe tbody tr th:only-of-type {\n",
              "        vertical-align: middle;\n",
              "    }\n",
              "\n",
              "    .dataframe tbody tr th {\n",
              "        vertical-align: top;\n",
              "    }\n",
              "\n",
              "    .dataframe thead th {\n",
              "        text-align: right;\n",
              "    }\n",
              "</style>\n",
              "<table border=\"1\" class=\"dataframe\">\n",
              "  <thead>\n",
              "    <tr style=\"text-align: right;\">\n",
              "      <th></th>\n",
              "      <th>Anio</th>\n",
              "      <th>Identificador de la Orden</th>\n",
              "      <th>Rama de la Entidad</th>\n",
              "    </tr>\n",
              "    <tr>\n",
              "      <th>Fecha</th>\n",
              "      <th></th>\n",
              "      <th></th>\n",
              "      <th></th>\n",
              "    </tr>\n",
              "  </thead>\n",
              "  <tbody>\n",
              "    <tr>\n",
              "      <th>2017-11-24</th>\n",
              "      <td>2017</td>\n",
              "      <td>22524</td>\n",
              "      <td>Ejecutiva</td>\n",
              "    </tr>\n",
              "    <tr>\n",
              "      <th>2017-11-24</th>\n",
              "      <td>2017</td>\n",
              "      <td>22525</td>\n",
              "      <td>Ejecutiva</td>\n",
              "    </tr>\n",
              "    <tr>\n",
              "      <th>2017-11-24</th>\n",
              "      <td>2017</td>\n",
              "      <td>22526</td>\n",
              "      <td>Organismos autÃ³nomo o independientes</td>\n",
              "    </tr>\n",
              "    <tr>\n",
              "      <th>2017-11-24</th>\n",
              "      <td>2017</td>\n",
              "      <td>22527</td>\n",
              "      <td>Ejecutiva</td>\n",
              "    </tr>\n",
              "    <tr>\n",
              "      <th>2017-11-24</th>\n",
              "      <td>2017</td>\n",
              "      <td>22528</td>\n",
              "      <td>Ejecutiva</td>\n",
              "    </tr>\n",
              "  </tbody>\n",
              "</table>\n",
              "</div>"
            ],
            "text/plain": [
              "            Anio  ...                     Rama de la Entidad\n",
              "Fecha             ...                                       \n",
              "2017-11-24  2017  ...                              Ejecutiva\n",
              "2017-11-24  2017  ...                              Ejecutiva\n",
              "2017-11-24  2017  ...  Organismos autÃ³nomo o independientes\n",
              "2017-11-24  2017  ...                              Ejecutiva\n",
              "2017-11-24  2017  ...                              Ejecutiva\n",
              "\n",
              "[5 rows x 3 columns]"
            ]
          },
          "metadata": {},
          "execution_count": 247
        }
      ]
    },
    {
      "cell_type": "code",
      "metadata": {
        "id": "uObIRZvuUyqv",
        "colab": {
          "base_uri": "https://localhost:8080/",
          "height": 205
        },
        "outputId": "bf6fd4e9-3b77-410c-a24a-9b28b6c6fc37"
      },
      "source": [
        "aapl.loc[pd.Timestamp('2010-02-01'):pd.Timestamp('2010-02-04'), ['Close', 'Volume']]"
      ],
      "execution_count": null,
      "outputs": [
        {
          "output_type": "execute_result",
          "data": {
            "text/html": [
              "<div>\n",
              "<style scoped>\n",
              "    .dataframe tbody tr th:only-of-type {\n",
              "        vertical-align: middle;\n",
              "    }\n",
              "\n",
              "    .dataframe tbody tr th {\n",
              "        vertical-align: top;\n",
              "    }\n",
              "\n",
              "    .dataframe thead th {\n",
              "        text-align: right;\n",
              "    }\n",
              "</style>\n",
              "<table border=\"1\" class=\"dataframe\">\n",
              "  <thead>\n",
              "    <tr style=\"text-align: right;\">\n",
              "      <th></th>\n",
              "      <th>Close</th>\n",
              "      <th>Volume</th>\n",
              "    </tr>\n",
              "    <tr>\n",
              "      <th>Date</th>\n",
              "      <th></th>\n",
              "      <th></th>\n",
              "    </tr>\n",
              "  </thead>\n",
              "  <tbody>\n",
              "    <tr>\n",
              "      <th>2010-02-01</th>\n",
              "      <td>27.818571</td>\n",
              "      <td>187469100.0</td>\n",
              "    </tr>\n",
              "    <tr>\n",
              "      <th>2010-02-02</th>\n",
              "      <td>27.980000</td>\n",
              "      <td>174585600.0</td>\n",
              "    </tr>\n",
              "    <tr>\n",
              "      <th>2010-02-03</th>\n",
              "      <td>28.461428</td>\n",
              "      <td>153832000.0</td>\n",
              "    </tr>\n",
              "    <tr>\n",
              "      <th>2010-02-04</th>\n",
              "      <td>27.435715</td>\n",
              "      <td>189413000.0</td>\n",
              "    </tr>\n",
              "  </tbody>\n",
              "</table>\n",
              "</div>"
            ],
            "text/plain": [
              "                Close       Volume\n",
              "Date                              \n",
              "2010-02-01  27.818571  187469100.0\n",
              "2010-02-02  27.980000  174585600.0\n",
              "2010-02-03  28.461428  153832000.0\n",
              "2010-02-04  27.435715  189413000.0"
            ]
          },
          "metadata": {},
          "execution_count": 248
        }
      ]
    },
    {
      "cell_type": "code",
      "metadata": {
        "colab": {
          "base_uri": "https://localhost:8080/",
          "height": 1000
        },
        "id": "lZY41p6hvbb8",
        "outputId": "764822e2-bb13-4a11-c179-38fd31f3ab3e"
      },
      "source": [
        "# NUEVO EJEMPLO\n",
        "tienda.loc[pd.Timestamp('2017-11-24'), ['Rama de la Entidad', 'Solicitante']]"
      ],
      "execution_count": null,
      "outputs": [
        {
          "output_type": "execute_result",
          "data": {
            "text/html": [
              "<div>\n",
              "<style scoped>\n",
              "    .dataframe tbody tr th:only-of-type {\n",
              "        vertical-align: middle;\n",
              "    }\n",
              "\n",
              "    .dataframe tbody tr th {\n",
              "        vertical-align: top;\n",
              "    }\n",
              "\n",
              "    .dataframe thead th {\n",
              "        text-align: right;\n",
              "    }\n",
              "</style>\n",
              "<table border=\"1\" class=\"dataframe\">\n",
              "  <thead>\n",
              "    <tr style=\"text-align: right;\">\n",
              "      <th></th>\n",
              "      <th>Rama de la Entidad</th>\n",
              "      <th>Solicitante</th>\n",
              "    </tr>\n",
              "    <tr>\n",
              "      <th>Fecha</th>\n",
              "      <th></th>\n",
              "      <th></th>\n",
              "    </tr>\n",
              "  </thead>\n",
              "  <tbody>\n",
              "    <tr>\n",
              "      <th>2017-11-24</th>\n",
              "      <td>Ejecutiva</td>\n",
              "      <td>Elena Villalba Villalobos</td>\n",
              "    </tr>\n",
              "    <tr>\n",
              "      <th>2017-11-24</th>\n",
              "      <td>Ejecutiva</td>\n",
              "      <td>Monica Ponguta Achury</td>\n",
              "    </tr>\n",
              "    <tr>\n",
              "      <th>2017-11-24</th>\n",
              "      <td>Organismos autÃ³nomo o independientes</td>\n",
              "      <td>Gigliola Gravinni Marin</td>\n",
              "    </tr>\n",
              "    <tr>\n",
              "      <th>2017-11-24</th>\n",
              "      <td>Ejecutiva</td>\n",
              "      <td>illiam Elias Sanabria Romero</td>\n",
              "    </tr>\n",
              "    <tr>\n",
              "      <th>2017-11-24</th>\n",
              "      <td>Ejecutiva</td>\n",
              "      <td>Andres Santiago Florez Ortegon</td>\n",
              "    </tr>\n",
              "    <tr>\n",
              "      <th>2017-11-24</th>\n",
              "      <td>Ejecutiva</td>\n",
              "      <td>Andres Santiago Florez Ortegon</td>\n",
              "    </tr>\n",
              "    <tr>\n",
              "      <th>2017-11-24</th>\n",
              "      <td>Ejecutiva</td>\n",
              "      <td>Andres Santiago Florez Ortegon</td>\n",
              "    </tr>\n",
              "    <tr>\n",
              "      <th>2017-11-24</th>\n",
              "      <td>Ejecutiva</td>\n",
              "      <td>Lady Angelica Mora Alvarado</td>\n",
              "    </tr>\n",
              "    <tr>\n",
              "      <th>2017-11-24</th>\n",
              "      <td>Organismos autÃ³nomo o independientes</td>\n",
              "      <td>iller Hernandez Caliman</td>\n",
              "    </tr>\n",
              "    <tr>\n",
              "      <th>2017-11-24</th>\n",
              "      <td>Organismos autÃ³nomo o independientes</td>\n",
              "      <td>iller Hernandez Caliman</td>\n",
              "    </tr>\n",
              "    <tr>\n",
              "      <th>2017-11-24</th>\n",
              "      <td>Organismos autÃ³nomo o independientes</td>\n",
              "      <td>iller Hernandez Caliman</td>\n",
              "    </tr>\n",
              "    <tr>\n",
              "      <th>2017-11-24</th>\n",
              "      <td>Ejecutiva</td>\n",
              "      <td>Cindy Isabel Araujo Pineda</td>\n",
              "    </tr>\n",
              "    <tr>\n",
              "      <th>2017-11-24</th>\n",
              "      <td>Ejecutiva</td>\n",
              "      <td>Cindy Isabel Araujo Pineda</td>\n",
              "    </tr>\n",
              "    <tr>\n",
              "      <th>2017-11-24</th>\n",
              "      <td>Ejecutiva</td>\n",
              "      <td>Nicolas Adolfo Correal Huertas</td>\n",
              "    </tr>\n",
              "    <tr>\n",
              "      <th>2017-11-24</th>\n",
              "      <td>Ejecutiva</td>\n",
              "      <td>Jose Ricardo OrdoÃ±ez  Barrera</td>\n",
              "    </tr>\n",
              "    <tr>\n",
              "      <th>2017-11-24</th>\n",
              "      <td>Ejecutiva</td>\n",
              "      <td>Maria Yolanda Cuellar Montes</td>\n",
              "    </tr>\n",
              "    <tr>\n",
              "      <th>2017-11-24</th>\n",
              "      <td>Ejecutiva</td>\n",
              "      <td>AndrÃ©s Felipe Pereira RodrÃ­guez</td>\n",
              "    </tr>\n",
              "    <tr>\n",
              "      <th>2017-11-24</th>\n",
              "      <td>Ejecutiva</td>\n",
              "      <td>John ilson Vargas Gutierrez</td>\n",
              "    </tr>\n",
              "    <tr>\n",
              "      <th>2017-11-24</th>\n",
              "      <td>Ejecutiva</td>\n",
              "      <td>Rodrigo GonzÃ¡lez Herrera</td>\n",
              "    </tr>\n",
              "    <tr>\n",
              "      <th>2017-11-24</th>\n",
              "      <td>Ejecutiva</td>\n",
              "      <td>Maria Yolanda Cuellar Montes</td>\n",
              "    </tr>\n",
              "    <tr>\n",
              "      <th>2017-11-24</th>\n",
              "      <td>Ejecutiva</td>\n",
              "      <td>Maria Yolanda Cuellar Montes</td>\n",
              "    </tr>\n",
              "    <tr>\n",
              "      <th>2017-11-24</th>\n",
              "      <td>Ejecutiva</td>\n",
              "      <td>Sandra Patricia Grimaldo Alvarez</td>\n",
              "    </tr>\n",
              "    <tr>\n",
              "      <th>2017-11-24</th>\n",
              "      <td>Ejecutiva</td>\n",
              "      <td>Sandra Patricia Grimaldo Alvarez</td>\n",
              "    </tr>\n",
              "    <tr>\n",
              "      <th>2017-11-24</th>\n",
              "      <td>Ejecutiva</td>\n",
              "      <td>Sandra Patricia Grimaldo Alvarez</td>\n",
              "    </tr>\n",
              "    <tr>\n",
              "      <th>2017-11-24</th>\n",
              "      <td>Ejecutiva</td>\n",
              "      <td>Sandra Patricia Grimaldo Alvarez</td>\n",
              "    </tr>\n",
              "    <tr>\n",
              "      <th>2017-11-24</th>\n",
              "      <td>Ejecutiva</td>\n",
              "      <td>Sandra Patricia Grimaldo Alvarez</td>\n",
              "    </tr>\n",
              "    <tr>\n",
              "      <th>2017-11-24</th>\n",
              "      <td>Ejecutiva</td>\n",
              "      <td>Martin Francisco Ortiz Herrera</td>\n",
              "    </tr>\n",
              "    <tr>\n",
              "      <th>2017-11-24</th>\n",
              "      <td>Ejecutiva</td>\n",
              "      <td>Lina Paola HernÃ¡ndez Jaramillo</td>\n",
              "    </tr>\n",
              "    <tr>\n",
              "      <th>2017-11-24</th>\n",
              "      <td>Ejecutiva</td>\n",
              "      <td>Elina Ulloa Saenz</td>\n",
              "    </tr>\n",
              "    <tr>\n",
              "      <th>2017-11-24</th>\n",
              "      <td>Ejecutiva</td>\n",
              "      <td>illiam Palma Camacho</td>\n",
              "    </tr>\n",
              "    <tr>\n",
              "      <th>2017-11-24</th>\n",
              "      <td>Ejecutiva</td>\n",
              "      <td>Sigifredo Salazar Osorio</td>\n",
              "    </tr>\n",
              "    <tr>\n",
              "      <th>2017-11-24</th>\n",
              "      <td>Ejecutiva</td>\n",
              "      <td>Lina Paola HernÃ¡ndez Jaramillo</td>\n",
              "    </tr>\n",
              "    <tr>\n",
              "      <th>2017-11-24</th>\n",
              "      <td>Ejecutiva</td>\n",
              "      <td>Jose Nayib SÃ¡nchez Delgado</td>\n",
              "    </tr>\n",
              "    <tr>\n",
              "      <th>2017-11-24</th>\n",
              "      <td>Ejecutiva</td>\n",
              "      <td>Jose Nayib SÃ¡nchez Delgado</td>\n",
              "    </tr>\n",
              "    <tr>\n",
              "      <th>2017-11-24</th>\n",
              "      <td>Ejecutiva</td>\n",
              "      <td>Maria Yolanda Cuellar Montes</td>\n",
              "    </tr>\n",
              "    <tr>\n",
              "      <th>2017-11-24</th>\n",
              "      <td>Ejecutiva</td>\n",
              "      <td>Jorge Andres IbaÃ±ez Robayo</td>\n",
              "    </tr>\n",
              "    <tr>\n",
              "      <th>2017-11-24</th>\n",
              "      <td>Ejecutiva</td>\n",
              "      <td>Johanna Patricia Cuadros Cuervo</td>\n",
              "    </tr>\n",
              "  </tbody>\n",
              "</table>\n",
              "</div>"
            ],
            "text/plain": [
              "                               Rama de la Entidad                        Solicitante\n",
              "Fecha                                                                               \n",
              "2017-11-24                              Ejecutiva          Elena Villalba Villalobos\n",
              "2017-11-24                              Ejecutiva              Monica Ponguta Achury\n",
              "2017-11-24  Organismos autÃ³nomo o independientes            Gigliola Gravinni Marin\n",
              "2017-11-24                              Ejecutiva       illiam Elias Sanabria Romero\n",
              "2017-11-24                              Ejecutiva     Andres Santiago Florez Ortegon\n",
              "2017-11-24                              Ejecutiva     Andres Santiago Florez Ortegon\n",
              "2017-11-24                              Ejecutiva     Andres Santiago Florez Ortegon\n",
              "2017-11-24                              Ejecutiva        Lady Angelica Mora Alvarado\n",
              "2017-11-24  Organismos autÃ³nomo o independientes            iller Hernandez Caliman\n",
              "2017-11-24  Organismos autÃ³nomo o independientes            iller Hernandez Caliman\n",
              "2017-11-24  Organismos autÃ³nomo o independientes            iller Hernandez Caliman\n",
              "2017-11-24                              Ejecutiva         Cindy Isabel Araujo Pineda\n",
              "2017-11-24                              Ejecutiva         Cindy Isabel Araujo Pineda\n",
              "2017-11-24                              Ejecutiva     Nicolas Adolfo Correal Huertas\n",
              "2017-11-24                              Ejecutiva     Jose Ricardo OrdoÃ±ez  Barrera\n",
              "2017-11-24                              Ejecutiva       Maria Yolanda Cuellar Montes\n",
              "2017-11-24                              Ejecutiva  AndrÃ©s Felipe Pereira RodrÃ­guez\n",
              "2017-11-24                              Ejecutiva        John ilson Vargas Gutierrez\n",
              "2017-11-24                              Ejecutiva          Rodrigo GonzÃ¡lez Herrera\n",
              "2017-11-24                              Ejecutiva       Maria Yolanda Cuellar Montes\n",
              "2017-11-24                              Ejecutiva       Maria Yolanda Cuellar Montes\n",
              "2017-11-24                              Ejecutiva   Sandra Patricia Grimaldo Alvarez\n",
              "2017-11-24                              Ejecutiva   Sandra Patricia Grimaldo Alvarez\n",
              "2017-11-24                              Ejecutiva   Sandra Patricia Grimaldo Alvarez\n",
              "2017-11-24                              Ejecutiva   Sandra Patricia Grimaldo Alvarez\n",
              "2017-11-24                              Ejecutiva   Sandra Patricia Grimaldo Alvarez\n",
              "2017-11-24                              Ejecutiva     Martin Francisco Ortiz Herrera\n",
              "2017-11-24                              Ejecutiva    Lina Paola HernÃ¡ndez Jaramillo\n",
              "2017-11-24                              Ejecutiva                  Elina Ulloa Saenz\n",
              "2017-11-24                              Ejecutiva               illiam Palma Camacho\n",
              "2017-11-24                              Ejecutiva           Sigifredo Salazar Osorio\n",
              "2017-11-24                              Ejecutiva    Lina Paola HernÃ¡ndez Jaramillo\n",
              "2017-11-24                              Ejecutiva        Jose Nayib SÃ¡nchez Delgado\n",
              "2017-11-24                              Ejecutiva        Jose Nayib SÃ¡nchez Delgado\n",
              "2017-11-24                              Ejecutiva       Maria Yolanda Cuellar Montes\n",
              "2017-11-24                              Ejecutiva        Jorge Andres IbaÃ±ez Robayo\n",
              "2017-11-24                              Ejecutiva    Johanna Patricia Cuadros Cuervo"
            ]
          },
          "metadata": {},
          "execution_count": 250
        }
      ]
    },
    {
      "cell_type": "markdown",
      "metadata": {
        "id": "WR_vhkIpUyqv"
      },
      "source": [
        "# Rolling Operations"
      ]
    },
    {
      "cell_type": "code",
      "metadata": {
        "id": "1CfoqTqOUyqv",
        "colab": {
          "base_uri": "https://localhost:8080/",
          "height": 417
        },
        "outputId": "5ffde024-46e9-4c7d-c760-a6e6b126a8ce"
      },
      "source": [
        "aapl.rolling(5)[['Close', 'Adj Close']].mean().plot();"
      ],
      "execution_count": null,
      "outputs": [
        {
          "output_type": "display_data",
          "data": {
            "image/png": "[encoded data removed]",
            "text/plain": [
              "<Figure size 864x504 with 1 Axes>"
            ]
          },
          "metadata": {
            "needs_background": "light"
          }
        }
      ]
    },
    {
      "cell_type": "code",
      "metadata": {
        "colab": {
          "base_uri": "https://localhost:8080/",
          "height": 444
        },
        "id": "E3juz0n5G4kD",
        "outputId": "79050943-9790-4e2a-9cdf-7027f0f5d5d9"
      },
      "source": [
        "# NUEVO EJEMPLO\n",
        "# Looks so 'cause every dates are the same, excluding 1 over 2017\n",
        "tienda.rolling(5)[['Solicitud', 'Total']].mean().plot()"
      ],
      "execution_count": null,
      "outputs": [
        {
          "output_type": "execute_result",
          "data": {
            "text/plain": [
              "<matplotlib.axes._subplots.AxesSubplot at 0x7fd1f9684850>"
            ]
          },
          "metadata": {},
          "execution_count": 268
        },
        {
          "output_type": "display_data",
          "data": {
            "image/png": "[encoded data removed]",
            "text/plain": [
              "<Figure size 864x504 with 1 Axes>"
            ]
          },
          "metadata": {
            "needs_background": "light"
          }
        }
      ]
    },
    {
      "cell_type": "code",
      "metadata": {
        "id": "T94NUKU6Uyqv",
        "colab": {
          "base_uri": "https://localhost:8080/",
          "height": 442
        },
        "outputId": "9a69f61b-fb47-4af7-d512-c6fa4b134857"
      },
      "source": [
        "# Drop `Volume`, since it's way bigger than everything else.\n",
        "aapl.drop('Volume', axis=1).resample('2W').max().plot();"
      ],
      "execution_count": null,
      "outputs": [
        {
          "output_type": "display_data",
          "data": {
            "image/png": "[encoded data removed]",
            "text/plain": [
              "<Figure size 864x504 with 1 Axes>"
            ]
          },
          "metadata": {
            "needs_background": "light"
          }
        }
      ]
    },
    {
      "cell_type": "code",
      "metadata": {
        "id": "lBZPVxtTUyqw",
        "colab": {
          "base_uri": "https://localhost:8080/",
          "height": 416
        },
        "outputId": "910cc6f5-31e1-4f11-8b75-1846ab8ae130"
      },
      "source": [
        "# 30-day rolling exponentially-weighted stddev of returns.\n",
        "aapl['Close'].pct_change().ewm(span=30).std().plot();"
      ],
      "execution_count": null,
      "outputs": [
        {
          "output_type": "display_data",
          "data": {
            "image/png": "[encoded data removed]",
            "text/plain": [
              "<Figure size 864x504 with 1 Axes>"
            ]
          },
          "metadata": {
            "needs_background": "light"
          }
        }
      ]
    },
    {
      "cell_type": "code",
      "metadata": {
        "colab": {
          "base_uri": "https://localhost:8080/",
          "height": 416
        },
        "id": "PS462iPAQJRS",
        "outputId": "8dc09654-68da-40c9-f08d-5bfd2eb130d5"
      },
      "source": [
        "# NUEVO EJEMPLO\n",
        "# 30-day rolling exponentially-weighted stddev of returns.\n",
        "tienda['Solicitud'].pct_change().ewm(span=50).std().plot();"
      ],
      "execution_count": null,
      "outputs": [
        {
          "output_type": "display_data",
          "data": {
            "image/png": "[encoded data removed]",
            "text/plain": [
              "<Figure size 864x504 with 1 Axes>"
            ]
          },
          "metadata": {
            "needs_background": "light"
          }
        }
      ]
    },
    {
      "cell_type": "markdown",
      "metadata": {
        "id": "GBqJCn3sUyqw"
      },
      "source": [
        "# \"Real World\" Data"
      ]
    },
    {
      "cell_type": "code",
      "metadata": {
        "id": "m3n-Cd7s5rDM"
      },
      "source": [
        "# Resource: https://github.com/ssanderson/pydata-toolbox/blob/master/demos/avocados.py\n",
        "from io import BytesIO\n",
        "import os\n",
        "from urllib.parse import urlencode\n",
        "\n",
        "import requests\n",
        "import numpy as np\n",
        "import pandas as pd\n",
        "\n",
        "\n",
        "def read_avocadata(start_date, end_date, cache_loc='avocadata.html'):\n",
        "    \"\"\"Download avocado data to a dataframe.\n",
        "\n",
        "    Parameters\n",
        "    ----------\n",
        "    \"\"\"\n",
        "    start_date = pd.Timestamp(start_date)\n",
        "    end_date = pd.Timestamp(end_date)\n",
        "    base_url = 'https://www.marketnews.usda.gov/mnp/fv-report-retail'\n",
        "    query_params = {\n",
        "        'class': ['FRUITS'],\n",
        "        'commodity': ['AVOCADOS'],\n",
        "        'compareLy': ['No'],\n",
        "        'endDate': [end_date.strftime(\"%m/%d/%Y\")],\n",
        "        'format': ['excel'],\n",
        "        'organic': ['ALL'],\n",
        "        'portal': ['fv'],\n",
        "        'region': ['ALL'],\n",
        "        'repDate': [start_date.strftime(\"%m/%d/%Y\")],\n",
        "        'type': ['retail'],\n",
        "    }\n",
        "\n",
        "    url = base_url + '?' + urlencode(query_params, doseq=1)\n",
        "\n",
        "    if not os.path.exists(cache_loc):\n",
        "        resp = requests.get(url, stream=True)\n",
        "        resp.raise_for_status()\n",
        "\n",
        "        with open(cache_loc, 'wb') as f:\n",
        "            for block in resp.iter_content(chunk_size=4096):\n",
        "                f.write(block)\n",
        "        f.close()\n",
        "\n",
        "    with open(cache_loc, 'rb') as f:\n",
        "        frame = pd.read_html(f, header=0)[0]\n",
        "\n",
        "    # Cleanup\n",
        "    frame = frame[frame['Unit'] == 'each']\n",
        "    frame['Organic'] = (frame['Organic'] == 'Y')\n",
        "    frame['Variety'].replace(\n",
        "        {'VARIOUS GREENSKIN VARIETIES': 'GREENSKIN'},\n",
        "        inplace=True,\n",
        "    )\n",
        "    frame['Date'] = pd.to_datetime(frame['Date'].values, utc=True)\n",
        "\n",
        "    frame['Region'] = frame['Region'].str.replace(' U.S.', '')\n",
        "    frame['Region'] = frame['Region'].str.replace(' ', '_')\n",
        "\n",
        "    # Drop useless columns.\n",
        "    return frame.drop(\n",
        "        ['Class', 'Commodity', 'Environment', 'Unit', '% Marked Local'],\n",
        "        axis=1,\n",
        "    )"
      ],
      "execution_count": null,
      "outputs": []
    },
    {
      "cell_type": "code",
      "metadata": {
        "id": "rFMkr0uyUyqx",
        "colab": {
          "base_uri": "https://localhost:8080/",
          "height": 205
        },
        "outputId": "6f77e435-2410-4976-f54b-046504d3f525"
      },
      "source": [
        "avocados = read_avocadata('2014', '2016')\n",
        "avocados.head()"
      ],
      "execution_count": null,
      "outputs": [
        {
          "output_type": "execute_result",
          "data": {
            "text/html": [
              "<div>\n",
              "<style scoped>\n",
              "    .dataframe tbody tr th:only-of-type {\n",
              "        vertical-align: middle;\n",
              "    }\n",
              "\n",
              "    .dataframe tbody tr th {\n",
              "        vertical-align: top;\n",
              "    }\n",
              "\n",
              "    .dataframe thead th {\n",
              "        text-align: right;\n",
              "    }\n",
              "</style>\n",
              "<table border=\"1\" class=\"dataframe\">\n",
              "  <thead>\n",
              "    <tr style=\"text-align: right;\">\n",
              "      <th></th>\n",
              "      <th>Date</th>\n",
              "      <th>Region</th>\n",
              "      <th>Variety</th>\n",
              "      <th>Organic</th>\n",
              "      <th>Number of Stores</th>\n",
              "      <th>Weighted Avg Price</th>\n",
              "      <th>Low Price</th>\n",
              "      <th>High Price</th>\n",
              "    </tr>\n",
              "  </thead>\n",
              "  <tbody>\n",
              "    <tr>\n",
              "      <th>0</th>\n",
              "      <td>2020-01-03 00:00:00+00:00</td>\n",
              "      <td>NATIONAL</td>\n",
              "      <td>HASS</td>\n",
              "      <td>False</td>\n",
              "      <td>11726</td>\n",
              "      <td>1.08</td>\n",
              "      <td>NaN</td>\n",
              "      <td>NaN</td>\n",
              "    </tr>\n",
              "    <tr>\n",
              "      <th>1</th>\n",
              "      <td>2020-01-03 00:00:00+00:00</td>\n",
              "      <td>NATIONAL</td>\n",
              "      <td>HASS</td>\n",
              "      <td>True</td>\n",
              "      <td>1526</td>\n",
              "      <td>1.42</td>\n",
              "      <td>NaN</td>\n",
              "      <td>NaN</td>\n",
              "    </tr>\n",
              "    <tr>\n",
              "      <th>2</th>\n",
              "      <td>2020-01-03 00:00:00+00:00</td>\n",
              "      <td>NATIONAL</td>\n",
              "      <td>GREENSKIN</td>\n",
              "      <td>False</td>\n",
              "      <td>63</td>\n",
              "      <td>0.80</td>\n",
              "      <td>NaN</td>\n",
              "      <td>NaN</td>\n",
              "    </tr>\n",
              "    <tr>\n",
              "      <th>4</th>\n",
              "      <td>2020-01-03 00:00:00+00:00</td>\n",
              "      <td>NORTHEAST</td>\n",
              "      <td>HASS</td>\n",
              "      <td>False</td>\n",
              "      <td>1776</td>\n",
              "      <td>1.09</td>\n",
              "      <td>0.69</td>\n",
              "      <td>2.0</td>\n",
              "    </tr>\n",
              "    <tr>\n",
              "      <th>5</th>\n",
              "      <td>2020-01-03 00:00:00+00:00</td>\n",
              "      <td>NORTHEAST</td>\n",
              "      <td>HASS</td>\n",
              "      <td>True</td>\n",
              "      <td>317</td>\n",
              "      <td>1.76</td>\n",
              "      <td>1.00</td>\n",
              "      <td>2.5</td>\n",
              "    </tr>\n",
              "  </tbody>\n",
              "</table>\n",
              "</div>"
            ],
            "text/plain": [
              "                       Date     Region  ... Low Price  High Price\n",
              "0 2020-01-03 00:00:00+00:00   NATIONAL  ...       NaN         NaN\n",
              "1 2020-01-03 00:00:00+00:00   NATIONAL  ...       NaN         NaN\n",
              "2 2020-01-03 00:00:00+00:00   NATIONAL  ...       NaN         NaN\n",
              "4 2020-01-03 00:00:00+00:00  NORTHEAST  ...      0.69         2.0\n",
              "5 2020-01-03 00:00:00+00:00  NORTHEAST  ...      1.00         2.5\n",
              "\n",
              "[5 rows x 8 columns]"
            ]
          },
          "metadata": {},
          "execution_count": 286
        }
      ]
    },
    {
      "cell_type": "code",
      "metadata": {
        "colab": {
          "base_uri": "https://localhost:8080/",
          "height": 495
        },
        "id": "1qrJf4jQ4Mne",
        "outputId": "38c79d15-0c38-4f9f-c4ad-9479ec0333f3"
      },
      "source": [
        "# NUEVO EJEMPLO\n",
        "# Los datos se tomaron de https://www.datos.gov.co/Gastos-Gubernamentales/Tienda-Virtual-del-Estado-Colombiano-Consolidado/rgxm-mmea\n",
        "tienda = pd.read_csv('https://raw.githubusercontent.com/femorenoba/AlgorithmsUN2021II/main/Lab2/Tienda_virtual_Colombia.csv', parse_dates=['Fecha'], index_col='Fecha')\n",
        "tienda.head()"
      ],
      "execution_count": null,
      "outputs": [
        {
          "output_type": "execute_result",
          "data": {
            "text/html": [
              "<div>\n",
              "<style scoped>\n",
              "    .dataframe tbody tr th:only-of-type {\n",
              "        vertical-align: middle;\n",
              "    }\n",
              "\n",
              "    .dataframe tbody tr th {\n",
              "        vertical-align: top;\n",
              "    }\n",
              "\n",
              "    .dataframe thead th {\n",
              "        text-align: right;\n",
              "    }\n",
              "</style>\n",
              "<table border=\"1\" class=\"dataframe\">\n",
              "  <thead>\n",
              "    <tr style=\"text-align: right;\">\n",
              "      <th></th>\n",
              "      <th>Anio</th>\n",
              "      <th>Identificador de la Orden</th>\n",
              "      <th>Rama de la Entidad</th>\n",
              "      <th>Sector de la Entidad</th>\n",
              "      <th>Entidad</th>\n",
              "      <th>Solicitante</th>\n",
              "      <th>Proveedor</th>\n",
              "      <th>Estado</th>\n",
              "      <th>Solicitud</th>\n",
              "      <th>Items</th>\n",
              "      <th>Total</th>\n",
              "      <th>Agregacion</th>\n",
              "      <th>Ciudad</th>\n",
              "      <th>Entidad Obigada</th>\n",
              "      <th>EsPostconflicto</th>\n",
              "      <th>NIT Proveedor</th>\n",
              "      <th>Actividad Economica Proveedor</th>\n",
              "      <th>ID Entidad</th>\n",
              "    </tr>\n",
              "    <tr>\n",
              "      <th>Fecha</th>\n",
              "      <th></th>\n",
              "      <th></th>\n",
              "      <th></th>\n",
              "      <th></th>\n",
              "      <th></th>\n",
              "      <th></th>\n",
              "      <th></th>\n",
              "      <th></th>\n",
              "      <th></th>\n",
              "      <th></th>\n",
              "      <th></th>\n",
              "      <th></th>\n",
              "      <th></th>\n",
              "      <th></th>\n",
              "      <th></th>\n",
              "      <th></th>\n",
              "      <th></th>\n",
              "      <th></th>\n",
              "    </tr>\n",
              "  </thead>\n",
              "  <tbody>\n",
              "    <tr>\n",
              "      <th>2017-11-24</th>\n",
              "      <td>2017</td>\n",
              "      <td>22524</td>\n",
              "      <td>Ejecutiva</td>\n",
              "      <td>Justicia y del Derecho</td>\n",
              "      <td>ANDJE</td>\n",
              "      <td>Elena Villalba Villalobos</td>\n",
              "      <td>CONALCREDITOS  CONALCENTER BPO</td>\n",
              "      <td>Emitida</td>\n",
              "      <td>39473</td>\n",
              "      <td>Ver Conjunto detalle</td>\n",
              "      <td>42840000.0</td>\n",
              "      <td>Centro de contacto</td>\n",
              "      <td>BogotÃ¡ D.C.</td>\n",
              "      <td>Obligada</td>\n",
              "      <td>No Definido</td>\n",
              "      <td>8.002197e+08</td>\n",
              "      <td>8220</td>\n",
              "      <td>340</td>\n",
              "    </tr>\n",
              "    <tr>\n",
              "      <th>2017-11-24</th>\n",
              "      <td>2017</td>\n",
              "      <td>22525</td>\n",
              "      <td>Ejecutiva</td>\n",
              "      <td>Minas y EnergÃ­a</td>\n",
              "      <td>SERVICIO GEOLOGICO COLOMBIANO</td>\n",
              "      <td>Monica Ponguta Achury</td>\n",
              "      <td>Subatours SAS</td>\n",
              "      <td>Emitida</td>\n",
              "      <td>39510</td>\n",
              "      <td>Ver Conjunto detalle</td>\n",
              "      <td>960496947.0</td>\n",
              "      <td>Tiquetes AÃ©reos</td>\n",
              "      <td>BogotÃ¡ D.C.</td>\n",
              "      <td>Obligada</td>\n",
              "      <td>No Definido</td>\n",
              "      <td>8.000750e+09</td>\n",
              "      <td>7911</td>\n",
              "      <td>65</td>\n",
              "    </tr>\n",
              "    <tr>\n",
              "      <th>2017-11-24</th>\n",
              "      <td>2017</td>\n",
              "      <td>22526</td>\n",
              "      <td>Organismos autÃ³nomo o independientes</td>\n",
              "      <td>Justicia y del Derecho</td>\n",
              "      <td>DEFENSORIA DEL PUEBLO</td>\n",
              "      <td>Gigliola Gravinni Marin</td>\n",
              "      <td>Oracle Colombia Ltda</td>\n",
              "      <td>Emitida</td>\n",
              "      <td>39474</td>\n",
              "      <td>Ver Conjunto detalle</td>\n",
              "      <td>23461856.0</td>\n",
              "      <td>Servicios Oracle</td>\n",
              "      <td>BOGOTA</td>\n",
              "      <td>No obligada</td>\n",
              "      <td>No Definido</td>\n",
              "      <td>8.001031e+08</td>\n",
              "      <td>6202</td>\n",
              "      <td>35</td>\n",
              "    </tr>\n",
              "    <tr>\n",
              "      <th>2017-11-24</th>\n",
              "      <td>2017</td>\n",
              "      <td>22527</td>\n",
              "      <td>Ejecutiva</td>\n",
              "      <td>PlaneaciÃ³n</td>\n",
              "      <td>SUPERINTENDENCIA DE SERVICIOS PUBLICOS DOMICIL...</td>\n",
              "      <td>illiam Elias Sanabria Romero</td>\n",
              "      <td>BPM Consulting</td>\n",
              "      <td>Emitida</td>\n",
              "      <td>39501</td>\n",
              "      <td>Ver Conjunto detalle</td>\n",
              "      <td>782159181.0</td>\n",
              "      <td>Centro de contacto</td>\n",
              "      <td>BogotÃ¡ D.C.</td>\n",
              "      <td>Obligada</td>\n",
              "      <td>No Definido</td>\n",
              "      <td>9.000114e+08</td>\n",
              "      <td>8220</td>\n",
              "      <td>67</td>\n",
              "    </tr>\n",
              "    <tr>\n",
              "      <th>2017-11-24</th>\n",
              "      <td>2017</td>\n",
              "      <td>22528</td>\n",
              "      <td>Ejecutiva</td>\n",
              "      <td>EducaciÃ³n Nacional</td>\n",
              "      <td>INSTITUTO NACIONAL PARA SORDOS INSOR</td>\n",
              "      <td>Andres Santiago Florez Ortegon</td>\n",
              "      <td>COLOMBIANA DE COMERCIO SA YO ALKOSTO SA</td>\n",
              "      <td>Cancelada</td>\n",
              "      <td>39427</td>\n",
              "      <td>Ver Conjunto detalle</td>\n",
              "      <td>621600.0</td>\n",
              "      <td>Grandes Superficies</td>\n",
              "      <td>BOGOTA</td>\n",
              "      <td>Obligada</td>\n",
              "      <td>No Definido</td>\n",
              "      <td>8.909009e+08</td>\n",
              "      <td>COMERCIO AL POR MAYO</td>\n",
              "      <td>104</td>\n",
              "    </tr>\n",
              "  </tbody>\n",
              "</table>\n",
              "</div>"
            ],
            "text/plain": [
              "            Anio  ...  ID Entidad\n",
              "Fecha             ...            \n",
              "2017-11-24  2017  ...         340\n",
              "2017-11-24  2017  ...          65\n",
              "2017-11-24  2017  ...          35\n",
              "2017-11-24  2017  ...          67\n",
              "2017-11-24  2017  ...         104\n",
              "\n",
              "[5 rows x 18 columns]"
            ]
          },
          "metadata": {},
          "execution_count": 284
        }
      ]
    },
    {
      "cell_type": "code",
      "metadata": {
        "id": "-Hr1Fm7nUyqx",
        "colab": {
          "base_uri": "https://localhost:8080/"
        },
        "outputId": "2b5f98f8-7286-4964-ffac-20d7986f9063"
      },
      "source": [
        "# Unlike numpy arrays, pandas DataFrames can have a different dtype for each column.\n",
        "avocados.dtypes"
      ],
      "execution_count": null,
      "outputs": [
        {
          "output_type": "execute_result",
          "data": {
            "text/plain": [
              "Date                  datetime64[ns, UTC]\n",
              "Region                             object\n",
              "Variety                            object\n",
              "Organic                              bool\n",
              "Number of Stores                    int64\n",
              "Weighted Avg Price                float64\n",
              "Low Price                         float64\n",
              "High Price                        float64\n",
              "dtype: object"
            ]
          },
          "metadata": {},
          "execution_count": 287
        }
      ]
    },
    {
      "cell_type": "code",
      "metadata": {
        "colab": {
          "base_uri": "https://localhost:8080/"
        },
        "id": "GeU3pp_uCZyV",
        "outputId": "cdd098d7-d7db-4946-be9a-afead1047bd5"
      },
      "source": [
        "# NUEVO EJEMPLO\n",
        "tienda.dtypes"
      ],
      "execution_count": null,
      "outputs": [
        {
          "output_type": "execute_result",
          "data": {
            "text/plain": [
              "Anio                               int64\n",
              "Identificador de la Orden          int64\n",
              "Rama de la Entidad                object\n",
              "Sector de la Entidad              object\n",
              "Entidad                           object\n",
              "Solicitante                       object\n",
              "Proveedor                         object\n",
              "Estado                            object\n",
              "Solicitud                          int64\n",
              "Items                             object\n",
              "Total                            float64\n",
              "Agregacion                        object\n",
              "Ciudad                            object\n",
              "Entidad Obigada                   object\n",
              "EsPostconflicto                   object\n",
              "NIT Proveedor                    float64\n",
              "Actividad Economica Proveedor     object\n",
              "ID Entidad                         int64\n",
              "dtype: object"
            ]
          },
          "metadata": {},
          "execution_count": 288
        }
      ]
    },
    {
      "cell_type": "code",
      "metadata": {
        "id": "b6vUSAaUUyqx",
        "colab": {
          "base_uri": "https://localhost:8080/",
          "height": 424
        },
        "outputId": "76700ed1-97db-4930-cd50-d4fe1585380f"
      },
      "source": [
        "# What's the regional average price of a HASS avocado every day?\n",
        "hass = avocados[avocados.Variety == 'HASS']\n",
        "hass.groupby(['Date', 'Region'])['Weighted Avg Price'].mean().unstack().ffill().plot();"
      ],
      "execution_count": null,
      "outputs": [
        {
          "output_type": "display_data",
          "data": {
            "image/png": "[encoded data removed]",
            "text/plain": [
              "<Figure size 864x504 with 1 Axes>"
            ]
          },
          "metadata": {
            "needs_background": "light"
          }
        }
      ]
    },
    {
      "cell_type": "code",
      "metadata": {
        "colab": {
          "base_uri": "https://localhost:8080/",
          "height": 449
        },
        "id": "_z6iGDGSCrEN",
        "outputId": "dbc1ca23-c4d0-4973-baa0-5a4051d9f54a"
      },
      "source": [
        "# NUEVO EJEMPLO\n",
        "\n",
        "total = tienda[tienda.Estado == 'Emitida']\n",
        "total.groupby(['Fecha', 'Rama de la Entidad'])['Total'].mean().unstack().ffill().plot(title='Total gastado por rama ')"
      ],
      "execution_count": null,
      "outputs": [
        {
          "output_type": "execute_result",
          "data": {
            "text/plain": [
              "<matplotlib.axes._subplots.AxesSubplot at 0x7fd1f87f7d50>"
            ]
          },
          "metadata": {},
          "execution_count": 294
        },
        {
          "output_type": "display_data",
          "data": {
            "image/png": "[encoded data removed]",
            "text/plain": [
              "<Figure size 864x504 with 1 Axes>"
            ]
          },
          "metadata": {
            "needs_background": "light"
          }
        }
      ]
    },
    {
      "cell_type": "code",
      "metadata": {
        "collapsed": true,
        "id": "6pteVdDSUyqy"
      },
      "source": [
        "def _organic_spread(group):\n",
        "\n",
        "    if len(group.columns) != 2:\n",
        "        return pd.Series(index=group.index, data=0.0)\n",
        "    \n",
        "    is_organic = group.columns.get_level_values('Organic').values.astype(bool)\n",
        "    organics = group.loc[:, is_organic].squeeze()\n",
        "    non_organics = group.loc[:, ~is_organic].squeeze()\n",
        "    diff = organics - non_organics\n",
        "    return diff\n",
        "\n",
        "def organic_spread_by_region(df):\n",
        "    \"\"\"What's the difference between the price of an organic \n",
        "    and non-organic avocado within each region?\n",
        "    \"\"\"\n",
        "    return (\n",
        "        df\n",
        "        .set_index(['Date', 'Region', 'Organic'])\n",
        "         ['Weighted Avg Price']\n",
        "        .unstack(level=['Region', 'Organic'])\n",
        "        .ffill()\n",
        "        .groupby(level='Region', axis=1)\n",
        "        .apply(_organic_spread)\n",
        "    )"
      ],
      "execution_count": null,
      "outputs": []
    },
    {
      "cell_type": "code",
      "metadata": {
        "id": "ZBIFVLj0Uyqy",
        "colab": {
          "base_uri": "https://localhost:8080/",
          "height": 440
        },
        "outputId": "6d214c25-2669-4b34-bfc9-d9aca13f4020"
      },
      "source": [
        "organic_spread_by_region(hass).plot();\n",
        "plt.gca().set_title(\"Daily Regional Organic Spread\");\n",
        "plt.legend(bbox_to_anchor=(1, 1));"
      ],
      "execution_count": null,
      "outputs": [
        {
          "output_type": "display_data",
          "data": {
            "image/png": "[encoded data removed]",
            "text/plain": [
              "<Figure size 864x504 with 1 Axes>"
            ]
          },
          "metadata": {
            "needs_background": "light"
          }
        }
      ]
    },
    {
      "cell_type": "code",
      "metadata": {
        "id": "_ezoRckzUyqy",
        "colab": {
          "base_uri": "https://localhost:8080/",
          "height": 360
        },
        "outputId": "6c034265-bf5f-4904-a139-c8126ee8c8b3"
      },
      "source": [
        "spread_correlation = organic_spread_by_region(hass).corr()\n",
        "spread_correlation"
      ],
      "execution_count": null,
      "outputs": [
        {
          "output_type": "execute_result",
          "data": {
            "text/html": [
              "<div>\n",
              "<style scoped>\n",
              "    .dataframe tbody tr th:only-of-type {\n",
              "        vertical-align: middle;\n",
              "    }\n",
              "\n",
              "    .dataframe tbody tr th {\n",
              "        vertical-align: top;\n",
              "    }\n",
              "\n",
              "    .dataframe thead th {\n",
              "        text-align: right;\n",
              "    }\n",
              "</style>\n",
              "<table border=\"1\" class=\"dataframe\">\n",
              "  <thead>\n",
              "    <tr style=\"text-align: right;\">\n",
              "      <th>Region</th>\n",
              "      <th>ALASKA</th>\n",
              "      <th>HAWAII</th>\n",
              "      <th>MIDWEST</th>\n",
              "      <th>NATIONAL</th>\n",
              "      <th>NORTHEAST</th>\n",
              "      <th>NORTHWEST</th>\n",
              "      <th>SOUTHEAST</th>\n",
              "      <th>SOUTHWEST</th>\n",
              "      <th>SOUTH_CENTRAL</th>\n",
              "    </tr>\n",
              "    <tr>\n",
              "      <th>Region</th>\n",
              "      <th></th>\n",
              "      <th></th>\n",
              "      <th></th>\n",
              "      <th></th>\n",
              "      <th></th>\n",
              "      <th></th>\n",
              "      <th></th>\n",
              "      <th></th>\n",
              "      <th></th>\n",
              "    </tr>\n",
              "  </thead>\n",
              "  <tbody>\n",
              "    <tr>\n",
              "      <th>ALASKA</th>\n",
              "      <td>1.000000</td>\n",
              "      <td>-0.568423</td>\n",
              "      <td>-0.135468</td>\n",
              "      <td>-0.018765</td>\n",
              "      <td>-0.021463</td>\n",
              "      <td>-0.081812</td>\n",
              "      <td>0.020231</td>\n",
              "      <td>0.022599</td>\n",
              "      <td>-0.071705</td>\n",
              "    </tr>\n",
              "    <tr>\n",
              "      <th>HAWAII</th>\n",
              "      <td>-0.568423</td>\n",
              "      <td>1.000000</td>\n",
              "      <td>0.184301</td>\n",
              "      <td>-0.065076</td>\n",
              "      <td>0.395642</td>\n",
              "      <td>-0.000865</td>\n",
              "      <td>-0.374570</td>\n",
              "      <td>0.005934</td>\n",
              "      <td>0.048621</td>\n",
              "    </tr>\n",
              "    <tr>\n",
              "      <th>MIDWEST</th>\n",
              "      <td>-0.135468</td>\n",
              "      <td>0.184301</td>\n",
              "      <td>1.000000</td>\n",
              "      <td>0.271917</td>\n",
              "      <td>0.248499</td>\n",
              "      <td>0.028823</td>\n",
              "      <td>-0.010976</td>\n",
              "      <td>0.103896</td>\n",
              "      <td>0.361171</td>\n",
              "    </tr>\n",
              "    <tr>\n",
              "      <th>NATIONAL</th>\n",
              "      <td>-0.018765</td>\n",
              "      <td>-0.065076</td>\n",
              "      <td>0.271917</td>\n",
              "      <td>1.000000</td>\n",
              "      <td>0.453021</td>\n",
              "      <td>0.204042</td>\n",
              "      <td>0.251058</td>\n",
              "      <td>0.382192</td>\n",
              "      <td>0.097065</td>\n",
              "    </tr>\n",
              "    <tr>\n",
              "      <th>NORTHEAST</th>\n",
              "      <td>-0.021463</td>\n",
              "      <td>0.395642</td>\n",
              "      <td>0.248499</td>\n",
              "      <td>0.453021</td>\n",
              "      <td>1.000000</td>\n",
              "      <td>0.130903</td>\n",
              "      <td>-0.102008</td>\n",
              "      <td>0.050316</td>\n",
              "      <td>-0.216374</td>\n",
              "    </tr>\n",
              "    <tr>\n",
              "      <th>NORTHWEST</th>\n",
              "      <td>-0.081812</td>\n",
              "      <td>-0.000865</td>\n",
              "      <td>0.028823</td>\n",
              "      <td>0.204042</td>\n",
              "      <td>0.130903</td>\n",
              "      <td>1.000000</td>\n",
              "      <td>0.042423</td>\n",
              "      <td>-0.049559</td>\n",
              "      <td>0.119735</td>\n",
              "    </tr>\n",
              "    <tr>\n",
              "      <th>SOUTHEAST</th>\n",
              "      <td>0.020231</td>\n",
              "      <td>-0.374570</td>\n",
              "      <td>-0.010976</td>\n",
              "      <td>0.251058</td>\n",
              "      <td>-0.102008</td>\n",
              "      <td>0.042423</td>\n",
              "      <td>1.000000</td>\n",
              "      <td>0.083666</td>\n",
              "      <td>-0.187184</td>\n",
              "    </tr>\n",
              "    <tr>\n",
              "      <th>SOUTHWEST</th>\n",
              "      <td>0.022599</td>\n",
              "      <td>0.005934</td>\n",
              "      <td>0.103896</td>\n",
              "      <td>0.382192</td>\n",
              "      <td>0.050316</td>\n",
              "      <td>-0.049559</td>\n",
              "      <td>0.083666</td>\n",
              "      <td>1.000000</td>\n",
              "      <td>0.224718</td>\n",
              "    </tr>\n",
              "    <tr>\n",
              "      <th>SOUTH_CENTRAL</th>\n",
              "      <td>-0.071705</td>\n",
              "      <td>0.048621</td>\n",
              "      <td>0.361171</td>\n",
              "      <td>0.097065</td>\n",
              "      <td>-0.216374</td>\n",
              "      <td>0.119735</td>\n",
              "      <td>-0.187184</td>\n",
              "      <td>0.224718</td>\n",
              "      <td>1.000000</td>\n",
              "    </tr>\n",
              "  </tbody>\n",
              "</table>\n",
              "</div>"
            ],
            "text/plain": [
              "Region           ALASKA    HAWAII  ...  SOUTHWEST  SOUTH_CENTRAL\n",
              "Region                             ...                          \n",
              "ALASKA         1.000000 -0.568423  ...   0.022599      -0.071705\n",
              "HAWAII        -0.568423  1.000000  ...   0.005934       0.048621\n",
              "MIDWEST       -0.135468  0.184301  ...   0.103896       0.361171\n",
              "NATIONAL      -0.018765 -0.065076  ...   0.382192       0.097065\n",
              "NORTHEAST     -0.021463  0.395642  ...   0.050316      -0.216374\n",
              "NORTHWEST     -0.081812 -0.000865  ...  -0.049559       0.119735\n",
              "SOUTHEAST      0.020231 -0.374570  ...   0.083666      -0.187184\n",
              "SOUTHWEST      0.022599  0.005934  ...   1.000000       0.224718\n",
              "SOUTH_CENTRAL -0.071705  0.048621  ...   0.224718       1.000000\n",
              "\n",
              "[9 rows x 9 columns]"
            ]
          },
          "metadata": {},
          "execution_count": 297
        }
      ]
    },
    {
      "cell_type": "code",
      "metadata": {
        "id": "AtVEgeUPUyqy",
        "colab": {
          "base_uri": "https://localhost:8080/",
          "height": 712
        },
        "outputId": "db115cda-1ad7-4a2d-9f6d-f856f30164c9"
      },
      "source": [
        "import seaborn as sns\n",
        "grid = sns.clustermap(spread_correlation, annot=True)\n",
        "fig = grid.fig\n",
        "axes = fig.axes\n",
        "ax = axes[2]\n",
        "ax.set_xticklabels(ax.get_xticklabels(), rotation=45);"
      ],
      "execution_count": null,
      "outputs": [
        {
          "output_type": "display_data",
          "data": {
            "image/png": "[encoded data removed]",
            "text/plain": [
              "<Figure size 720x720 with 4 Axes>"
            ]
          },
          "metadata": {
            "needs_background": "light"
          }
        }
      ]
    },
    {
      "cell_type": "markdown",
      "metadata": {
        "id": "fvEPRX7PUyqz"
      },
      "source": [
        "# Pandas Review\n",
        "\n",
        "- Pandas extends numpy with more complex datastructures and algorithms.\n",
        "- If you understand numpy, you understand 90% of pandas.\n",
        "- `groupby`, `set_index`, and `unstack` are powerful tools for working with categorical data.\n",
        "- Avocado prices are surprisingly interesting :)"
      ]
    },
    {
      "cell_type": "markdown",
      "metadata": {
        "id": "mdayQ-g3Uyqz"
      },
      "source": [
        "# Thanks!"
      ]
    }
  ]
}